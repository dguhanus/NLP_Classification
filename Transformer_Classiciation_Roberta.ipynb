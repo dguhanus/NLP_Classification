{
  "metadata": {
    "kernelspec": {
      "language": "python",
      "display_name": "Python 3",
      "name": "python3"
    },
    "language_info": {
      "pygments_lexer": "ipython3",
      "nbconvert_exporter": "python",
      "version": "3.6.4",
      "file_extension": ".py",
      "codemirror_mode": {
        "name": "ipython",
        "version": 3
      },
      "name": "python",
      "mimetype": "text/x-python"
    },
    "colab": {
      "provenance": []
    },
    "widgets": {
      "application/vnd.jupyter.widget-state+json": {
        "89d9909dad7b405c962ee838c8d77a55": {
          "model_module": "@jupyter-widgets/controls",
          "model_name": "HBoxModel",
          "model_module_version": "1.5.0",
          "state": {
            "_dom_classes": [],
            "_model_module": "@jupyter-widgets/controls",
            "_model_module_version": "1.5.0",
            "_model_name": "HBoxModel",
            "_view_count": null,
            "_view_module": "@jupyter-widgets/controls",
            "_view_module_version": "1.5.0",
            "_view_name": "HBoxView",
            "box_style": "",
            "children": [
              "IPY_MODEL_da56273fdbb14559afcfcacdbaa918c1",
              "IPY_MODEL_11b907ae7033435f91655b129239dc41",
              "IPY_MODEL_d243b02c3ba447c0b373756eefaa9c6b"
            ],
            "layout": "IPY_MODEL_3a336257c4004355a2515dd25c4a18c0"
          }
        },
        "da56273fdbb14559afcfcacdbaa918c1": {
          "model_module": "@jupyter-widgets/controls",
          "model_name": "HTMLModel",
          "model_module_version": "1.5.0",
          "state": {
            "_dom_classes": [],
            "_model_module": "@jupyter-widgets/controls",
            "_model_module_version": "1.5.0",
            "_model_name": "HTMLModel",
            "_view_count": null,
            "_view_module": "@jupyter-widgets/controls",
            "_view_module_version": "1.5.0",
            "_view_name": "HTMLView",
            "description": "",
            "description_tooltip": null,
            "layout": "IPY_MODEL_37e85cfc2d704e05b0c1daa7f9e36217",
            "placeholder": "​",
            "style": "IPY_MODEL_daf0c664de0c42fabcf247ef6999e0ad",
            "value": "Downloading (…)lve/main/config.json: 100%"
          }
        },
        "11b907ae7033435f91655b129239dc41": {
          "model_module": "@jupyter-widgets/controls",
          "model_name": "FloatProgressModel",
          "model_module_version": "1.5.0",
          "state": {
            "_dom_classes": [],
            "_model_module": "@jupyter-widgets/controls",
            "_model_module_version": "1.5.0",
            "_model_name": "FloatProgressModel",
            "_view_count": null,
            "_view_module": "@jupyter-widgets/controls",
            "_view_module_version": "1.5.0",
            "_view_name": "ProgressView",
            "bar_style": "success",
            "description": "",
            "description_tooltip": null,
            "layout": "IPY_MODEL_0b231a7fcea24a869ad3adcf331ee077",
            "max": 481,
            "min": 0,
            "orientation": "horizontal",
            "style": "IPY_MODEL_b0f4e5535c5044ec83689521784fa12e",
            "value": 481
          }
        },
        "d243b02c3ba447c0b373756eefaa9c6b": {
          "model_module": "@jupyter-widgets/controls",
          "model_name": "HTMLModel",
          "model_module_version": "1.5.0",
          "state": {
            "_dom_classes": [],
            "_model_module": "@jupyter-widgets/controls",
            "_model_module_version": "1.5.0",
            "_model_name": "HTMLModel",
            "_view_count": null,
            "_view_module": "@jupyter-widgets/controls",
            "_view_module_version": "1.5.0",
            "_view_name": "HTMLView",
            "description": "",
            "description_tooltip": null,
            "layout": "IPY_MODEL_bfd5c13d9a684fb9bd1e509ffe76f2b5",
            "placeholder": "​",
            "style": "IPY_MODEL_8d232d32689841bb949351a6374ea766",
            "value": " 481/481 [00:00&lt;00:00, 11.1kB/s]"
          }
        },
        "3a336257c4004355a2515dd25c4a18c0": {
          "model_module": "@jupyter-widgets/base",
          "model_name": "LayoutModel",
          "model_module_version": "1.2.0",
          "state": {
            "_model_module": "@jupyter-widgets/base",
            "_model_module_version": "1.2.0",
            "_model_name": "LayoutModel",
            "_view_count": null,
            "_view_module": "@jupyter-widgets/base",
            "_view_module_version": "1.2.0",
            "_view_name": "LayoutView",
            "align_content": null,
            "align_items": null,
            "align_self": null,
            "border": null,
            "bottom": null,
            "display": null,
            "flex": null,
            "flex_flow": null,
            "grid_area": null,
            "grid_auto_columns": null,
            "grid_auto_flow": null,
            "grid_auto_rows": null,
            "grid_column": null,
            "grid_gap": null,
            "grid_row": null,
            "grid_template_areas": null,
            "grid_template_columns": null,
            "grid_template_rows": null,
            "height": null,
            "justify_content": null,
            "justify_items": null,
            "left": null,
            "margin": null,
            "max_height": null,
            "max_width": null,
            "min_height": null,
            "min_width": null,
            "object_fit": null,
            "object_position": null,
            "order": null,
            "overflow": null,
            "overflow_x": null,
            "overflow_y": null,
            "padding": null,
            "right": null,
            "top": null,
            "visibility": null,
            "width": null
          }
        },
        "37e85cfc2d704e05b0c1daa7f9e36217": {
          "model_module": "@jupyter-widgets/base",
          "model_name": "LayoutModel",
          "model_module_version": "1.2.0",
          "state": {
            "_model_module": "@jupyter-widgets/base",
            "_model_module_version": "1.2.0",
            "_model_name": "LayoutModel",
            "_view_count": null,
            "_view_module": "@jupyter-widgets/base",
            "_view_module_version": "1.2.0",
            "_view_name": "LayoutView",
            "align_content": null,
            "align_items": null,
            "align_self": null,
            "border": null,
            "bottom": null,
            "display": null,
            "flex": null,
            "flex_flow": null,
            "grid_area": null,
            "grid_auto_columns": null,
            "grid_auto_flow": null,
            "grid_auto_rows": null,
            "grid_column": null,
            "grid_gap": null,
            "grid_row": null,
            "grid_template_areas": null,
            "grid_template_columns": null,
            "grid_template_rows": null,
            "height": null,
            "justify_content": null,
            "justify_items": null,
            "left": null,
            "margin": null,
            "max_height": null,
            "max_width": null,
            "min_height": null,
            "min_width": null,
            "object_fit": null,
            "object_position": null,
            "order": null,
            "overflow": null,
            "overflow_x": null,
            "overflow_y": null,
            "padding": null,
            "right": null,
            "top": null,
            "visibility": null,
            "width": null
          }
        },
        "daf0c664de0c42fabcf247ef6999e0ad": {
          "model_module": "@jupyter-widgets/controls",
          "model_name": "DescriptionStyleModel",
          "model_module_version": "1.5.0",
          "state": {
            "_model_module": "@jupyter-widgets/controls",
            "_model_module_version": "1.5.0",
            "_model_name": "DescriptionStyleModel",
            "_view_count": null,
            "_view_module": "@jupyter-widgets/base",
            "_view_module_version": "1.2.0",
            "_view_name": "StyleView",
            "description_width": ""
          }
        },
        "0b231a7fcea24a869ad3adcf331ee077": {
          "model_module": "@jupyter-widgets/base",
          "model_name": "LayoutModel",
          "model_module_version": "1.2.0",
          "state": {
            "_model_module": "@jupyter-widgets/base",
            "_model_module_version": "1.2.0",
            "_model_name": "LayoutModel",
            "_view_count": null,
            "_view_module": "@jupyter-widgets/base",
            "_view_module_version": "1.2.0",
            "_view_name": "LayoutView",
            "align_content": null,
            "align_items": null,
            "align_self": null,
            "border": null,
            "bottom": null,
            "display": null,
            "flex": null,
            "flex_flow": null,
            "grid_area": null,
            "grid_auto_columns": null,
            "grid_auto_flow": null,
            "grid_auto_rows": null,
            "grid_column": null,
            "grid_gap": null,
            "grid_row": null,
            "grid_template_areas": null,
            "grid_template_columns": null,
            "grid_template_rows": null,
            "height": null,
            "justify_content": null,
            "justify_items": null,
            "left": null,
            "margin": null,
            "max_height": null,
            "max_width": null,
            "min_height": null,
            "min_width": null,
            "object_fit": null,
            "object_position": null,
            "order": null,
            "overflow": null,
            "overflow_x": null,
            "overflow_y": null,
            "padding": null,
            "right": null,
            "top": null,
            "visibility": null,
            "width": null
          }
        },
        "b0f4e5535c5044ec83689521784fa12e": {
          "model_module": "@jupyter-widgets/controls",
          "model_name": "ProgressStyleModel",
          "model_module_version": "1.5.0",
          "state": {
            "_model_module": "@jupyter-widgets/controls",
            "_model_module_version": "1.5.0",
            "_model_name": "ProgressStyleModel",
            "_view_count": null,
            "_view_module": "@jupyter-widgets/base",
            "_view_module_version": "1.2.0",
            "_view_name": "StyleView",
            "bar_color": null,
            "description_width": ""
          }
        },
        "bfd5c13d9a684fb9bd1e509ffe76f2b5": {
          "model_module": "@jupyter-widgets/base",
          "model_name": "LayoutModel",
          "model_module_version": "1.2.0",
          "state": {
            "_model_module": "@jupyter-widgets/base",
            "_model_module_version": "1.2.0",
            "_model_name": "LayoutModel",
            "_view_count": null,
            "_view_module": "@jupyter-widgets/base",
            "_view_module_version": "1.2.0",
            "_view_name": "LayoutView",
            "align_content": null,
            "align_items": null,
            "align_self": null,
            "border": null,
            "bottom": null,
            "display": null,
            "flex": null,
            "flex_flow": null,
            "grid_area": null,
            "grid_auto_columns": null,
            "grid_auto_flow": null,
            "grid_auto_rows": null,
            "grid_column": null,
            "grid_gap": null,
            "grid_row": null,
            "grid_template_areas": null,
            "grid_template_columns": null,
            "grid_template_rows": null,
            "height": null,
            "justify_content": null,
            "justify_items": null,
            "left": null,
            "margin": null,
            "max_height": null,
            "max_width": null,
            "min_height": null,
            "min_width": null,
            "object_fit": null,
            "object_position": null,
            "order": null,
            "overflow": null,
            "overflow_x": null,
            "overflow_y": null,
            "padding": null,
            "right": null,
            "top": null,
            "visibility": null,
            "width": null
          }
        },
        "8d232d32689841bb949351a6374ea766": {
          "model_module": "@jupyter-widgets/controls",
          "model_name": "DescriptionStyleModel",
          "model_module_version": "1.5.0",
          "state": {
            "_model_module": "@jupyter-widgets/controls",
            "_model_module_version": "1.5.0",
            "_model_name": "DescriptionStyleModel",
            "_view_count": null,
            "_view_module": "@jupyter-widgets/base",
            "_view_module_version": "1.2.0",
            "_view_name": "StyleView",
            "description_width": ""
          }
        },
        "b84e24ed655c46eea4aceba830fae493": {
          "model_module": "@jupyter-widgets/controls",
          "model_name": "HBoxModel",
          "model_module_version": "1.5.0",
          "state": {
            "_dom_classes": [],
            "_model_module": "@jupyter-widgets/controls",
            "_model_module_version": "1.5.0",
            "_model_name": "HBoxModel",
            "_view_count": null,
            "_view_module": "@jupyter-widgets/controls",
            "_view_module_version": "1.5.0",
            "_view_name": "HBoxView",
            "box_style": "",
            "children": [
              "IPY_MODEL_2d613be2240741328d351efb66c99e9e",
              "IPY_MODEL_3aa3163e02fc4b6ab82bbe365d4e714e",
              "IPY_MODEL_9401f5263a2949dbb2f04ab16f1f1917"
            ],
            "layout": "IPY_MODEL_abd54e40280d4caf9550f81a8fdbf0cb"
          }
        },
        "2d613be2240741328d351efb66c99e9e": {
          "model_module": "@jupyter-widgets/controls",
          "model_name": "HTMLModel",
          "model_module_version": "1.5.0",
          "state": {
            "_dom_classes": [],
            "_model_module": "@jupyter-widgets/controls",
            "_model_module_version": "1.5.0",
            "_model_name": "HTMLModel",
            "_view_count": null,
            "_view_module": "@jupyter-widgets/controls",
            "_view_module_version": "1.5.0",
            "_view_name": "HTMLView",
            "description": "",
            "description_tooltip": null,
            "layout": "IPY_MODEL_09ae6e98babc46639703ae3d86010527",
            "placeholder": "​",
            "style": "IPY_MODEL_4552766350ad4e6294840f0321c7ead4",
            "value": "Downloading (…)olve/main/vocab.json: 100%"
          }
        },
        "3aa3163e02fc4b6ab82bbe365d4e714e": {
          "model_module": "@jupyter-widgets/controls",
          "model_name": "FloatProgressModel",
          "model_module_version": "1.5.0",
          "state": {
            "_dom_classes": [],
            "_model_module": "@jupyter-widgets/controls",
            "_model_module_version": "1.5.0",
            "_model_name": "FloatProgressModel",
            "_view_count": null,
            "_view_module": "@jupyter-widgets/controls",
            "_view_module_version": "1.5.0",
            "_view_name": "ProgressView",
            "bar_style": "success",
            "description": "",
            "description_tooltip": null,
            "layout": "IPY_MODEL_83911290b73c43e38946d33e864b73b4",
            "max": 898823,
            "min": 0,
            "orientation": "horizontal",
            "style": "IPY_MODEL_c652a8a3b1db47a08a8af1b8f1da1dff",
            "value": 898823
          }
        },
        "9401f5263a2949dbb2f04ab16f1f1917": {
          "model_module": "@jupyter-widgets/controls",
          "model_name": "HTMLModel",
          "model_module_version": "1.5.0",
          "state": {
            "_dom_classes": [],
            "_model_module": "@jupyter-widgets/controls",
            "_model_module_version": "1.5.0",
            "_model_name": "HTMLModel",
            "_view_count": null,
            "_view_module": "@jupyter-widgets/controls",
            "_view_module_version": "1.5.0",
            "_view_name": "HTMLView",
            "description": "",
            "description_tooltip": null,
            "layout": "IPY_MODEL_c7769485d13f48e5bd41c6a6084660b0",
            "placeholder": "​",
            "style": "IPY_MODEL_6c4d69658abe4c7993646cbd41fa9ee9",
            "value": " 899k/899k [00:00&lt;00:00, 6.31MB/s]"
          }
        },
        "abd54e40280d4caf9550f81a8fdbf0cb": {
          "model_module": "@jupyter-widgets/base",
          "model_name": "LayoutModel",
          "model_module_version": "1.2.0",
          "state": {
            "_model_module": "@jupyter-widgets/base",
            "_model_module_version": "1.2.0",
            "_model_name": "LayoutModel",
            "_view_count": null,
            "_view_module": "@jupyter-widgets/base",
            "_view_module_version": "1.2.0",
            "_view_name": "LayoutView",
            "align_content": null,
            "align_items": null,
            "align_self": null,
            "border": null,
            "bottom": null,
            "display": null,
            "flex": null,
            "flex_flow": null,
            "grid_area": null,
            "grid_auto_columns": null,
            "grid_auto_flow": null,
            "grid_auto_rows": null,
            "grid_column": null,
            "grid_gap": null,
            "grid_row": null,
            "grid_template_areas": null,
            "grid_template_columns": null,
            "grid_template_rows": null,
            "height": null,
            "justify_content": null,
            "justify_items": null,
            "left": null,
            "margin": null,
            "max_height": null,
            "max_width": null,
            "min_height": null,
            "min_width": null,
            "object_fit": null,
            "object_position": null,
            "order": null,
            "overflow": null,
            "overflow_x": null,
            "overflow_y": null,
            "padding": null,
            "right": null,
            "top": null,
            "visibility": null,
            "width": null
          }
        },
        "09ae6e98babc46639703ae3d86010527": {
          "model_module": "@jupyter-widgets/base",
          "model_name": "LayoutModel",
          "model_module_version": "1.2.0",
          "state": {
            "_model_module": "@jupyter-widgets/base",
            "_model_module_version": "1.2.0",
            "_model_name": "LayoutModel",
            "_view_count": null,
            "_view_module": "@jupyter-widgets/base",
            "_view_module_version": "1.2.0",
            "_view_name": "LayoutView",
            "align_content": null,
            "align_items": null,
            "align_self": null,
            "border": null,
            "bottom": null,
            "display": null,
            "flex": null,
            "flex_flow": null,
            "grid_area": null,
            "grid_auto_columns": null,
            "grid_auto_flow": null,
            "grid_auto_rows": null,
            "grid_column": null,
            "grid_gap": null,
            "grid_row": null,
            "grid_template_areas": null,
            "grid_template_columns": null,
            "grid_template_rows": null,
            "height": null,
            "justify_content": null,
            "justify_items": null,
            "left": null,
            "margin": null,
            "max_height": null,
            "max_width": null,
            "min_height": null,
            "min_width": null,
            "object_fit": null,
            "object_position": null,
            "order": null,
            "overflow": null,
            "overflow_x": null,
            "overflow_y": null,
            "padding": null,
            "right": null,
            "top": null,
            "visibility": null,
            "width": null
          }
        },
        "4552766350ad4e6294840f0321c7ead4": {
          "model_module": "@jupyter-widgets/controls",
          "model_name": "DescriptionStyleModel",
          "model_module_version": "1.5.0",
          "state": {
            "_model_module": "@jupyter-widgets/controls",
            "_model_module_version": "1.5.0",
            "_model_name": "DescriptionStyleModel",
            "_view_count": null,
            "_view_module": "@jupyter-widgets/base",
            "_view_module_version": "1.2.0",
            "_view_name": "StyleView",
            "description_width": ""
          }
        },
        "83911290b73c43e38946d33e864b73b4": {
          "model_module": "@jupyter-widgets/base",
          "model_name": "LayoutModel",
          "model_module_version": "1.2.0",
          "state": {
            "_model_module": "@jupyter-widgets/base",
            "_model_module_version": "1.2.0",
            "_model_name": "LayoutModel",
            "_view_count": null,
            "_view_module": "@jupyter-widgets/base",
            "_view_module_version": "1.2.0",
            "_view_name": "LayoutView",
            "align_content": null,
            "align_items": null,
            "align_self": null,
            "border": null,
            "bottom": null,
            "display": null,
            "flex": null,
            "flex_flow": null,
            "grid_area": null,
            "grid_auto_columns": null,
            "grid_auto_flow": null,
            "grid_auto_rows": null,
            "grid_column": null,
            "grid_gap": null,
            "grid_row": null,
            "grid_template_areas": null,
            "grid_template_columns": null,
            "grid_template_rows": null,
            "height": null,
            "justify_content": null,
            "justify_items": null,
            "left": null,
            "margin": null,
            "max_height": null,
            "max_width": null,
            "min_height": null,
            "min_width": null,
            "object_fit": null,
            "object_position": null,
            "order": null,
            "overflow": null,
            "overflow_x": null,
            "overflow_y": null,
            "padding": null,
            "right": null,
            "top": null,
            "visibility": null,
            "width": null
          }
        },
        "c652a8a3b1db47a08a8af1b8f1da1dff": {
          "model_module": "@jupyter-widgets/controls",
          "model_name": "ProgressStyleModel",
          "model_module_version": "1.5.0",
          "state": {
            "_model_module": "@jupyter-widgets/controls",
            "_model_module_version": "1.5.0",
            "_model_name": "ProgressStyleModel",
            "_view_count": null,
            "_view_module": "@jupyter-widgets/base",
            "_view_module_version": "1.2.0",
            "_view_name": "StyleView",
            "bar_color": null,
            "description_width": ""
          }
        },
        "c7769485d13f48e5bd41c6a6084660b0": {
          "model_module": "@jupyter-widgets/base",
          "model_name": "LayoutModel",
          "model_module_version": "1.2.0",
          "state": {
            "_model_module": "@jupyter-widgets/base",
            "_model_module_version": "1.2.0",
            "_model_name": "LayoutModel",
            "_view_count": null,
            "_view_module": "@jupyter-widgets/base",
            "_view_module_version": "1.2.0",
            "_view_name": "LayoutView",
            "align_content": null,
            "align_items": null,
            "align_self": null,
            "border": null,
            "bottom": null,
            "display": null,
            "flex": null,
            "flex_flow": null,
            "grid_area": null,
            "grid_auto_columns": null,
            "grid_auto_flow": null,
            "grid_auto_rows": null,
            "grid_column": null,
            "grid_gap": null,
            "grid_row": null,
            "grid_template_areas": null,
            "grid_template_columns": null,
            "grid_template_rows": null,
            "height": null,
            "justify_content": null,
            "justify_items": null,
            "left": null,
            "margin": null,
            "max_height": null,
            "max_width": null,
            "min_height": null,
            "min_width": null,
            "object_fit": null,
            "object_position": null,
            "order": null,
            "overflow": null,
            "overflow_x": null,
            "overflow_y": null,
            "padding": null,
            "right": null,
            "top": null,
            "visibility": null,
            "width": null
          }
        },
        "6c4d69658abe4c7993646cbd41fa9ee9": {
          "model_module": "@jupyter-widgets/controls",
          "model_name": "DescriptionStyleModel",
          "model_module_version": "1.5.0",
          "state": {
            "_model_module": "@jupyter-widgets/controls",
            "_model_module_version": "1.5.0",
            "_model_name": "DescriptionStyleModel",
            "_view_count": null,
            "_view_module": "@jupyter-widgets/base",
            "_view_module_version": "1.2.0",
            "_view_name": "StyleView",
            "description_width": ""
          }
        },
        "ea61062d96ce463e86b801902498b3d6": {
          "model_module": "@jupyter-widgets/controls",
          "model_name": "HBoxModel",
          "model_module_version": "1.5.0",
          "state": {
            "_dom_classes": [],
            "_model_module": "@jupyter-widgets/controls",
            "_model_module_version": "1.5.0",
            "_model_name": "HBoxModel",
            "_view_count": null,
            "_view_module": "@jupyter-widgets/controls",
            "_view_module_version": "1.5.0",
            "_view_name": "HBoxView",
            "box_style": "",
            "children": [
              "IPY_MODEL_1fe3810cd6bb4541a50d05c50bb358f8",
              "IPY_MODEL_1379810567844af7a379dee585c205c2",
              "IPY_MODEL_48525fd3560f4fc291a3bf4fb8efeb88"
            ],
            "layout": "IPY_MODEL_5ebb2f19516c4602a4fb158f497df573"
          }
        },
        "1fe3810cd6bb4541a50d05c50bb358f8": {
          "model_module": "@jupyter-widgets/controls",
          "model_name": "HTMLModel",
          "model_module_version": "1.5.0",
          "state": {
            "_dom_classes": [],
            "_model_module": "@jupyter-widgets/controls",
            "_model_module_version": "1.5.0",
            "_model_name": "HTMLModel",
            "_view_count": null,
            "_view_module": "@jupyter-widgets/controls",
            "_view_module_version": "1.5.0",
            "_view_name": "HTMLView",
            "description": "",
            "description_tooltip": null,
            "layout": "IPY_MODEL_0af7fb724d904b6ea55190f753c25346",
            "placeholder": "​",
            "style": "IPY_MODEL_f0b51f7415924f938d78632f87658677",
            "value": "Downloading (…)olve/main/merges.txt: 100%"
          }
        },
        "1379810567844af7a379dee585c205c2": {
          "model_module": "@jupyter-widgets/controls",
          "model_name": "FloatProgressModel",
          "model_module_version": "1.5.0",
          "state": {
            "_dom_classes": [],
            "_model_module": "@jupyter-widgets/controls",
            "_model_module_version": "1.5.0",
            "_model_name": "FloatProgressModel",
            "_view_count": null,
            "_view_module": "@jupyter-widgets/controls",
            "_view_module_version": "1.5.0",
            "_view_name": "ProgressView",
            "bar_style": "success",
            "description": "",
            "description_tooltip": null,
            "layout": "IPY_MODEL_c42b2ec802e24612b572582d91c599d3",
            "max": 456318,
            "min": 0,
            "orientation": "horizontal",
            "style": "IPY_MODEL_da552b43839742a6a9a5d225bda17d11",
            "value": 456318
          }
        },
        "48525fd3560f4fc291a3bf4fb8efeb88": {
          "model_module": "@jupyter-widgets/controls",
          "model_name": "HTMLModel",
          "model_module_version": "1.5.0",
          "state": {
            "_dom_classes": [],
            "_model_module": "@jupyter-widgets/controls",
            "_model_module_version": "1.5.0",
            "_model_name": "HTMLModel",
            "_view_count": null,
            "_view_module": "@jupyter-widgets/controls",
            "_view_module_version": "1.5.0",
            "_view_name": "HTMLView",
            "description": "",
            "description_tooltip": null,
            "layout": "IPY_MODEL_7039f41be36341b2af058924a31c3454",
            "placeholder": "​",
            "style": "IPY_MODEL_62ccc082f3084d819ee33c113f3d3244",
            "value": " 456k/456k [00:00&lt;00:00, 3.05MB/s]"
          }
        },
        "5ebb2f19516c4602a4fb158f497df573": {
          "model_module": "@jupyter-widgets/base",
          "model_name": "LayoutModel",
          "model_module_version": "1.2.0",
          "state": {
            "_model_module": "@jupyter-widgets/base",
            "_model_module_version": "1.2.0",
            "_model_name": "LayoutModel",
            "_view_count": null,
            "_view_module": "@jupyter-widgets/base",
            "_view_module_version": "1.2.0",
            "_view_name": "LayoutView",
            "align_content": null,
            "align_items": null,
            "align_self": null,
            "border": null,
            "bottom": null,
            "display": null,
            "flex": null,
            "flex_flow": null,
            "grid_area": null,
            "grid_auto_columns": null,
            "grid_auto_flow": null,
            "grid_auto_rows": null,
            "grid_column": null,
            "grid_gap": null,
            "grid_row": null,
            "grid_template_areas": null,
            "grid_template_columns": null,
            "grid_template_rows": null,
            "height": null,
            "justify_content": null,
            "justify_items": null,
            "left": null,
            "margin": null,
            "max_height": null,
            "max_width": null,
            "min_height": null,
            "min_width": null,
            "object_fit": null,
            "object_position": null,
            "order": null,
            "overflow": null,
            "overflow_x": null,
            "overflow_y": null,
            "padding": null,
            "right": null,
            "top": null,
            "visibility": null,
            "width": null
          }
        },
        "0af7fb724d904b6ea55190f753c25346": {
          "model_module": "@jupyter-widgets/base",
          "model_name": "LayoutModel",
          "model_module_version": "1.2.0",
          "state": {
            "_model_module": "@jupyter-widgets/base",
            "_model_module_version": "1.2.0",
            "_model_name": "LayoutModel",
            "_view_count": null,
            "_view_module": "@jupyter-widgets/base",
            "_view_module_version": "1.2.0",
            "_view_name": "LayoutView",
            "align_content": null,
            "align_items": null,
            "align_self": null,
            "border": null,
            "bottom": null,
            "display": null,
            "flex": null,
            "flex_flow": null,
            "grid_area": null,
            "grid_auto_columns": null,
            "grid_auto_flow": null,
            "grid_auto_rows": null,
            "grid_column": null,
            "grid_gap": null,
            "grid_row": null,
            "grid_template_areas": null,
            "grid_template_columns": null,
            "grid_template_rows": null,
            "height": null,
            "justify_content": null,
            "justify_items": null,
            "left": null,
            "margin": null,
            "max_height": null,
            "max_width": null,
            "min_height": null,
            "min_width": null,
            "object_fit": null,
            "object_position": null,
            "order": null,
            "overflow": null,
            "overflow_x": null,
            "overflow_y": null,
            "padding": null,
            "right": null,
            "top": null,
            "visibility": null,
            "width": null
          }
        },
        "f0b51f7415924f938d78632f87658677": {
          "model_module": "@jupyter-widgets/controls",
          "model_name": "DescriptionStyleModel",
          "model_module_version": "1.5.0",
          "state": {
            "_model_module": "@jupyter-widgets/controls",
            "_model_module_version": "1.5.0",
            "_model_name": "DescriptionStyleModel",
            "_view_count": null,
            "_view_module": "@jupyter-widgets/base",
            "_view_module_version": "1.2.0",
            "_view_name": "StyleView",
            "description_width": ""
          }
        },
        "c42b2ec802e24612b572582d91c599d3": {
          "model_module": "@jupyter-widgets/base",
          "model_name": "LayoutModel",
          "model_module_version": "1.2.0",
          "state": {
            "_model_module": "@jupyter-widgets/base",
            "_model_module_version": "1.2.0",
            "_model_name": "LayoutModel",
            "_view_count": null,
            "_view_module": "@jupyter-widgets/base",
            "_view_module_version": "1.2.0",
            "_view_name": "LayoutView",
            "align_content": null,
            "align_items": null,
            "align_self": null,
            "border": null,
            "bottom": null,
            "display": null,
            "flex": null,
            "flex_flow": null,
            "grid_area": null,
            "grid_auto_columns": null,
            "grid_auto_flow": null,
            "grid_auto_rows": null,
            "grid_column": null,
            "grid_gap": null,
            "grid_row": null,
            "grid_template_areas": null,
            "grid_template_columns": null,
            "grid_template_rows": null,
            "height": null,
            "justify_content": null,
            "justify_items": null,
            "left": null,
            "margin": null,
            "max_height": null,
            "max_width": null,
            "min_height": null,
            "min_width": null,
            "object_fit": null,
            "object_position": null,
            "order": null,
            "overflow": null,
            "overflow_x": null,
            "overflow_y": null,
            "padding": null,
            "right": null,
            "top": null,
            "visibility": null,
            "width": null
          }
        },
        "da552b43839742a6a9a5d225bda17d11": {
          "model_module": "@jupyter-widgets/controls",
          "model_name": "ProgressStyleModel",
          "model_module_version": "1.5.0",
          "state": {
            "_model_module": "@jupyter-widgets/controls",
            "_model_module_version": "1.5.0",
            "_model_name": "ProgressStyleModel",
            "_view_count": null,
            "_view_module": "@jupyter-widgets/base",
            "_view_module_version": "1.2.0",
            "_view_name": "StyleView",
            "bar_color": null,
            "description_width": ""
          }
        },
        "7039f41be36341b2af058924a31c3454": {
          "model_module": "@jupyter-widgets/base",
          "model_name": "LayoutModel",
          "model_module_version": "1.2.0",
          "state": {
            "_model_module": "@jupyter-widgets/base",
            "_model_module_version": "1.2.0",
            "_model_name": "LayoutModel",
            "_view_count": null,
            "_view_module": "@jupyter-widgets/base",
            "_view_module_version": "1.2.0",
            "_view_name": "LayoutView",
            "align_content": null,
            "align_items": null,
            "align_self": null,
            "border": null,
            "bottom": null,
            "display": null,
            "flex": null,
            "flex_flow": null,
            "grid_area": null,
            "grid_auto_columns": null,
            "grid_auto_flow": null,
            "grid_auto_rows": null,
            "grid_column": null,
            "grid_gap": null,
            "grid_row": null,
            "grid_template_areas": null,
            "grid_template_columns": null,
            "grid_template_rows": null,
            "height": null,
            "justify_content": null,
            "justify_items": null,
            "left": null,
            "margin": null,
            "max_height": null,
            "max_width": null,
            "min_height": null,
            "min_width": null,
            "object_fit": null,
            "object_position": null,
            "order": null,
            "overflow": null,
            "overflow_x": null,
            "overflow_y": null,
            "padding": null,
            "right": null,
            "top": null,
            "visibility": null,
            "width": null
          }
        },
        "62ccc082f3084d819ee33c113f3d3244": {
          "model_module": "@jupyter-widgets/controls",
          "model_name": "DescriptionStyleModel",
          "model_module_version": "1.5.0",
          "state": {
            "_model_module": "@jupyter-widgets/controls",
            "_model_module_version": "1.5.0",
            "_model_name": "DescriptionStyleModel",
            "_view_count": null,
            "_view_module": "@jupyter-widgets/base",
            "_view_module_version": "1.2.0",
            "_view_name": "StyleView",
            "description_width": ""
          }
        },
        "64ab7cef254b40549986aa313cfd46cb": {
          "model_module": "@jupyter-widgets/controls",
          "model_name": "HBoxModel",
          "model_module_version": "1.5.0",
          "state": {
            "_dom_classes": [],
            "_model_module": "@jupyter-widgets/controls",
            "_model_module_version": "1.5.0",
            "_model_name": "HBoxModel",
            "_view_count": null,
            "_view_module": "@jupyter-widgets/controls",
            "_view_module_version": "1.5.0",
            "_view_name": "HBoxView",
            "box_style": "",
            "children": [
              "IPY_MODEL_59b45356d4264cf2b3e4950a0284a469",
              "IPY_MODEL_e86b108a09df4bb3954bcc294f527225",
              "IPY_MODEL_33136038f7914cbea3b559fc4173d416"
            ],
            "layout": "IPY_MODEL_17bff4d0ac6f4a4092c61a347aef57cf"
          }
        },
        "59b45356d4264cf2b3e4950a0284a469": {
          "model_module": "@jupyter-widgets/controls",
          "model_name": "HTMLModel",
          "model_module_version": "1.5.0",
          "state": {
            "_dom_classes": [],
            "_model_module": "@jupyter-widgets/controls",
            "_model_module_version": "1.5.0",
            "_model_name": "HTMLModel",
            "_view_count": null,
            "_view_module": "@jupyter-widgets/controls",
            "_view_module_version": "1.5.0",
            "_view_name": "HTMLView",
            "description": "",
            "description_tooltip": null,
            "layout": "IPY_MODEL_8f08a78cb63445188d87d73482edc5c9",
            "placeholder": "​",
            "style": "IPY_MODEL_e6f1df0f6d80455494eb129371975ffe",
            "value": "Downloading (…)/main/tokenizer.json: 100%"
          }
        },
        "e86b108a09df4bb3954bcc294f527225": {
          "model_module": "@jupyter-widgets/controls",
          "model_name": "FloatProgressModel",
          "model_module_version": "1.5.0",
          "state": {
            "_dom_classes": [],
            "_model_module": "@jupyter-widgets/controls",
            "_model_module_version": "1.5.0",
            "_model_name": "FloatProgressModel",
            "_view_count": null,
            "_view_module": "@jupyter-widgets/controls",
            "_view_module_version": "1.5.0",
            "_view_name": "ProgressView",
            "bar_style": "success",
            "description": "",
            "description_tooltip": null,
            "layout": "IPY_MODEL_6138e7f6075c4220b1e556572fcbd43f",
            "max": 1355863,
            "min": 0,
            "orientation": "horizontal",
            "style": "IPY_MODEL_1acab9759ff94fc7806f24cbaa64196b",
            "value": 1355863
          }
        },
        "33136038f7914cbea3b559fc4173d416": {
          "model_module": "@jupyter-widgets/controls",
          "model_name": "HTMLModel",
          "model_module_version": "1.5.0",
          "state": {
            "_dom_classes": [],
            "_model_module": "@jupyter-widgets/controls",
            "_model_module_version": "1.5.0",
            "_model_name": "HTMLModel",
            "_view_count": null,
            "_view_module": "@jupyter-widgets/controls",
            "_view_module_version": "1.5.0",
            "_view_name": "HTMLView",
            "description": "",
            "description_tooltip": null,
            "layout": "IPY_MODEL_0681ee67fe7347d692a832bc039d7c70",
            "placeholder": "​",
            "style": "IPY_MODEL_49076a5af8c64075852030c5bd6b20aa",
            "value": " 1.36M/1.36M [00:00&lt;00:00, 7.91MB/s]"
          }
        },
        "17bff4d0ac6f4a4092c61a347aef57cf": {
          "model_module": "@jupyter-widgets/base",
          "model_name": "LayoutModel",
          "model_module_version": "1.2.0",
          "state": {
            "_model_module": "@jupyter-widgets/base",
            "_model_module_version": "1.2.0",
            "_model_name": "LayoutModel",
            "_view_count": null,
            "_view_module": "@jupyter-widgets/base",
            "_view_module_version": "1.2.0",
            "_view_name": "LayoutView",
            "align_content": null,
            "align_items": null,
            "align_self": null,
            "border": null,
            "bottom": null,
            "display": null,
            "flex": null,
            "flex_flow": null,
            "grid_area": null,
            "grid_auto_columns": null,
            "grid_auto_flow": null,
            "grid_auto_rows": null,
            "grid_column": null,
            "grid_gap": null,
            "grid_row": null,
            "grid_template_areas": null,
            "grid_template_columns": null,
            "grid_template_rows": null,
            "height": null,
            "justify_content": null,
            "justify_items": null,
            "left": null,
            "margin": null,
            "max_height": null,
            "max_width": null,
            "min_height": null,
            "min_width": null,
            "object_fit": null,
            "object_position": null,
            "order": null,
            "overflow": null,
            "overflow_x": null,
            "overflow_y": null,
            "padding": null,
            "right": null,
            "top": null,
            "visibility": null,
            "width": null
          }
        },
        "8f08a78cb63445188d87d73482edc5c9": {
          "model_module": "@jupyter-widgets/base",
          "model_name": "LayoutModel",
          "model_module_version": "1.2.0",
          "state": {
            "_model_module": "@jupyter-widgets/base",
            "_model_module_version": "1.2.0",
            "_model_name": "LayoutModel",
            "_view_count": null,
            "_view_module": "@jupyter-widgets/base",
            "_view_module_version": "1.2.0",
            "_view_name": "LayoutView",
            "align_content": null,
            "align_items": null,
            "align_self": null,
            "border": null,
            "bottom": null,
            "display": null,
            "flex": null,
            "flex_flow": null,
            "grid_area": null,
            "grid_auto_columns": null,
            "grid_auto_flow": null,
            "grid_auto_rows": null,
            "grid_column": null,
            "grid_gap": null,
            "grid_row": null,
            "grid_template_areas": null,
            "grid_template_columns": null,
            "grid_template_rows": null,
            "height": null,
            "justify_content": null,
            "justify_items": null,
            "left": null,
            "margin": null,
            "max_height": null,
            "max_width": null,
            "min_height": null,
            "min_width": null,
            "object_fit": null,
            "object_position": null,
            "order": null,
            "overflow": null,
            "overflow_x": null,
            "overflow_y": null,
            "padding": null,
            "right": null,
            "top": null,
            "visibility": null,
            "width": null
          }
        },
        "e6f1df0f6d80455494eb129371975ffe": {
          "model_module": "@jupyter-widgets/controls",
          "model_name": "DescriptionStyleModel",
          "model_module_version": "1.5.0",
          "state": {
            "_model_module": "@jupyter-widgets/controls",
            "_model_module_version": "1.5.0",
            "_model_name": "DescriptionStyleModel",
            "_view_count": null,
            "_view_module": "@jupyter-widgets/base",
            "_view_module_version": "1.2.0",
            "_view_name": "StyleView",
            "description_width": ""
          }
        },
        "6138e7f6075c4220b1e556572fcbd43f": {
          "model_module": "@jupyter-widgets/base",
          "model_name": "LayoutModel",
          "model_module_version": "1.2.0",
          "state": {
            "_model_module": "@jupyter-widgets/base",
            "_model_module_version": "1.2.0",
            "_model_name": "LayoutModel",
            "_view_count": null,
            "_view_module": "@jupyter-widgets/base",
            "_view_module_version": "1.2.0",
            "_view_name": "LayoutView",
            "align_content": null,
            "align_items": null,
            "align_self": null,
            "border": null,
            "bottom": null,
            "display": null,
            "flex": null,
            "flex_flow": null,
            "grid_area": null,
            "grid_auto_columns": null,
            "grid_auto_flow": null,
            "grid_auto_rows": null,
            "grid_column": null,
            "grid_gap": null,
            "grid_row": null,
            "grid_template_areas": null,
            "grid_template_columns": null,
            "grid_template_rows": null,
            "height": null,
            "justify_content": null,
            "justify_items": null,
            "left": null,
            "margin": null,
            "max_height": null,
            "max_width": null,
            "min_height": null,
            "min_width": null,
            "object_fit": null,
            "object_position": null,
            "order": null,
            "overflow": null,
            "overflow_x": null,
            "overflow_y": null,
            "padding": null,
            "right": null,
            "top": null,
            "visibility": null,
            "width": null
          }
        },
        "1acab9759ff94fc7806f24cbaa64196b": {
          "model_module": "@jupyter-widgets/controls",
          "model_name": "ProgressStyleModel",
          "model_module_version": "1.5.0",
          "state": {
            "_model_module": "@jupyter-widgets/controls",
            "_model_module_version": "1.5.0",
            "_model_name": "ProgressStyleModel",
            "_view_count": null,
            "_view_module": "@jupyter-widgets/base",
            "_view_module_version": "1.2.0",
            "_view_name": "StyleView",
            "bar_color": null,
            "description_width": ""
          }
        },
        "0681ee67fe7347d692a832bc039d7c70": {
          "model_module": "@jupyter-widgets/base",
          "model_name": "LayoutModel",
          "model_module_version": "1.2.0",
          "state": {
            "_model_module": "@jupyter-widgets/base",
            "_model_module_version": "1.2.0",
            "_model_name": "LayoutModel",
            "_view_count": null,
            "_view_module": "@jupyter-widgets/base",
            "_view_module_version": "1.2.0",
            "_view_name": "LayoutView",
            "align_content": null,
            "align_items": null,
            "align_self": null,
            "border": null,
            "bottom": null,
            "display": null,
            "flex": null,
            "flex_flow": null,
            "grid_area": null,
            "grid_auto_columns": null,
            "grid_auto_flow": null,
            "grid_auto_rows": null,
            "grid_column": null,
            "grid_gap": null,
            "grid_row": null,
            "grid_template_areas": null,
            "grid_template_columns": null,
            "grid_template_rows": null,
            "height": null,
            "justify_content": null,
            "justify_items": null,
            "left": null,
            "margin": null,
            "max_height": null,
            "max_width": null,
            "min_height": null,
            "min_width": null,
            "object_fit": null,
            "object_position": null,
            "order": null,
            "overflow": null,
            "overflow_x": null,
            "overflow_y": null,
            "padding": null,
            "right": null,
            "top": null,
            "visibility": null,
            "width": null
          }
        },
        "49076a5af8c64075852030c5bd6b20aa": {
          "model_module": "@jupyter-widgets/controls",
          "model_name": "DescriptionStyleModel",
          "model_module_version": "1.5.0",
          "state": {
            "_model_module": "@jupyter-widgets/controls",
            "_model_module_version": "1.5.0",
            "_model_name": "DescriptionStyleModel",
            "_view_count": null,
            "_view_module": "@jupyter-widgets/base",
            "_view_module_version": "1.2.0",
            "_view_name": "StyleView",
            "description_width": ""
          }
        },
        "d07379c3fcac4b3a8cf65f3861f2ec2f": {
          "model_module": "@jupyter-widgets/controls",
          "model_name": "HBoxModel",
          "model_module_version": "1.5.0",
          "state": {
            "_dom_classes": [],
            "_model_module": "@jupyter-widgets/controls",
            "_model_module_version": "1.5.0",
            "_model_name": "HBoxModel",
            "_view_count": null,
            "_view_module": "@jupyter-widgets/controls",
            "_view_module_version": "1.5.0",
            "_view_name": "HBoxView",
            "box_style": "",
            "children": [
              "IPY_MODEL_46a49ab7bcef49df95a51a10b50ad1c8",
              "IPY_MODEL_dc36702f474641a7844edab8e76f422b",
              "IPY_MODEL_4baaa75e7ca54ff5a4417c0f9913267c"
            ],
            "layout": "IPY_MODEL_ddc2800ca6a7467da64e061cdb85aff4"
          }
        },
        "46a49ab7bcef49df95a51a10b50ad1c8": {
          "model_module": "@jupyter-widgets/controls",
          "model_name": "HTMLModel",
          "model_module_version": "1.5.0",
          "state": {
            "_dom_classes": [],
            "_model_module": "@jupyter-widgets/controls",
            "_model_module_version": "1.5.0",
            "_model_name": "HTMLModel",
            "_view_count": null,
            "_view_module": "@jupyter-widgets/controls",
            "_view_module_version": "1.5.0",
            "_view_name": "HTMLView",
            "description": "",
            "description_tooltip": null,
            "layout": "IPY_MODEL_725a6f6bf10b4e588449cfbbafcb2fac",
            "placeholder": "​",
            "style": "IPY_MODEL_9a7a7e6062a845c1866cbc08ea1788c5",
            "value": "Map:  99%"
          }
        },
        "dc36702f474641a7844edab8e76f422b": {
          "model_module": "@jupyter-widgets/controls",
          "model_name": "FloatProgressModel",
          "model_module_version": "1.5.0",
          "state": {
            "_dom_classes": [],
            "_model_module": "@jupyter-widgets/controls",
            "_model_module_version": "1.5.0",
            "_model_name": "FloatProgressModel",
            "_view_count": null,
            "_view_module": "@jupyter-widgets/controls",
            "_view_module_version": "1.5.0",
            "_view_name": "ProgressView",
            "bar_style": "",
            "description": "",
            "description_tooltip": null,
            "layout": "IPY_MODEL_c785c770f8334347beffd0ec4d7dd5c6",
            "max": 1280,
            "min": 0,
            "orientation": "horizontal",
            "style": "IPY_MODEL_357b82aa94764704a0c7a7fc676fcec0",
            "value": 1280
          }
        },
        "4baaa75e7ca54ff5a4417c0f9913267c": {
          "model_module": "@jupyter-widgets/controls",
          "model_name": "HTMLModel",
          "model_module_version": "1.5.0",
          "state": {
            "_dom_classes": [],
            "_model_module": "@jupyter-widgets/controls",
            "_model_module_version": "1.5.0",
            "_model_name": "HTMLModel",
            "_view_count": null,
            "_view_module": "@jupyter-widgets/controls",
            "_view_module_version": "1.5.0",
            "_view_name": "HTMLView",
            "description": "",
            "description_tooltip": null,
            "layout": "IPY_MODEL_6f215de16c074b7580543889503491b1",
            "placeholder": "​",
            "style": "IPY_MODEL_81eb649372ee43c291e27b3cfd215686",
            "value": " 1267/1280 [00:02&lt;00:00, 506.91 examples/s]"
          }
        },
        "ddc2800ca6a7467da64e061cdb85aff4": {
          "model_module": "@jupyter-widgets/base",
          "model_name": "LayoutModel",
          "model_module_version": "1.2.0",
          "state": {
            "_model_module": "@jupyter-widgets/base",
            "_model_module_version": "1.2.0",
            "_model_name": "LayoutModel",
            "_view_count": null,
            "_view_module": "@jupyter-widgets/base",
            "_view_module_version": "1.2.0",
            "_view_name": "LayoutView",
            "align_content": null,
            "align_items": null,
            "align_self": null,
            "border": null,
            "bottom": null,
            "display": null,
            "flex": null,
            "flex_flow": null,
            "grid_area": null,
            "grid_auto_columns": null,
            "grid_auto_flow": null,
            "grid_auto_rows": null,
            "grid_column": null,
            "grid_gap": null,
            "grid_row": null,
            "grid_template_areas": null,
            "grid_template_columns": null,
            "grid_template_rows": null,
            "height": null,
            "justify_content": null,
            "justify_items": null,
            "left": null,
            "margin": null,
            "max_height": null,
            "max_width": null,
            "min_height": null,
            "min_width": null,
            "object_fit": null,
            "object_position": null,
            "order": null,
            "overflow": null,
            "overflow_x": null,
            "overflow_y": null,
            "padding": null,
            "right": null,
            "top": null,
            "visibility": "hidden",
            "width": null
          }
        },
        "725a6f6bf10b4e588449cfbbafcb2fac": {
          "model_module": "@jupyter-widgets/base",
          "model_name": "LayoutModel",
          "model_module_version": "1.2.0",
          "state": {
            "_model_module": "@jupyter-widgets/base",
            "_model_module_version": "1.2.0",
            "_model_name": "LayoutModel",
            "_view_count": null,
            "_view_module": "@jupyter-widgets/base",
            "_view_module_version": "1.2.0",
            "_view_name": "LayoutView",
            "align_content": null,
            "align_items": null,
            "align_self": null,
            "border": null,
            "bottom": null,
            "display": null,
            "flex": null,
            "flex_flow": null,
            "grid_area": null,
            "grid_auto_columns": null,
            "grid_auto_flow": null,
            "grid_auto_rows": null,
            "grid_column": null,
            "grid_gap": null,
            "grid_row": null,
            "grid_template_areas": null,
            "grid_template_columns": null,
            "grid_template_rows": null,
            "height": null,
            "justify_content": null,
            "justify_items": null,
            "left": null,
            "margin": null,
            "max_height": null,
            "max_width": null,
            "min_height": null,
            "min_width": null,
            "object_fit": null,
            "object_position": null,
            "order": null,
            "overflow": null,
            "overflow_x": null,
            "overflow_y": null,
            "padding": null,
            "right": null,
            "top": null,
            "visibility": null,
            "width": null
          }
        },
        "9a7a7e6062a845c1866cbc08ea1788c5": {
          "model_module": "@jupyter-widgets/controls",
          "model_name": "DescriptionStyleModel",
          "model_module_version": "1.5.0",
          "state": {
            "_model_module": "@jupyter-widgets/controls",
            "_model_module_version": "1.5.0",
            "_model_name": "DescriptionStyleModel",
            "_view_count": null,
            "_view_module": "@jupyter-widgets/base",
            "_view_module_version": "1.2.0",
            "_view_name": "StyleView",
            "description_width": ""
          }
        },
        "c785c770f8334347beffd0ec4d7dd5c6": {
          "model_module": "@jupyter-widgets/base",
          "model_name": "LayoutModel",
          "model_module_version": "1.2.0",
          "state": {
            "_model_module": "@jupyter-widgets/base",
            "_model_module_version": "1.2.0",
            "_model_name": "LayoutModel",
            "_view_count": null,
            "_view_module": "@jupyter-widgets/base",
            "_view_module_version": "1.2.0",
            "_view_name": "LayoutView",
            "align_content": null,
            "align_items": null,
            "align_self": null,
            "border": null,
            "bottom": null,
            "display": null,
            "flex": null,
            "flex_flow": null,
            "grid_area": null,
            "grid_auto_columns": null,
            "grid_auto_flow": null,
            "grid_auto_rows": null,
            "grid_column": null,
            "grid_gap": null,
            "grid_row": null,
            "grid_template_areas": null,
            "grid_template_columns": null,
            "grid_template_rows": null,
            "height": null,
            "justify_content": null,
            "justify_items": null,
            "left": null,
            "margin": null,
            "max_height": null,
            "max_width": null,
            "min_height": null,
            "min_width": null,
            "object_fit": null,
            "object_position": null,
            "order": null,
            "overflow": null,
            "overflow_x": null,
            "overflow_y": null,
            "padding": null,
            "right": null,
            "top": null,
            "visibility": null,
            "width": null
          }
        },
        "357b82aa94764704a0c7a7fc676fcec0": {
          "model_module": "@jupyter-widgets/controls",
          "model_name": "ProgressStyleModel",
          "model_module_version": "1.5.0",
          "state": {
            "_model_module": "@jupyter-widgets/controls",
            "_model_module_version": "1.5.0",
            "_model_name": "ProgressStyleModel",
            "_view_count": null,
            "_view_module": "@jupyter-widgets/base",
            "_view_module_version": "1.2.0",
            "_view_name": "StyleView",
            "bar_color": null,
            "description_width": ""
          }
        },
        "6f215de16c074b7580543889503491b1": {
          "model_module": "@jupyter-widgets/base",
          "model_name": "LayoutModel",
          "model_module_version": "1.2.0",
          "state": {
            "_model_module": "@jupyter-widgets/base",
            "_model_module_version": "1.2.0",
            "_model_name": "LayoutModel",
            "_view_count": null,
            "_view_module": "@jupyter-widgets/base",
            "_view_module_version": "1.2.0",
            "_view_name": "LayoutView",
            "align_content": null,
            "align_items": null,
            "align_self": null,
            "border": null,
            "bottom": null,
            "display": null,
            "flex": null,
            "flex_flow": null,
            "grid_area": null,
            "grid_auto_columns": null,
            "grid_auto_flow": null,
            "grid_auto_rows": null,
            "grid_column": null,
            "grid_gap": null,
            "grid_row": null,
            "grid_template_areas": null,
            "grid_template_columns": null,
            "grid_template_rows": null,
            "height": null,
            "justify_content": null,
            "justify_items": null,
            "left": null,
            "margin": null,
            "max_height": null,
            "max_width": null,
            "min_height": null,
            "min_width": null,
            "object_fit": null,
            "object_position": null,
            "order": null,
            "overflow": null,
            "overflow_x": null,
            "overflow_y": null,
            "padding": null,
            "right": null,
            "top": null,
            "visibility": null,
            "width": null
          }
        },
        "81eb649372ee43c291e27b3cfd215686": {
          "model_module": "@jupyter-widgets/controls",
          "model_name": "DescriptionStyleModel",
          "model_module_version": "1.5.0",
          "state": {
            "_model_module": "@jupyter-widgets/controls",
            "_model_module_version": "1.5.0",
            "_model_name": "DescriptionStyleModel",
            "_view_count": null,
            "_view_module": "@jupyter-widgets/base",
            "_view_module_version": "1.2.0",
            "_view_name": "StyleView",
            "description_width": ""
          }
        },
        "c57c84641ea3427fb32b03ca3fc50bc8": {
          "model_module": "@jupyter-widgets/controls",
          "model_name": "HBoxModel",
          "model_module_version": "1.5.0",
          "state": {
            "_dom_classes": [],
            "_model_module": "@jupyter-widgets/controls",
            "_model_module_version": "1.5.0",
            "_model_name": "HBoxModel",
            "_view_count": null,
            "_view_module": "@jupyter-widgets/controls",
            "_view_module_version": "1.5.0",
            "_view_name": "HBoxView",
            "box_style": "",
            "children": [
              "IPY_MODEL_7ffdc3767405466091a98fe527b9a6e4",
              "IPY_MODEL_fe3e0f5e74db4f0e95f7be97fde52e80",
              "IPY_MODEL_7425bc88ff164157b115c75f0d29b883"
            ],
            "layout": "IPY_MODEL_116ce8b613c44d6d8682d8a321365713"
          }
        },
        "7ffdc3767405466091a98fe527b9a6e4": {
          "model_module": "@jupyter-widgets/controls",
          "model_name": "HTMLModel",
          "model_module_version": "1.5.0",
          "state": {
            "_dom_classes": [],
            "_model_module": "@jupyter-widgets/controls",
            "_model_module_version": "1.5.0",
            "_model_name": "HTMLModel",
            "_view_count": null,
            "_view_module": "@jupyter-widgets/controls",
            "_view_module_version": "1.5.0",
            "_view_name": "HTMLView",
            "description": "",
            "description_tooltip": null,
            "layout": "IPY_MODEL_2674617a3d6e4c15930be6b291b2405c",
            "placeholder": "​",
            "style": "IPY_MODEL_616d7a74fc154aa990862d384c314ad4",
            "value": "Map:  80%"
          }
        },
        "fe3e0f5e74db4f0e95f7be97fde52e80": {
          "model_module": "@jupyter-widgets/controls",
          "model_name": "FloatProgressModel",
          "model_module_version": "1.5.0",
          "state": {
            "_dom_classes": [],
            "_model_module": "@jupyter-widgets/controls",
            "_model_module_version": "1.5.0",
            "_model_name": "FloatProgressModel",
            "_view_count": null,
            "_view_module": "@jupyter-widgets/controls",
            "_view_module_version": "1.5.0",
            "_view_name": "ProgressView",
            "bar_style": "",
            "description": "",
            "description_tooltip": null,
            "layout": "IPY_MODEL_035d1b4cd13942539c77f199f6467249",
            "max": 320,
            "min": 0,
            "orientation": "horizontal",
            "style": "IPY_MODEL_27343da76a1847ffa1111a3008a05f12",
            "value": 320
          }
        },
        "7425bc88ff164157b115c75f0d29b883": {
          "model_module": "@jupyter-widgets/controls",
          "model_name": "HTMLModel",
          "model_module_version": "1.5.0",
          "state": {
            "_dom_classes": [],
            "_model_module": "@jupyter-widgets/controls",
            "_model_module_version": "1.5.0",
            "_model_name": "HTMLModel",
            "_view_count": null,
            "_view_module": "@jupyter-widgets/controls",
            "_view_module_version": "1.5.0",
            "_view_name": "HTMLView",
            "description": "",
            "description_tooltip": null,
            "layout": "IPY_MODEL_84a8ade5f715469a82848abc26ab989a",
            "placeholder": "​",
            "style": "IPY_MODEL_bed6f1b6cfc5486ba2317a386e8550b2",
            "value": " 255/320 [00:00&lt;00:00, 775.85 examples/s]"
          }
        },
        "116ce8b613c44d6d8682d8a321365713": {
          "model_module": "@jupyter-widgets/base",
          "model_name": "LayoutModel",
          "model_module_version": "1.2.0",
          "state": {
            "_model_module": "@jupyter-widgets/base",
            "_model_module_version": "1.2.0",
            "_model_name": "LayoutModel",
            "_view_count": null,
            "_view_module": "@jupyter-widgets/base",
            "_view_module_version": "1.2.0",
            "_view_name": "LayoutView",
            "align_content": null,
            "align_items": null,
            "align_self": null,
            "border": null,
            "bottom": null,
            "display": null,
            "flex": null,
            "flex_flow": null,
            "grid_area": null,
            "grid_auto_columns": null,
            "grid_auto_flow": null,
            "grid_auto_rows": null,
            "grid_column": null,
            "grid_gap": null,
            "grid_row": null,
            "grid_template_areas": null,
            "grid_template_columns": null,
            "grid_template_rows": null,
            "height": null,
            "justify_content": null,
            "justify_items": null,
            "left": null,
            "margin": null,
            "max_height": null,
            "max_width": null,
            "min_height": null,
            "min_width": null,
            "object_fit": null,
            "object_position": null,
            "order": null,
            "overflow": null,
            "overflow_x": null,
            "overflow_y": null,
            "padding": null,
            "right": null,
            "top": null,
            "visibility": "hidden",
            "width": null
          }
        },
        "2674617a3d6e4c15930be6b291b2405c": {
          "model_module": "@jupyter-widgets/base",
          "model_name": "LayoutModel",
          "model_module_version": "1.2.0",
          "state": {
            "_model_module": "@jupyter-widgets/base",
            "_model_module_version": "1.2.0",
            "_model_name": "LayoutModel",
            "_view_count": null,
            "_view_module": "@jupyter-widgets/base",
            "_view_module_version": "1.2.0",
            "_view_name": "LayoutView",
            "align_content": null,
            "align_items": null,
            "align_self": null,
            "border": null,
            "bottom": null,
            "display": null,
            "flex": null,
            "flex_flow": null,
            "grid_area": null,
            "grid_auto_columns": null,
            "grid_auto_flow": null,
            "grid_auto_rows": null,
            "grid_column": null,
            "grid_gap": null,
            "grid_row": null,
            "grid_template_areas": null,
            "grid_template_columns": null,
            "grid_template_rows": null,
            "height": null,
            "justify_content": null,
            "justify_items": null,
            "left": null,
            "margin": null,
            "max_height": null,
            "max_width": null,
            "min_height": null,
            "min_width": null,
            "object_fit": null,
            "object_position": null,
            "order": null,
            "overflow": null,
            "overflow_x": null,
            "overflow_y": null,
            "padding": null,
            "right": null,
            "top": null,
            "visibility": null,
            "width": null
          }
        },
        "616d7a74fc154aa990862d384c314ad4": {
          "model_module": "@jupyter-widgets/controls",
          "model_name": "DescriptionStyleModel",
          "model_module_version": "1.5.0",
          "state": {
            "_model_module": "@jupyter-widgets/controls",
            "_model_module_version": "1.5.0",
            "_model_name": "DescriptionStyleModel",
            "_view_count": null,
            "_view_module": "@jupyter-widgets/base",
            "_view_module_version": "1.2.0",
            "_view_name": "StyleView",
            "description_width": ""
          }
        },
        "035d1b4cd13942539c77f199f6467249": {
          "model_module": "@jupyter-widgets/base",
          "model_name": "LayoutModel",
          "model_module_version": "1.2.0",
          "state": {
            "_model_module": "@jupyter-widgets/base",
            "_model_module_version": "1.2.0",
            "_model_name": "LayoutModel",
            "_view_count": null,
            "_view_module": "@jupyter-widgets/base",
            "_view_module_version": "1.2.0",
            "_view_name": "LayoutView",
            "align_content": null,
            "align_items": null,
            "align_self": null,
            "border": null,
            "bottom": null,
            "display": null,
            "flex": null,
            "flex_flow": null,
            "grid_area": null,
            "grid_auto_columns": null,
            "grid_auto_flow": null,
            "grid_auto_rows": null,
            "grid_column": null,
            "grid_gap": null,
            "grid_row": null,
            "grid_template_areas": null,
            "grid_template_columns": null,
            "grid_template_rows": null,
            "height": null,
            "justify_content": null,
            "justify_items": null,
            "left": null,
            "margin": null,
            "max_height": null,
            "max_width": null,
            "min_height": null,
            "min_width": null,
            "object_fit": null,
            "object_position": null,
            "order": null,
            "overflow": null,
            "overflow_x": null,
            "overflow_y": null,
            "padding": null,
            "right": null,
            "top": null,
            "visibility": null,
            "width": null
          }
        },
        "27343da76a1847ffa1111a3008a05f12": {
          "model_module": "@jupyter-widgets/controls",
          "model_name": "ProgressStyleModel",
          "model_module_version": "1.5.0",
          "state": {
            "_model_module": "@jupyter-widgets/controls",
            "_model_module_version": "1.5.0",
            "_model_name": "ProgressStyleModel",
            "_view_count": null,
            "_view_module": "@jupyter-widgets/base",
            "_view_module_version": "1.2.0",
            "_view_name": "StyleView",
            "bar_color": null,
            "description_width": ""
          }
        },
        "84a8ade5f715469a82848abc26ab989a": {
          "model_module": "@jupyter-widgets/base",
          "model_name": "LayoutModel",
          "model_module_version": "1.2.0",
          "state": {
            "_model_module": "@jupyter-widgets/base",
            "_model_module_version": "1.2.0",
            "_model_name": "LayoutModel",
            "_view_count": null,
            "_view_module": "@jupyter-widgets/base",
            "_view_module_version": "1.2.0",
            "_view_name": "LayoutView",
            "align_content": null,
            "align_items": null,
            "align_self": null,
            "border": null,
            "bottom": null,
            "display": null,
            "flex": null,
            "flex_flow": null,
            "grid_area": null,
            "grid_auto_columns": null,
            "grid_auto_flow": null,
            "grid_auto_rows": null,
            "grid_column": null,
            "grid_gap": null,
            "grid_row": null,
            "grid_template_areas": null,
            "grid_template_columns": null,
            "grid_template_rows": null,
            "height": null,
            "justify_content": null,
            "justify_items": null,
            "left": null,
            "margin": null,
            "max_height": null,
            "max_width": null,
            "min_height": null,
            "min_width": null,
            "object_fit": null,
            "object_position": null,
            "order": null,
            "overflow": null,
            "overflow_x": null,
            "overflow_y": null,
            "padding": null,
            "right": null,
            "top": null,
            "visibility": null,
            "width": null
          }
        },
        "bed6f1b6cfc5486ba2317a386e8550b2": {
          "model_module": "@jupyter-widgets/controls",
          "model_name": "DescriptionStyleModel",
          "model_module_version": "1.5.0",
          "state": {
            "_model_module": "@jupyter-widgets/controls",
            "_model_module_version": "1.5.0",
            "_model_name": "DescriptionStyleModel",
            "_view_count": null,
            "_view_module": "@jupyter-widgets/base",
            "_view_module_version": "1.2.0",
            "_view_name": "StyleView",
            "description_width": ""
          }
        },
        "17851d785ab54b779d62481aee2fdee8": {
          "model_module": "@jupyter-widgets/controls",
          "model_name": "HBoxModel",
          "model_module_version": "1.5.0",
          "state": {
            "_dom_classes": [],
            "_model_module": "@jupyter-widgets/controls",
            "_model_module_version": "1.5.0",
            "_model_name": "HBoxModel",
            "_view_count": null,
            "_view_module": "@jupyter-widgets/controls",
            "_view_module_version": "1.5.0",
            "_view_name": "HBoxView",
            "box_style": "",
            "children": [
              "IPY_MODEL_f5760fc8b0a041bcb1592f3c55ca4cf5",
              "IPY_MODEL_b3a443fe2ec2467e9c0db93d084b3731",
              "IPY_MODEL_2d4528ef583b4620b2db8e8e55358577"
            ],
            "layout": "IPY_MODEL_cb67770ca6af4b9b81188c204ad53f0a"
          }
        },
        "f5760fc8b0a041bcb1592f3c55ca4cf5": {
          "model_module": "@jupyter-widgets/controls",
          "model_name": "HTMLModel",
          "model_module_version": "1.5.0",
          "state": {
            "_dom_classes": [],
            "_model_module": "@jupyter-widgets/controls",
            "_model_module_version": "1.5.0",
            "_model_name": "HTMLModel",
            "_view_count": null,
            "_view_module": "@jupyter-widgets/controls",
            "_view_module_version": "1.5.0",
            "_view_name": "HTMLView",
            "description": "",
            "description_tooltip": null,
            "layout": "IPY_MODEL_307d2ab6394b4df58b17dc418d1c0b82",
            "placeholder": "​",
            "style": "IPY_MODEL_9cb0de2a14db41cd81a6bc9ae1b2b86a",
            "value": "Downloading tf_model.h5: 100%"
          }
        },
        "b3a443fe2ec2467e9c0db93d084b3731": {
          "model_module": "@jupyter-widgets/controls",
          "model_name": "FloatProgressModel",
          "model_module_version": "1.5.0",
          "state": {
            "_dom_classes": [],
            "_model_module": "@jupyter-widgets/controls",
            "_model_module_version": "1.5.0",
            "_model_name": "FloatProgressModel",
            "_view_count": null,
            "_view_module": "@jupyter-widgets/controls",
            "_view_module_version": "1.5.0",
            "_view_name": "ProgressView",
            "bar_style": "success",
            "description": "",
            "description_tooltip": null,
            "layout": "IPY_MODEL_e11bac036bcc41a99fd412f02a7584f6",
            "max": 657434796,
            "min": 0,
            "orientation": "horizontal",
            "style": "IPY_MODEL_2b7a73d8d7c948549045d5b42589a24e",
            "value": 657434796
          }
        },
        "2d4528ef583b4620b2db8e8e55358577": {
          "model_module": "@jupyter-widgets/controls",
          "model_name": "HTMLModel",
          "model_module_version": "1.5.0",
          "state": {
            "_dom_classes": [],
            "_model_module": "@jupyter-widgets/controls",
            "_model_module_version": "1.5.0",
            "_model_name": "HTMLModel",
            "_view_count": null,
            "_view_module": "@jupyter-widgets/controls",
            "_view_module_version": "1.5.0",
            "_view_name": "HTMLView",
            "description": "",
            "description_tooltip": null,
            "layout": "IPY_MODEL_994939b6bf204f25b3ee2a8a33f7f688",
            "placeholder": "​",
            "style": "IPY_MODEL_b3b9296389b54c9f8ca11d1a7fb15ef0",
            "value": " 657M/657M [00:07&lt;00:00, 91.8MB/s]"
          }
        },
        "cb67770ca6af4b9b81188c204ad53f0a": {
          "model_module": "@jupyter-widgets/base",
          "model_name": "LayoutModel",
          "model_module_version": "1.2.0",
          "state": {
            "_model_module": "@jupyter-widgets/base",
            "_model_module_version": "1.2.0",
            "_model_name": "LayoutModel",
            "_view_count": null,
            "_view_module": "@jupyter-widgets/base",
            "_view_module_version": "1.2.0",
            "_view_name": "LayoutView",
            "align_content": null,
            "align_items": null,
            "align_self": null,
            "border": null,
            "bottom": null,
            "display": null,
            "flex": null,
            "flex_flow": null,
            "grid_area": null,
            "grid_auto_columns": null,
            "grid_auto_flow": null,
            "grid_auto_rows": null,
            "grid_column": null,
            "grid_gap": null,
            "grid_row": null,
            "grid_template_areas": null,
            "grid_template_columns": null,
            "grid_template_rows": null,
            "height": null,
            "justify_content": null,
            "justify_items": null,
            "left": null,
            "margin": null,
            "max_height": null,
            "max_width": null,
            "min_height": null,
            "min_width": null,
            "object_fit": null,
            "object_position": null,
            "order": null,
            "overflow": null,
            "overflow_x": null,
            "overflow_y": null,
            "padding": null,
            "right": null,
            "top": null,
            "visibility": null,
            "width": null
          }
        },
        "307d2ab6394b4df58b17dc418d1c0b82": {
          "model_module": "@jupyter-widgets/base",
          "model_name": "LayoutModel",
          "model_module_version": "1.2.0",
          "state": {
            "_model_module": "@jupyter-widgets/base",
            "_model_module_version": "1.2.0",
            "_model_name": "LayoutModel",
            "_view_count": null,
            "_view_module": "@jupyter-widgets/base",
            "_view_module_version": "1.2.0",
            "_view_name": "LayoutView",
            "align_content": null,
            "align_items": null,
            "align_self": null,
            "border": null,
            "bottom": null,
            "display": null,
            "flex": null,
            "flex_flow": null,
            "grid_area": null,
            "grid_auto_columns": null,
            "grid_auto_flow": null,
            "grid_auto_rows": null,
            "grid_column": null,
            "grid_gap": null,
            "grid_row": null,
            "grid_template_areas": null,
            "grid_template_columns": null,
            "grid_template_rows": null,
            "height": null,
            "justify_content": null,
            "justify_items": null,
            "left": null,
            "margin": null,
            "max_height": null,
            "max_width": null,
            "min_height": null,
            "min_width": null,
            "object_fit": null,
            "object_position": null,
            "order": null,
            "overflow": null,
            "overflow_x": null,
            "overflow_y": null,
            "padding": null,
            "right": null,
            "top": null,
            "visibility": null,
            "width": null
          }
        },
        "9cb0de2a14db41cd81a6bc9ae1b2b86a": {
          "model_module": "@jupyter-widgets/controls",
          "model_name": "DescriptionStyleModel",
          "model_module_version": "1.5.0",
          "state": {
            "_model_module": "@jupyter-widgets/controls",
            "_model_module_version": "1.5.0",
            "_model_name": "DescriptionStyleModel",
            "_view_count": null,
            "_view_module": "@jupyter-widgets/base",
            "_view_module_version": "1.2.0",
            "_view_name": "StyleView",
            "description_width": ""
          }
        },
        "e11bac036bcc41a99fd412f02a7584f6": {
          "model_module": "@jupyter-widgets/base",
          "model_name": "LayoutModel",
          "model_module_version": "1.2.0",
          "state": {
            "_model_module": "@jupyter-widgets/base",
            "_model_module_version": "1.2.0",
            "_model_name": "LayoutModel",
            "_view_count": null,
            "_view_module": "@jupyter-widgets/base",
            "_view_module_version": "1.2.0",
            "_view_name": "LayoutView",
            "align_content": null,
            "align_items": null,
            "align_self": null,
            "border": null,
            "bottom": null,
            "display": null,
            "flex": null,
            "flex_flow": null,
            "grid_area": null,
            "grid_auto_columns": null,
            "grid_auto_flow": null,
            "grid_auto_rows": null,
            "grid_column": null,
            "grid_gap": null,
            "grid_row": null,
            "grid_template_areas": null,
            "grid_template_columns": null,
            "grid_template_rows": null,
            "height": null,
            "justify_content": null,
            "justify_items": null,
            "left": null,
            "margin": null,
            "max_height": null,
            "max_width": null,
            "min_height": null,
            "min_width": null,
            "object_fit": null,
            "object_position": null,
            "order": null,
            "overflow": null,
            "overflow_x": null,
            "overflow_y": null,
            "padding": null,
            "right": null,
            "top": null,
            "visibility": null,
            "width": null
          }
        },
        "2b7a73d8d7c948549045d5b42589a24e": {
          "model_module": "@jupyter-widgets/controls",
          "model_name": "ProgressStyleModel",
          "model_module_version": "1.5.0",
          "state": {
            "_model_module": "@jupyter-widgets/controls",
            "_model_module_version": "1.5.0",
            "_model_name": "ProgressStyleModel",
            "_view_count": null,
            "_view_module": "@jupyter-widgets/base",
            "_view_module_version": "1.2.0",
            "_view_name": "StyleView",
            "bar_color": null,
            "description_width": ""
          }
        },
        "994939b6bf204f25b3ee2a8a33f7f688": {
          "model_module": "@jupyter-widgets/base",
          "model_name": "LayoutModel",
          "model_module_version": "1.2.0",
          "state": {
            "_model_module": "@jupyter-widgets/base",
            "_model_module_version": "1.2.0",
            "_model_name": "LayoutModel",
            "_view_count": null,
            "_view_module": "@jupyter-widgets/base",
            "_view_module_version": "1.2.0",
            "_view_name": "LayoutView",
            "align_content": null,
            "align_items": null,
            "align_self": null,
            "border": null,
            "bottom": null,
            "display": null,
            "flex": null,
            "flex_flow": null,
            "grid_area": null,
            "grid_auto_columns": null,
            "grid_auto_flow": null,
            "grid_auto_rows": null,
            "grid_column": null,
            "grid_gap": null,
            "grid_row": null,
            "grid_template_areas": null,
            "grid_template_columns": null,
            "grid_template_rows": null,
            "height": null,
            "justify_content": null,
            "justify_items": null,
            "left": null,
            "margin": null,
            "max_height": null,
            "max_width": null,
            "min_height": null,
            "min_width": null,
            "object_fit": null,
            "object_position": null,
            "order": null,
            "overflow": null,
            "overflow_x": null,
            "overflow_y": null,
            "padding": null,
            "right": null,
            "top": null,
            "visibility": null,
            "width": null
          }
        },
        "b3b9296389b54c9f8ca11d1a7fb15ef0": {
          "model_module": "@jupyter-widgets/controls",
          "model_name": "DescriptionStyleModel",
          "model_module_version": "1.5.0",
          "state": {
            "_model_module": "@jupyter-widgets/controls",
            "_model_module_version": "1.5.0",
            "_model_name": "DescriptionStyleModel",
            "_view_count": null,
            "_view_module": "@jupyter-widgets/base",
            "_view_module_version": "1.2.0",
            "_view_name": "StyleView",
            "description_width": ""
          }
        }
      }
    }
  },
  "nbformat_minor": 0,
  "nbformat": 4,
  "cells": [
    {
      "cell_type": "markdown",
      "source": [
        "# CONTENTS\n",
        "\n",
        "### 1. Importing Libraries\n",
        "### 2. About the Data\n",
        "### 3. Exploratory Data Analysis\n",
        "       (a) Checking for Data Balancing\n",
        "       (b) Identifying Max Lenght of Reviews\n",
        "       (c) Review Overview\n",
        "### 4. Text Processing\n",
        "### 5. Dividing into Train,Test and Validation Data\n",
        "### 6. Pre-Processing Pipeline\n",
        "### 7. Roberta Model Fine Tuning\n",
        "### 8. Model Testing\n",
        "### 9. Result / Conclusion\n",
        "### 10. References"
      ],
      "metadata": {
        "id": "kDiXg7J_zy2n"
      }
    },
    {
      "cell_type": "markdown",
      "source": [
        "# 1. Importing Libraries"
      ],
      "metadata": {
        "id": "pidQhfchzy2r"
      }
    },
    {
      "cell_type": "code",
      "source": [
        "import pandas as pd\n",
        "import numpy as np\n",
        "import matplotlib.pyplot as plt"
      ],
      "metadata": {
        "id": "y0njrJc7nhPT"
      },
      "execution_count": null,
      "outputs": []
    },
    {
      "cell_type": "code",
      "source": [
        "from google.colab import drive\n",
        "drive.mount('/content/drive/')"
      ],
      "metadata": {
        "colab": {
          "base_uri": "https://localhost:8080/"
        },
        "id": "WwAjbSdAnw8K",
        "outputId": "b960d9c0-6f16-40f6-ca7b-3c518bd2fb8d"
      },
      "execution_count": null,
      "outputs": [
        {
          "output_type": "stream",
          "name": "stdout",
          "text": [
            "Mounted at /content/drive/\n"
          ]
        }
      ]
    },
    {
      "cell_type": "code",
      "source": [
        "### Extract the csv file from the uploaded tgz file\n",
        "#import tarfile\n",
        "data = pd.read_csv('/content/drive/MyDrive/Sentiment_Dataset/IMDB_Movie_Review/IMDB_50K_Dataset.csv')\n",
        "data.info()\n",
        "data.head()"
      ],
      "metadata": {
        "colab": {
          "base_uri": "https://localhost:8080/",
          "height": 363
        },
        "id": "jXMHx2-moA2Z",
        "outputId": "64fdfddb-1325-4a08-b7ef-fe0d3457d727"
      },
      "execution_count": null,
      "outputs": [
        {
          "output_type": "stream",
          "name": "stdout",
          "text": [
            "<class 'pandas.core.frame.DataFrame'>\n",
            "RangeIndex: 50000 entries, 0 to 49999\n",
            "Data columns (total 2 columns):\n",
            " #   Column     Non-Null Count  Dtype \n",
            "---  ------     --------------  ----- \n",
            " 0   review     50000 non-null  object\n",
            " 1   sentiment  50000 non-null  object\n",
            "dtypes: object(2)\n",
            "memory usage: 781.4+ KB\n"
          ]
        },
        {
          "output_type": "execute_result",
          "data": {
            "text/plain": [
              "                                              review sentiment\n",
              "0  One of the other reviewers has mentioned that ...  positive\n",
              "1  A wonderful little production. <br /><br />The...  positive\n",
              "2  I thought this was a wonderful way to spend ti...  positive\n",
              "3  Basically there's a family where a little boy ...  negative\n",
              "4  Petter Mattei's \"Love in the Time of Money\" is...  positive"
            ],
            "text/html": [
              "\n",
              "  <div id=\"df-cf185116-92f5-4e46-bc32-c406a8554d40\">\n",
              "    <div class=\"colab-df-container\">\n",
              "      <div>\n",
              "<style scoped>\n",
              "    .dataframe tbody tr th:only-of-type {\n",
              "        vertical-align: middle;\n",
              "    }\n",
              "\n",
              "    .dataframe tbody tr th {\n",
              "        vertical-align: top;\n",
              "    }\n",
              "\n",
              "    .dataframe thead th {\n",
              "        text-align: right;\n",
              "    }\n",
              "</style>\n",
              "<table border=\"1\" class=\"dataframe\">\n",
              "  <thead>\n",
              "    <tr style=\"text-align: right;\">\n",
              "      <th></th>\n",
              "      <th>review</th>\n",
              "      <th>sentiment</th>\n",
              "    </tr>\n",
              "  </thead>\n",
              "  <tbody>\n",
              "    <tr>\n",
              "      <th>0</th>\n",
              "      <td>One of the other reviewers has mentioned that ...</td>\n",
              "      <td>positive</td>\n",
              "    </tr>\n",
              "    <tr>\n",
              "      <th>1</th>\n",
              "      <td>A wonderful little production. &lt;br /&gt;&lt;br /&gt;The...</td>\n",
              "      <td>positive</td>\n",
              "    </tr>\n",
              "    <tr>\n",
              "      <th>2</th>\n",
              "      <td>I thought this was a wonderful way to spend ti...</td>\n",
              "      <td>positive</td>\n",
              "    </tr>\n",
              "    <tr>\n",
              "      <th>3</th>\n",
              "      <td>Basically there's a family where a little boy ...</td>\n",
              "      <td>negative</td>\n",
              "    </tr>\n",
              "    <tr>\n",
              "      <th>4</th>\n",
              "      <td>Petter Mattei's \"Love in the Time of Money\" is...</td>\n",
              "      <td>positive</td>\n",
              "    </tr>\n",
              "  </tbody>\n",
              "</table>\n",
              "</div>\n",
              "      <button class=\"colab-df-convert\" onclick=\"convertToInteractive('df-cf185116-92f5-4e46-bc32-c406a8554d40')\"\n",
              "              title=\"Convert this dataframe to an interactive table.\"\n",
              "              style=\"display:none;\">\n",
              "        \n",
              "  <svg xmlns=\"http://www.w3.org/2000/svg\" height=\"24px\"viewBox=\"0 0 24 24\"\n",
              "       width=\"24px\">\n",
              "    <path d=\"M0 0h24v24H0V0z\" fill=\"none\"/>\n",
              "    <path d=\"M18.56 5.44l.94 2.06.94-2.06 2.06-.94-2.06-.94-.94-2.06-.94 2.06-2.06.94zm-11 1L8.5 8.5l.94-2.06 2.06-.94-2.06-.94L8.5 2.5l-.94 2.06-2.06.94zm10 10l.94 2.06.94-2.06 2.06-.94-2.06-.94-.94-2.06-.94 2.06-2.06.94z\"/><path d=\"M17.41 7.96l-1.37-1.37c-.4-.4-.92-.59-1.43-.59-.52 0-1.04.2-1.43.59L10.3 9.45l-7.72 7.72c-.78.78-.78 2.05 0 2.83L4 21.41c.39.39.9.59 1.41.59.51 0 1.02-.2 1.41-.59l7.78-7.78 2.81-2.81c.8-.78.8-2.07 0-2.86zM5.41 20L4 18.59l7.72-7.72 1.47 1.35L5.41 20z\"/>\n",
              "  </svg>\n",
              "      </button>\n",
              "      \n",
              "  <style>\n",
              "    .colab-df-container {\n",
              "      display:flex;\n",
              "      flex-wrap:wrap;\n",
              "      gap: 12px;\n",
              "    }\n",
              "\n",
              "    .colab-df-convert {\n",
              "      background-color: #E8F0FE;\n",
              "      border: none;\n",
              "      border-radius: 50%;\n",
              "      cursor: pointer;\n",
              "      display: none;\n",
              "      fill: #1967D2;\n",
              "      height: 32px;\n",
              "      padding: 0 0 0 0;\n",
              "      width: 32px;\n",
              "    }\n",
              "\n",
              "    .colab-df-convert:hover {\n",
              "      background-color: #E2EBFA;\n",
              "      box-shadow: 0px 1px 2px rgba(60, 64, 67, 0.3), 0px 1px 3px 1px rgba(60, 64, 67, 0.15);\n",
              "      fill: #174EA6;\n",
              "    }\n",
              "\n",
              "    [theme=dark] .colab-df-convert {\n",
              "      background-color: #3B4455;\n",
              "      fill: #D2E3FC;\n",
              "    }\n",
              "\n",
              "    [theme=dark] .colab-df-convert:hover {\n",
              "      background-color: #434B5C;\n",
              "      box-shadow: 0px 1px 3px 1px rgba(0, 0, 0, 0.15);\n",
              "      filter: drop-shadow(0px 1px 2px rgba(0, 0, 0, 0.3));\n",
              "      fill: #FFFFFF;\n",
              "    }\n",
              "  </style>\n",
              "\n",
              "      <script>\n",
              "        const buttonEl =\n",
              "          document.querySelector('#df-cf185116-92f5-4e46-bc32-c406a8554d40 button.colab-df-convert');\n",
              "        buttonEl.style.display =\n",
              "          google.colab.kernel.accessAllowed ? 'block' : 'none';\n",
              "\n",
              "        async function convertToInteractive(key) {\n",
              "          const element = document.querySelector('#df-cf185116-92f5-4e46-bc32-c406a8554d40');\n",
              "          const dataTable =\n",
              "            await google.colab.kernel.invokeFunction('convertToInteractive',\n",
              "                                                     [key], {});\n",
              "          if (!dataTable) return;\n",
              "\n",
              "          const docLinkHtml = 'Like what you see? Visit the ' +\n",
              "            '<a target=\"_blank\" href=https://colab.research.google.com/notebooks/data_table.ipynb>data table notebook</a>'\n",
              "            + ' to learn more about interactive tables.';\n",
              "          element.innerHTML = '';\n",
              "          dataTable['output_type'] = 'display_data';\n",
              "          await google.colab.output.renderOutput(dataTable, element);\n",
              "          const docLink = document.createElement('div');\n",
              "          docLink.innerHTML = docLinkHtml;\n",
              "          element.appendChild(docLink);\n",
              "        }\n",
              "      </script>\n",
              "    </div>\n",
              "  </div>\n",
              "  "
            ]
          },
          "metadata": {},
          "execution_count": 3
        }
      ]
    },
    {
      "cell_type": "code",
      "source": [
        "data.sentiment = pd.Series(np.where(data.sentiment == 'positive', 1, 0), data.index)"
      ],
      "metadata": {
        "id": "aEoU2CTPpzIy"
      },
      "execution_count": null,
      "outputs": []
    },
    {
      "cell_type": "code",
      "source": [
        "data['sentiment'].value_counts().plot(kind='bar')\n",
        "plt.xlabel('Sentiment')\n",
        "plt.ylabel('Frequency')\n",
        "plt.title('Data Division')\n",
        "plt.show()"
      ],
      "metadata": {
        "colab": {
          "base_uri": "https://localhost:8080/",
          "height": 292
        },
        "id": "ybmsQSaIp4b8",
        "outputId": "2f53f11a-f1b5-41ce-e076-49941f5dd408"
      },
      "execution_count": null,
      "outputs": [
        {
          "output_type": "display_data",
          "data": {
            "text/plain": [
              "<Figure size 432x288 with 1 Axes>"
            ],
            "image/png": "[encoded data removed]"
          },
          "metadata": {
            "needs_background": "light"
          }
        }
      ]
    },
    {
      "cell_type": "code",
      "source": [
        "import nltk\n",
        "import re\n",
        "nltk.download('punkt')"
      ],
      "metadata": {
        "colab": {
          "base_uri": "https://localhost:8080/"
        },
        "id": "K-6j_WhwsWa-",
        "outputId": "470f5ca9-fd5c-4c60-ed01-949ecbef57e3"
      },
      "execution_count": null,
      "outputs": [
        {
          "output_type": "stream",
          "name": "stderr",
          "text": [
            "[nltk_data] Downloading package punkt to /root/nltk_data...\n",
            "[nltk_data]   Unzipping tokenizers/punkt.zip.\n"
          ]
        },
        {
          "output_type": "execute_result",
          "data": {
            "text/plain": [
              "True"
            ]
          },
          "metadata": {},
          "execution_count": 6
        }
      ]
    },
    {
      "cell_type": "code",
      "source": [
        "pos_df = data[data['sentiment']==1]\n",
        "neg_df = data[data['sentiment']==0]\n",
        "## Sorting the dataframe in descending order to view the logest strings\n",
        "pos_df = pos_df.sort_values(by='review', ascending = False)\n",
        "neg_df = neg_df.sort_values(by='review', ascending = False)"
      ],
      "metadata": {
        "id": "dYttBC6csa2V"
      },
      "execution_count": null,
      "outputs": []
    },
    {
      "cell_type": "code",
      "source": [
        "print(len(pos_df))"
      ],
      "metadata": {
        "colab": {
          "base_uri": "https://localhost:8080/"
        },
        "id": "XcveBL2Csiss",
        "outputId": "cd20f3a8-0869-4db6-d060-6d04b34bd181"
      },
      "execution_count": null,
      "outputs": [
        {
          "output_type": "stream",
          "name": "stdout",
          "text": [
            "25000\n"
          ]
        }
      ]
    },
    {
      "cell_type": "markdown",
      "source": [
        "Need to create a balanced dataset for positive and negative reviews of 1000 reviews for each"
      ],
      "metadata": {
        "id": "JjEusr5Dsqqt"
      }
    },
    {
      "cell_type": "code",
      "source": [
        "pos_first1000 = pos_df[:1000]\n",
        "neg_first1000 = neg_df[:1000]"
      ],
      "metadata": {
        "id": "Td7xL2lUspyc"
      },
      "execution_count": null,
      "outputs": []
    },
    {
      "cell_type": "code",
      "source": [
        "newdata = pd.concat([pos_first1000, neg_first1000], ignore_index=True, sort=False)\n",
        "newdata.rename(columns={\"review\": \"words\"}, inplace=True)\n",
        "newdata.head()"
      ],
      "metadata": {
        "colab": {
          "base_uri": "https://localhost:8080/",
          "height": 206
        },
        "id": "8CSE0mIvszHs",
        "outputId": "def17642-8b21-4b81-8f09-70bccdaed621"
      },
      "execution_count": null,
      "outputs": [
        {
          "output_type": "execute_result",
          "data": {
            "text/plain": [
              "                                               words  sentiment\n",
              "0  ý thýnk uzak ýs the one of the best films of a...          1\n",
              "1      Film auteur Stephan Woloszczuk explores th...          1\n",
              "2  ~~I was able to see this movie yesterday morni...          1\n",
              "3  {Possible spoilers coming up... you've been fo...          1\n",
              "4  zero day is based of columbine high school mas...          1"
            ],
            "text/html": [
              "\n",
              "  <div id=\"df-9f0a2e98-bba3-4011-ba74-bc2dba7ff870\">\n",
              "    <div class=\"colab-df-container\">\n",
              "      <div>\n",
              "<style scoped>\n",
              "    .dataframe tbody tr th:only-of-type {\n",
              "        vertical-align: middle;\n",
              "    }\n",
              "\n",
              "    .dataframe tbody tr th {\n",
              "        vertical-align: top;\n",
              "    }\n",
              "\n",
              "    .dataframe thead th {\n",
              "        text-align: right;\n",
              "    }\n",
              "</style>\n",
              "<table border=\"1\" class=\"dataframe\">\n",
              "  <thead>\n",
              "    <tr style=\"text-align: right;\">\n",
              "      <th></th>\n",
              "      <th>words</th>\n",
              "      <th>sentiment</th>\n",
              "    </tr>\n",
              "  </thead>\n",
              "  <tbody>\n",
              "    <tr>\n",
              "      <th>0</th>\n",
              "      <td>ý thýnk uzak ýs the one of the best films of a...</td>\n",
              "      <td>1</td>\n",
              "    </tr>\n",
              "    <tr>\n",
              "      <th>1</th>\n",
              "      <td>Film auteur Stephan Woloszczuk explores th...</td>\n",
              "      <td>1</td>\n",
              "    </tr>\n",
              "    <tr>\n",
              "      <th>2</th>\n",
              "      <td>~~I was able to see this movie yesterday morni...</td>\n",
              "      <td>1</td>\n",
              "    </tr>\n",
              "    <tr>\n",
              "      <th>3</th>\n",
              "      <td>{Possible spoilers coming up... you've been fo...</td>\n",
              "      <td>1</td>\n",
              "    </tr>\n",
              "    <tr>\n",
              "      <th>4</th>\n",
              "      <td>zero day is based of columbine high school mas...</td>\n",
              "      <td>1</td>\n",
              "    </tr>\n",
              "  </tbody>\n",
              "</table>\n",
              "</div>\n",
              "      <button class=\"colab-df-convert\" onclick=\"convertToInteractive('df-9f0a2e98-bba3-4011-ba74-bc2dba7ff870')\"\n",
              "              title=\"Convert this dataframe to an interactive table.\"\n",
              "              style=\"display:none;\">\n",
              "        \n",
              "  <svg xmlns=\"http://www.w3.org/2000/svg\" height=\"24px\"viewBox=\"0 0 24 24\"\n",
              "       width=\"24px\">\n",
              "    <path d=\"M0 0h24v24H0V0z\" fill=\"none\"/>\n",
              "    <path d=\"M18.56 5.44l.94 2.06.94-2.06 2.06-.94-2.06-.94-.94-2.06-.94 2.06-2.06.94zm-11 1L8.5 8.5l.94-2.06 2.06-.94-2.06-.94L8.5 2.5l-.94 2.06-2.06.94zm10 10l.94 2.06.94-2.06 2.06-.94-2.06-.94-.94-2.06-.94 2.06-2.06.94z\"/><path d=\"M17.41 7.96l-1.37-1.37c-.4-.4-.92-.59-1.43-.59-.52 0-1.04.2-1.43.59L10.3 9.45l-7.72 7.72c-.78.78-.78 2.05 0 2.83L4 21.41c.39.39.9.59 1.41.59.51 0 1.02-.2 1.41-.59l7.78-7.78 2.81-2.81c.8-.78.8-2.07 0-2.86zM5.41 20L4 18.59l7.72-7.72 1.47 1.35L5.41 20z\"/>\n",
              "  </svg>\n",
              "      </button>\n",
              "      \n",
              "  <style>\n",
              "    .colab-df-container {\n",
              "      display:flex;\n",
              "      flex-wrap:wrap;\n",
              "      gap: 12px;\n",
              "    }\n",
              "\n",
              "    .colab-df-convert {\n",
              "      background-color: #E8F0FE;\n",
              "      border: none;\n",
              "      border-radius: 50%;\n",
              "      cursor: pointer;\n",
              "      display: none;\n",
              "      fill: #1967D2;\n",
              "      height: 32px;\n",
              "      padding: 0 0 0 0;\n",
              "      width: 32px;\n",
              "    }\n",
              "\n",
              "    .colab-df-convert:hover {\n",
              "      background-color: #E2EBFA;\n",
              "      box-shadow: 0px 1px 2px rgba(60, 64, 67, 0.3), 0px 1px 3px 1px rgba(60, 64, 67, 0.15);\n",
              "      fill: #174EA6;\n",
              "    }\n",
              "\n",
              "    [theme=dark] .colab-df-convert {\n",
              "      background-color: #3B4455;\n",
              "      fill: #D2E3FC;\n",
              "    }\n",
              "\n",
              "    [theme=dark] .colab-df-convert:hover {\n",
              "      background-color: #434B5C;\n",
              "      box-shadow: 0px 1px 3px 1px rgba(0, 0, 0, 0.15);\n",
              "      filter: drop-shadow(0px 1px 2px rgba(0, 0, 0, 0.3));\n",
              "      fill: #FFFFFF;\n",
              "    }\n",
              "  </style>\n",
              "\n",
              "      <script>\n",
              "        const buttonEl =\n",
              "          document.querySelector('#df-9f0a2e98-bba3-4011-ba74-bc2dba7ff870 button.colab-df-convert');\n",
              "        buttonEl.style.display =\n",
              "          google.colab.kernel.accessAllowed ? 'block' : 'none';\n",
              "\n",
              "        async function convertToInteractive(key) {\n",
              "          const element = document.querySelector('#df-9f0a2e98-bba3-4011-ba74-bc2dba7ff870');\n",
              "          const dataTable =\n",
              "            await google.colab.kernel.invokeFunction('convertToInteractive',\n",
              "                                                     [key], {});\n",
              "          if (!dataTable) return;\n",
              "\n",
              "          const docLinkHtml = 'Like what you see? Visit the ' +\n",
              "            '<a target=\"_blank\" href=https://colab.research.google.com/notebooks/data_table.ipynb>data table notebook</a>'\n",
              "            + ' to learn more about interactive tables.';\n",
              "          element.innerHTML = '';\n",
              "          dataTable['output_type'] = 'display_data';\n",
              "          await google.colab.output.renderOutput(dataTable, element);\n",
              "          const docLink = document.createElement('div');\n",
              "          docLink.innerHTML = docLinkHtml;\n",
              "          element.appendChild(docLink);\n",
              "        }\n",
              "      </script>\n",
              "    </div>\n",
              "  </div>\n",
              "  "
            ]
          },
          "metadata": {},
          "execution_count": 10
        }
      ]
    },
    {
      "cell_type": "markdown",
      "source": [
        "\n",
        "\n",
        "Text Processing\n",
        "\n",
        "The model that we intend to use would be an attention model so we don't want to remove any data that would enable the model to predict with accuracy. So we will be performing a broad text cleaning without any lemmatization or removal of stop words since these may be critical to mapping out the sentiment expressed. The following steps will be performed on the review text:\n",
        "\n",
        "1. Conversion to Lower Case \n",
        "\n",
        "2. Removal of delimiters \n",
        "\n",
        "3. Removal of any links that may be pushed into the reviews \n",
        "\n",
        "4. Removal of any special characters that can not essentially determine the sentiment"
      ],
      "metadata": {
        "id": "SVcD8UlJs44F"
      }
    },
    {
      "cell_type": "code",
      "source": [
        "# function to clean the text following the above mention steps\n",
        "def clean_review(review):\n",
        "  # Converting to lower case\n",
        "  review = review.lower()\n",
        "  # removing delimters and tokenizing the text\n",
        "  review = re.sub('<.*?>', '', review) \n",
        "  review_tok = nltk.tokenize.word_tokenize(review)\n",
        "\n",
        "  ## Removing Links\n",
        "  review_tok = [ t for t in review_tok if not t.startswith(\"http://\") and not t.startswith(\"https://\")]\n",
        "\n",
        "  # Removing special characters\n",
        "  review_tok = [t.lstrip('@') for t in review_tok]\n",
        "  review_tok = [t.lstrip('#') for t in review_tok]\n",
        "  review_tok = [t.lstrip('/') for t in review_tok]\n",
        "\n",
        "  # Rejoining the tokens to sentences/paras\n",
        "  cleaned_review = ' '.join(review_tok)\n",
        "  return cleaned_review\n",
        "\n",
        "\n",
        "## CLeaning the review and then overwriting the existing dataframe\n",
        "t = []\n",
        "for i in newdata.words:\n",
        "  t.append(clean_review(i))\n",
        "\n",
        "newdata.drop('words', inplace= True, axis = 1)\n",
        "newdata['words'] = t"
      ],
      "metadata": {
        "id": "fW2jmk8ytAev"
      },
      "execution_count": null,
      "outputs": []
    },
    {
      "cell_type": "code",
      "source": [
        "shuffled = newdata.sample(frac=1)\n",
        "newdata = shuffled\n",
        "newdata.head()"
      ],
      "metadata": {
        "id": "r3E-Bi3PtPN_",
        "outputId": "ff95be56-45a4-49de-91db-ba5899288ba0",
        "colab": {
          "base_uri": "https://localhost:8080/",
          "height": 206
        }
      },
      "execution_count": null,
      "outputs": [
        {
          "output_type": "execute_result",
          "data": {
            "text/plain": [
              "      sentiment                                              words\n",
              "85            1  this was a fantastic episode . i saw a clip fr...\n",
              "1950          0  years ago `` ma2412 '' the feature film tried ...\n",
              "247           1  one of the funnest mario 's i 've ever played ...\n",
              "809           1  yes , it 's not a great cinematic achievement ...\n",
              "1137          0  this movie is so bad . but its so bad that i w..."
            ],
            "text/html": [
              "\n",
              "  <div id=\"df-f8bd14c4-4b3b-4f3a-8e7f-8136e74c7bd2\">\n",
              "    <div class=\"colab-df-container\">\n",
              "      <div>\n",
              "<style scoped>\n",
              "    .dataframe tbody tr th:only-of-type {\n",
              "        vertical-align: middle;\n",
              "    }\n",
              "\n",
              "    .dataframe tbody tr th {\n",
              "        vertical-align: top;\n",
              "    }\n",
              "\n",
              "    .dataframe thead th {\n",
              "        text-align: right;\n",
              "    }\n",
              "</style>\n",
              "<table border=\"1\" class=\"dataframe\">\n",
              "  <thead>\n",
              "    <tr style=\"text-align: right;\">\n",
              "      <th></th>\n",
              "      <th>sentiment</th>\n",
              "      <th>words</th>\n",
              "    </tr>\n",
              "  </thead>\n",
              "  <tbody>\n",
              "    <tr>\n",
              "      <th>85</th>\n",
              "      <td>1</td>\n",
              "      <td>this was a fantastic episode . i saw a clip fr...</td>\n",
              "    </tr>\n",
              "    <tr>\n",
              "      <th>1950</th>\n",
              "      <td>0</td>\n",
              "      <td>years ago `` ma2412 '' the feature film tried ...</td>\n",
              "    </tr>\n",
              "    <tr>\n",
              "      <th>247</th>\n",
              "      <td>1</td>\n",
              "      <td>one of the funnest mario 's i 've ever played ...</td>\n",
              "    </tr>\n",
              "    <tr>\n",
              "      <th>809</th>\n",
              "      <td>1</td>\n",
              "      <td>yes , it 's not a great cinematic achievement ...</td>\n",
              "    </tr>\n",
              "    <tr>\n",
              "      <th>1137</th>\n",
              "      <td>0</td>\n",
              "      <td>this movie is so bad . but its so bad that i w...</td>\n",
              "    </tr>\n",
              "  </tbody>\n",
              "</table>\n",
              "</div>\n",
              "      <button class=\"colab-df-convert\" onclick=\"convertToInteractive('df-f8bd14c4-4b3b-4f3a-8e7f-8136e74c7bd2')\"\n",
              "              title=\"Convert this dataframe to an interactive table.\"\n",
              "              style=\"display:none;\">\n",
              "        \n",
              "  <svg xmlns=\"http://www.w3.org/2000/svg\" height=\"24px\"viewBox=\"0 0 24 24\"\n",
              "       width=\"24px\">\n",
              "    <path d=\"M0 0h24v24H0V0z\" fill=\"none\"/>\n",
              "    <path d=\"M18.56 5.44l.94 2.06.94-2.06 2.06-.94-2.06-.94-.94-2.06-.94 2.06-2.06.94zm-11 1L8.5 8.5l.94-2.06 2.06-.94-2.06-.94L8.5 2.5l-.94 2.06-2.06.94zm10 10l.94 2.06.94-2.06 2.06-.94-2.06-.94-.94-2.06-.94 2.06-2.06.94z\"/><path d=\"M17.41 7.96l-1.37-1.37c-.4-.4-.92-.59-1.43-.59-.52 0-1.04.2-1.43.59L10.3 9.45l-7.72 7.72c-.78.78-.78 2.05 0 2.83L4 21.41c.39.39.9.59 1.41.59.51 0 1.02-.2 1.41-.59l7.78-7.78 2.81-2.81c.8-.78.8-2.07 0-2.86zM5.41 20L4 18.59l7.72-7.72 1.47 1.35L5.41 20z\"/>\n",
              "  </svg>\n",
              "      </button>\n",
              "      \n",
              "  <style>\n",
              "    .colab-df-container {\n",
              "      display:flex;\n",
              "      flex-wrap:wrap;\n",
              "      gap: 12px;\n",
              "    }\n",
              "\n",
              "    .colab-df-convert {\n",
              "      background-color: #E8F0FE;\n",
              "      border: none;\n",
              "      border-radius: 50%;\n",
              "      cursor: pointer;\n",
              "      display: none;\n",
              "      fill: #1967D2;\n",
              "      height: 32px;\n",
              "      padding: 0 0 0 0;\n",
              "      width: 32px;\n",
              "    }\n",
              "\n",
              "    .colab-df-convert:hover {\n",
              "      background-color: #E2EBFA;\n",
              "      box-shadow: 0px 1px 2px rgba(60, 64, 67, 0.3), 0px 1px 3px 1px rgba(60, 64, 67, 0.15);\n",
              "      fill: #174EA6;\n",
              "    }\n",
              "\n",
              "    [theme=dark] .colab-df-convert {\n",
              "      background-color: #3B4455;\n",
              "      fill: #D2E3FC;\n",
              "    }\n",
              "\n",
              "    [theme=dark] .colab-df-convert:hover {\n",
              "      background-color: #434B5C;\n",
              "      box-shadow: 0px 1px 3px 1px rgba(0, 0, 0, 0.15);\n",
              "      filter: drop-shadow(0px 1px 2px rgba(0, 0, 0, 0.3));\n",
              "      fill: #FFFFFF;\n",
              "    }\n",
              "  </style>\n",
              "\n",
              "      <script>\n",
              "        const buttonEl =\n",
              "          document.querySelector('#df-f8bd14c4-4b3b-4f3a-8e7f-8136e74c7bd2 button.colab-df-convert');\n",
              "        buttonEl.style.display =\n",
              "          google.colab.kernel.accessAllowed ? 'block' : 'none';\n",
              "\n",
              "        async function convertToInteractive(key) {\n",
              "          const element = document.querySelector('#df-f8bd14c4-4b3b-4f3a-8e7f-8136e74c7bd2');\n",
              "          const dataTable =\n",
              "            await google.colab.kernel.invokeFunction('convertToInteractive',\n",
              "                                                     [key], {});\n",
              "          if (!dataTable) return;\n",
              "\n",
              "          const docLinkHtml = 'Like what you see? Visit the ' +\n",
              "            '<a target=\"_blank\" href=https://colab.research.google.com/notebooks/data_table.ipynb>data table notebook</a>'\n",
              "            + ' to learn more about interactive tables.';\n",
              "          element.innerHTML = '';\n",
              "          dataTable['output_type'] = 'display_data';\n",
              "          await google.colab.output.renderOutput(dataTable, element);\n",
              "          const docLink = document.createElement('div');\n",
              "          docLink.innerHTML = docLinkHtml;\n",
              "          element.appendChild(docLink);\n",
              "        }\n",
              "      </script>\n",
              "    </div>\n",
              "  </div>\n",
              "  "
            ]
          },
          "metadata": {},
          "execution_count": 15
        }
      ]
    },
    {
      "cell_type": "code",
      "source": [
        "## Installing Required Packages\n",
        "!pip install transformers tensorflow datasets"
      ],
      "metadata": {
        "execution": {
          "iopub.status.busy": "2023-02-25T14:58:31.689207Z",
          "iopub.execute_input": "2023-02-25T14:58:31.689769Z",
          "iopub.status.idle": "2023-02-25T14:58:31.721305Z",
          "shell.execute_reply.started": "2023-02-25T14:58:31.689656Z",
          "shell.execute_reply": "2023-02-25T14:58:31.720194Z"
        },
        "trusted": true,
        "colab": {
          "base_uri": "https://localhost:8080/"
        },
        "id": "uZ3K8AFszy2v",
        "outputId": "6f87ffa6-2fea-4096-d40e-55208f7c3759"
      },
      "execution_count": null,
      "outputs": [
        {
          "output_type": "stream",
          "name": "stdout",
          "text": [
            "Looking in indexes: https://pypi.org/simple, https://us-python.pkg.dev/colab-wheels/public/simple/\n",
            "Collecting transformers\n",
            "  Downloading transformers-4.26.1-py3-none-any.whl (6.3 MB)\n",
            "\u001b[2K     \u001b[90m━━━━━━━━━━━━━━━━━━━━━━━━━━━━━━━━━━━━━━━━\u001b[0m \u001b[32m6.3/6.3 MB\u001b[0m \u001b[31m42.2 MB/s\u001b[0m eta \u001b[36m0:00:00\u001b[0m\n",
            "\u001b[?25hRequirement already satisfied: tensorflow in /usr/local/lib/python3.9/dist-packages (2.11.0)\n",
            "Collecting datasets\n",
            "  Downloading datasets-2.10.1-py3-none-any.whl (469 kB)\n",
            "\u001b[2K     \u001b[90m━━━━━━━━━━━━━━━━━━━━━━━━━━━━━━━━━━━━━━\u001b[0m \u001b[32m469.0/469.0 KB\u001b[0m \u001b[31m39.4 MB/s\u001b[0m eta \u001b[36m0:00:00\u001b[0m\n",
            "\u001b[?25hCollecting huggingface-hub<1.0,>=0.11.0\n",
            "  Downloading huggingface_hub-0.13.2-py3-none-any.whl (199 kB)\n",
            "\u001b[2K     \u001b[90m━━━━━━━━━━━━━━━━━━━━━━━━━━━━━━━━━━━━━━\u001b[0m \u001b[32m199.2/199.2 KB\u001b[0m \u001b[31m26.7 MB/s\u001b[0m eta \u001b[36m0:00:00\u001b[0m\n",
            "\u001b[?25hCollecting tokenizers!=0.11.3,<0.14,>=0.11.1\n",
            "  Downloading tokenizers-0.13.2-cp39-cp39-manylinux_2_17_x86_64.manylinux2014_x86_64.whl (7.6 MB)\n",
            "\u001b[2K     \u001b[90m━━━━━━━━━━━━━━━━━━━━━━━━━━━━━━━━━━━━━━━━\u001b[0m \u001b[32m7.6/7.6 MB\u001b[0m \u001b[31m91.7 MB/s\u001b[0m eta \u001b[36m0:00:00\u001b[0m\n",
            "\u001b[?25hRequirement already satisfied: pyyaml>=5.1 in /usr/local/lib/python3.9/dist-packages (from transformers) (6.0)\n",
            "Requirement already satisfied: regex!=2019.12.17 in /usr/local/lib/python3.9/dist-packages (from transformers) (2022.6.2)\n",
            "Requirement already satisfied: requests in /usr/local/lib/python3.9/dist-packages (from transformers) (2.25.1)\n",
            "Requirement already satisfied: tqdm>=4.27 in /usr/local/lib/python3.9/dist-packages (from transformers) (4.65.0)\n",
            "Requirement already satisfied: filelock in /usr/local/lib/python3.9/dist-packages (from transformers) (3.9.0)\n",
            "Requirement already satisfied: packaging>=20.0 in /usr/local/lib/python3.9/dist-packages (from transformers) (23.0)\n",
            "Requirement already satisfied: numpy>=1.17 in /usr/local/lib/python3.9/dist-packages (from transformers) (1.22.4)\n",
            "Requirement already satisfied: opt-einsum>=2.3.2 in /usr/local/lib/python3.9/dist-packages (from tensorflow) (3.3.0)\n",
            "Requirement already satisfied: tensorflow-io-gcs-filesystem>=0.23.1 in /usr/local/lib/python3.9/dist-packages (from tensorflow) (0.31.0)\n",
            "Requirement already satisfied: h5py>=2.9.0 in /usr/local/lib/python3.9/dist-packages (from tensorflow) (3.1.0)\n",
            "Requirement already satisfied: tensorboard<2.12,>=2.11 in /usr/local/lib/python3.9/dist-packages (from tensorflow) (2.11.2)\n",
            "Requirement already satisfied: typing-extensions>=3.6.6 in /usr/local/lib/python3.9/dist-packages (from tensorflow) (4.5.0)\n",
            "Requirement already satisfied: absl-py>=1.0.0 in /usr/local/lib/python3.9/dist-packages (from tensorflow) (1.4.0)\n",
            "Requirement already satisfied: google-pasta>=0.1.1 in /usr/local/lib/python3.9/dist-packages (from tensorflow) (0.2.0)\n",
            "Requirement already satisfied: protobuf<3.20,>=3.9.2 in /usr/local/lib/python3.9/dist-packages (from tensorflow) (3.19.6)\n",
            "Requirement already satisfied: astunparse>=1.6.0 in /usr/local/lib/python3.9/dist-packages (from tensorflow) (1.6.3)\n",
            "Requirement already satisfied: gast<=0.4.0,>=0.2.1 in /usr/local/lib/python3.9/dist-packages (from tensorflow) (0.4.0)\n",
            "Requirement already satisfied: keras<2.12,>=2.11.0 in /usr/local/lib/python3.9/dist-packages (from tensorflow) (2.11.0)\n",
            "Requirement already satisfied: setuptools in /usr/local/lib/python3.9/dist-packages (from tensorflow) (63.4.3)\n",
            "Requirement already satisfied: libclang>=13.0.0 in /usr/local/lib/python3.9/dist-packages (from tensorflow) (15.0.6.1)\n",
            "Requirement already satisfied: six>=1.12.0 in /usr/local/lib/python3.9/dist-packages (from tensorflow) (1.15.0)\n",
            "Requirement already satisfied: wrapt>=1.11.0 in /usr/local/lib/python3.9/dist-packages (from tensorflow) (1.15.0)\n",
            "Requirement already satisfied: flatbuffers>=2.0 in /usr/local/lib/python3.9/dist-packages (from tensorflow) (23.3.3)\n",
            "Requirement already satisfied: tensorflow-estimator<2.12,>=2.11.0 in /usr/local/lib/python3.9/dist-packages (from tensorflow) (2.11.0)\n",
            "Requirement already satisfied: grpcio<2.0,>=1.24.3 in /usr/local/lib/python3.9/dist-packages (from tensorflow) (1.51.3)\n",
            "Requirement already satisfied: termcolor>=1.1.0 in /usr/local/lib/python3.9/dist-packages (from tensorflow) (2.2.0)\n",
            "Requirement already satisfied: pandas in /usr/local/lib/python3.9/dist-packages (from datasets) (1.4.4)\n",
            "Collecting aiohttp\n",
            "  Downloading aiohttp-3.8.4-cp39-cp39-manylinux_2_17_x86_64.manylinux2014_x86_64.whl (1.0 MB)\n",
            "\u001b[2K     \u001b[90m━━━━━━━━━━━━━━━━━━━━━━━━━━━━━━━━━━━━━━━━\u001b[0m \u001b[32m1.0/1.0 MB\u001b[0m \u001b[31m56.8 MB/s\u001b[0m eta \u001b[36m0:00:00\u001b[0m\n",
            "\u001b[?25hCollecting xxhash\n",
            "  Downloading xxhash-3.2.0-cp39-cp39-manylinux_2_17_x86_64.manylinux2014_x86_64.whl (212 kB)\n",
            "\u001b[2K     \u001b[90m━━━━━━━━━━━━━━━━━━━━━━━━━━━━━━━━━━━━━━\u001b[0m \u001b[32m212.2/212.2 KB\u001b[0m \u001b[31m26.9 MB/s\u001b[0m eta \u001b[36m0:00:00\u001b[0m\n",
            "\u001b[?25hCollecting responses<0.19\n",
            "  Downloading responses-0.18.0-py3-none-any.whl (38 kB)\n",
            "Collecting dill<0.3.7,>=0.3.0\n",
            "  Downloading dill-0.3.6-py3-none-any.whl (110 kB)\n",
            "\u001b[2K     \u001b[90m━━━━━━━━━━━━━━━━━━━━━━━━━━━━━━━━━━━━━━\u001b[0m \u001b[32m110.5/110.5 KB\u001b[0m \u001b[31m13.4 MB/s\u001b[0m eta \u001b[36m0:00:00\u001b[0m\n",
            "\u001b[?25hCollecting multiprocess\n",
            "  Downloading multiprocess-0.70.14-py39-none-any.whl (132 kB)\n",
            "\u001b[2K     \u001b[90m━━━━━━━━━━━━━━━━━━━━━━━━━━━━━━━━━━━━━━\u001b[0m \u001b[32m132.9/132.9 KB\u001b[0m \u001b[31m16.0 MB/s\u001b[0m eta \u001b[36m0:00:00\u001b[0m\n",
            "\u001b[?25hRequirement already satisfied: pyarrow>=6.0.0 in /usr/local/lib/python3.9/dist-packages (from datasets) (9.0.0)\n",
            "Requirement already satisfied: fsspec[http]>=2021.11.1 in /usr/local/lib/python3.9/dist-packages (from datasets) (2023.3.0)\n",
            "Requirement already satisfied: wheel<1.0,>=0.23.0 in /usr/local/lib/python3.9/dist-packages (from astunparse>=1.6.0->tensorflow) (0.38.4)\n",
            "Collecting async-timeout<5.0,>=4.0.0a3\n",
            "  Downloading async_timeout-4.0.2-py3-none-any.whl (5.8 kB)\n",
            "Collecting aiosignal>=1.1.2\n",
            "  Downloading aiosignal-1.3.1-py3-none-any.whl (7.6 kB)\n",
            "Requirement already satisfied: attrs>=17.3.0 in /usr/local/lib/python3.9/dist-packages (from aiohttp->datasets) (22.2.0)\n",
            "Collecting multidict<7.0,>=4.5\n",
            "  Downloading multidict-6.0.4-cp39-cp39-manylinux_2_17_x86_64.manylinux2014_x86_64.whl (114 kB)\n",
            "\u001b[2K     \u001b[90m━━━━━━━━━━━━━━━━━━━━━━━━━━━━━━━━━━━━━━\u001b[0m \u001b[32m114.2/114.2 KB\u001b[0m \u001b[31m15.7 MB/s\u001b[0m eta \u001b[36m0:00:00\u001b[0m\n",
            "\u001b[?25hCollecting yarl<2.0,>=1.0\n",
            "  Downloading yarl-1.8.2-cp39-cp39-manylinux_2_17_x86_64.manylinux2014_x86_64.whl (264 kB)\n",
            "\u001b[2K     \u001b[90m━━━━━━━━━━━━━━━━━━━━━━━━━━━━━━━━━━━━━━\u001b[0m \u001b[32m264.6/264.6 KB\u001b[0m \u001b[31m18.8 MB/s\u001b[0m eta \u001b[36m0:00:00\u001b[0m\n",
            "\u001b[?25hCollecting frozenlist>=1.1.1\n",
            "  Downloading frozenlist-1.3.3-cp39-cp39-manylinux_2_5_x86_64.manylinux1_x86_64.manylinux_2_17_x86_64.manylinux2014_x86_64.whl (158 kB)\n",
            "\u001b[2K     \u001b[90m━━━━━━━━━━━━━━━━━━━━━━━━━━━━━━━━━━━━━━\u001b[0m \u001b[32m158.8/158.8 KB\u001b[0m \u001b[31m23.6 MB/s\u001b[0m eta \u001b[36m0:00:00\u001b[0m\n",
            "\u001b[?25hCollecting charset-normalizer<4.0,>=2.0\n",
            "  Downloading charset_normalizer-3.1.0-cp39-cp39-manylinux_2_17_x86_64.manylinux2014_x86_64.whl (199 kB)\n",
            "\u001b[2K     \u001b[90m━━━━━━━━━━━━━━━━━━━━━━━━━━━━━━━━━━━━━━\u001b[0m \u001b[32m199.2/199.2 KB\u001b[0m \u001b[31m26.2 MB/s\u001b[0m eta \u001b[36m0:00:00\u001b[0m\n",
            "\u001b[?25hRequirement already satisfied: chardet<5,>=3.0.2 in /usr/local/lib/python3.9/dist-packages (from requests->transformers) (4.0.0)\n",
            "Requirement already satisfied: idna<3,>=2.5 in /usr/local/lib/python3.9/dist-packages (from requests->transformers) (2.10)\n",
            "Requirement already satisfied: urllib3<1.27,>=1.21.1 in /usr/local/lib/python3.9/dist-packages (from requests->transformers) (1.26.15)\n",
            "Requirement already satisfied: certifi>=2017.4.17 in /usr/local/lib/python3.9/dist-packages (from requests->transformers) (2022.12.7)\n",
            "Requirement already satisfied: markdown>=2.6.8 in /usr/local/lib/python3.9/dist-packages (from tensorboard<2.12,>=2.11->tensorflow) (3.4.1)\n",
            "Requirement already satisfied: tensorboard-plugin-wit>=1.6.0 in /usr/local/lib/python3.9/dist-packages (from tensorboard<2.12,>=2.11->tensorflow) (1.8.1)\n",
            "Requirement already satisfied: werkzeug>=1.0.1 in /usr/local/lib/python3.9/dist-packages (from tensorboard<2.12,>=2.11->tensorflow) (2.2.3)\n",
            "Requirement already satisfied: tensorboard-data-server<0.7.0,>=0.6.0 in /usr/local/lib/python3.9/dist-packages (from tensorboard<2.12,>=2.11->tensorflow) (0.6.1)\n",
            "Requirement already satisfied: google-auth<3,>=1.6.3 in /usr/local/lib/python3.9/dist-packages (from tensorboard<2.12,>=2.11->tensorflow) (2.16.2)\n",
            "Requirement already satisfied: google-auth-oauthlib<0.5,>=0.4.1 in /usr/local/lib/python3.9/dist-packages (from tensorboard<2.12,>=2.11->tensorflow) (0.4.6)\n",
            "Requirement already satisfied: python-dateutil>=2.8.1 in /usr/local/lib/python3.9/dist-packages (from pandas->datasets) (2.8.2)\n",
            "Requirement already satisfied: pytz>=2020.1 in /usr/local/lib/python3.9/dist-packages (from pandas->datasets) (2022.7.1)\n",
            "Requirement already satisfied: pyasn1-modules>=0.2.1 in /usr/local/lib/python3.9/dist-packages (from google-auth<3,>=1.6.3->tensorboard<2.12,>=2.11->tensorflow) (0.2.8)\n",
            "Requirement already satisfied: rsa<5,>=3.1.4 in /usr/local/lib/python3.9/dist-packages (from google-auth<3,>=1.6.3->tensorboard<2.12,>=2.11->tensorflow) (4.9)\n",
            "Requirement already satisfied: cachetools<6.0,>=2.0.0 in /usr/local/lib/python3.9/dist-packages (from google-auth<3,>=1.6.3->tensorboard<2.12,>=2.11->tensorflow) (5.3.0)\n",
            "Requirement already satisfied: requests-oauthlib>=0.7.0 in /usr/local/lib/python3.9/dist-packages (from google-auth-oauthlib<0.5,>=0.4.1->tensorboard<2.12,>=2.11->tensorflow) (1.3.1)\n",
            "Requirement already satisfied: importlib-metadata>=4.4 in /usr/local/lib/python3.9/dist-packages (from markdown>=2.6.8->tensorboard<2.12,>=2.11->tensorflow) (6.0.0)\n",
            "Requirement already satisfied: MarkupSafe>=2.1.1 in /usr/local/lib/python3.9/dist-packages (from werkzeug>=1.0.1->tensorboard<2.12,>=2.11->tensorflow) (2.1.2)\n",
            "Requirement already satisfied: zipp>=0.5 in /usr/local/lib/python3.9/dist-packages (from importlib-metadata>=4.4->markdown>=2.6.8->tensorboard<2.12,>=2.11->tensorflow) (3.15.0)\n",
            "Requirement already satisfied: pyasn1<0.5.0,>=0.4.6 in /usr/local/lib/python3.9/dist-packages (from pyasn1-modules>=0.2.1->google-auth<3,>=1.6.3->tensorboard<2.12,>=2.11->tensorflow) (0.4.8)\n",
            "Requirement already satisfied: oauthlib>=3.0.0 in /usr/local/lib/python3.9/dist-packages (from requests-oauthlib>=0.7.0->google-auth-oauthlib<0.5,>=0.4.1->tensorboard<2.12,>=2.11->tensorflow) (3.2.2)\n",
            "Installing collected packages: tokenizers, xxhash, multidict, frozenlist, dill, charset-normalizer, async-timeout, yarl, responses, multiprocess, huggingface-hub, aiosignal, transformers, aiohttp, datasets\n",
            "Successfully installed aiohttp-3.8.4 aiosignal-1.3.1 async-timeout-4.0.2 charset-normalizer-3.1.0 datasets-2.10.1 dill-0.3.6 frozenlist-1.3.3 huggingface-hub-0.13.2 multidict-6.0.4 multiprocess-0.70.14 responses-0.18.0 tokenizers-0.13.2 transformers-4.26.1 xxhash-3.2.0 yarl-1.8.2\n"
          ]
        }
      ]
    },
    {
      "cell_type": "code",
      "source": [
        "import numpy as np\n",
        "import pandas as pd\n",
        "import os \n",
        "import matplotlib.pyplot as plt\n",
        "import seaborn as sns\n",
        "import re\n",
        "\n",
        "import tensorflow as tf\n",
        "\n",
        "import nltk\n",
        "import string\n",
        "\n",
        "from transformers import AutoTokenizer\n",
        "from datasets import Dataset\n",
        "from transformers import TFAutoModelForSequenceClassification, AutoModelForSequenceClassification\n",
        "from tensorflow.keras.optimizers import Adam\n",
        "from sklearn.metrics import accuracy_score , confusion_matrix , f1_score\n",
        "import json\n"
      ],
      "metadata": {
        "execution": {
          "iopub.status.busy": "2023-02-25T14:58:31.780019Z",
          "iopub.execute_input": "2023-02-25T14:58:31.780729Z",
          "iopub.status.idle": "2023-02-25T14:58:42.728944Z",
          "shell.execute_reply.started": "2023-02-25T14:58:31.780687Z",
          "shell.execute_reply": "2023-02-25T14:58:42.727655Z"
        },
        "trusted": true,
        "id": "2t17-WZmzy2z"
      },
      "execution_count": null,
      "outputs": []
    },
    {
      "cell_type": "markdown",
      "source": [
        "# 2. Summary\n",
        "\n",
        "The data is regarding the sentiment expressed by movie watchers on the famous site 'Imdb'. It basically conisists of two columns with the first one depicting the review written by the viewer and the second column depicting the sentiment classification of the expressed opinion which can be either as 'positive' or 'negative'. \n",
        "\n",
        "The data has a total of 50000 data points with variable lengths of the reviews. **The sentiment expressed makes it an essentially binary classification problem.**\n",
        "\n",
        "To predict the expressed sentiment, we will use Transfer Learning for the predictions. In the same regard, **a 'Roberta Model' has been selected due to his inherent optimization of the BERT alongwith a larger training corpus.** \n",
        "\n",
        "The biggest challenge that was found is that the length of the reviews is quite large on an average which in turn compromises the model accuracy to about considerably even with the model's ability to deal with a max length of 512. To counter this, multiple models were trained with a sequential reduction in the strings length to 128 which enabled us to have a **training accuracy of 94.91%, validation accuracy of 89.4% and test accuracy of 89.75%** with 3 epochs, which is markedly improved from the early results."
      ],
      "metadata": {
        "id": "OBt2wDm1zy22"
      }
    },
    {
      "cell_type": "markdown",
      "source": [
        "# 3. Exploratory Data Analysis\n",
        "\n",
        "After importing the data, an overview overview of the data was carried out. It was learnt that the sentiment was an object with string values, so these were changed to 0 and 1 with '0' indicating a negative review while '1' indicating a positve review.\n",
        "\n",
        "Subsequently, we checked for data balancing and found that the **data is perfectly balanced with 50% negative and 50% positive reviews**. We also checked for the lengths of the reviews and found the **higest review length to be '2911'** and **shortest review length to be '8'** with the **mean length of reviews to be '559' words**. \n",
        "\n",
        "We can observe by looking at a few reviews two main things, the first is that the data has been scraped but there still remain some unnecessary html tags which need to be removed. The second more important thing that we can imbue from just manually looking at the reviews and the review sizes that we got earlier that the **text size is quite large in most instances and , therefore, a Sequential Model might not be the best choice here due to the limitation of memory associated with them.**\n",
        "\n",
        "Based on our observation, we can proceed by keeping in view that we need a model that would be able to handle large text without any memory error. To do that, we can **make use of the tranformer models** that have recently shown to be quite effective. In this regard, we would be using **Transfer learning particularly the Roberta Model from Hugging Face library**."
      ],
      "metadata": {
        "id": "NnXlXV-tzy23"
      }
    },
    {
      "cell_type": "markdown",
      "source": [
        "## (a) Checking for Data Balancing"
      ],
      "metadata": {
        "id": "XOTJv8-uzy2_"
      }
    },
    {
      "cell_type": "markdown",
      "source": [
        "## (b) Approximating the length of reviews"
      ],
      "metadata": {
        "id": "0OvkpyK4zy3C"
      }
    },
    {
      "cell_type": "code",
      "source": [
        "#nltk.download('punkt')"
      ],
      "metadata": {
        "colab": {
          "base_uri": "https://localhost:8080/"
        },
        "id": "2RQWaDeM2_GE",
        "outputId": "acd9b85c-2706-471f-9b67-f82fc705ca08"
      },
      "execution_count": null,
      "outputs": [
        {
          "output_type": "stream",
          "name": "stderr",
          "text": [
            "[nltk_data] Downloading package punkt to /root/nltk_data...\n",
            "[nltk_data]   Unzipping tokenizers/punkt.zip.\n"
          ]
        },
        {
          "output_type": "execute_result",
          "data": {
            "text/plain": [
              "True"
            ]
          },
          "metadata": {},
          "execution_count": 13
        }
      ]
    },
    {
      "cell_type": "code",
      "source": [
        "#p = []\n",
        "#n = []\n",
        "#\n",
        "## 1. Looping over the entire dataset to convert each review to first tokens\n",
        "## 2. Counting number of words in each review\n",
        "## 3. Adding the word number and id to a separate list for positive and negative sentiment\n",
        "## 4. Converting the list of lists into a separate dataframe\n",
        "#for i in range(len(data.review)):\n",
        "#    temp = len(nltk.tokenize.word_tokenize(data.review[i]))\n",
        "#    if data.sentiment[i] == 0:\n",
        "#        n.append([temp,i])\n",
        "#    else:\n",
        "#        p.append([temp,i])\n",
        "#        \n",
        "#\n",
        "## Converting the list into 2 datframes for positive and negative review depicting word counts and idx\n",
        "#pos_df = pd.DataFrame(p , columns = ['words', 'id'])\n",
        "#neg_df = pd.DataFrame(n , columns = ['words' , 'id'])\n",
        "#\n",
        "## Sorting the dataframe in descending order to view the logest strings\n",
        "#pos_df = pos_df.sort_values(by='words', ascending = False)\n",
        "#neg_df = neg_df.sort_values(by='words', ascending = False)"
      ],
      "metadata": {
        "execution": {
          "iopub.status.busy": "2023-02-25T14:58:44.968324Z",
          "iopub.execute_input": "2023-02-25T14:58:44.969179Z",
          "iopub.status.idle": "2023-02-25T15:00:20.63786Z",
          "shell.execute_reply.started": "2023-02-25T14:58:44.969127Z",
          "shell.execute_reply": "2023-02-25T15:00:20.636511Z"
        },
        "trusted": true,
        "id": "wmKhiiznzy3C"
      },
      "execution_count": null,
      "outputs": []
    },
    {
      "cell_type": "code",
      "source": [
        "#print (f'The longest review is {len(nltk.tokenize.word_tokenize(data.review[40521]))} words long.')\n",
        "#print (f'The shortest review is {len(nltk.tokenize.word_tokenize(data.review[27521]))} words long.')\n",
        "#print (f'The mean review is {np.mean(pos_df.words+neg_df.words)} words long.')"
      ],
      "metadata": {
        "execution": {
          "iopub.status.busy": "2023-02-25T15:05:29.966886Z",
          "iopub.execute_input": "2023-02-25T15:05:29.967283Z",
          "iopub.status.idle": "2023-02-25T15:05:29.996215Z",
          "shell.execute_reply.started": "2023-02-25T15:05:29.96725Z",
          "shell.execute_reply": "2023-02-25T15:05:29.994905Z"
        },
        "trusted": true,
        "colab": {
          "base_uri": "https://localhost:8080/"
        },
        "id": "uvwYeXmAzy3E",
        "outputId": "714c20cf-4c23-41d0-a448-80cb0b22e3c3"
      },
      "execution_count": null,
      "outputs": [
        {
          "output_type": "stream",
          "name": "stdout",
          "text": [
            "The longest review is 2911 words long.\n",
            "The shortest review is 8 words long.\n",
            "The mean review is 558.96428 words long.\n"
          ]
        }
      ]
    },
    {
      "cell_type": "code",
      "source": [
        "## Making a barchart to visualize the lengths of the 10 longest reviews that are Positive\n",
        "pos_df[:10].plot(kind = 'bar', x = 'id' , y = 'words')\n",
        "plt.title('Positive Review Lengths')\n",
        "plt.xlabel('ID')\n",
        "plt.ylabel('Review Length')\n",
        "plt.show()"
      ],
      "metadata": {
        "execution": {
          "iopub.status.busy": "2023-02-25T13:30:54.945896Z",
          "iopub.execute_input": "2023-02-25T13:30:54.94632Z",
          "iopub.status.idle": "2023-02-25T13:30:55.183651Z",
          "shell.execute_reply.started": "2023-02-25T13:30:54.946286Z",
          "shell.execute_reply": "2023-02-25T13:30:55.182794Z"
        },
        "trusted": true,
        "colab": {
          "base_uri": "https://localhost:8080/",
          "height": 317
        },
        "id": "vcGtSAqazy3E",
        "outputId": "1f757274-e40b-4dfc-cf7d-8496cc51c6fe"
      },
      "execution_count": null,
      "outputs": [
        {
          "output_type": "display_data",
          "data": {
            "text/plain": [
              "<Figure size 432x288 with 1 Axes>"
            ],
            "image/png": "[encoded data removed]"
          },
          "metadata": {
            "needs_background": "light"
          }
        }
      ]
    },
    {
      "cell_type": "code",
      "source": [
        "## Making a barchart to visualize the lengths of the 10 longest reviews that are Negative\n",
        "neg_df[:10].plot(kind = 'bar', x = 'id' , y = 'words')\n",
        "plt.title('Negative Review Lengths')\n",
        "plt.xlabel('ID')\n",
        "plt.ylabel('Review Length')\n",
        "plt.show()"
      ],
      "metadata": {
        "execution": {
          "iopub.status.busy": "2023-02-25T13:30:55.185048Z",
          "iopub.execute_input": "2023-02-25T13:30:55.185385Z",
          "iopub.status.idle": "2023-02-25T13:30:55.424773Z",
          "shell.execute_reply.started": "2023-02-25T13:30:55.185351Z",
          "shell.execute_reply": "2023-02-25T13:30:55.423875Z"
        },
        "trusted": true,
        "colab": {
          "base_uri": "https://localhost:8080/",
          "height": 317
        },
        "id": "QJNQ2De_zy3G",
        "outputId": "fbfbdf58-d541-4a2f-cd31-64a6a2984b3e"
      },
      "execution_count": null,
      "outputs": [
        {
          "output_type": "display_data",
          "data": {
            "text/plain": [
              "<Figure size 432x288 with 1 Axes>"
            ],
            "image/png": "[encoded data removed]"
          },
          "metadata": {
            "needs_background": "light"
          }
        }
      ]
    },
    {
      "cell_type": "markdown",
      "source": [
        "## (c) Review Overview"
      ],
      "metadata": {
        "id": "k2frrp_Ezy3G"
      }
    },
    {
      "cell_type": "code",
      "source": [
        "for i in range(5):\n",
        "    print(data['review'][i])\n",
        "    print(data['sentiment'][i])"
      ],
      "metadata": {
        "execution": {
          "iopub.status.busy": "2023-02-25T13:30:55.426255Z",
          "iopub.execute_input": "2023-02-25T13:30:55.426583Z",
          "iopub.status.idle": "2023-02-25T13:30:55.43237Z",
          "shell.execute_reply.started": "2023-02-25T13:30:55.426549Z",
          "shell.execute_reply": "2023-02-25T13:30:55.431398Z"
        },
        "trusted": true,
        "colab": {
          "base_uri": "https://localhost:8080/"
        },
        "id": "zQYAJtwAzy3I",
        "outputId": "02f7184c-c312-45c1-b14c-50e3e9de9c14"
      },
      "execution_count": null,
      "outputs": [
        {
          "output_type": "stream",
          "name": "stdout",
          "text": [
            "One of the other reviewers has mentioned that after watching just 1 Oz episode you'll be hooked. They are right, as this is exactly what happened with me.<br /><br />The first thing that struck me about Oz was its brutality and unflinching scenes of violence, which set in right from the word GO. Trust me, this is not a show for the faint hearted or timid. This show pulls no punches with regards to drugs, sex or violence. Its is hardcore, in the classic use of the word.<br /><br />It is called OZ as that is the nickname given to the Oswald Maximum Security State Penitentary. It focuses mainly on Emerald City, an experimental section of the prison where all the cells have glass fronts and face inwards, so privacy is not high on the agenda. Em City is home to many..Aryans, Muslims, gangstas, Latinos, Christians, Italians, Irish and more....so scuffles, death stares, dodgy dealings and shady agreements are never far away.<br /><br />I would say the main appeal of the show is due to the fact that it goes where other shows wouldn't dare. Forget pretty pictures painted for mainstream audiences, forget charm, forget romance...OZ doesn't mess around. The first episode I ever saw struck me as so nasty it was surreal, I couldn't say I was ready for it, but as I watched more, I developed a taste for Oz, and got accustomed to the high levels of graphic violence. Not just violence, but injustice (crooked guards who'll be sold out for a nickel, inmates who'll kill on order and get away with it, well mannered, middle class inmates being turned into prison bitches due to their lack of street skills or prison experience) Watching Oz, you may become comfortable with what is uncomfortable viewing....thats if you can get in touch with your darker side.\n",
            "1\n",
            "A wonderful little production. <br /><br />The filming technique is very unassuming- very old-time-BBC fashion and gives a comforting, and sometimes discomforting, sense of realism to the entire piece. <br /><br />The actors are extremely well chosen- Michael Sheen not only \"has got all the polari\" but he has all the voices down pat too! You can truly see the seamless editing guided by the references to Williams' diary entries, not only is it well worth the watching but it is a terrificly written and performed piece. A masterful production about one of the great master's of comedy and his life. <br /><br />The realism really comes home with the little things: the fantasy of the guard which, rather than use the traditional 'dream' techniques remains solid then disappears. It plays on our knowledge and our senses, particularly with the scenes concerning Orton and Halliwell and the sets (particularly of their flat with Halliwell's murals decorating every surface) are terribly well done.\n",
            "1\n",
            "I thought this was a wonderful way to spend time on a too hot summer weekend, sitting in the air conditioned theater and watching a light-hearted comedy. The plot is simplistic, but the dialogue is witty and the characters are likable (even the well bread suspected serial killer). While some may be disappointed when they realize this is not Match Point 2: Risk Addiction, I thought it was proof that Woody Allen is still fully in control of the style many of us have grown to love.<br /><br />This was the most I'd laughed at one of Woody's comedies in years (dare I say a decade?). While I've never been impressed with Scarlet Johanson, in this she managed to tone down her \"sexy\" image and jumped right into a average, but spirited young woman.<br /><br />This may not be the crown jewel of his career, but it was wittier than \"Devil Wears Prada\" and more interesting than \"Superman\" a great comedy to go see with friends.\n",
            "1\n",
            "Basically there's a family where a little boy (Jake) thinks there's a zombie in his closet & his parents are fighting all the time.<br /><br />This movie is slower than a soap opera... and suddenly, Jake decides to become Rambo and kill the zombie.<br /><br />OK, first of all when you're going to make a film you must Decide if its a thriller or a drama! As a drama the movie is watchable. Parents are divorcing & arguing like in real life. And then we have Jake with his closet which totally ruins all the film! I expected to see a BOOGEYMAN similar movie, and instead i watched a drama with some meaningless thriller spots.<br /><br />3 out of 10 just for the well playing parents & descent dialogs. As for the shots with Jake: just ignore them.\n",
            "0\n",
            "Petter Mattei's \"Love in the Time of Money\" is a visually stunning film to watch. Mr. Mattei offers us a vivid portrait about human relations. This is a movie that seems to be telling us what money, power and success do to people in the different situations we encounter. <br /><br />This being a variation on the Arthur Schnitzler's play about the same theme, the director transfers the action to the present time New York where all these different characters meet and connect. Each one is connected in one way, or another to the next person, but no one seems to know the previous point of contact. Stylishly, the film has a sophisticated luxurious look. We are taken to see how these people live and the world they live in their own habitat.<br /><br />The only thing one gets out of all these souls in the picture is the different stages of loneliness each one inhabits. A big city is not exactly the best place in which human relations find sincere fulfillment, as one discerns is the case with most of the people we encounter.<br /><br />The acting is good under Mr. Mattei's direction. Steve Buscemi, Rosario Dawson, Carol Kane, Michael Imperioli, Adrian Grenier, and the rest of the talented cast, make these characters come alive.<br /><br />We wish Mr. Mattei good luck and await anxiously for his next work.\n",
            "1\n"
          ]
        }
      ]
    },
    {
      "cell_type": "markdown",
      "source": [
        "# 4. Text Processing\n",
        "\n",
        "The model that we intend to use would be an **attention model so we don't want to remove any data that would enable the model to predict with accuracy.** So we will be performing a broad text cleaning without any lemmatization or removal of stop words since these may be critical to mapping out the sentiment expressed. The following steps will be performed on the review text:\n",
        "\n",
        "\n",
        "1. Conversion to Lower Case\n",
        "2. Removal of delimiters \n",
        "3. Removal of any links that may be pushed into the reviews\n",
        "4. Removal of any special characters that can not essentially determine the sentiment\n",
        "5. Rejoining the tokens after the cleaning pipeline for further processing\n"
      ],
      "metadata": {
        "id": "53PwIyHIzy3I"
      }
    },
    {
      "cell_type": "markdown",
      "source": [
        "# 5. Dividing into Train , Test and Validation Data\n",
        "\n",
        "The data was divided into 3 categories i.e. for training the model, validation and then finally testing into a test set.\n",
        "\n",
        "1. Train Data: 80% of the Total Data\n",
        "2. Test Data: 20% of the Total Data\n",
        "3. Validation Data: 20% of the Train Data\n",
        "\n",
        "The data was then visualized to ensure that we have a balanced dataset to avoid any kind of bias that may arise."
      ],
      "metadata": {
        "id": "hludV02Bzy3K"
      }
    },
    {
      "cell_type": "code",
      "source": [
        "#training_data = data.sample(frac=0.8, random_state=25)\n",
        "#testing_data = data.drop(training_data.index)\n",
        "#\n",
        "#validation_data = training_data.sample(frac = 0.2 , random_state = 25)\n",
        "#training_data = training_data.drop(validation_data.index)\n",
        "#\n",
        "#training_data = training_data.reset_index(drop = True)\n",
        "#validation_data = validation_data.reset_index(drop = True)\n",
        "#testing_data = testing_data.reset_index(drop = True)"
      ],
      "metadata": {
        "execution": {
          "iopub.status.busy": "2023-02-25T13:32:18.974181Z",
          "iopub.execute_input": "2023-02-25T13:32:18.974526Z",
          "iopub.status.idle": "2023-02-25T13:32:19.005404Z",
          "shell.execute_reply.started": "2023-02-25T13:32:18.974493Z",
          "shell.execute_reply": "2023-02-25T13:32:19.00457Z"
        },
        "trusted": true,
        "id": "76XLyzVEzy3L"
      },
      "execution_count": null,
      "outputs": []
    },
    {
      "cell_type": "code",
      "source": [
        "newdata.rename(columns={\"words\": \"review\"}, inplace=True)\n",
        "training_data = newdata.sample(frac=0.8, random_state=25)\n",
        "testing_data = newdata.drop(training_data.index)\n",
        "\n",
        "validation_data = training_data.sample(frac = 0.2 , random_state = 25)\n",
        "training_data = training_data.drop(validation_data.index)\n",
        "\n",
        "training_data = training_data.reset_index(drop = True)\n",
        "validation_data = validation_data.reset_index(drop = True)\n",
        "testing_data = testing_data.reset_index(drop = True)"
      ],
      "metadata": {
        "id": "w9aP8RasMrkY"
      },
      "execution_count": null,
      "outputs": []
    },
    {
      "cell_type": "code",
      "source": [
        "#newdata.rename(columns={\"words\": \"review\"}, inplace=True)"
      ],
      "metadata": {
        "id": "XKhd_aUrOkcU"
      },
      "execution_count": null,
      "outputs": []
    },
    {
      "cell_type": "code",
      "source": [
        "# Instantiating an empty dataframe\n",
        "cts = pd.DataFrame()\n",
        "\n",
        "# Filling the dataframe with the number of sentiment counts of the total sentiments to retain balance\n",
        "cts['Train'] = training_data['sentiment'].value_counts()\n",
        "cts['Test'] = testing_data['sentiment'].value_counts()\n",
        "cts['valid'] = validation_data['sentiment'].value_counts()\n",
        "cts.head()"
      ],
      "metadata": {
        "execution": {
          "iopub.status.busy": "2023-02-25T13:32:19.022043Z",
          "iopub.execute_input": "2023-02-25T13:32:19.023077Z",
          "iopub.status.idle": "2023-02-25T13:32:19.042785Z",
          "shell.execute_reply.started": "2023-02-25T13:32:19.023041Z",
          "shell.execute_reply": "2023-02-25T13:32:19.041897Z"
        },
        "trusted": true,
        "colab": {
          "base_uri": "https://localhost:8080/",
          "height": 112
        },
        "id": "_lmOGl-gzy3M",
        "outputId": "05ffc7ba-dce8-469a-9d50-3e02cab20347"
      },
      "execution_count": null,
      "outputs": [
        {
          "output_type": "execute_result",
          "data": {
            "text/plain": [
              "   Train  Test  valid\n",
              "0    641   204    155\n",
              "1    639   196    165"
            ],
            "text/html": [
              "\n",
              "  <div id=\"df-da5ffac2-3ff9-45b3-9ed5-9d2e64cee79d\">\n",
              "    <div class=\"colab-df-container\">\n",
              "      <div>\n",
              "<style scoped>\n",
              "    .dataframe tbody tr th:only-of-type {\n",
              "        vertical-align: middle;\n",
              "    }\n",
              "\n",
              "    .dataframe tbody tr th {\n",
              "        vertical-align: top;\n",
              "    }\n",
              "\n",
              "    .dataframe thead th {\n",
              "        text-align: right;\n",
              "    }\n",
              "</style>\n",
              "<table border=\"1\" class=\"dataframe\">\n",
              "  <thead>\n",
              "    <tr style=\"text-align: right;\">\n",
              "      <th></th>\n",
              "      <th>Train</th>\n",
              "      <th>Test</th>\n",
              "      <th>valid</th>\n",
              "    </tr>\n",
              "  </thead>\n",
              "  <tbody>\n",
              "    <tr>\n",
              "      <th>0</th>\n",
              "      <td>641</td>\n",
              "      <td>204</td>\n",
              "      <td>155</td>\n",
              "    </tr>\n",
              "    <tr>\n",
              "      <th>1</th>\n",
              "      <td>639</td>\n",
              "      <td>196</td>\n",
              "      <td>165</td>\n",
              "    </tr>\n",
              "  </tbody>\n",
              "</table>\n",
              "</div>\n",
              "      <button class=\"colab-df-convert\" onclick=\"convertToInteractive('df-da5ffac2-3ff9-45b3-9ed5-9d2e64cee79d')\"\n",
              "              title=\"Convert this dataframe to an interactive table.\"\n",
              "              style=\"display:none;\">\n",
              "        \n",
              "  <svg xmlns=\"http://www.w3.org/2000/svg\" height=\"24px\"viewBox=\"0 0 24 24\"\n",
              "       width=\"24px\">\n",
              "    <path d=\"M0 0h24v24H0V0z\" fill=\"none\"/>\n",
              "    <path d=\"M18.56 5.44l.94 2.06.94-2.06 2.06-.94-2.06-.94-.94-2.06-.94 2.06-2.06.94zm-11 1L8.5 8.5l.94-2.06 2.06-.94-2.06-.94L8.5 2.5l-.94 2.06-2.06.94zm10 10l.94 2.06.94-2.06 2.06-.94-2.06-.94-.94-2.06-.94 2.06-2.06.94z\"/><path d=\"M17.41 7.96l-1.37-1.37c-.4-.4-.92-.59-1.43-.59-.52 0-1.04.2-1.43.59L10.3 9.45l-7.72 7.72c-.78.78-.78 2.05 0 2.83L4 21.41c.39.39.9.59 1.41.59.51 0 1.02-.2 1.41-.59l7.78-7.78 2.81-2.81c.8-.78.8-2.07 0-2.86zM5.41 20L4 18.59l7.72-7.72 1.47 1.35L5.41 20z\"/>\n",
              "  </svg>\n",
              "      </button>\n",
              "      \n",
              "  <style>\n",
              "    .colab-df-container {\n",
              "      display:flex;\n",
              "      flex-wrap:wrap;\n",
              "      gap: 12px;\n",
              "    }\n",
              "\n",
              "    .colab-df-convert {\n",
              "      background-color: #E8F0FE;\n",
              "      border: none;\n",
              "      border-radius: 50%;\n",
              "      cursor: pointer;\n",
              "      display: none;\n",
              "      fill: #1967D2;\n",
              "      height: 32px;\n",
              "      padding: 0 0 0 0;\n",
              "      width: 32px;\n",
              "    }\n",
              "\n",
              "    .colab-df-convert:hover {\n",
              "      background-color: #E2EBFA;\n",
              "      box-shadow: 0px 1px 2px rgba(60, 64, 67, 0.3), 0px 1px 3px 1px rgba(60, 64, 67, 0.15);\n",
              "      fill: #174EA6;\n",
              "    }\n",
              "\n",
              "    [theme=dark] .colab-df-convert {\n",
              "      background-color: #3B4455;\n",
              "      fill: #D2E3FC;\n",
              "    }\n",
              "\n",
              "    [theme=dark] .colab-df-convert:hover {\n",
              "      background-color: #434B5C;\n",
              "      box-shadow: 0px 1px 3px 1px rgba(0, 0, 0, 0.15);\n",
              "      filter: drop-shadow(0px 1px 2px rgba(0, 0, 0, 0.3));\n",
              "      fill: #FFFFFF;\n",
              "    }\n",
              "  </style>\n",
              "\n",
              "      <script>\n",
              "        const buttonEl =\n",
              "          document.querySelector('#df-da5ffac2-3ff9-45b3-9ed5-9d2e64cee79d button.colab-df-convert');\n",
              "        buttonEl.style.display =\n",
              "          google.colab.kernel.accessAllowed ? 'block' : 'none';\n",
              "\n",
              "        async function convertToInteractive(key) {\n",
              "          const element = document.querySelector('#df-da5ffac2-3ff9-45b3-9ed5-9d2e64cee79d');\n",
              "          const dataTable =\n",
              "            await google.colab.kernel.invokeFunction('convertToInteractive',\n",
              "                                                     [key], {});\n",
              "          if (!dataTable) return;\n",
              "\n",
              "          const docLinkHtml = 'Like what you see? Visit the ' +\n",
              "            '<a target=\"_blank\" href=https://colab.research.google.com/notebooks/data_table.ipynb>data table notebook</a>'\n",
              "            + ' to learn more about interactive tables.';\n",
              "          element.innerHTML = '';\n",
              "          dataTable['output_type'] = 'display_data';\n",
              "          await google.colab.output.renderOutput(dataTable, element);\n",
              "          const docLink = document.createElement('div');\n",
              "          docLink.innerHTML = docLinkHtml;\n",
              "          element.appendChild(docLink);\n",
              "        }\n",
              "      </script>\n",
              "    </div>\n",
              "  </div>\n",
              "  "
            ]
          },
          "metadata": {},
          "execution_count": 17
        }
      ]
    },
    {
      "cell_type": "code",
      "source": [
        "# Visualizing with the help of piecharts that the data remains balanced in all 3 datasets\n",
        "plt.subplots(figsize=(20, 10))\n",
        "plt.subplot(1, 2, 1)\n",
        "plt.pie(cts.iloc[0], labels = ['Train', 'Test', 'Valid'], colors = sns.color_palette('pastel')[0:3], autopct='%.0f%%')\n",
        "plt.title('Positive Sentiment Division')\n",
        "\n",
        "plt.subplot(1, 2, 2)\n",
        "plt.pie(cts.iloc[1], labels = ['Train', 'Test', 'Valid'], colors = sns.color_palette('pastel')[0:3], autopct='%.0f%%')\n",
        "plt.title('Negative Sentiment Division')\n",
        "\n",
        "plt.show()"
      ],
      "metadata": {
        "execution": {
          "iopub.status.busy": "2023-02-25T13:32:19.045817Z",
          "iopub.execute_input": "2023-02-25T13:32:19.046125Z",
          "iopub.status.idle": "2023-02-25T13:32:19.396225Z",
          "shell.execute_reply.started": "2023-02-25T13:32:19.0461Z",
          "shell.execute_reply": "2023-02-25T13:32:19.395235Z"
        },
        "trusted": true,
        "colab": {
          "base_uri": "https://localhost:8080/",
          "height": 437
        },
        "id": "wr0toDU8zy3M",
        "outputId": "b809acd0-997e-4ede-db21-55b1159eccbe"
      },
      "execution_count": null,
      "outputs": [
        {
          "output_type": "display_data",
          "data": {
            "text/plain": [
              "<Figure size 1440x720 with 2 Axes>"
            ],
            "image/png": "[encoded data removed]"
          },
          "metadata": {}
        }
      ]
    },
    {
      "cell_type": "markdown",
      "source": [
        "**Though, we can see from the table that the data is not perfectly divided but the difference is quite small, much less than even 1%. So, we will not be imbuing any kind of bias by the data division.**"
      ],
      "metadata": {
        "id": "S3Tl6wDSzy3N"
      }
    },
    {
      "cell_type": "markdown",
      "source": [
        "# 6. Pre-Processing Pipeline\n",
        "\n"
      ],
      "metadata": {
        "id": "7wk_DgQDzy3N"
      }
    },
    {
      "cell_type": "markdown",
      "source": [
        "## (a) Transformers\n",
        "\n",
        "For many years, the technique that had been widely adopted for NLP had been RNN or Sequential Models. But more recently, a new technique has been in the limelight in the form of the hot shot ChatGPT, Bard etc. which are employing a newer and more robust approach to solve the limitations of the earlier models. It is based on their ability to deal with large amounts of text with an **essential base on positional encoding, attention and self-attention.**\n",
        "\n",
        "Based on this novel technique, certain models have been designed like the BERT, DistillBert, Roberta etc. which have been trained on huge corpuses of text data. In our approach, we will also be using one of these models to train our data because of their ability to deal with large text as well without memory errors with accuracy.\n",
        "\n",
        "Specifically, we will be making use of a **Roberta Model which stands for 'Robustly Optimized BERT' i.e. it stands on top of the BERT model by google. The reason that this specific model was chosen is because of its optimization of the BERT in terms of the better results due to dynamic masking as well as the integration of a larger corpus.**\n",
        "\n",
        "In the following lines of code, we use the AutoTokenizer from the hugging face library for tokenizing the text. The important thing to remember here is that we need to feed in the data having the same length which would require padding of shorter text length and truncation of the longer both of which can be easily performed using the in built function of the autotokenizer. Additionally, from the documentation of the model, we can see that it only processes text upto a length of 512. However, after testing the model for varius lengths, it was found that the text length of 128 in each batch would be effective."
      ],
      "metadata": {
        "id": "QesDwnlazy3O"
      }
    },
    {
      "cell_type": "code",
      "source": [
        "## 'roberta-base' \n",
        "tokenizer = AutoTokenizer.from_pretrained(\"roberta-base\")"
      ],
      "metadata": {
        "execution": {
          "iopub.status.busy": "2023-02-25T13:32:19.397676Z",
          "iopub.execute_input": "2023-02-25T13:32:19.398315Z",
          "iopub.status.idle": "2023-02-25T13:32:28.286061Z",
          "shell.execute_reply.started": "2023-02-25T13:32:19.398279Z",
          "shell.execute_reply": "2023-02-25T13:32:28.285004Z"
        },
        "trusted": true,
        "colab": {
          "base_uri": "https://localhost:8080/",
          "height": 145,
          "referenced_widgets": [
            "89d9909dad7b405c962ee838c8d77a55",
            "da56273fdbb14559afcfcacdbaa918c1",
            "11b907ae7033435f91655b129239dc41",
            "d243b02c3ba447c0b373756eefaa9c6b",
            "3a336257c4004355a2515dd25c4a18c0",
            "37e85cfc2d704e05b0c1daa7f9e36217",
            "daf0c664de0c42fabcf247ef6999e0ad",
            "0b231a7fcea24a869ad3adcf331ee077",
            "b0f4e5535c5044ec83689521784fa12e",
            "bfd5c13d9a684fb9bd1e509ffe76f2b5",
            "8d232d32689841bb949351a6374ea766",
            "b84e24ed655c46eea4aceba830fae493",
            "2d613be2240741328d351efb66c99e9e",
            "3aa3163e02fc4b6ab82bbe365d4e714e",
            "9401f5263a2949dbb2f04ab16f1f1917",
            "abd54e40280d4caf9550f81a8fdbf0cb",
            "09ae6e98babc46639703ae3d86010527",
            "4552766350ad4e6294840f0321c7ead4",
            "83911290b73c43e38946d33e864b73b4",
            "c652a8a3b1db47a08a8af1b8f1da1dff",
            "c7769485d13f48e5bd41c6a6084660b0",
            "6c4d69658abe4c7993646cbd41fa9ee9",
            "ea61062d96ce463e86b801902498b3d6",
            "1fe3810cd6bb4541a50d05c50bb358f8",
            "1379810567844af7a379dee585c205c2",
            "48525fd3560f4fc291a3bf4fb8efeb88",
            "5ebb2f19516c4602a4fb158f497df573",
            "0af7fb724d904b6ea55190f753c25346",
            "f0b51f7415924f938d78632f87658677",
            "c42b2ec802e24612b572582d91c599d3",
            "da552b43839742a6a9a5d225bda17d11",
            "7039f41be36341b2af058924a31c3454",
            "62ccc082f3084d819ee33c113f3d3244",
            "64ab7cef254b40549986aa313cfd46cb",
            "59b45356d4264cf2b3e4950a0284a469",
            "e86b108a09df4bb3954bcc294f527225",
            "33136038f7914cbea3b559fc4173d416",
            "17bff4d0ac6f4a4092c61a347aef57cf",
            "8f08a78cb63445188d87d73482edc5c9",
            "e6f1df0f6d80455494eb129371975ffe",
            "6138e7f6075c4220b1e556572fcbd43f",
            "1acab9759ff94fc7806f24cbaa64196b",
            "0681ee67fe7347d692a832bc039d7c70",
            "49076a5af8c64075852030c5bd6b20aa"
          ]
        },
        "id": "9mFb82sSzy3O",
        "outputId": "2c7ee09f-9c58-4aa5-b17f-3ff8f243bf1e"
      },
      "execution_count": null,
      "outputs": [
        {
          "output_type": "display_data",
          "data": {
            "text/plain": [
              "Downloading (…)lve/main/config.json:   0%|          | 0.00/481 [00:00<?, ?B/s]"
            ],
            "application/vnd.jupyter.widget-view+json": {
              "version_major": 2,
              "version_minor": 0,
              "model_id": "89d9909dad7b405c962ee838c8d77a55"
            }
          },
          "metadata": {}
        },
        {
          "output_type": "display_data",
          "data": {
            "text/plain": [
              "Downloading (…)olve/main/vocab.json:   0%|          | 0.00/899k [00:00<?, ?B/s]"
            ],
            "application/vnd.jupyter.widget-view+json": {
              "version_major": 2,
              "version_minor": 0,
              "model_id": "b84e24ed655c46eea4aceba830fae493"
            }
          },
          "metadata": {}
        },
        {
          "output_type": "display_data",
          "data": {
            "text/plain": [
              "Downloading (…)olve/main/merges.txt:   0%|          | 0.00/456k [00:00<?, ?B/s]"
            ],
            "application/vnd.jupyter.widget-view+json": {
              "version_major": 2,
              "version_minor": 0,
              "model_id": "ea61062d96ce463e86b801902498b3d6"
            }
          },
          "metadata": {}
        },
        {
          "output_type": "display_data",
          "data": {
            "text/plain": [
              "Downloading (…)/main/tokenizer.json:   0%|          | 0.00/1.36M [00:00<?, ?B/s]"
            ],
            "application/vnd.jupyter.widget-view+json": {
              "version_major": 2,
              "version_minor": 0,
              "model_id": "64ab7cef254b40549986aa313cfd46cb"
            }
          },
          "metadata": {}
        }
      ]
    },
    {
      "cell_type": "code",
      "source": [
        "def tokenize_dataset(data):\n",
        "    # Keys of the returned dictionary will be added to the dataset as columns\n",
        "    return tokenizer(data[\"review\"],padding = True , truncation = True, max_length=128)\n",
        "\n",
        "def data_pipe(df):\n",
        "    # The column is renamed as 'label' to use in the pre-built Roberta Model\n",
        "    df1 = df\n",
        "    df.rename(columns = {'sentiment':'label'} , inplace = True)\n",
        "    ## Converting pandas to hugging face dataset to prepare the data as well as save it on drive to \n",
        "    ## avoid wating memory\n",
        "    df = Dataset.from_pandas(df)\n",
        "    ## Padding the data with truncation to limit any input which nmay over shoot the maximum limit of the accepted input length of the model\n",
        "    df = df.map(tokenize_dataset)\n",
        "    return df"
      ],
      "metadata": {
        "execution": {
          "iopub.status.busy": "2023-02-25T13:32:28.290671Z",
          "iopub.execute_input": "2023-02-25T13:32:28.293245Z",
          "iopub.status.idle": "2023-02-25T13:32:28.301277Z",
          "shell.execute_reply.started": "2023-02-25T13:32:28.293206Z",
          "shell.execute_reply": "2023-02-25T13:32:28.300248Z"
        },
        "trusted": true,
        "id": "XpfLnYymzy3P"
      },
      "execution_count": null,
      "outputs": []
    },
    {
      "cell_type": "code",
      "source": [
        "## The trainig and the validation data are passed through the pipeline to make the data as an acceptable Input form\n",
        "## to be fed into a Roberta Model\n",
        "training = data_pipe(training_data)\n",
        "valid = data_pipe(validation_data)"
      ],
      "metadata": {
        "execution": {
          "iopub.status.busy": "2023-02-25T13:32:28.305404Z",
          "iopub.execute_input": "2023-02-25T13:32:28.307725Z",
          "iopub.status.idle": "2023-02-25T13:33:20.047482Z",
          "shell.execute_reply.started": "2023-02-25T13:32:28.307686Z",
          "shell.execute_reply": "2023-02-25T13:33:20.046543Z"
        },
        "trusted": true,
        "colab": {
          "base_uri": "https://localhost:8080/",
          "height": 17,
          "referenced_widgets": [
            "d07379c3fcac4b3a8cf65f3861f2ec2f",
            "46a49ab7bcef49df95a51a10b50ad1c8",
            "dc36702f474641a7844edab8e76f422b",
            "4baaa75e7ca54ff5a4417c0f9913267c",
            "ddc2800ca6a7467da64e061cdb85aff4",
            "725a6f6bf10b4e588449cfbbafcb2fac",
            "9a7a7e6062a845c1866cbc08ea1788c5",
            "c785c770f8334347beffd0ec4d7dd5c6",
            "357b82aa94764704a0c7a7fc676fcec0",
            "6f215de16c074b7580543889503491b1",
            "81eb649372ee43c291e27b3cfd215686",
            "c57c84641ea3427fb32b03ca3fc50bc8",
            "7ffdc3767405466091a98fe527b9a6e4",
            "fe3e0f5e74db4f0e95f7be97fde52e80",
            "7425bc88ff164157b115c75f0d29b883",
            "116ce8b613c44d6d8682d8a321365713",
            "2674617a3d6e4c15930be6b291b2405c",
            "616d7a74fc154aa990862d384c314ad4",
            "035d1b4cd13942539c77f199f6467249",
            "27343da76a1847ffa1111a3008a05f12",
            "84a8ade5f715469a82848abc26ab989a",
            "bed6f1b6cfc5486ba2317a386e8550b2"
          ]
        },
        "id": "FLQBqAr-zy3P",
        "outputId": "598b19d1-a88e-499b-e9e8-3aeea24efc72"
      },
      "execution_count": null,
      "outputs": [
        {
          "output_type": "display_data",
          "data": {
            "text/plain": [
              "Map:   0%|          | 0/1280 [00:00<?, ? examples/s]"
            ],
            "application/vnd.jupyter.widget-view+json": {
              "version_major": 2,
              "version_minor": 0,
              "model_id": "d07379c3fcac4b3a8cf65f3861f2ec2f"
            }
          },
          "metadata": {}
        },
        {
          "output_type": "display_data",
          "data": {
            "text/plain": [
              "Map:   0%|          | 0/320 [00:00<?, ? examples/s]"
            ],
            "application/vnd.jupyter.widget-view+json": {
              "version_major": 2,
              "version_minor": 0,
              "model_id": "c57c84641ea3427fb32b03ca3fc50bc8"
            }
          },
          "metadata": {}
        }
      ]
    },
    {
      "cell_type": "markdown",
      "source": [
        "# 7. Model Roberta Fine-Tuning\n",
        "\n",
        "After passing the data through the pipeline, we have it ready to be used with a Roberta Model. From the model summary, we can broadly see that the model has a considerably large number of parameters. Additionally, we can see that the **size of the text is quite large and feeding the tensors directly may result in the memory over load**. To avoid this, we convert the data into a **'tf dataset' to feed only a single batch which can optimize memory usage.** Additioanlly, it is also providing with added advantage of the ability to shuffle before the datset is fit on the model for fine-tuning.\n",
        "\n",
        "The **optimizer used was Adam, the loss and metric used for training was the Sparse Categorical Cross-Entropy with a small learning rate as specified by the author for optimal usage**. The **model was trained on 3 epochs with a score of 94.91% on the training data and 89.40% on the validation data**."
      ],
      "metadata": {
        "id": "RaOZ3EXXzy3Q"
      }
    },
    {
      "cell_type": "code",
      "source": [
        "# Load and compile our model\n",
        "## 'roberta-base' , bert-base-uncased, distilbert-base-uncased\n",
        "model = TFAutoModelForSequenceClassification.from_pretrained(\"roberta-base\", num_labels=2)\n",
        "model.summary()"
      ],
      "metadata": {
        "execution": {
          "iopub.status.busy": "2023-02-25T13:33:20.066425Z",
          "iopub.execute_input": "2023-02-25T13:33:20.066685Z",
          "iopub.status.idle": "2023-02-25T13:33:41.837954Z",
          "shell.execute_reply.started": "2023-02-25T13:33:20.066661Z",
          "shell.execute_reply": "2023-02-25T13:33:41.836692Z"
        },
        "trusted": true,
        "colab": {
          "base_uri": "https://localhost:8080/",
          "height": 399,
          "referenced_widgets": [
            "17851d785ab54b779d62481aee2fdee8",
            "f5760fc8b0a041bcb1592f3c55ca4cf5",
            "b3a443fe2ec2467e9c0db93d084b3731",
            "2d4528ef583b4620b2db8e8e55358577",
            "cb67770ca6af4b9b81188c204ad53f0a",
            "307d2ab6394b4df58b17dc418d1c0b82",
            "9cb0de2a14db41cd81a6bc9ae1b2b86a",
            "e11bac036bcc41a99fd412f02a7584f6",
            "2b7a73d8d7c948549045d5b42589a24e",
            "994939b6bf204f25b3ee2a8a33f7f688",
            "b3b9296389b54c9f8ca11d1a7fb15ef0"
          ]
        },
        "id": "oPQZlyh7zy3Q",
        "outputId": "e6507d42-76df-4c41-d150-2bcffc8f1dac"
      },
      "execution_count": null,
      "outputs": [
        {
          "output_type": "display_data",
          "data": {
            "text/plain": [
              "Downloading tf_model.h5:   0%|          | 0.00/657M [00:00<?, ?B/s]"
            ],
            "application/vnd.jupyter.widget-view+json": {
              "version_major": 2,
              "version_minor": 0,
              "model_id": "17851d785ab54b779d62481aee2fdee8"
            }
          },
          "metadata": {}
        },
        {
          "output_type": "stream",
          "name": "stderr",
          "text": [
            "All model checkpoint layers were used when initializing TFRobertaForSequenceClassification.\n",
            "\n",
            "Some layers of TFRobertaForSequenceClassification were not initialized from the model checkpoint at roberta-base and are newly initialized: ['classifier']\n",
            "You should probably TRAIN this model on a down-stream task to be able to use it for predictions and inference.\n"
          ]
        },
        {
          "output_type": "stream",
          "name": "stdout",
          "text": [
            "Model: \"tf_roberta_for_sequence_classification\"\n",
            "_________________________________________________________________\n",
            " Layer (type)                Output Shape              Param #   \n",
            "=================================================================\n",
            " roberta (TFRobertaMainLayer  multiple                 124055040 \n",
            " )                                                               \n",
            "                                                                 \n",
            " classifier (TFRobertaClassi  multiple                 592130    \n",
            " ficationHead)                                                   \n",
            "                                                                 \n",
            "=================================================================\n",
            "Total params: 124,647,170\n",
            "Trainable params: 124,647,170\n",
            "Non-trainable params: 0\n",
            "_________________________________________________________________\n"
          ]
        }
      ]
    },
    {
      "cell_type": "code",
      "source": [
        "tf_dataset = model.prepare_tf_dataset(training, batch_size=4, shuffle=True, tokenizer=tokenizer)\n",
        "val_dataset = model.prepare_tf_dataset(valid, batch_size=4, shuffle=True, tokenizer=tokenizer)"
      ],
      "metadata": {
        "execution": {
          "iopub.status.busy": "2023-02-25T13:33:41.839806Z",
          "iopub.execute_input": "2023-02-25T13:33:41.840805Z",
          "iopub.status.idle": "2023-02-25T13:33:42.271386Z",
          "shell.execute_reply.started": "2023-02-25T13:33:41.840758Z",
          "shell.execute_reply": "2023-02-25T13:33:42.270415Z"
        },
        "trusted": true,
        "colab": {
          "base_uri": "https://localhost:8080/"
        },
        "id": "u197QjSxzy3R",
        "outputId": "6c180091-40bb-4c22-8dfc-5cde2b7dfdae"
      },
      "execution_count": null,
      "outputs": [
        {
          "output_type": "stream",
          "name": "stderr",
          "text": [
            "You're using a RobertaTokenizerFast tokenizer. Please note that with a fast tokenizer, using the `__call__` method is faster than using a method to encode the text followed by a call to the `pad` method to get a padded encoding.\n"
          ]
        }
      ]
    },
    {
      "cell_type": "code",
      "source": [
        "# Lower learning rates are often better for fine-tuning transformers\n",
        "# lr 3e-5\n",
        "model.compile(optimizer=tf.keras.optimizers.Adam(learning_rate=1e-5),\n",
        "            loss=tf.keras.losses.SparseCategoricalCrossentropy(from_logits=True),\n",
        "            metrics=tf.metrics.SparseCategoricalAccuracy())\n",
        "\n",
        "model.fit(tf_dataset, validation_data= val_dataset , epochs = 3)"
      ],
      "metadata": {
        "execution": {
          "iopub.status.busy": "2023-02-25T13:33:42.272807Z",
          "iopub.execute_input": "2023-02-25T13:33:42.273177Z",
          "iopub.status.idle": "2023-02-25T14:19:45.962598Z",
          "shell.execute_reply.started": "2023-02-25T13:33:42.27314Z",
          "shell.execute_reply": "2023-02-25T14:19:45.961688Z"
        },
        "trusted": true,
        "colab": {
          "base_uri": "https://localhost:8080/"
        },
        "id": "nKRdEzAEzy3S",
        "outputId": "2f4aa5e8-a6f7-4bba-99dd-da05e3dc9783"
      },
      "execution_count": null,
      "outputs": [
        {
          "output_type": "stream",
          "name": "stdout",
          "text": [
            "Epoch 1/3\n",
            "320/320 [==============================] - 2423s 7s/step - loss: 0.4544 - sparse_categorical_accuracy: 0.7789 - val_loss: 0.3749 - val_sparse_categorical_accuracy: 0.8594\n",
            "Epoch 2/3\n",
            "320/320 [==============================] - 2367s 7s/step - loss: 0.2382 - sparse_categorical_accuracy: 0.9164 - val_loss: 0.3307 - val_sparse_categorical_accuracy: 0.8750\n",
            "Epoch 3/3\n",
            "320/320 [==============================] - 2370s 7s/step - loss: 0.1583 - sparse_categorical_accuracy: 0.9508 - val_loss: 0.3377 - val_sparse_categorical_accuracy: 0.8813\n"
          ]
        },
        {
          "output_type": "execute_result",
          "data": {
            "text/plain": [
              "<keras.callbacks.History at 0x7f7a6910f970>"
            ]
          },
          "metadata": {},
          "execution_count": 28
        }
      ]
    },
    {
      "cell_type": "code",
      "source": [
        "##### max_l = 150 , epc = 3 , learning_rate=1e-5  batch size =2\n",
        "model.save_pretrained(\"my_imdb_model_1\")\n",
        "\n",
        "##### max_l = 128, 89.25%, batch size =2\n",
        "# model.save_pretrained(\"*/my_imdb_model_2\")\n",
        "\n",
        "##### max_l = 128, batch size =4 ,89.7%\n",
        "# model.save_pretrained(\"*/my_imdb_model_3\")"
      ],
      "metadata": {
        "execution": {
          "iopub.status.busy": "2023-02-25T14:19:45.96487Z",
          "iopub.execute_input": "2023-02-25T14:19:45.965878Z",
          "iopub.status.idle": "2023-02-25T14:19:46.974257Z",
          "shell.execute_reply.started": "2023-02-25T14:19:45.965819Z",
          "shell.execute_reply": "2023-02-25T14:19:46.973256Z"
        },
        "trusted": true,
        "id": "5QkdbGbuzy3T"
      },
      "execution_count": null,
      "outputs": []
    },
    {
      "cell_type": "markdown",
      "source": [
        "# 8. Model Testing\n",
        "\n",
        "The model testing was carried out on the test set with the conversion of the text converted to tensors before subsequently being fed to the model for prediction. **An F-1 score of 89.75% and accuracy score of 90.02% for our 3rd model** was achieved which had the following parameters:\n",
        "- Learning Rate : 1e-5\n",
        "- Loss Function : Sparse Categorical Entropy\n",
        "- Training Metric: Sparse Categorical Accuracy\n",
        "- Max Text Length : 128\n",
        "- Batch Size : 4"
      ],
      "metadata": {
        "id": "pl6aXBQvzy3T"
      }
    },
    {
      "cell_type": "code",
      "source": [
        "## Since we have a binary classification problem, we will be using sigmoid function on the logits that are achieved to calculate the prob of each outcome\n",
        "def sigmoid(x):\n",
        "    return 1/(1+np.exp(-x))\n",
        "\n",
        "## A simple function to apply the sigmoid function on the logits\n",
        "def pred(x): \n",
        "    temp = sigmoid(x)\n",
        "    if temp[0] > temp[1]:\n",
        "        return 0\n",
        "    else:\n",
        "        return 1"
      ],
      "metadata": {
        "execution": {
          "iopub.status.busy": "2023-02-25T14:19:46.983101Z",
          "iopub.execute_input": "2023-02-25T14:19:46.983727Z",
          "iopub.status.idle": "2023-02-25T14:19:46.991689Z",
          "shell.execute_reply.started": "2023-02-25T14:19:46.983666Z",
          "shell.execute_reply": "2023-02-25T14:19:46.990683Z"
        },
        "trusted": true,
        "id": "N08-b83Fzy3T"
      },
      "execution_count": null,
      "outputs": []
    },
    {
      "cell_type": "code",
      "source": [
        "## Making a prediction pipeline\n",
        "text = testing_data['review']\n",
        "label = testing_data['sentiment']\n",
        "\n",
        "res = []\n",
        "## each review is fed to the model after passing through a tokenizer, the predicted value is then\n",
        "## stored in a list called 'res' after passing the logits through a sigmoid function. Depending on\n",
        "## the probability that we get, the review is graded as either positive or negative.\n",
        "for i in text:\n",
        "    ## Tokenizing the text before feeding it to the model for prediction\n",
        "    t_text = tokenizer(i,padding = True , truncation = True, max_length =128, return_tensors = 'tf')\n",
        "    res.append(pred(model(t_text)[0].numpy()[0]))"
      ],
      "metadata": {
        "execution": {
          "iopub.status.busy": "2023-02-25T14:19:47.003233Z",
          "iopub.execute_input": "2023-02-25T14:19:47.00359Z",
          "iopub.status.idle": "2023-02-25T14:41:12.997898Z",
          "shell.execute_reply.started": "2023-02-25T14:19:47.003554Z",
          "shell.execute_reply": "2023-02-25T14:41:12.996901Z"
        },
        "trusted": true,
        "id": "tDG_DHYqzy3T"
      },
      "execution_count": null,
      "outputs": []
    },
    {
      "cell_type": "code",
      "source": [
        "## a simple format to save the outcome in a json file\n",
        "\n",
        "# ## Writing the test output res into a json file\n",
        "# with open(\"/kaggle/working/test\", \"w\") as fp:\n",
        "#     json.dump(res, fp)\n",
        "    \n",
        "\n",
        "# with open(\"/kaggle/working/test\", \"r\") as fp:\n",
        "#     b = json.load(fp)"
      ],
      "metadata": {
        "execution": {
          "iopub.status.busy": "2023-02-25T14:41:12.999559Z",
          "iopub.execute_input": "2023-02-25T14:41:12.999968Z",
          "iopub.status.idle": "2023-02-25T14:41:13.013865Z",
          "shell.execute_reply.started": "2023-02-25T14:41:12.999925Z",
          "shell.execute_reply": "2023-02-25T14:41:13.012758Z"
        },
        "trusted": true,
        "id": "5MyAz2VQzy3V"
      },
      "execution_count": null,
      "outputs": []
    },
    {
      "cell_type": "code",
      "source": [
        "## from sklearn metrics, using accuracy, F-1 score as well as confusion matrix to study the result\n",
        "accuracy_score(label , res) , f1_score(label , res)"
      ],
      "metadata": {
        "execution": {
          "iopub.status.busy": "2023-02-25T14:41:13.015356Z",
          "iopub.execute_input": "2023-02-25T14:41:13.015724Z",
          "iopub.status.idle": "2023-02-25T14:41:13.036163Z",
          "shell.execute_reply.started": "2023-02-25T14:41:13.015689Z",
          "shell.execute_reply": "2023-02-25T14:41:13.035087Z"
        },
        "trusted": true,
        "id": "x47gd1O0zy3V",
        "colab": {
          "base_uri": "https://localhost:8080/"
        },
        "outputId": "3310267c-ecac-42a4-eb2d-1568c312e62c"
      },
      "execution_count": null,
      "outputs": [
        {
          "output_type": "execute_result",
          "data": {
            "text/plain": [
              "(0.9025, 0.9017632241813602)"
            ]
          },
          "metadata": {},
          "execution_count": 32
        }
      ]
    },
    {
      "cell_type": "code",
      "source": [
        "sns.heatmap(confusion_matrix(label , res) , annot = True)\n",
        "plt.xlabel('Predicted Sentiment')\n",
        "plt.ylabel('Actual Sentiment')\n",
        "plt.title('Prediced vs Actual Sentiment')\n",
        "plt.show()"
      ],
      "metadata": {
        "execution": {
          "iopub.status.busy": "2023-02-25T14:41:35.955759Z",
          "iopub.execute_input": "2023-02-25T14:41:35.956341Z",
          "iopub.status.idle": "2023-02-25T14:41:36.264909Z",
          "shell.execute_reply.started": "2023-02-25T14:41:35.9563Z",
          "shell.execute_reply": "2023-02-25T14:41:36.263928Z"
        },
        "trusted": true,
        "id": "IJpZ-cEzzy3V",
        "colab": {
          "base_uri": "https://localhost:8080/",
          "height": 295
        },
        "outputId": "9247bcfb-8ea9-43c9-8827-07221c6d1f34"
      },
      "execution_count": null,
      "outputs": [
        {
          "output_type": "display_data",
          "data": {
            "text/plain": [
              "<Figure size 432x288 with 2 Axes>"
            ],
            "image/png": "[encoded data removed]"
          },
          "metadata": {
            "needs_background": "light"
          }
        }
      ]
    },
    {
      "cell_type": "markdown",
      "source": [
        "# 9. Classifying the review comments from Youtube "
      ],
      "metadata": {
        "id": "Wy4dtzugzy3X"
      }
    },
    {
      "cell_type": "code",
      "source": [
        "df_ytb = pd.read_csv(\"/content/drive/MyDrive/Sentiment_Dataset/ytb_comments_family.csv\")\n",
        "#df_ytb = pd.read_csv(\"ytb_comments_family.csv\")\n",
        "df_ytb.head()\n",
        "import re\n",
        "import string\n",
        "\n",
        "# Remove column name 'Unnamed: 0'\n",
        "dfc = df_ytb.drop(['Unnamed: 0'], axis=1)\n",
        "dfc.head()\n",
        "\n",
        "\n",
        "def clean_html(text):\n",
        "    clean=re.compile('<.*?>')\n",
        "    cleantext=re.sub(clean,'',text)\n",
        "    return cleantext\n",
        "    \n",
        "# first round of cleaning\n",
        "def clean_text1(text):\n",
        "    text=text.lower()\n",
        "    text=re.sub('','',text)\n",
        "    text=re.sub('[%s]'%re.escape(string.punctuation),'',text)\n",
        "    text=re.sub('\\w*\\d\\w*','',text)\n",
        "    return text\n",
        "\n",
        "# second round of cleaning\n",
        "def clean_text2(text):\n",
        "    text=re.sub('[''\"\",,,]','',text)\n",
        "    text=re.sub('\\n','',text)\n",
        "    return text\n",
        "    \n",
        "cleaned_html=lambda x:clean_html(x)\n",
        "cleaned1=lambda x:clean_text1(x)\n",
        "cleaned2=lambda x:clean_text2(x)\n",
        "\n",
        "dfc['review'] = dfc['comment']\n",
        "dfc['review']=pd.DataFrame(dfc.review.apply(cleaned_html))\n",
        "dfc['review']=pd.DataFrame(dfc.review.apply(cleaned1))\n",
        "dfc['review']=pd.DataFrame(dfc.review.apply(cleaned2))\n",
        "\n",
        "#from nltk.corpus import stopwords\n",
        "#import nltk\n",
        "#from nltk.stem import PorterStemmer\n",
        "#nltk.download('stopwords')\n",
        "\n",
        "\n",
        "#stemmer = PorterStemmer()\n",
        "#words = stopwords.words(\"english\")\n",
        "\n",
        "#dfc['processedtext'] = dfc['review'].apply(lambda x: \" \".join([stemmer.stem(i) for i in re.sub(\"[^a-zA-Z]\", \" \", x).split() if i not in words]).lower())\n",
        "\n",
        "print(dfc.shape)\n",
        "dfc.head(10)\n",
        "\n",
        "first10comments = dfc.review.values\n",
        "\n",
        "sentences = first10comments[1:30]"
      ],
      "metadata": {
        "id": "kK05RooKz8ar",
        "colab": {
          "base_uri": "https://localhost:8080/"
        },
        "outputId": "6803d7b2-b12c-4bd6-fa72-b0586bf68138"
      },
      "execution_count": 42,
      "outputs": [
        {
          "output_type": "stream",
          "name": "stdout",
          "text": [
            "(92, 3)\n"
          ]
        }
      ]
    },
    {
      "cell_type": "code",
      "source": [
        "print(sentences)"
      ],
      "metadata": {
        "colab": {
          "base_uri": "https://localhost:8080/"
        },
        "id": "3_CIt_f73GqD",
        "outputId": "dd4a4aa7-7c0d-44a5-e804-bef138fbf8e8"
      },
      "execution_count": 43,
      "outputs": [
        {
          "output_type": "stream",
          "name": "stdout",
          "text": [
            "['i utterly adore this profoundly beautiful and deeply meaningful film'\n",
            " 'god knows that we all get discouragedespecially with everything going on today and if  hard for us to seeimagine how he feelsbut he hears every prayer we sayespecially the ones were we beg for his helpjust like jimmy did in the movie'\n",
            " 'master class in acting'\n",
            " 'the female singer of the italian song vieni vieni playing in the background is none other than adriana caselotti the original voice of  snow white you may recognize her whistling too as she was the distinctive whistling artist of whistle while you work also'\n",
            " 'james stewart gives one of the greatest performances in cinematic history in this film there isn’t one moment that doesn’t feel completely genuine and natural you have to have some internal goodness inside of you to play a character like george bailey so well a piece of that character woven into your true personality and by all accounts mr stewart did a humble man faithful to his wife when all his peers fell into the philandering stereotype of hollywood stars a kind and helpful colleague who put his fellow actors at ease a friendly soul who deeply cherished his experience making and involvement in this film for the rest of his life thank you mr stewart for gifting us with your wonderful talent'\n",
            " 'better do sumthinlookif yu canmade sure we  do nuthin'\n",
            " 'some of us are here now'\n",
            " 'jimmy stewart conveys heartbreak desperation and uncertainty with such force and conviction'\n",
            " 'i miss you jimmy stewart'\n",
            " 'fun fact the soprano singer in the background is adriana caselotti who was also  snow white'\n",
            " 'you know the funny thing as a selfproclaimed atheist i was in this position when my father had a heart attack and was struggling for his life i prayed to god just as george did'\n",
            " ' the voice of snow white singing in the background'\n",
            " 'wonderful scene kudos to stewart and to capra who reframed and enlarged it so it could be used in the film'\n",
            " 'little did george bailey know that nearly the entire town was prayerfully interceding for his circumstance before he even petitioned god jesus is always good punctual and amazing'\n",
            " ' be fooled this movie is antichrist there is nothing biblical about it'\n",
            " 'what song is playing in the background'\n",
            " 'i wish there was a recording of that particular performance of that song in the background  the female vocalist is the same who voiced  snow white'\n",
            " 'wow the acting here off the charts'\n",
            " 'knowing that he  acting  the hard thing'\n",
            " 'u know it is unique when u  stop replaying itwow'\n",
            " 'the acting here is off the charts'\n",
            " 'when you learn that stewart channeled his postwar trauma for this scene it makes it that much more impactful having been a bomber pilot who did runs over europe he experienced extreme terror and horror flak fire and seeing the aircraft of his friends get shot apart and burst into flames he struggled making this movie being his first after the war but he gave us everything and it truly affects the heart when you watch it'\n",
            " '🙏'\n",
            " 'besides all the crews he witnessed that were lost as a squadron commander he was also devastated by a bombing mission that killed many civilians and turned out to be the wrong target it  his fault the target was chosen and charted by his superiors'\n",
            " 'when you lose everything god is up to something'\n",
            " 'how many bartenders have seen this exact thing play out part friend psychiatrist and priest'\n",
            " 'the cameraman forgot to zoom in because he was so distracted by how emotional this scene was so they ended having to go in and manually zoom in picture by picture if you look closely this scene kind of looks stop motion…this is because of how they had to do it frame by frame incredible'\n",
            " 'we need to remember that many will feel that way especially around christmas never know how much more they can really take not always gonna be an angel'\n",
            " 'effective person back home the war so he channeled himself into the movie']\n"
          ]
        }
      ]
    },
    {
      "cell_type": "code",
      "source": [
        "## Making a prediction pipeline\n",
        "text = sentences\n",
        "#label = testing_data['sentiment']\n",
        "\n",
        "test_res = []\n",
        "## each review is fed to the model after passing through a tokenizer, the predicted value is then\n",
        "## stored in a list called 'res' after passing the logits through a sigmoid function. Depending on\n",
        "## the probability that we get, the review is graded as either positive or negative.\n",
        "for i in text:\n",
        "    ## Tokenizing the text before feeding it to the model for prediction\n",
        "    t_text = tokenizer(i,padding = True , truncation = True, max_length =128, return_tensors = 'tf')\n",
        "    test_res.append(pred(model(t_text)[0].numpy()[0]))"
      ],
      "metadata": {
        "id": "ySDRgocY3YAb"
      },
      "execution_count": 44,
      "outputs": []
    },
    {
      "cell_type": "code",
      "source": [
        "print(test_res)"
      ],
      "metadata": {
        "colab": {
          "base_uri": "https://localhost:8080/"
        },
        "id": "ScfduSYn3n-Q",
        "outputId": "f8355c10-81d0-4dbf-91a0-70ed61025ca8"
      },
      "execution_count": 45,
      "outputs": [
        {
          "output_type": "stream",
          "name": "stdout",
          "text": [
            "[1, 1, 1, 1, 1, 0, 1, 1, 1, 1, 1, 1, 1, 1, 0, 1, 1, 1, 1, 1, 0, 1, 1, 0, 0, 1, 0, 1, 1]\n"
          ]
        }
      ]
    },
    {
      "cell_type": "code",
      "source": [
        "text =[ 'I am having doubt over the originality of this movie', 'I had no feeling of bad for that movie', 'I donot feel bad anymore about the movie']\n",
        "test_res = []\n",
        "for i in text:\n",
        "    ## Tokenizing the text before feeding it to the model for prediction\n",
        "    t_text = tokenizer(i,padding = True , truncation = True, max_length =128, return_tensors = 'tf')\n",
        "    test_res.append(pred(model(t_text)[0].numpy()[0]))"
      ],
      "metadata": {
        "id": "U-4NAFzy7Nu_"
      },
      "execution_count": 55,
      "outputs": []
    },
    {
      "cell_type": "code",
      "source": [
        "print(test_res)"
      ],
      "metadata": {
        "colab": {
          "base_uri": "https://localhost:8080/"
        },
        "id": "SO34DvFv7-B7",
        "outputId": "92c98385-5974-4431-dd0f-8742937f6f19"
      },
      "execution_count": 56,
      "outputs": [
        {
          "output_type": "stream",
          "name": "stdout",
          "text": [
            "[0, 1, 1]\n"
          ]
        }
      ]
    },
    {
      "cell_type": "markdown",
      "source": [
        "# 10. References\n",
        "\n",
        "1. https://arxiv.org/pdf/1907.11692.pdf\n",
        "2. https://daleonai.com/transformers-explained\n",
        "3. https://huggingface.co/docs/datasets/use_with_tensorflow\n",
        "4. https://huggingface.co/docs/transformers/model_doc/roberta"
      ],
      "metadata": {
        "id": "yPfsVBNyzy3X"
      }
    }
  ]
}