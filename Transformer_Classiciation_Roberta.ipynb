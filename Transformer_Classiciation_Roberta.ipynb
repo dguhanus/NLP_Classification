{
  "metadata": {
    "kernelspec": {
      "language": "python",
      "display_name": "Python 3",
      "name": "python3"
    },
    "language_info": {
      "pygments_lexer": "ipython3",
      "nbconvert_exporter": "python",
      "version": "3.6.4",
      "file_extension": ".py",
      "codemirror_mode": {
        "name": "ipython",
        "version": 3
      },
      "name": "python",
      "mimetype": "text/x-python"
    },
    "colab": {
      "provenance": [],
      "include_colab_link": true
    },
    "widgets": {
      "application/vnd.jupyter.widget-state+json": {
        "1bf629296a324da99f7319ea2b5f2b4f": {
          "model_module": "@jupyter-widgets/controls",
          "model_name": "HBoxModel",
          "model_module_version": "1.5.0",
          "state": {
            "_dom_classes": [],
            "_model_module": "@jupyter-widgets/controls",
            "_model_module_version": "1.5.0",
            "_model_name": "HBoxModel",
            "_view_count": null,
            "_view_module": "@jupyter-widgets/controls",
            "_view_module_version": "1.5.0",
            "_view_name": "HBoxView",
            "box_style": "",
            "children": [
              "IPY_MODEL_8cfc14116249418ab04db7bc0c9a26be",
              "IPY_MODEL_383ef1a149fb4f90a8a0ec2766a51b48",
              "IPY_MODEL_3e64c57acd8a4774ae08e5564473bcbe"
            ],
            "layout": "IPY_MODEL_fc5c4144ed6944158944b9b0b4f2fff9"
          }
        },
        "8cfc14116249418ab04db7bc0c9a26be": {
          "model_module": "@jupyter-widgets/controls",
          "model_name": "HTMLModel",
          "model_module_version": "1.5.0",
          "state": {
            "_dom_classes": [],
            "_model_module": "@jupyter-widgets/controls",
            "_model_module_version": "1.5.0",
            "_model_name": "HTMLModel",
            "_view_count": null,
            "_view_module": "@jupyter-widgets/controls",
            "_view_module_version": "1.5.0",
            "_view_name": "HTMLView",
            "description": "",
            "description_tooltip": null,
            "layout": "IPY_MODEL_e64cf2c1ebbe452087a500b53b2c1600",
            "placeholder": "​",
            "style": "IPY_MODEL_47a5948f5403408496d4cec8e0e6419c",
            "value": "Downloading (…)lve/main/config.json: 100%"
          }
        },
        "383ef1a149fb4f90a8a0ec2766a51b48": {
          "model_module": "@jupyter-widgets/controls",
          "model_name": "FloatProgressModel",
          "model_module_version": "1.5.0",
          "state": {
            "_dom_classes": [],
            "_model_module": "@jupyter-widgets/controls",
            "_model_module_version": "1.5.0",
            "_model_name": "FloatProgressModel",
            "_view_count": null,
            "_view_module": "@jupyter-widgets/controls",
            "_view_module_version": "1.5.0",
            "_view_name": "ProgressView",
            "bar_style": "success",
            "description": "",
            "description_tooltip": null,
            "layout": "IPY_MODEL_dddc708d224c45bf9630f9a8fcf90ebf",
            "max": 481,
            "min": 0,
            "orientation": "horizontal",
            "style": "IPY_MODEL_f942c10ecd614e3493bd29b13f1f1117",
            "value": 481
          }
        },
        "3e64c57acd8a4774ae08e5564473bcbe": {
          "model_module": "@jupyter-widgets/controls",
          "model_name": "HTMLModel",
          "model_module_version": "1.5.0",
          "state": {
            "_dom_classes": [],
            "_model_module": "@jupyter-widgets/controls",
            "_model_module_version": "1.5.0",
            "_model_name": "HTMLModel",
            "_view_count": null,
            "_view_module": "@jupyter-widgets/controls",
            "_view_module_version": "1.5.0",
            "_view_name": "HTMLView",
            "description": "",
            "description_tooltip": null,
            "layout": "IPY_MODEL_d9ade5884d9f45a0a646561594e1f91d",
            "placeholder": "​",
            "style": "IPY_MODEL_032eb7619ac848b28466f114b7d456b6",
            "value": " 481/481 [00:00&lt;00:00, 16.1kB/s]"
          }
        },
        "fc5c4144ed6944158944b9b0b4f2fff9": {
          "model_module": "@jupyter-widgets/base",
          "model_name": "LayoutModel",
          "model_module_version": "1.2.0",
          "state": {
            "_model_module": "@jupyter-widgets/base",
            "_model_module_version": "1.2.0",
            "_model_name": "LayoutModel",
            "_view_count": null,
            "_view_module": "@jupyter-widgets/base",
            "_view_module_version": "1.2.0",
            "_view_name": "LayoutView",
            "align_content": null,
            "align_items": null,
            "align_self": null,
            "border": null,
            "bottom": null,
            "display": null,
            "flex": null,
            "flex_flow": null,
            "grid_area": null,
            "grid_auto_columns": null,
            "grid_auto_flow": null,
            "grid_auto_rows": null,
            "grid_column": null,
            "grid_gap": null,
            "grid_row": null,
            "grid_template_areas": null,
            "grid_template_columns": null,
            "grid_template_rows": null,
            "height": null,
            "justify_content": null,
            "justify_items": null,
            "left": null,
            "margin": null,
            "max_height": null,
            "max_width": null,
            "min_height": null,
            "min_width": null,
            "object_fit": null,
            "object_position": null,
            "order": null,
            "overflow": null,
            "overflow_x": null,
            "overflow_y": null,
            "padding": null,
            "right": null,
            "top": null,
            "visibility": null,
            "width": null
          }
        },
        "e64cf2c1ebbe452087a500b53b2c1600": {
          "model_module": "@jupyter-widgets/base",
          "model_name": "LayoutModel",
          "model_module_version": "1.2.0",
          "state": {
            "_model_module": "@jupyter-widgets/base",
            "_model_module_version": "1.2.0",
            "_model_name": "LayoutModel",
            "_view_count": null,
            "_view_module": "@jupyter-widgets/base",
            "_view_module_version": "1.2.0",
            "_view_name": "LayoutView",
            "align_content": null,
            "align_items": null,
            "align_self": null,
            "border": null,
            "bottom": null,
            "display": null,
            "flex": null,
            "flex_flow": null,
            "grid_area": null,
            "grid_auto_columns": null,
            "grid_auto_flow": null,
            "grid_auto_rows": null,
            "grid_column": null,
            "grid_gap": null,
            "grid_row": null,
            "grid_template_areas": null,
            "grid_template_columns": null,
            "grid_template_rows": null,
            "height": null,
            "justify_content": null,
            "justify_items": null,
            "left": null,
            "margin": null,
            "max_height": null,
            "max_width": null,
            "min_height": null,
            "min_width": null,
            "object_fit": null,
            "object_position": null,
            "order": null,
            "overflow": null,
            "overflow_x": null,
            "overflow_y": null,
            "padding": null,
            "right": null,
            "top": null,
            "visibility": null,
            "width": null
          }
        },
        "47a5948f5403408496d4cec8e0e6419c": {
          "model_module": "@jupyter-widgets/controls",
          "model_name": "DescriptionStyleModel",
          "model_module_version": "1.5.0",
          "state": {
            "_model_module": "@jupyter-widgets/controls",
            "_model_module_version": "1.5.0",
            "_model_name": "DescriptionStyleModel",
            "_view_count": null,
            "_view_module": "@jupyter-widgets/base",
            "_view_module_version": "1.2.0",
            "_view_name": "StyleView",
            "description_width": ""
          }
        },
        "dddc708d224c45bf9630f9a8fcf90ebf": {
          "model_module": "@jupyter-widgets/base",
          "model_name": "LayoutModel",
          "model_module_version": "1.2.0",
          "state": {
            "_model_module": "@jupyter-widgets/base",
            "_model_module_version": "1.2.0",
            "_model_name": "LayoutModel",
            "_view_count": null,
            "_view_module": "@jupyter-widgets/base",
            "_view_module_version": "1.2.0",
            "_view_name": "LayoutView",
            "align_content": null,
            "align_items": null,
            "align_self": null,
            "border": null,
            "bottom": null,
            "display": null,
            "flex": null,
            "flex_flow": null,
            "grid_area": null,
            "grid_auto_columns": null,
            "grid_auto_flow": null,
            "grid_auto_rows": null,
            "grid_column": null,
            "grid_gap": null,
            "grid_row": null,
            "grid_template_areas": null,
            "grid_template_columns": null,
            "grid_template_rows": null,
            "height": null,
            "justify_content": null,
            "justify_items": null,
            "left": null,
            "margin": null,
            "max_height": null,
            "max_width": null,
            "min_height": null,
            "min_width": null,
            "object_fit": null,
            "object_position": null,
            "order": null,
            "overflow": null,
            "overflow_x": null,
            "overflow_y": null,
            "padding": null,
            "right": null,
            "top": null,
            "visibility": null,
            "width": null
          }
        },
        "f942c10ecd614e3493bd29b13f1f1117": {
          "model_module": "@jupyter-widgets/controls",
          "model_name": "ProgressStyleModel",
          "model_module_version": "1.5.0",
          "state": {
            "_model_module": "@jupyter-widgets/controls",
            "_model_module_version": "1.5.0",
            "_model_name": "ProgressStyleModel",
            "_view_count": null,
            "_view_module": "@jupyter-widgets/base",
            "_view_module_version": "1.2.0",
            "_view_name": "StyleView",
            "bar_color": null,
            "description_width": ""
          }
        },
        "d9ade5884d9f45a0a646561594e1f91d": {
          "model_module": "@jupyter-widgets/base",
          "model_name": "LayoutModel",
          "model_module_version": "1.2.0",
          "state": {
            "_model_module": "@jupyter-widgets/base",
            "_model_module_version": "1.2.0",
            "_model_name": "LayoutModel",
            "_view_count": null,
            "_view_module": "@jupyter-widgets/base",
            "_view_module_version": "1.2.0",
            "_view_name": "LayoutView",
            "align_content": null,
            "align_items": null,
            "align_self": null,
            "border": null,
            "bottom": null,
            "display": null,
            "flex": null,
            "flex_flow": null,
            "grid_area": null,
            "grid_auto_columns": null,
            "grid_auto_flow": null,
            "grid_auto_rows": null,
            "grid_column": null,
            "grid_gap": null,
            "grid_row": null,
            "grid_template_areas": null,
            "grid_template_columns": null,
            "grid_template_rows": null,
            "height": null,
            "justify_content": null,
            "justify_items": null,
            "left": null,
            "margin": null,
            "max_height": null,
            "max_width": null,
            "min_height": null,
            "min_width": null,
            "object_fit": null,
            "object_position": null,
            "order": null,
            "overflow": null,
            "overflow_x": null,
            "overflow_y": null,
            "padding": null,
            "right": null,
            "top": null,
            "visibility": null,
            "width": null
          }
        },
        "032eb7619ac848b28466f114b7d456b6": {
          "model_module": "@jupyter-widgets/controls",
          "model_name": "DescriptionStyleModel",
          "model_module_version": "1.5.0",
          "state": {
            "_model_module": "@jupyter-widgets/controls",
            "_model_module_version": "1.5.0",
            "_model_name": "DescriptionStyleModel",
            "_view_count": null,
            "_view_module": "@jupyter-widgets/base",
            "_view_module_version": "1.2.0",
            "_view_name": "StyleView",
            "description_width": ""
          }
        },
        "c586ab42f77f416883eb50307e4c69b7": {
          "model_module": "@jupyter-widgets/controls",
          "model_name": "HBoxModel",
          "model_module_version": "1.5.0",
          "state": {
            "_dom_classes": [],
            "_model_module": "@jupyter-widgets/controls",
            "_model_module_version": "1.5.0",
            "_model_name": "HBoxModel",
            "_view_count": null,
            "_view_module": "@jupyter-widgets/controls",
            "_view_module_version": "1.5.0",
            "_view_name": "HBoxView",
            "box_style": "",
            "children": [
              "IPY_MODEL_1b663b87e7574557a522e0e063e3f953",
              "IPY_MODEL_cc443701556b4304908e1cb315503222",
              "IPY_MODEL_3e1913eaa7174cb5b743d008a3500c2a"
            ],
            "layout": "IPY_MODEL_da62878c15b74faeb63bb0da9e1c1345"
          }
        },
        "1b663b87e7574557a522e0e063e3f953": {
          "model_module": "@jupyter-widgets/controls",
          "model_name": "HTMLModel",
          "model_module_version": "1.5.0",
          "state": {
            "_dom_classes": [],
            "_model_module": "@jupyter-widgets/controls",
            "_model_module_version": "1.5.0",
            "_model_name": "HTMLModel",
            "_view_count": null,
            "_view_module": "@jupyter-widgets/controls",
            "_view_module_version": "1.5.0",
            "_view_name": "HTMLView",
            "description": "",
            "description_tooltip": null,
            "layout": "IPY_MODEL_2a91d72570594c27b5b84ebcb99939a7",
            "placeholder": "​",
            "style": "IPY_MODEL_68e549b2bf7c4e6792fceb568a440cbf",
            "value": "Downloading (…)olve/main/vocab.json: 100%"
          }
        },
        "cc443701556b4304908e1cb315503222": {
          "model_module": "@jupyter-widgets/controls",
          "model_name": "FloatProgressModel",
          "model_module_version": "1.5.0",
          "state": {
            "_dom_classes": [],
            "_model_module": "@jupyter-widgets/controls",
            "_model_module_version": "1.5.0",
            "_model_name": "FloatProgressModel",
            "_view_count": null,
            "_view_module": "@jupyter-widgets/controls",
            "_view_module_version": "1.5.0",
            "_view_name": "ProgressView",
            "bar_style": "success",
            "description": "",
            "description_tooltip": null,
            "layout": "IPY_MODEL_dfecb583588f4852b6feda3fe81e24c0",
            "max": 898823,
            "min": 0,
            "orientation": "horizontal",
            "style": "IPY_MODEL_40ae774417d6423c9748fc26bcbe3c84",
            "value": 898823
          }
        },
        "3e1913eaa7174cb5b743d008a3500c2a": {
          "model_module": "@jupyter-widgets/controls",
          "model_name": "HTMLModel",
          "model_module_version": "1.5.0",
          "state": {
            "_dom_classes": [],
            "_model_module": "@jupyter-widgets/controls",
            "_model_module_version": "1.5.0",
            "_model_name": "HTMLModel",
            "_view_count": null,
            "_view_module": "@jupyter-widgets/controls",
            "_view_module_version": "1.5.0",
            "_view_name": "HTMLView",
            "description": "",
            "description_tooltip": null,
            "layout": "IPY_MODEL_07f1907861ee48ce851049aa5d6f9a4a",
            "placeholder": "​",
            "style": "IPY_MODEL_4f440bb0559e455aaa888ac2a947461b",
            "value": " 899k/899k [00:00&lt;00:00, 10.8MB/s]"
          }
        },
        "da62878c15b74faeb63bb0da9e1c1345": {
          "model_module": "@jupyter-widgets/base",
          "model_name": "LayoutModel",
          "model_module_version": "1.2.0",
          "state": {
            "_model_module": "@jupyter-widgets/base",
            "_model_module_version": "1.2.0",
            "_model_name": "LayoutModel",
            "_view_count": null,
            "_view_module": "@jupyter-widgets/base",
            "_view_module_version": "1.2.0",
            "_view_name": "LayoutView",
            "align_content": null,
            "align_items": null,
            "align_self": null,
            "border": null,
            "bottom": null,
            "display": null,
            "flex": null,
            "flex_flow": null,
            "grid_area": null,
            "grid_auto_columns": null,
            "grid_auto_flow": null,
            "grid_auto_rows": null,
            "grid_column": null,
            "grid_gap": null,
            "grid_row": null,
            "grid_template_areas": null,
            "grid_template_columns": null,
            "grid_template_rows": null,
            "height": null,
            "justify_content": null,
            "justify_items": null,
            "left": null,
            "margin": null,
            "max_height": null,
            "max_width": null,
            "min_height": null,
            "min_width": null,
            "object_fit": null,
            "object_position": null,
            "order": null,
            "overflow": null,
            "overflow_x": null,
            "overflow_y": null,
            "padding": null,
            "right": null,
            "top": null,
            "visibility": null,
            "width": null
          }
        },
        "2a91d72570594c27b5b84ebcb99939a7": {
          "model_module": "@jupyter-widgets/base",
          "model_name": "LayoutModel",
          "model_module_version": "1.2.0",
          "state": {
            "_model_module": "@jupyter-widgets/base",
            "_model_module_version": "1.2.0",
            "_model_name": "LayoutModel",
            "_view_count": null,
            "_view_module": "@jupyter-widgets/base",
            "_view_module_version": "1.2.0",
            "_view_name": "LayoutView",
            "align_content": null,
            "align_items": null,
            "align_self": null,
            "border": null,
            "bottom": null,
            "display": null,
            "flex": null,
            "flex_flow": null,
            "grid_area": null,
            "grid_auto_columns": null,
            "grid_auto_flow": null,
            "grid_auto_rows": null,
            "grid_column": null,
            "grid_gap": null,
            "grid_row": null,
            "grid_template_areas": null,
            "grid_template_columns": null,
            "grid_template_rows": null,
            "height": null,
            "justify_content": null,
            "justify_items": null,
            "left": null,
            "margin": null,
            "max_height": null,
            "max_width": null,
            "min_height": null,
            "min_width": null,
            "object_fit": null,
            "object_position": null,
            "order": null,
            "overflow": null,
            "overflow_x": null,
            "overflow_y": null,
            "padding": null,
            "right": null,
            "top": null,
            "visibility": null,
            "width": null
          }
        },
        "68e549b2bf7c4e6792fceb568a440cbf": {
          "model_module": "@jupyter-widgets/controls",
          "model_name": "DescriptionStyleModel",
          "model_module_version": "1.5.0",
          "state": {
            "_model_module": "@jupyter-widgets/controls",
            "_model_module_version": "1.5.0",
            "_model_name": "DescriptionStyleModel",
            "_view_count": null,
            "_view_module": "@jupyter-widgets/base",
            "_view_module_version": "1.2.0",
            "_view_name": "StyleView",
            "description_width": ""
          }
        },
        "dfecb583588f4852b6feda3fe81e24c0": {
          "model_module": "@jupyter-widgets/base",
          "model_name": "LayoutModel",
          "model_module_version": "1.2.0",
          "state": {
            "_model_module": "@jupyter-widgets/base",
            "_model_module_version": "1.2.0",
            "_model_name": "LayoutModel",
            "_view_count": null,
            "_view_module": "@jupyter-widgets/base",
            "_view_module_version": "1.2.0",
            "_view_name": "LayoutView",
            "align_content": null,
            "align_items": null,
            "align_self": null,
            "border": null,
            "bottom": null,
            "display": null,
            "flex": null,
            "flex_flow": null,
            "grid_area": null,
            "grid_auto_columns": null,
            "grid_auto_flow": null,
            "grid_auto_rows": null,
            "grid_column": null,
            "grid_gap": null,
            "grid_row": null,
            "grid_template_areas": null,
            "grid_template_columns": null,
            "grid_template_rows": null,
            "height": null,
            "justify_content": null,
            "justify_items": null,
            "left": null,
            "margin": null,
            "max_height": null,
            "max_width": null,
            "min_height": null,
            "min_width": null,
            "object_fit": null,
            "object_position": null,
            "order": null,
            "overflow": null,
            "overflow_x": null,
            "overflow_y": null,
            "padding": null,
            "right": null,
            "top": null,
            "visibility": null,
            "width": null
          }
        },
        "40ae774417d6423c9748fc26bcbe3c84": {
          "model_module": "@jupyter-widgets/controls",
          "model_name": "ProgressStyleModel",
          "model_module_version": "1.5.0",
          "state": {
            "_model_module": "@jupyter-widgets/controls",
            "_model_module_version": "1.5.0",
            "_model_name": "ProgressStyleModel",
            "_view_count": null,
            "_view_module": "@jupyter-widgets/base",
            "_view_module_version": "1.2.0",
            "_view_name": "StyleView",
            "bar_color": null,
            "description_width": ""
          }
        },
        "07f1907861ee48ce851049aa5d6f9a4a": {
          "model_module": "@jupyter-widgets/base",
          "model_name": "LayoutModel",
          "model_module_version": "1.2.0",
          "state": {
            "_model_module": "@jupyter-widgets/base",
            "_model_module_version": "1.2.0",
            "_model_name": "LayoutModel",
            "_view_count": null,
            "_view_module": "@jupyter-widgets/base",
            "_view_module_version": "1.2.0",
            "_view_name": "LayoutView",
            "align_content": null,
            "align_items": null,
            "align_self": null,
            "border": null,
            "bottom": null,
            "display": null,
            "flex": null,
            "flex_flow": null,
            "grid_area": null,
            "grid_auto_columns": null,
            "grid_auto_flow": null,
            "grid_auto_rows": null,
            "grid_column": null,
            "grid_gap": null,
            "grid_row": null,
            "grid_template_areas": null,
            "grid_template_columns": null,
            "grid_template_rows": null,
            "height": null,
            "justify_content": null,
            "justify_items": null,
            "left": null,
            "margin": null,
            "max_height": null,
            "max_width": null,
            "min_height": null,
            "min_width": null,
            "object_fit": null,
            "object_position": null,
            "order": null,
            "overflow": null,
            "overflow_x": null,
            "overflow_y": null,
            "padding": null,
            "right": null,
            "top": null,
            "visibility": null,
            "width": null
          }
        },
        "4f440bb0559e455aaa888ac2a947461b": {
          "model_module": "@jupyter-widgets/controls",
          "model_name": "DescriptionStyleModel",
          "model_module_version": "1.5.0",
          "state": {
            "_model_module": "@jupyter-widgets/controls",
            "_model_module_version": "1.5.0",
            "_model_name": "DescriptionStyleModel",
            "_view_count": null,
            "_view_module": "@jupyter-widgets/base",
            "_view_module_version": "1.2.0",
            "_view_name": "StyleView",
            "description_width": ""
          }
        },
        "f92c0667889844f7b5e3cdfd11f603c5": {
          "model_module": "@jupyter-widgets/controls",
          "model_name": "HBoxModel",
          "model_module_version": "1.5.0",
          "state": {
            "_dom_classes": [],
            "_model_module": "@jupyter-widgets/controls",
            "_model_module_version": "1.5.0",
            "_model_name": "HBoxModel",
            "_view_count": null,
            "_view_module": "@jupyter-widgets/controls",
            "_view_module_version": "1.5.0",
            "_view_name": "HBoxView",
            "box_style": "",
            "children": [
              "IPY_MODEL_f75eaef702ce45adb3cabb94341cd677",
              "IPY_MODEL_ac33eaea191d4c1583266f679f15ee8d",
              "IPY_MODEL_510216f1db2b4bd9a11a7c7ca5622103"
            ],
            "layout": "IPY_MODEL_8ab097210af945caa9e8c58c51272292"
          }
        },
        "f75eaef702ce45adb3cabb94341cd677": {
          "model_module": "@jupyter-widgets/controls",
          "model_name": "HTMLModel",
          "model_module_version": "1.5.0",
          "state": {
            "_dom_classes": [],
            "_model_module": "@jupyter-widgets/controls",
            "_model_module_version": "1.5.0",
            "_model_name": "HTMLModel",
            "_view_count": null,
            "_view_module": "@jupyter-widgets/controls",
            "_view_module_version": "1.5.0",
            "_view_name": "HTMLView",
            "description": "",
            "description_tooltip": null,
            "layout": "IPY_MODEL_0bbd8b2c88e54a36bfd1b1fd62b87684",
            "placeholder": "​",
            "style": "IPY_MODEL_9bd26d40c11149078db79cc69e9919c2",
            "value": "Downloading (…)olve/main/merges.txt: 100%"
          }
        },
        "ac33eaea191d4c1583266f679f15ee8d": {
          "model_module": "@jupyter-widgets/controls",
          "model_name": "FloatProgressModel",
          "model_module_version": "1.5.0",
          "state": {
            "_dom_classes": [],
            "_model_module": "@jupyter-widgets/controls",
            "_model_module_version": "1.5.0",
            "_model_name": "FloatProgressModel",
            "_view_count": null,
            "_view_module": "@jupyter-widgets/controls",
            "_view_module_version": "1.5.0",
            "_view_name": "ProgressView",
            "bar_style": "success",
            "description": "",
            "description_tooltip": null,
            "layout": "IPY_MODEL_801efdda7bc549a3b0fde80651421c50",
            "max": 456318,
            "min": 0,
            "orientation": "horizontal",
            "style": "IPY_MODEL_d4333f546b3c47bc9a7a7446042737d5",
            "value": 456318
          }
        },
        "510216f1db2b4bd9a11a7c7ca5622103": {
          "model_module": "@jupyter-widgets/controls",
          "model_name": "HTMLModel",
          "model_module_version": "1.5.0",
          "state": {
            "_dom_classes": [],
            "_model_module": "@jupyter-widgets/controls",
            "_model_module_version": "1.5.0",
            "_model_name": "HTMLModel",
            "_view_count": null,
            "_view_module": "@jupyter-widgets/controls",
            "_view_module_version": "1.5.0",
            "_view_name": "HTMLView",
            "description": "",
            "description_tooltip": null,
            "layout": "IPY_MODEL_8c5bf4a09e264164b16d05bf066945bd",
            "placeholder": "​",
            "style": "IPY_MODEL_760ef4bb2b794a658a40cd9d1a62c14a",
            "value": " 456k/456k [00:00&lt;00:00, 7.11MB/s]"
          }
        },
        "8ab097210af945caa9e8c58c51272292": {
          "model_module": "@jupyter-widgets/base",
          "model_name": "LayoutModel",
          "model_module_version": "1.2.0",
          "state": {
            "_model_module": "@jupyter-widgets/base",
            "_model_module_version": "1.2.0",
            "_model_name": "LayoutModel",
            "_view_count": null,
            "_view_module": "@jupyter-widgets/base",
            "_view_module_version": "1.2.0",
            "_view_name": "LayoutView",
            "align_content": null,
            "align_items": null,
            "align_self": null,
            "border": null,
            "bottom": null,
            "display": null,
            "flex": null,
            "flex_flow": null,
            "grid_area": null,
            "grid_auto_columns": null,
            "grid_auto_flow": null,
            "grid_auto_rows": null,
            "grid_column": null,
            "grid_gap": null,
            "grid_row": null,
            "grid_template_areas": null,
            "grid_template_columns": null,
            "grid_template_rows": null,
            "height": null,
            "justify_content": null,
            "justify_items": null,
            "left": null,
            "margin": null,
            "max_height": null,
            "max_width": null,
            "min_height": null,
            "min_width": null,
            "object_fit": null,
            "object_position": null,
            "order": null,
            "overflow": null,
            "overflow_x": null,
            "overflow_y": null,
            "padding": null,
            "right": null,
            "top": null,
            "visibility": null,
            "width": null
          }
        },
        "0bbd8b2c88e54a36bfd1b1fd62b87684": {
          "model_module": "@jupyter-widgets/base",
          "model_name": "LayoutModel",
          "model_module_version": "1.2.0",
          "state": {
            "_model_module": "@jupyter-widgets/base",
            "_model_module_version": "1.2.0",
            "_model_name": "LayoutModel",
            "_view_count": null,
            "_view_module": "@jupyter-widgets/base",
            "_view_module_version": "1.2.0",
            "_view_name": "LayoutView",
            "align_content": null,
            "align_items": null,
            "align_self": null,
            "border": null,
            "bottom": null,
            "display": null,
            "flex": null,
            "flex_flow": null,
            "grid_area": null,
            "grid_auto_columns": null,
            "grid_auto_flow": null,
            "grid_auto_rows": null,
            "grid_column": null,
            "grid_gap": null,
            "grid_row": null,
            "grid_template_areas": null,
            "grid_template_columns": null,
            "grid_template_rows": null,
            "height": null,
            "justify_content": null,
            "justify_items": null,
            "left": null,
            "margin": null,
            "max_height": null,
            "max_width": null,
            "min_height": null,
            "min_width": null,
            "object_fit": null,
            "object_position": null,
            "order": null,
            "overflow": null,
            "overflow_x": null,
            "overflow_y": null,
            "padding": null,
            "right": null,
            "top": null,
            "visibility": null,
            "width": null
          }
        },
        "9bd26d40c11149078db79cc69e9919c2": {
          "model_module": "@jupyter-widgets/controls",
          "model_name": "DescriptionStyleModel",
          "model_module_version": "1.5.0",
          "state": {
            "_model_module": "@jupyter-widgets/controls",
            "_model_module_version": "1.5.0",
            "_model_name": "DescriptionStyleModel",
            "_view_count": null,
            "_view_module": "@jupyter-widgets/base",
            "_view_module_version": "1.2.0",
            "_view_name": "StyleView",
            "description_width": ""
          }
        },
        "801efdda7bc549a3b0fde80651421c50": {
          "model_module": "@jupyter-widgets/base",
          "model_name": "LayoutModel",
          "model_module_version": "1.2.0",
          "state": {
            "_model_module": "@jupyter-widgets/base",
            "_model_module_version": "1.2.0",
            "_model_name": "LayoutModel",
            "_view_count": null,
            "_view_module": "@jupyter-widgets/base",
            "_view_module_version": "1.2.0",
            "_view_name": "LayoutView",
            "align_content": null,
            "align_items": null,
            "align_self": null,
            "border": null,
            "bottom": null,
            "display": null,
            "flex": null,
            "flex_flow": null,
            "grid_area": null,
            "grid_auto_columns": null,
            "grid_auto_flow": null,
            "grid_auto_rows": null,
            "grid_column": null,
            "grid_gap": null,
            "grid_row": null,
            "grid_template_areas": null,
            "grid_template_columns": null,
            "grid_template_rows": null,
            "height": null,
            "justify_content": null,
            "justify_items": null,
            "left": null,
            "margin": null,
            "max_height": null,
            "max_width": null,
            "min_height": null,
            "min_width": null,
            "object_fit": null,
            "object_position": null,
            "order": null,
            "overflow": null,
            "overflow_x": null,
            "overflow_y": null,
            "padding": null,
            "right": null,
            "top": null,
            "visibility": null,
            "width": null
          }
        },
        "d4333f546b3c47bc9a7a7446042737d5": {
          "model_module": "@jupyter-widgets/controls",
          "model_name": "ProgressStyleModel",
          "model_module_version": "1.5.0",
          "state": {
            "_model_module": "@jupyter-widgets/controls",
            "_model_module_version": "1.5.0",
            "_model_name": "ProgressStyleModel",
            "_view_count": null,
            "_view_module": "@jupyter-widgets/base",
            "_view_module_version": "1.2.0",
            "_view_name": "StyleView",
            "bar_color": null,
            "description_width": ""
          }
        },
        "8c5bf4a09e264164b16d05bf066945bd": {
          "model_module": "@jupyter-widgets/base",
          "model_name": "LayoutModel",
          "model_module_version": "1.2.0",
          "state": {
            "_model_module": "@jupyter-widgets/base",
            "_model_module_version": "1.2.0",
            "_model_name": "LayoutModel",
            "_view_count": null,
            "_view_module": "@jupyter-widgets/base",
            "_view_module_version": "1.2.0",
            "_view_name": "LayoutView",
            "align_content": null,
            "align_items": null,
            "align_self": null,
            "border": null,
            "bottom": null,
            "display": null,
            "flex": null,
            "flex_flow": null,
            "grid_area": null,
            "grid_auto_columns": null,
            "grid_auto_flow": null,
            "grid_auto_rows": null,
            "grid_column": null,
            "grid_gap": null,
            "grid_row": null,
            "grid_template_areas": null,
            "grid_template_columns": null,
            "grid_template_rows": null,
            "height": null,
            "justify_content": null,
            "justify_items": null,
            "left": null,
            "margin": null,
            "max_height": null,
            "max_width": null,
            "min_height": null,
            "min_width": null,
            "object_fit": null,
            "object_position": null,
            "order": null,
            "overflow": null,
            "overflow_x": null,
            "overflow_y": null,
            "padding": null,
            "right": null,
            "top": null,
            "visibility": null,
            "width": null
          }
        },
        "760ef4bb2b794a658a40cd9d1a62c14a": {
          "model_module": "@jupyter-widgets/controls",
          "model_name": "DescriptionStyleModel",
          "model_module_version": "1.5.0",
          "state": {
            "_model_module": "@jupyter-widgets/controls",
            "_model_module_version": "1.5.0",
            "_model_name": "DescriptionStyleModel",
            "_view_count": null,
            "_view_module": "@jupyter-widgets/base",
            "_view_module_version": "1.2.0",
            "_view_name": "StyleView",
            "description_width": ""
          }
        },
        "d07b3a17a2f5480ebbb04aa67ff3367a": {
          "model_module": "@jupyter-widgets/controls",
          "model_name": "HBoxModel",
          "model_module_version": "1.5.0",
          "state": {
            "_dom_classes": [],
            "_model_module": "@jupyter-widgets/controls",
            "_model_module_version": "1.5.0",
            "_model_name": "HBoxModel",
            "_view_count": null,
            "_view_module": "@jupyter-widgets/controls",
            "_view_module_version": "1.5.0",
            "_view_name": "HBoxView",
            "box_style": "",
            "children": [
              "IPY_MODEL_eeaf50f600a84a48aa6101dd475dba8f",
              "IPY_MODEL_d8f80a9a0814453c8d9e41a57a280175",
              "IPY_MODEL_1b9308f0876244b989503bcc3aac21e9"
            ],
            "layout": "IPY_MODEL_a8bfb907f87449d8b88c20e1298467bd"
          }
        },
        "eeaf50f600a84a48aa6101dd475dba8f": {
          "model_module": "@jupyter-widgets/controls",
          "model_name": "HTMLModel",
          "model_module_version": "1.5.0",
          "state": {
            "_dom_classes": [],
            "_model_module": "@jupyter-widgets/controls",
            "_model_module_version": "1.5.0",
            "_model_name": "HTMLModel",
            "_view_count": null,
            "_view_module": "@jupyter-widgets/controls",
            "_view_module_version": "1.5.0",
            "_view_name": "HTMLView",
            "description": "",
            "description_tooltip": null,
            "layout": "IPY_MODEL_d7f6335f5bfb440293b0bb3dce306650",
            "placeholder": "​",
            "style": "IPY_MODEL_70ace7611b3e47308ba8bca4a19896fb",
            "value": "Downloading (…)/main/tokenizer.json: 100%"
          }
        },
        "d8f80a9a0814453c8d9e41a57a280175": {
          "model_module": "@jupyter-widgets/controls",
          "model_name": "FloatProgressModel",
          "model_module_version": "1.5.0",
          "state": {
            "_dom_classes": [],
            "_model_module": "@jupyter-widgets/controls",
            "_model_module_version": "1.5.0",
            "_model_name": "FloatProgressModel",
            "_view_count": null,
            "_view_module": "@jupyter-widgets/controls",
            "_view_module_version": "1.5.0",
            "_view_name": "ProgressView",
            "bar_style": "success",
            "description": "",
            "description_tooltip": null,
            "layout": "IPY_MODEL_275d9d9001f842e4b9ef8a152121c2ff",
            "max": 1355863,
            "min": 0,
            "orientation": "horizontal",
            "style": "IPY_MODEL_212d4a994afa475ca0d31f75b7c05d30",
            "value": 1355863
          }
        },
        "1b9308f0876244b989503bcc3aac21e9": {
          "model_module": "@jupyter-widgets/controls",
          "model_name": "HTMLModel",
          "model_module_version": "1.5.0",
          "state": {
            "_dom_classes": [],
            "_model_module": "@jupyter-widgets/controls",
            "_model_module_version": "1.5.0",
            "_model_name": "HTMLModel",
            "_view_count": null,
            "_view_module": "@jupyter-widgets/controls",
            "_view_module_version": "1.5.0",
            "_view_name": "HTMLView",
            "description": "",
            "description_tooltip": null,
            "layout": "IPY_MODEL_097f4501fdb54ef483b8dcec471aa53b",
            "placeholder": "​",
            "style": "IPY_MODEL_8ae7b743cbe943bd90dbacff75ca022d",
            "value": " 1.36M/1.36M [00:00&lt;00:00, 27.7MB/s]"
          }
        },
        "a8bfb907f87449d8b88c20e1298467bd": {
          "model_module": "@jupyter-widgets/base",
          "model_name": "LayoutModel",
          "model_module_version": "1.2.0",
          "state": {
            "_model_module": "@jupyter-widgets/base",
            "_model_module_version": "1.2.0",
            "_model_name": "LayoutModel",
            "_view_count": null,
            "_view_module": "@jupyter-widgets/base",
            "_view_module_version": "1.2.0",
            "_view_name": "LayoutView",
            "align_content": null,
            "align_items": null,
            "align_self": null,
            "border": null,
            "bottom": null,
            "display": null,
            "flex": null,
            "flex_flow": null,
            "grid_area": null,
            "grid_auto_columns": null,
            "grid_auto_flow": null,
            "grid_auto_rows": null,
            "grid_column": null,
            "grid_gap": null,
            "grid_row": null,
            "grid_template_areas": null,
            "grid_template_columns": null,
            "grid_template_rows": null,
            "height": null,
            "justify_content": null,
            "justify_items": null,
            "left": null,
            "margin": null,
            "max_height": null,
            "max_width": null,
            "min_height": null,
            "min_width": null,
            "object_fit": null,
            "object_position": null,
            "order": null,
            "overflow": null,
            "overflow_x": null,
            "overflow_y": null,
            "padding": null,
            "right": null,
            "top": null,
            "visibility": null,
            "width": null
          }
        },
        "d7f6335f5bfb440293b0bb3dce306650": {
          "model_module": "@jupyter-widgets/base",
          "model_name": "LayoutModel",
          "model_module_version": "1.2.0",
          "state": {
            "_model_module": "@jupyter-widgets/base",
            "_model_module_version": "1.2.0",
            "_model_name": "LayoutModel",
            "_view_count": null,
            "_view_module": "@jupyter-widgets/base",
            "_view_module_version": "1.2.0",
            "_view_name": "LayoutView",
            "align_content": null,
            "align_items": null,
            "align_self": null,
            "border": null,
            "bottom": null,
            "display": null,
            "flex": null,
            "flex_flow": null,
            "grid_area": null,
            "grid_auto_columns": null,
            "grid_auto_flow": null,
            "grid_auto_rows": null,
            "grid_column": null,
            "grid_gap": null,
            "grid_row": null,
            "grid_template_areas": null,
            "grid_template_columns": null,
            "grid_template_rows": null,
            "height": null,
            "justify_content": null,
            "justify_items": null,
            "left": null,
            "margin": null,
            "max_height": null,
            "max_width": null,
            "min_height": null,
            "min_width": null,
            "object_fit": null,
            "object_position": null,
            "order": null,
            "overflow": null,
            "overflow_x": null,
            "overflow_y": null,
            "padding": null,
            "right": null,
            "top": null,
            "visibility": null,
            "width": null
          }
        },
        "70ace7611b3e47308ba8bca4a19896fb": {
          "model_module": "@jupyter-widgets/controls",
          "model_name": "DescriptionStyleModel",
          "model_module_version": "1.5.0",
          "state": {
            "_model_module": "@jupyter-widgets/controls",
            "_model_module_version": "1.5.0",
            "_model_name": "DescriptionStyleModel",
            "_view_count": null,
            "_view_module": "@jupyter-widgets/base",
            "_view_module_version": "1.2.0",
            "_view_name": "StyleView",
            "description_width": ""
          }
        },
        "275d9d9001f842e4b9ef8a152121c2ff": {
          "model_module": "@jupyter-widgets/base",
          "model_name": "LayoutModel",
          "model_module_version": "1.2.0",
          "state": {
            "_model_module": "@jupyter-widgets/base",
            "_model_module_version": "1.2.0",
            "_model_name": "LayoutModel",
            "_view_count": null,
            "_view_module": "@jupyter-widgets/base",
            "_view_module_version": "1.2.0",
            "_view_name": "LayoutView",
            "align_content": null,
            "align_items": null,
            "align_self": null,
            "border": null,
            "bottom": null,
            "display": null,
            "flex": null,
            "flex_flow": null,
            "grid_area": null,
            "grid_auto_columns": null,
            "grid_auto_flow": null,
            "grid_auto_rows": null,
            "grid_column": null,
            "grid_gap": null,
            "grid_row": null,
            "grid_template_areas": null,
            "grid_template_columns": null,
            "grid_template_rows": null,
            "height": null,
            "justify_content": null,
            "justify_items": null,
            "left": null,
            "margin": null,
            "max_height": null,
            "max_width": null,
            "min_height": null,
            "min_width": null,
            "object_fit": null,
            "object_position": null,
            "order": null,
            "overflow": null,
            "overflow_x": null,
            "overflow_y": null,
            "padding": null,
            "right": null,
            "top": null,
            "visibility": null,
            "width": null
          }
        },
        "212d4a994afa475ca0d31f75b7c05d30": {
          "model_module": "@jupyter-widgets/controls",
          "model_name": "ProgressStyleModel",
          "model_module_version": "1.5.0",
          "state": {
            "_model_module": "@jupyter-widgets/controls",
            "_model_module_version": "1.5.0",
            "_model_name": "ProgressStyleModel",
            "_view_count": null,
            "_view_module": "@jupyter-widgets/base",
            "_view_module_version": "1.2.0",
            "_view_name": "StyleView",
            "bar_color": null,
            "description_width": ""
          }
        },
        "097f4501fdb54ef483b8dcec471aa53b": {
          "model_module": "@jupyter-widgets/base",
          "model_name": "LayoutModel",
          "model_module_version": "1.2.0",
          "state": {
            "_model_module": "@jupyter-widgets/base",
            "_model_module_version": "1.2.0",
            "_model_name": "LayoutModel",
            "_view_count": null,
            "_view_module": "@jupyter-widgets/base",
            "_view_module_version": "1.2.0",
            "_view_name": "LayoutView",
            "align_content": null,
            "align_items": null,
            "align_self": null,
            "border": null,
            "bottom": null,
            "display": null,
            "flex": null,
            "flex_flow": null,
            "grid_area": null,
            "grid_auto_columns": null,
            "grid_auto_flow": null,
            "grid_auto_rows": null,
            "grid_column": null,
            "grid_gap": null,
            "grid_row": null,
            "grid_template_areas": null,
            "grid_template_columns": null,
            "grid_template_rows": null,
            "height": null,
            "justify_content": null,
            "justify_items": null,
            "left": null,
            "margin": null,
            "max_height": null,
            "max_width": null,
            "min_height": null,
            "min_width": null,
            "object_fit": null,
            "object_position": null,
            "order": null,
            "overflow": null,
            "overflow_x": null,
            "overflow_y": null,
            "padding": null,
            "right": null,
            "top": null,
            "visibility": null,
            "width": null
          }
        },
        "8ae7b743cbe943bd90dbacff75ca022d": {
          "model_module": "@jupyter-widgets/controls",
          "model_name": "DescriptionStyleModel",
          "model_module_version": "1.5.0",
          "state": {
            "_model_module": "@jupyter-widgets/controls",
            "_model_module_version": "1.5.0",
            "_model_name": "DescriptionStyleModel",
            "_view_count": null,
            "_view_module": "@jupyter-widgets/base",
            "_view_module_version": "1.2.0",
            "_view_name": "StyleView",
            "description_width": ""
          }
        },
        "57f92f69a1ac4303abb5698103b090ce": {
          "model_module": "@jupyter-widgets/controls",
          "model_name": "HBoxModel",
          "model_module_version": "1.5.0",
          "state": {
            "_dom_classes": [],
            "_model_module": "@jupyter-widgets/controls",
            "_model_module_version": "1.5.0",
            "_model_name": "HBoxModel",
            "_view_count": null,
            "_view_module": "@jupyter-widgets/controls",
            "_view_module_version": "1.5.0",
            "_view_name": "HBoxView",
            "box_style": "",
            "children": [
              "IPY_MODEL_9cef26d3a4ea42429d1366864817b02f",
              "IPY_MODEL_381255cc64f84b61bfbf7ddea3488d93",
              "IPY_MODEL_3c633800f9b4484c8516c76f846cdb32"
            ],
            "layout": "IPY_MODEL_01ea38bf088f4b5c99af153c9777faff"
          }
        },
        "9cef26d3a4ea42429d1366864817b02f": {
          "model_module": "@jupyter-widgets/controls",
          "model_name": "HTMLModel",
          "model_module_version": "1.5.0",
          "state": {
            "_dom_classes": [],
            "_model_module": "@jupyter-widgets/controls",
            "_model_module_version": "1.5.0",
            "_model_name": "HTMLModel",
            "_view_count": null,
            "_view_module": "@jupyter-widgets/controls",
            "_view_module_version": "1.5.0",
            "_view_name": "HTMLView",
            "description": "",
            "description_tooltip": null,
            "layout": "IPY_MODEL_dd38af5704924778ad7bf09194a05b82",
            "placeholder": "​",
            "style": "IPY_MODEL_1575d36647a14f0ea69c47987197f45f",
            "value": "Map:  99%"
          }
        },
        "381255cc64f84b61bfbf7ddea3488d93": {
          "model_module": "@jupyter-widgets/controls",
          "model_name": "FloatProgressModel",
          "model_module_version": "1.5.0",
          "state": {
            "_dom_classes": [],
            "_model_module": "@jupyter-widgets/controls",
            "_model_module_version": "1.5.0",
            "_model_name": "FloatProgressModel",
            "_view_count": null,
            "_view_module": "@jupyter-widgets/controls",
            "_view_module_version": "1.5.0",
            "_view_name": "ProgressView",
            "bar_style": "",
            "description": "",
            "description_tooltip": null,
            "layout": "IPY_MODEL_427eb36c86804f9788218a8c6a8f14ec",
            "max": 1280,
            "min": 0,
            "orientation": "horizontal",
            "style": "IPY_MODEL_382258e49314424e93b66118bf1d8e67",
            "value": 1280
          }
        },
        "3c633800f9b4484c8516c76f846cdb32": {
          "model_module": "@jupyter-widgets/controls",
          "model_name": "HTMLModel",
          "model_module_version": "1.5.0",
          "state": {
            "_dom_classes": [],
            "_model_module": "@jupyter-widgets/controls",
            "_model_module_version": "1.5.0",
            "_model_name": "HTMLModel",
            "_view_count": null,
            "_view_module": "@jupyter-widgets/controls",
            "_view_module_version": "1.5.0",
            "_view_name": "HTMLView",
            "description": "",
            "description_tooltip": null,
            "layout": "IPY_MODEL_719d83c4d2a7494991c66d7bbb820742",
            "placeholder": "​",
            "style": "IPY_MODEL_e4541879dea14bc79055460bdc3d1ec0",
            "value": " 1264/1280 [00:02&lt;00:00, 407.09 examples/s]"
          }
        },
        "01ea38bf088f4b5c99af153c9777faff": {
          "model_module": "@jupyter-widgets/base",
          "model_name": "LayoutModel",
          "model_module_version": "1.2.0",
          "state": {
            "_model_module": "@jupyter-widgets/base",
            "_model_module_version": "1.2.0",
            "_model_name": "LayoutModel",
            "_view_count": null,
            "_view_module": "@jupyter-widgets/base",
            "_view_module_version": "1.2.0",
            "_view_name": "LayoutView",
            "align_content": null,
            "align_items": null,
            "align_self": null,
            "border": null,
            "bottom": null,
            "display": null,
            "flex": null,
            "flex_flow": null,
            "grid_area": null,
            "grid_auto_columns": null,
            "grid_auto_flow": null,
            "grid_auto_rows": null,
            "grid_column": null,
            "grid_gap": null,
            "grid_row": null,
            "grid_template_areas": null,
            "grid_template_columns": null,
            "grid_template_rows": null,
            "height": null,
            "justify_content": null,
            "justify_items": null,
            "left": null,
            "margin": null,
            "max_height": null,
            "max_width": null,
            "min_height": null,
            "min_width": null,
            "object_fit": null,
            "object_position": null,
            "order": null,
            "overflow": null,
            "overflow_x": null,
            "overflow_y": null,
            "padding": null,
            "right": null,
            "top": null,
            "visibility": "hidden",
            "width": null
          }
        },
        "dd38af5704924778ad7bf09194a05b82": {
          "model_module": "@jupyter-widgets/base",
          "model_name": "LayoutModel",
          "model_module_version": "1.2.0",
          "state": {
            "_model_module": "@jupyter-widgets/base",
            "_model_module_version": "1.2.0",
            "_model_name": "LayoutModel",
            "_view_count": null,
            "_view_module": "@jupyter-widgets/base",
            "_view_module_version": "1.2.0",
            "_view_name": "LayoutView",
            "align_content": null,
            "align_items": null,
            "align_self": null,
            "border": null,
            "bottom": null,
            "display": null,
            "flex": null,
            "flex_flow": null,
            "grid_area": null,
            "grid_auto_columns": null,
            "grid_auto_flow": null,
            "grid_auto_rows": null,
            "grid_column": null,
            "grid_gap": null,
            "grid_row": null,
            "grid_template_areas": null,
            "grid_template_columns": null,
            "grid_template_rows": null,
            "height": null,
            "justify_content": null,
            "justify_items": null,
            "left": null,
            "margin": null,
            "max_height": null,
            "max_width": null,
            "min_height": null,
            "min_width": null,
            "object_fit": null,
            "object_position": null,
            "order": null,
            "overflow": null,
            "overflow_x": null,
            "overflow_y": null,
            "padding": null,
            "right": null,
            "top": null,
            "visibility": null,
            "width": null
          }
        },
        "1575d36647a14f0ea69c47987197f45f": {
          "model_module": "@jupyter-widgets/controls",
          "model_name": "DescriptionStyleModel",
          "model_module_version": "1.5.0",
          "state": {
            "_model_module": "@jupyter-widgets/controls",
            "_model_module_version": "1.5.0",
            "_model_name": "DescriptionStyleModel",
            "_view_count": null,
            "_view_module": "@jupyter-widgets/base",
            "_view_module_version": "1.2.0",
            "_view_name": "StyleView",
            "description_width": ""
          }
        },
        "427eb36c86804f9788218a8c6a8f14ec": {
          "model_module": "@jupyter-widgets/base",
          "model_name": "LayoutModel",
          "model_module_version": "1.2.0",
          "state": {
            "_model_module": "@jupyter-widgets/base",
            "_model_module_version": "1.2.0",
            "_model_name": "LayoutModel",
            "_view_count": null,
            "_view_module": "@jupyter-widgets/base",
            "_view_module_version": "1.2.0",
            "_view_name": "LayoutView",
            "align_content": null,
            "align_items": null,
            "align_self": null,
            "border": null,
            "bottom": null,
            "display": null,
            "flex": null,
            "flex_flow": null,
            "grid_area": null,
            "grid_auto_columns": null,
            "grid_auto_flow": null,
            "grid_auto_rows": null,
            "grid_column": null,
            "grid_gap": null,
            "grid_row": null,
            "grid_template_areas": null,
            "grid_template_columns": null,
            "grid_template_rows": null,
            "height": null,
            "justify_content": null,
            "justify_items": null,
            "left": null,
            "margin": null,
            "max_height": null,
            "max_width": null,
            "min_height": null,
            "min_width": null,
            "object_fit": null,
            "object_position": null,
            "order": null,
            "overflow": null,
            "overflow_x": null,
            "overflow_y": null,
            "padding": null,
            "right": null,
            "top": null,
            "visibility": null,
            "width": null
          }
        },
        "382258e49314424e93b66118bf1d8e67": {
          "model_module": "@jupyter-widgets/controls",
          "model_name": "ProgressStyleModel",
          "model_module_version": "1.5.0",
          "state": {
            "_model_module": "@jupyter-widgets/controls",
            "_model_module_version": "1.5.0",
            "_model_name": "ProgressStyleModel",
            "_view_count": null,
            "_view_module": "@jupyter-widgets/base",
            "_view_module_version": "1.2.0",
            "_view_name": "StyleView",
            "bar_color": null,
            "description_width": ""
          }
        },
        "719d83c4d2a7494991c66d7bbb820742": {
          "model_module": "@jupyter-widgets/base",
          "model_name": "LayoutModel",
          "model_module_version": "1.2.0",
          "state": {
            "_model_module": "@jupyter-widgets/base",
            "_model_module_version": "1.2.0",
            "_model_name": "LayoutModel",
            "_view_count": null,
            "_view_module": "@jupyter-widgets/base",
            "_view_module_version": "1.2.0",
            "_view_name": "LayoutView",
            "align_content": null,
            "align_items": null,
            "align_self": null,
            "border": null,
            "bottom": null,
            "display": null,
            "flex": null,
            "flex_flow": null,
            "grid_area": null,
            "grid_auto_columns": null,
            "grid_auto_flow": null,
            "grid_auto_rows": null,
            "grid_column": null,
            "grid_gap": null,
            "grid_row": null,
            "grid_template_areas": null,
            "grid_template_columns": null,
            "grid_template_rows": null,
            "height": null,
            "justify_content": null,
            "justify_items": null,
            "left": null,
            "margin": null,
            "max_height": null,
            "max_width": null,
            "min_height": null,
            "min_width": null,
            "object_fit": null,
            "object_position": null,
            "order": null,
            "overflow": null,
            "overflow_x": null,
            "overflow_y": null,
            "padding": null,
            "right": null,
            "top": null,
            "visibility": null,
            "width": null
          }
        },
        "e4541879dea14bc79055460bdc3d1ec0": {
          "model_module": "@jupyter-widgets/controls",
          "model_name": "DescriptionStyleModel",
          "model_module_version": "1.5.0",
          "state": {
            "_model_module": "@jupyter-widgets/controls",
            "_model_module_version": "1.5.0",
            "_model_name": "DescriptionStyleModel",
            "_view_count": null,
            "_view_module": "@jupyter-widgets/base",
            "_view_module_version": "1.2.0",
            "_view_name": "StyleView",
            "description_width": ""
          }
        },
        "2f29aee9a8194f16a264982e9cb9df83": {
          "model_module": "@jupyter-widgets/controls",
          "model_name": "HBoxModel",
          "model_module_version": "1.5.0",
          "state": {
            "_dom_classes": [],
            "_model_module": "@jupyter-widgets/controls",
            "_model_module_version": "1.5.0",
            "_model_name": "HBoxModel",
            "_view_count": null,
            "_view_module": "@jupyter-widgets/controls",
            "_view_module_version": "1.5.0",
            "_view_name": "HBoxView",
            "box_style": "",
            "children": [
              "IPY_MODEL_c16ca96734e6494188b74839a2de1e20",
              "IPY_MODEL_0b9575e68f1a47899ea62fc9b968fde1",
              "IPY_MODEL_bff410585fc04a8c88d3e9f6cafcfdcb"
            ],
            "layout": "IPY_MODEL_e1bb66ed78f04d469620477b9acafcfd"
          }
        },
        "c16ca96734e6494188b74839a2de1e20": {
          "model_module": "@jupyter-widgets/controls",
          "model_name": "HTMLModel",
          "model_module_version": "1.5.0",
          "state": {
            "_dom_classes": [],
            "_model_module": "@jupyter-widgets/controls",
            "_model_module_version": "1.5.0",
            "_model_name": "HTMLModel",
            "_view_count": null,
            "_view_module": "@jupyter-widgets/controls",
            "_view_module_version": "1.5.0",
            "_view_name": "HTMLView",
            "description": "",
            "description_tooltip": null,
            "layout": "IPY_MODEL_36bdbc9c578f41e69d0f46fb560b91dc",
            "placeholder": "​",
            "style": "IPY_MODEL_8d6c7a0d0dee4614996ca6bcdfe141ae",
            "value": "Map:  99%"
          }
        },
        "0b9575e68f1a47899ea62fc9b968fde1": {
          "model_module": "@jupyter-widgets/controls",
          "model_name": "FloatProgressModel",
          "model_module_version": "1.5.0",
          "state": {
            "_dom_classes": [],
            "_model_module": "@jupyter-widgets/controls",
            "_model_module_version": "1.5.0",
            "_model_name": "FloatProgressModel",
            "_view_count": null,
            "_view_module": "@jupyter-widgets/controls",
            "_view_module_version": "1.5.0",
            "_view_name": "ProgressView",
            "bar_style": "",
            "description": "",
            "description_tooltip": null,
            "layout": "IPY_MODEL_9ffc36087e5047d8abf3f655a5383fc7",
            "max": 320,
            "min": 0,
            "orientation": "horizontal",
            "style": "IPY_MODEL_fa29b505d92942c2a001ec1af059f0ec",
            "value": 320
          }
        },
        "bff410585fc04a8c88d3e9f6cafcfdcb": {
          "model_module": "@jupyter-widgets/controls",
          "model_name": "HTMLModel",
          "model_module_version": "1.5.0",
          "state": {
            "_dom_classes": [],
            "_model_module": "@jupyter-widgets/controls",
            "_model_module_version": "1.5.0",
            "_model_name": "HTMLModel",
            "_view_count": null,
            "_view_module": "@jupyter-widgets/controls",
            "_view_module_version": "1.5.0",
            "_view_name": "HTMLView",
            "description": "",
            "description_tooltip": null,
            "layout": "IPY_MODEL_424c150d2c444932b897ccc145f3a9ab",
            "placeholder": "​",
            "style": "IPY_MODEL_6d843fd9d88c44389cd9544ee8bf792e",
            "value": " 316/320 [00:00&lt;00:00, 567.56 examples/s]"
          }
        },
        "e1bb66ed78f04d469620477b9acafcfd": {
          "model_module": "@jupyter-widgets/base",
          "model_name": "LayoutModel",
          "model_module_version": "1.2.0",
          "state": {
            "_model_module": "@jupyter-widgets/base",
            "_model_module_version": "1.2.0",
            "_model_name": "LayoutModel",
            "_view_count": null,
            "_view_module": "@jupyter-widgets/base",
            "_view_module_version": "1.2.0",
            "_view_name": "LayoutView",
            "align_content": null,
            "align_items": null,
            "align_self": null,
            "border": null,
            "bottom": null,
            "display": null,
            "flex": null,
            "flex_flow": null,
            "grid_area": null,
            "grid_auto_columns": null,
            "grid_auto_flow": null,
            "grid_auto_rows": null,
            "grid_column": null,
            "grid_gap": null,
            "grid_row": null,
            "grid_template_areas": null,
            "grid_template_columns": null,
            "grid_template_rows": null,
            "height": null,
            "justify_content": null,
            "justify_items": null,
            "left": null,
            "margin": null,
            "max_height": null,
            "max_width": null,
            "min_height": null,
            "min_width": null,
            "object_fit": null,
            "object_position": null,
            "order": null,
            "overflow": null,
            "overflow_x": null,
            "overflow_y": null,
            "padding": null,
            "right": null,
            "top": null,
            "visibility": "hidden",
            "width": null
          }
        },
        "36bdbc9c578f41e69d0f46fb560b91dc": {
          "model_module": "@jupyter-widgets/base",
          "model_name": "LayoutModel",
          "model_module_version": "1.2.0",
          "state": {
            "_model_module": "@jupyter-widgets/base",
            "_model_module_version": "1.2.0",
            "_model_name": "LayoutModel",
            "_view_count": null,
            "_view_module": "@jupyter-widgets/base",
            "_view_module_version": "1.2.0",
            "_view_name": "LayoutView",
            "align_content": null,
            "align_items": null,
            "align_self": null,
            "border": null,
            "bottom": null,
            "display": null,
            "flex": null,
            "flex_flow": null,
            "grid_area": null,
            "grid_auto_columns": null,
            "grid_auto_flow": null,
            "grid_auto_rows": null,
            "grid_column": null,
            "grid_gap": null,
            "grid_row": null,
            "grid_template_areas": null,
            "grid_template_columns": null,
            "grid_template_rows": null,
            "height": null,
            "justify_content": null,
            "justify_items": null,
            "left": null,
            "margin": null,
            "max_height": null,
            "max_width": null,
            "min_height": null,
            "min_width": null,
            "object_fit": null,
            "object_position": null,
            "order": null,
            "overflow": null,
            "overflow_x": null,
            "overflow_y": null,
            "padding": null,
            "right": null,
            "top": null,
            "visibility": null,
            "width": null
          }
        },
        "8d6c7a0d0dee4614996ca6bcdfe141ae": {
          "model_module": "@jupyter-widgets/controls",
          "model_name": "DescriptionStyleModel",
          "model_module_version": "1.5.0",
          "state": {
            "_model_module": "@jupyter-widgets/controls",
            "_model_module_version": "1.5.0",
            "_model_name": "DescriptionStyleModel",
            "_view_count": null,
            "_view_module": "@jupyter-widgets/base",
            "_view_module_version": "1.2.0",
            "_view_name": "StyleView",
            "description_width": ""
          }
        },
        "9ffc36087e5047d8abf3f655a5383fc7": {
          "model_module": "@jupyter-widgets/base",
          "model_name": "LayoutModel",
          "model_module_version": "1.2.0",
          "state": {
            "_model_module": "@jupyter-widgets/base",
            "_model_module_version": "1.2.0",
            "_model_name": "LayoutModel",
            "_view_count": null,
            "_view_module": "@jupyter-widgets/base",
            "_view_module_version": "1.2.0",
            "_view_name": "LayoutView",
            "align_content": null,
            "align_items": null,
            "align_self": null,
            "border": null,
            "bottom": null,
            "display": null,
            "flex": null,
            "flex_flow": null,
            "grid_area": null,
            "grid_auto_columns": null,
            "grid_auto_flow": null,
            "grid_auto_rows": null,
            "grid_column": null,
            "grid_gap": null,
            "grid_row": null,
            "grid_template_areas": null,
            "grid_template_columns": null,
            "grid_template_rows": null,
            "height": null,
            "justify_content": null,
            "justify_items": null,
            "left": null,
            "margin": null,
            "max_height": null,
            "max_width": null,
            "min_height": null,
            "min_width": null,
            "object_fit": null,
            "object_position": null,
            "order": null,
            "overflow": null,
            "overflow_x": null,
            "overflow_y": null,
            "padding": null,
            "right": null,
            "top": null,
            "visibility": null,
            "width": null
          }
        },
        "fa29b505d92942c2a001ec1af059f0ec": {
          "model_module": "@jupyter-widgets/controls",
          "model_name": "ProgressStyleModel",
          "model_module_version": "1.5.0",
          "state": {
            "_model_module": "@jupyter-widgets/controls",
            "_model_module_version": "1.5.0",
            "_model_name": "ProgressStyleModel",
            "_view_count": null,
            "_view_module": "@jupyter-widgets/base",
            "_view_module_version": "1.2.0",
            "_view_name": "StyleView",
            "bar_color": null,
            "description_width": ""
          }
        },
        "424c150d2c444932b897ccc145f3a9ab": {
          "model_module": "@jupyter-widgets/base",
          "model_name": "LayoutModel",
          "model_module_version": "1.2.0",
          "state": {
            "_model_module": "@jupyter-widgets/base",
            "_model_module_version": "1.2.0",
            "_model_name": "LayoutModel",
            "_view_count": null,
            "_view_module": "@jupyter-widgets/base",
            "_view_module_version": "1.2.0",
            "_view_name": "LayoutView",
            "align_content": null,
            "align_items": null,
            "align_self": null,
            "border": null,
            "bottom": null,
            "display": null,
            "flex": null,
            "flex_flow": null,
            "grid_area": null,
            "grid_auto_columns": null,
            "grid_auto_flow": null,
            "grid_auto_rows": null,
            "grid_column": null,
            "grid_gap": null,
            "grid_row": null,
            "grid_template_areas": null,
            "grid_template_columns": null,
            "grid_template_rows": null,
            "height": null,
            "justify_content": null,
            "justify_items": null,
            "left": null,
            "margin": null,
            "max_height": null,
            "max_width": null,
            "min_height": null,
            "min_width": null,
            "object_fit": null,
            "object_position": null,
            "order": null,
            "overflow": null,
            "overflow_x": null,
            "overflow_y": null,
            "padding": null,
            "right": null,
            "top": null,
            "visibility": null,
            "width": null
          }
        },
        "6d843fd9d88c44389cd9544ee8bf792e": {
          "model_module": "@jupyter-widgets/controls",
          "model_name": "DescriptionStyleModel",
          "model_module_version": "1.5.0",
          "state": {
            "_model_module": "@jupyter-widgets/controls",
            "_model_module_version": "1.5.0",
            "_model_name": "DescriptionStyleModel",
            "_view_count": null,
            "_view_module": "@jupyter-widgets/base",
            "_view_module_version": "1.2.0",
            "_view_name": "StyleView",
            "description_width": ""
          }
        },
        "388e5861c0924218ac6314d2715b1b48": {
          "model_module": "@jupyter-widgets/controls",
          "model_name": "HBoxModel",
          "model_module_version": "1.5.0",
          "state": {
            "_dom_classes": [],
            "_model_module": "@jupyter-widgets/controls",
            "_model_module_version": "1.5.0",
            "_model_name": "HBoxModel",
            "_view_count": null,
            "_view_module": "@jupyter-widgets/controls",
            "_view_module_version": "1.5.0",
            "_view_name": "HBoxView",
            "box_style": "",
            "children": [
              "IPY_MODEL_56f4abb8224440938dd30d247518ad12",
              "IPY_MODEL_231582e7004e47c482929576bd76a2a1",
              "IPY_MODEL_2f6c067508dc41b0bf7274c5931ee03e"
            ],
            "layout": "IPY_MODEL_e935ad51c94d40e28ee8b49365be7e4d"
          }
        },
        "56f4abb8224440938dd30d247518ad12": {
          "model_module": "@jupyter-widgets/controls",
          "model_name": "HTMLModel",
          "model_module_version": "1.5.0",
          "state": {
            "_dom_classes": [],
            "_model_module": "@jupyter-widgets/controls",
            "_model_module_version": "1.5.0",
            "_model_name": "HTMLModel",
            "_view_count": null,
            "_view_module": "@jupyter-widgets/controls",
            "_view_module_version": "1.5.0",
            "_view_name": "HTMLView",
            "description": "",
            "description_tooltip": null,
            "layout": "IPY_MODEL_a93fac7412844b4881d819d5cf833764",
            "placeholder": "​",
            "style": "IPY_MODEL_7fff39df2d9443c9a2e8ad3472c839b0",
            "value": "Downloading model.safetensors: 100%"
          }
        },
        "231582e7004e47c482929576bd76a2a1": {
          "model_module": "@jupyter-widgets/controls",
          "model_name": "FloatProgressModel",
          "model_module_version": "1.5.0",
          "state": {
            "_dom_classes": [],
            "_model_module": "@jupyter-widgets/controls",
            "_model_module_version": "1.5.0",
            "_model_name": "FloatProgressModel",
            "_view_count": null,
            "_view_module": "@jupyter-widgets/controls",
            "_view_module_version": "1.5.0",
            "_view_name": "ProgressView",
            "bar_style": "success",
            "description": "",
            "description_tooltip": null,
            "layout": "IPY_MODEL_99c343bbdea2456db678aaf762d4cd65",
            "max": 498818054,
            "min": 0,
            "orientation": "horizontal",
            "style": "IPY_MODEL_2d53a28915444d9aa8c768550de79d48",
            "value": 498818054
          }
        },
        "2f6c067508dc41b0bf7274c5931ee03e": {
          "model_module": "@jupyter-widgets/controls",
          "model_name": "HTMLModel",
          "model_module_version": "1.5.0",
          "state": {
            "_dom_classes": [],
            "_model_module": "@jupyter-widgets/controls",
            "_model_module_version": "1.5.0",
            "_model_name": "HTMLModel",
            "_view_count": null,
            "_view_module": "@jupyter-widgets/controls",
            "_view_module_version": "1.5.0",
            "_view_name": "HTMLView",
            "description": "",
            "description_tooltip": null,
            "layout": "IPY_MODEL_8a54cd37612640d0887f59b1860b8fff",
            "placeholder": "​",
            "style": "IPY_MODEL_48d7a88ca9544abe98ff85d9c235f451",
            "value": " 499M/499M [00:07&lt;00:00, 89.7MB/s]"
          }
        },
        "e935ad51c94d40e28ee8b49365be7e4d": {
          "model_module": "@jupyter-widgets/base",
          "model_name": "LayoutModel",
          "model_module_version": "1.2.0",
          "state": {
            "_model_module": "@jupyter-widgets/base",
            "_model_module_version": "1.2.0",
            "_model_name": "LayoutModel",
            "_view_count": null,
            "_view_module": "@jupyter-widgets/base",
            "_view_module_version": "1.2.0",
            "_view_name": "LayoutView",
            "align_content": null,
            "align_items": null,
            "align_self": null,
            "border": null,
            "bottom": null,
            "display": null,
            "flex": null,
            "flex_flow": null,
            "grid_area": null,
            "grid_auto_columns": null,
            "grid_auto_flow": null,
            "grid_auto_rows": null,
            "grid_column": null,
            "grid_gap": null,
            "grid_row": null,
            "grid_template_areas": null,
            "grid_template_columns": null,
            "grid_template_rows": null,
            "height": null,
            "justify_content": null,
            "justify_items": null,
            "left": null,
            "margin": null,
            "max_height": null,
            "max_width": null,
            "min_height": null,
            "min_width": null,
            "object_fit": null,
            "object_position": null,
            "order": null,
            "overflow": null,
            "overflow_x": null,
            "overflow_y": null,
            "padding": null,
            "right": null,
            "top": null,
            "visibility": null,
            "width": null
          }
        },
        "a93fac7412844b4881d819d5cf833764": {
          "model_module": "@jupyter-widgets/base",
          "model_name": "LayoutModel",
          "model_module_version": "1.2.0",
          "state": {
            "_model_module": "@jupyter-widgets/base",
            "_model_module_version": "1.2.0",
            "_model_name": "LayoutModel",
            "_view_count": null,
            "_view_module": "@jupyter-widgets/base",
            "_view_module_version": "1.2.0",
            "_view_name": "LayoutView",
            "align_content": null,
            "align_items": null,
            "align_self": null,
            "border": null,
            "bottom": null,
            "display": null,
            "flex": null,
            "flex_flow": null,
            "grid_area": null,
            "grid_auto_columns": null,
            "grid_auto_flow": null,
            "grid_auto_rows": null,
            "grid_column": null,
            "grid_gap": null,
            "grid_row": null,
            "grid_template_areas": null,
            "grid_template_columns": null,
            "grid_template_rows": null,
            "height": null,
            "justify_content": null,
            "justify_items": null,
            "left": null,
            "margin": null,
            "max_height": null,
            "max_width": null,
            "min_height": null,
            "min_width": null,
            "object_fit": null,
            "object_position": null,
            "order": null,
            "overflow": null,
            "overflow_x": null,
            "overflow_y": null,
            "padding": null,
            "right": null,
            "top": null,
            "visibility": null,
            "width": null
          }
        },
        "7fff39df2d9443c9a2e8ad3472c839b0": {
          "model_module": "@jupyter-widgets/controls",
          "model_name": "DescriptionStyleModel",
          "model_module_version": "1.5.0",
          "state": {
            "_model_module": "@jupyter-widgets/controls",
            "_model_module_version": "1.5.0",
            "_model_name": "DescriptionStyleModel",
            "_view_count": null,
            "_view_module": "@jupyter-widgets/base",
            "_view_module_version": "1.2.0",
            "_view_name": "StyleView",
            "description_width": ""
          }
        },
        "99c343bbdea2456db678aaf762d4cd65": {
          "model_module": "@jupyter-widgets/base",
          "model_name": "LayoutModel",
          "model_module_version": "1.2.0",
          "state": {
            "_model_module": "@jupyter-widgets/base",
            "_model_module_version": "1.2.0",
            "_model_name": "LayoutModel",
            "_view_count": null,
            "_view_module": "@jupyter-widgets/base",
            "_view_module_version": "1.2.0",
            "_view_name": "LayoutView",
            "align_content": null,
            "align_items": null,
            "align_self": null,
            "border": null,
            "bottom": null,
            "display": null,
            "flex": null,
            "flex_flow": null,
            "grid_area": null,
            "grid_auto_columns": null,
            "grid_auto_flow": null,
            "grid_auto_rows": null,
            "grid_column": null,
            "grid_gap": null,
            "grid_row": null,
            "grid_template_areas": null,
            "grid_template_columns": null,
            "grid_template_rows": null,
            "height": null,
            "justify_content": null,
            "justify_items": null,
            "left": null,
            "margin": null,
            "max_height": null,
            "max_width": null,
            "min_height": null,
            "min_width": null,
            "object_fit": null,
            "object_position": null,
            "order": null,
            "overflow": null,
            "overflow_x": null,
            "overflow_y": null,
            "padding": null,
            "right": null,
            "top": null,
            "visibility": null,
            "width": null
          }
        },
        "2d53a28915444d9aa8c768550de79d48": {
          "model_module": "@jupyter-widgets/controls",
          "model_name": "ProgressStyleModel",
          "model_module_version": "1.5.0",
          "state": {
            "_model_module": "@jupyter-widgets/controls",
            "_model_module_version": "1.5.0",
            "_model_name": "ProgressStyleModel",
            "_view_count": null,
            "_view_module": "@jupyter-widgets/base",
            "_view_module_version": "1.2.0",
            "_view_name": "StyleView",
            "bar_color": null,
            "description_width": ""
          }
        },
        "8a54cd37612640d0887f59b1860b8fff": {
          "model_module": "@jupyter-widgets/base",
          "model_name": "LayoutModel",
          "model_module_version": "1.2.0",
          "state": {
            "_model_module": "@jupyter-widgets/base",
            "_model_module_version": "1.2.0",
            "_model_name": "LayoutModel",
            "_view_count": null,
            "_view_module": "@jupyter-widgets/base",
            "_view_module_version": "1.2.0",
            "_view_name": "LayoutView",
            "align_content": null,
            "align_items": null,
            "align_self": null,
            "border": null,
            "bottom": null,
            "display": null,
            "flex": null,
            "flex_flow": null,
            "grid_area": null,
            "grid_auto_columns": null,
            "grid_auto_flow": null,
            "grid_auto_rows": null,
            "grid_column": null,
            "grid_gap": null,
            "grid_row": null,
            "grid_template_areas": null,
            "grid_template_columns": null,
            "grid_template_rows": null,
            "height": null,
            "justify_content": null,
            "justify_items": null,
            "left": null,
            "margin": null,
            "max_height": null,
            "max_width": null,
            "min_height": null,
            "min_width": null,
            "object_fit": null,
            "object_position": null,
            "order": null,
            "overflow": null,
            "overflow_x": null,
            "overflow_y": null,
            "padding": null,
            "right": null,
            "top": null,
            "visibility": null,
            "width": null
          }
        },
        "48d7a88ca9544abe98ff85d9c235f451": {
          "model_module": "@jupyter-widgets/controls",
          "model_name": "DescriptionStyleModel",
          "model_module_version": "1.5.0",
          "state": {
            "_model_module": "@jupyter-widgets/controls",
            "_model_module_version": "1.5.0",
            "_model_name": "DescriptionStyleModel",
            "_view_count": null,
            "_view_module": "@jupyter-widgets/base",
            "_view_module_version": "1.2.0",
            "_view_name": "StyleView",
            "description_width": ""
          }
        }
      }
    },
    "accelerator": "GPU",
    "gpuClass": "standard"
  },
  "nbformat_minor": 0,
  "nbformat": 4,
  "cells": [
    {
      "cell_type": "markdown",
      "metadata": {
        "id": "view-in-github",
        "colab_type": "text"
      },
      "source": [
        "<a href=\"https://colab.research.google.com/github/dguhanus/NLP_Classification/blob/main/Transformer_Classiciation_Roberta.ipynb\" target=\"_parent\"><img src=\"https://colab.research.google.com/assets/colab-badge.svg\" alt=\"Open In Colab\"/></a>"
      ]
    },
    {
      "cell_type": "markdown",
      "source": [
        "# CONTENTS\n",
        "\n",
        "### 1. Importing Libraries\n",
        "### 2. About the Data\n",
        "### 3. Exploratory Data Analysis\n",
        "       (a) Checking for Data Balancing\n",
        "       (b) Identifying Max Lenght of Reviews\n",
        "       (c) Review Overview\n",
        "### 4. Text Processing\n",
        "### 5. Dividing into Train,Test and Validation Data\n",
        "### 6. Pre-Processing Pipeline\n",
        "### 7. Roberta Model Fine Tuning\n",
        "### 8. Model Testing\n",
        "### 9. Result / Conclusion\n",
        "### 10. References"
      ],
      "metadata": {
        "id": "kDiXg7J_zy2n"
      }
    },
    {
      "cell_type": "markdown",
      "source": [
        "# 1. Importing Libraries"
      ],
      "metadata": {
        "id": "pidQhfchzy2r"
      }
    },
    {
      "cell_type": "code",
      "source": [
        "import pandas as pd\n",
        "import numpy as np\n",
        "import matplotlib.pyplot as plt"
      ],
      "metadata": {
        "id": "y0njrJc7nhPT"
      },
      "execution_count": 12,
      "outputs": []
    },
    {
      "cell_type": "code",
      "source": [
        "from google.colab import drive\n",
        "drive.mount('/content/drive/')"
      ],
      "metadata": {
        "colab": {
          "base_uri": "https://localhost:8080/"
        },
        "id": "WwAjbSdAnw8K",
        "outputId": "8f6d6596-518e-4595-f0fc-56bec87a797d"
      },
      "execution_count": 13,
      "outputs": [
        {
          "output_type": "stream",
          "name": "stdout",
          "text": [
            "Drive already mounted at /content/drive/; to attempt to forcibly remount, call drive.mount(\"/content/drive/\", force_remount=True).\n"
          ]
        }
      ]
    },
    {
      "cell_type": "code",
      "source": [
        "### Extract the csv file from the uploaded tgz file\n",
        "#import tarfile\n",
        "data = pd.read_csv('/content/drive/MyDrive/Sentiment_Dataset/IMDB_Movie_Review/IMDB_50K_Dataset.csv')\n",
        "data.info()\n",
        "data.head()"
      ],
      "metadata": {
        "colab": {
          "base_uri": "https://localhost:8080/",
          "height": 363
        },
        "id": "jXMHx2-moA2Z",
        "outputId": "02df472e-d59e-4570-d0a1-880f20b5c4e2"
      },
      "execution_count": 14,
      "outputs": [
        {
          "output_type": "stream",
          "name": "stdout",
          "text": [
            "<class 'pandas.core.frame.DataFrame'>\n",
            "RangeIndex: 50000 entries, 0 to 49999\n",
            "Data columns (total 2 columns):\n",
            " #   Column     Non-Null Count  Dtype \n",
            "---  ------     --------------  ----- \n",
            " 0   review     50000 non-null  object\n",
            " 1   sentiment  50000 non-null  object\n",
            "dtypes: object(2)\n",
            "memory usage: 781.4+ KB\n"
          ]
        },
        {
          "output_type": "execute_result",
          "data": {
            "text/plain": [
              "                                              review sentiment\n",
              "0  One of the other reviewers has mentioned that ...  positive\n",
              "1  A wonderful little production. <br /><br />The...  positive\n",
              "2  I thought this was a wonderful way to spend ti...  positive\n",
              "3  Basically there's a family where a little boy ...  negative\n",
              "4  Petter Mattei's \"Love in the Time of Money\" is...  positive"
            ],
            "text/html": [
              "\n",
              "  <div id=\"df-5d07a60b-886f-44bb-b5a2-059ea5c77fb2\">\n",
              "    <div class=\"colab-df-container\">\n",
              "      <div>\n",
              "<style scoped>\n",
              "    .dataframe tbody tr th:only-of-type {\n",
              "        vertical-align: middle;\n",
              "    }\n",
              "\n",
              "    .dataframe tbody tr th {\n",
              "        vertical-align: top;\n",
              "    }\n",
              "\n",
              "    .dataframe thead th {\n",
              "        text-align: right;\n",
              "    }\n",
              "</style>\n",
              "<table border=\"1\" class=\"dataframe\">\n",
              "  <thead>\n",
              "    <tr style=\"text-align: right;\">\n",
              "      <th></th>\n",
              "      <th>review</th>\n",
              "      <th>sentiment</th>\n",
              "    </tr>\n",
              "  </thead>\n",
              "  <tbody>\n",
              "    <tr>\n",
              "      <th>0</th>\n",
              "      <td>One of the other reviewers has mentioned that ...</td>\n",
              "      <td>positive</td>\n",
              "    </tr>\n",
              "    <tr>\n",
              "      <th>1</th>\n",
              "      <td>A wonderful little production. &lt;br /&gt;&lt;br /&gt;The...</td>\n",
              "      <td>positive</td>\n",
              "    </tr>\n",
              "    <tr>\n",
              "      <th>2</th>\n",
              "      <td>I thought this was a wonderful way to spend ti...</td>\n",
              "      <td>positive</td>\n",
              "    </tr>\n",
              "    <tr>\n",
              "      <th>3</th>\n",
              "      <td>Basically there's a family where a little boy ...</td>\n",
              "      <td>negative</td>\n",
              "    </tr>\n",
              "    <tr>\n",
              "      <th>4</th>\n",
              "      <td>Petter Mattei's \"Love in the Time of Money\" is...</td>\n",
              "      <td>positive</td>\n",
              "    </tr>\n",
              "  </tbody>\n",
              "</table>\n",
              "</div>\n",
              "      <button class=\"colab-df-convert\" onclick=\"convertToInteractive('df-5d07a60b-886f-44bb-b5a2-059ea5c77fb2')\"\n",
              "              title=\"Convert this dataframe to an interactive table.\"\n",
              "              style=\"display:none;\">\n",
              "        \n",
              "  <svg xmlns=\"http://www.w3.org/2000/svg\" height=\"24px\"viewBox=\"0 0 24 24\"\n",
              "       width=\"24px\">\n",
              "    <path d=\"M0 0h24v24H0V0z\" fill=\"none\"/>\n",
              "    <path d=\"M18.56 5.44l.94 2.06.94-2.06 2.06-.94-2.06-.94-.94-2.06-.94 2.06-2.06.94zm-11 1L8.5 8.5l.94-2.06 2.06-.94-2.06-.94L8.5 2.5l-.94 2.06-2.06.94zm10 10l.94 2.06.94-2.06 2.06-.94-2.06-.94-.94-2.06-.94 2.06-2.06.94z\"/><path d=\"M17.41 7.96l-1.37-1.37c-.4-.4-.92-.59-1.43-.59-.52 0-1.04.2-1.43.59L10.3 9.45l-7.72 7.72c-.78.78-.78 2.05 0 2.83L4 21.41c.39.39.9.59 1.41.59.51 0 1.02-.2 1.41-.59l7.78-7.78 2.81-2.81c.8-.78.8-2.07 0-2.86zM5.41 20L4 18.59l7.72-7.72 1.47 1.35L5.41 20z\"/>\n",
              "  </svg>\n",
              "      </button>\n",
              "      \n",
              "  <style>\n",
              "    .colab-df-container {\n",
              "      display:flex;\n",
              "      flex-wrap:wrap;\n",
              "      gap: 12px;\n",
              "    }\n",
              "\n",
              "    .colab-df-convert {\n",
              "      background-color: #E8F0FE;\n",
              "      border: none;\n",
              "      border-radius: 50%;\n",
              "      cursor: pointer;\n",
              "      display: none;\n",
              "      fill: #1967D2;\n",
              "      height: 32px;\n",
              "      padding: 0 0 0 0;\n",
              "      width: 32px;\n",
              "    }\n",
              "\n",
              "    .colab-df-convert:hover {\n",
              "      background-color: #E2EBFA;\n",
              "      box-shadow: 0px 1px 2px rgba(60, 64, 67, 0.3), 0px 1px 3px 1px rgba(60, 64, 67, 0.15);\n",
              "      fill: #174EA6;\n",
              "    }\n",
              "\n",
              "    [theme=dark] .colab-df-convert {\n",
              "      background-color: #3B4455;\n",
              "      fill: #D2E3FC;\n",
              "    }\n",
              "\n",
              "    [theme=dark] .colab-df-convert:hover {\n",
              "      background-color: #434B5C;\n",
              "      box-shadow: 0px 1px 3px 1px rgba(0, 0, 0, 0.15);\n",
              "      filter: drop-shadow(0px 1px 2px rgba(0, 0, 0, 0.3));\n",
              "      fill: #FFFFFF;\n",
              "    }\n",
              "  </style>\n",
              "\n",
              "      <script>\n",
              "        const buttonEl =\n",
              "          document.querySelector('#df-5d07a60b-886f-44bb-b5a2-059ea5c77fb2 button.colab-df-convert');\n",
              "        buttonEl.style.display =\n",
              "          google.colab.kernel.accessAllowed ? 'block' : 'none';\n",
              "\n",
              "        async function convertToInteractive(key) {\n",
              "          const element = document.querySelector('#df-5d07a60b-886f-44bb-b5a2-059ea5c77fb2');\n",
              "          const dataTable =\n",
              "            await google.colab.kernel.invokeFunction('convertToInteractive',\n",
              "                                                     [key], {});\n",
              "          if (!dataTable) return;\n",
              "\n",
              "          const docLinkHtml = 'Like what you see? Visit the ' +\n",
              "            '<a target=\"_blank\" href=https://colab.research.google.com/notebooks/data_table.ipynb>data table notebook</a>'\n",
              "            + ' to learn more about interactive tables.';\n",
              "          element.innerHTML = '';\n",
              "          dataTable['output_type'] = 'display_data';\n",
              "          await google.colab.output.renderOutput(dataTable, element);\n",
              "          const docLink = document.createElement('div');\n",
              "          docLink.innerHTML = docLinkHtml;\n",
              "          element.appendChild(docLink);\n",
              "        }\n",
              "      </script>\n",
              "    </div>\n",
              "  </div>\n",
              "  "
            ]
          },
          "metadata": {},
          "execution_count": 14
        }
      ]
    },
    {
      "cell_type": "code",
      "source": [
        "data.sentiment = pd.Series(np.where(data.sentiment == 'positive', 1, 0), data.index)"
      ],
      "metadata": {
        "id": "aEoU2CTPpzIy"
      },
      "execution_count": 15,
      "outputs": []
    },
    {
      "cell_type": "code",
      "source": [
        "data['sentiment'].value_counts().plot(kind='bar')\n",
        "plt.xlabel('Sentiment')\n",
        "plt.ylabel('Frequency')\n",
        "plt.title('Data Division')\n",
        "plt.show()"
      ],
      "metadata": {
        "colab": {
          "base_uri": "https://localhost:8080/",
          "height": 467
        },
        "id": "ybmsQSaIp4b8",
        "outputId": "af47cc61-f569-4246-b903-77032da060bd"
      },
      "execution_count": 16,
      "outputs": [
        {
          "output_type": "display_data",
          "data": {
            "text/plain": [
              "<Figure size 640x480 with 1 Axes>"
            ],
            "image/png": "[encoded data removed]"
          },
          "metadata": {}
        }
      ]
    },
    {
      "cell_type": "code",
      "source": [
        "import nltk\n",
        "import re\n",
        "nltk.download('punkt')"
      ],
      "metadata": {
        "colab": {
          "base_uri": "https://localhost:8080/"
        },
        "id": "K-6j_WhwsWa-",
        "outputId": "5d5d128f-6fc9-448f-93be-f86622cf1637"
      },
      "execution_count": 17,
      "outputs": [
        {
          "output_type": "stream",
          "name": "stderr",
          "text": [
            "[nltk_data] Downloading package punkt to /root/nltk_data...\n",
            "[nltk_data]   Package punkt is already up-to-date!\n"
          ]
        },
        {
          "output_type": "execute_result",
          "data": {
            "text/plain": [
              "True"
            ]
          },
          "metadata": {},
          "execution_count": 17
        }
      ]
    },
    {
      "cell_type": "code",
      "source": [
        "pos_df = data[data['sentiment']==1]\n",
        "neg_df = data[data['sentiment']==0]\n",
        "## Sorting the dataframe in descending order to view the logest strings\n",
        "pos_df = pos_df.sort_values(by='review', ascending = False)\n",
        "neg_df = neg_df.sort_values(by='review', ascending = False)"
      ],
      "metadata": {
        "id": "dYttBC6csa2V"
      },
      "execution_count": 18,
      "outputs": []
    },
    {
      "cell_type": "code",
      "source": [
        "print(len(pos_df))"
      ],
      "metadata": {
        "colab": {
          "base_uri": "https://localhost:8080/"
        },
        "id": "XcveBL2Csiss",
        "outputId": "e082a312-908d-4770-9f2a-12ed91c2aff9"
      },
      "execution_count": 19,
      "outputs": [
        {
          "output_type": "stream",
          "name": "stdout",
          "text": [
            "25000\n"
          ]
        }
      ]
    },
    {
      "cell_type": "markdown",
      "source": [
        "Need to create a balanced dataset for positive and negative reviews of 1000 reviews for each"
      ],
      "metadata": {
        "id": "JjEusr5Dsqqt"
      }
    },
    {
      "cell_type": "code",
      "source": [
        "pos_first1000 = pos_df[:1000]\n",
        "neg_first1000 = neg_df[:1000]"
      ],
      "metadata": {
        "id": "Td7xL2lUspyc"
      },
      "execution_count": 20,
      "outputs": []
    },
    {
      "cell_type": "code",
      "source": [
        "newdata = pd.concat([pos_first1000, neg_first1000], ignore_index=True, sort=False)\n",
        "newdata.rename(columns={\"review\": \"words\"}, inplace=True)\n",
        "newdata.head()"
      ],
      "metadata": {
        "colab": {
          "base_uri": "https://localhost:8080/",
          "height": 206
        },
        "id": "8CSE0mIvszHs",
        "outputId": "95fe79a9-0274-4fa1-eee4-fc0855452944"
      },
      "execution_count": 21,
      "outputs": [
        {
          "output_type": "execute_result",
          "data": {
            "text/plain": [
              "                                               words  sentiment\n",
              "0  ý thýnk uzak ýs the one of the best films of a...          1\n",
              "1      Film auteur Stephan Woloszczuk explores th...          1\n",
              "2  ~~I was able to see this movie yesterday morni...          1\n",
              "3  {Possible spoilers coming up... you've been fo...          1\n",
              "4  zero day is based of columbine high school mas...          1"
            ],
            "text/html": [
              "\n",
              "  <div id=\"df-dc91dc1f-bb18-4f1b-ab12-998c814b3340\">\n",
              "    <div class=\"colab-df-container\">\n",
              "      <div>\n",
              "<style scoped>\n",
              "    .dataframe tbody tr th:only-of-type {\n",
              "        vertical-align: middle;\n",
              "    }\n",
              "\n",
              "    .dataframe tbody tr th {\n",
              "        vertical-align: top;\n",
              "    }\n",
              "\n",
              "    .dataframe thead th {\n",
              "        text-align: right;\n",
              "    }\n",
              "</style>\n",
              "<table border=\"1\" class=\"dataframe\">\n",
              "  <thead>\n",
              "    <tr style=\"text-align: right;\">\n",
              "      <th></th>\n",
              "      <th>words</th>\n",
              "      <th>sentiment</th>\n",
              "    </tr>\n",
              "  </thead>\n",
              "  <tbody>\n",
              "    <tr>\n",
              "      <th>0</th>\n",
              "      <td>ý thýnk uzak ýs the one of the best films of a...</td>\n",
              "      <td>1</td>\n",
              "    </tr>\n",
              "    <tr>\n",
              "      <th>1</th>\n",
              "      <td>Film auteur Stephan Woloszczuk explores th...</td>\n",
              "      <td>1</td>\n",
              "    </tr>\n",
              "    <tr>\n",
              "      <th>2</th>\n",
              "      <td>~~I was able to see this movie yesterday morni...</td>\n",
              "      <td>1</td>\n",
              "    </tr>\n",
              "    <tr>\n",
              "      <th>3</th>\n",
              "      <td>{Possible spoilers coming up... you've been fo...</td>\n",
              "      <td>1</td>\n",
              "    </tr>\n",
              "    <tr>\n",
              "      <th>4</th>\n",
              "      <td>zero day is based of columbine high school mas...</td>\n",
              "      <td>1</td>\n",
              "    </tr>\n",
              "  </tbody>\n",
              "</table>\n",
              "</div>\n",
              "      <button class=\"colab-df-convert\" onclick=\"convertToInteractive('df-dc91dc1f-bb18-4f1b-ab12-998c814b3340')\"\n",
              "              title=\"Convert this dataframe to an interactive table.\"\n",
              "              style=\"display:none;\">\n",
              "        \n",
              "  <svg xmlns=\"http://www.w3.org/2000/svg\" height=\"24px\"viewBox=\"0 0 24 24\"\n",
              "       width=\"24px\">\n",
              "    <path d=\"M0 0h24v24H0V0z\" fill=\"none\"/>\n",
              "    <path d=\"M18.56 5.44l.94 2.06.94-2.06 2.06-.94-2.06-.94-.94-2.06-.94 2.06-2.06.94zm-11 1L8.5 8.5l.94-2.06 2.06-.94-2.06-.94L8.5 2.5l-.94 2.06-2.06.94zm10 10l.94 2.06.94-2.06 2.06-.94-2.06-.94-.94-2.06-.94 2.06-2.06.94z\"/><path d=\"M17.41 7.96l-1.37-1.37c-.4-.4-.92-.59-1.43-.59-.52 0-1.04.2-1.43.59L10.3 9.45l-7.72 7.72c-.78.78-.78 2.05 0 2.83L4 21.41c.39.39.9.59 1.41.59.51 0 1.02-.2 1.41-.59l7.78-7.78 2.81-2.81c.8-.78.8-2.07 0-2.86zM5.41 20L4 18.59l7.72-7.72 1.47 1.35L5.41 20z\"/>\n",
              "  </svg>\n",
              "      </button>\n",
              "      \n",
              "  <style>\n",
              "    .colab-df-container {\n",
              "      display:flex;\n",
              "      flex-wrap:wrap;\n",
              "      gap: 12px;\n",
              "    }\n",
              "\n",
              "    .colab-df-convert {\n",
              "      background-color: #E8F0FE;\n",
              "      border: none;\n",
              "      border-radius: 50%;\n",
              "      cursor: pointer;\n",
              "      display: none;\n",
              "      fill: #1967D2;\n",
              "      height: 32px;\n",
              "      padding: 0 0 0 0;\n",
              "      width: 32px;\n",
              "    }\n",
              "\n",
              "    .colab-df-convert:hover {\n",
              "      background-color: #E2EBFA;\n",
              "      box-shadow: 0px 1px 2px rgba(60, 64, 67, 0.3), 0px 1px 3px 1px rgba(60, 64, 67, 0.15);\n",
              "      fill: #174EA6;\n",
              "    }\n",
              "\n",
              "    [theme=dark] .colab-df-convert {\n",
              "      background-color: #3B4455;\n",
              "      fill: #D2E3FC;\n",
              "    }\n",
              "\n",
              "    [theme=dark] .colab-df-convert:hover {\n",
              "      background-color: #434B5C;\n",
              "      box-shadow: 0px 1px 3px 1px rgba(0, 0, 0, 0.15);\n",
              "      filter: drop-shadow(0px 1px 2px rgba(0, 0, 0, 0.3));\n",
              "      fill: #FFFFFF;\n",
              "    }\n",
              "  </style>\n",
              "\n",
              "      <script>\n",
              "        const buttonEl =\n",
              "          document.querySelector('#df-dc91dc1f-bb18-4f1b-ab12-998c814b3340 button.colab-df-convert');\n",
              "        buttonEl.style.display =\n",
              "          google.colab.kernel.accessAllowed ? 'block' : 'none';\n",
              "\n",
              "        async function convertToInteractive(key) {\n",
              "          const element = document.querySelector('#df-dc91dc1f-bb18-4f1b-ab12-998c814b3340');\n",
              "          const dataTable =\n",
              "            await google.colab.kernel.invokeFunction('convertToInteractive',\n",
              "                                                     [key], {});\n",
              "          if (!dataTable) return;\n",
              "\n",
              "          const docLinkHtml = 'Like what you see? Visit the ' +\n",
              "            '<a target=\"_blank\" href=https://colab.research.google.com/notebooks/data_table.ipynb>data table notebook</a>'\n",
              "            + ' to learn more about interactive tables.';\n",
              "          element.innerHTML = '';\n",
              "          dataTable['output_type'] = 'display_data';\n",
              "          await google.colab.output.renderOutput(dataTable, element);\n",
              "          const docLink = document.createElement('div');\n",
              "          docLink.innerHTML = docLinkHtml;\n",
              "          element.appendChild(docLink);\n",
              "        }\n",
              "      </script>\n",
              "    </div>\n",
              "  </div>\n",
              "  "
            ]
          },
          "metadata": {},
          "execution_count": 21
        }
      ]
    },
    {
      "cell_type": "markdown",
      "source": [
        "\n",
        "\n",
        "Text Processing\n",
        "\n",
        "The model that we intend to use would be an attention model so we don't want to remove any data that would enable the model to predict with accuracy. So we will be performing a broad text cleaning without any lemmatization or removal of stop words since these may be critical to mapping out the sentiment expressed. The following steps will be performed on the review text:\n",
        "\n",
        "1. Conversion to Lower Case\n",
        "\n",
        "2. Removal of delimiters\n",
        "\n",
        "3. Removal of any links that may be pushed into the reviews\n",
        "\n",
        "4. Removal of any special characters that can not essentially determine the sentiment"
      ],
      "metadata": {
        "id": "SVcD8UlJs44F"
      }
    },
    {
      "cell_type": "code",
      "source": [
        "# function to clean the text following the above mention steps\n",
        "def clean_review(review):\n",
        "  # Converting to lower case\n",
        "  review = review.lower()\n",
        "  # removing delimters and tokenizing the text\n",
        "  review = re.sub('<.*?>', '', review)\n",
        "  review_tok = nltk.tokenize.word_tokenize(review)\n",
        "\n",
        "  ## Removing Links\n",
        "  review_tok = [ t for t in review_tok if not t.startswith(\"http://\") and not t.startswith(\"https://\")]\n",
        "\n",
        "  # Removing special characters\n",
        "  review_tok = [t.lstrip('@') for t in review_tok]\n",
        "  review_tok = [t.lstrip('#') for t in review_tok]\n",
        "  review_tok = [t.lstrip('/') for t in review_tok]\n",
        "\n",
        "  # Rejoining the tokens to sentences/paras\n",
        "  cleaned_review = ' '.join(review_tok)\n",
        "  return cleaned_review\n",
        "\n",
        "\n",
        "## CLeaning the review and then overwriting the existing dataframe\n",
        "t = []\n",
        "for i in newdata.words:\n",
        "  t.append(clean_review(i))\n",
        "\n",
        "newdata.drop('words', inplace= True, axis = 1)\n",
        "newdata['words'] = t"
      ],
      "metadata": {
        "id": "fW2jmk8ytAev"
      },
      "execution_count": 22,
      "outputs": []
    },
    {
      "cell_type": "code",
      "source": [
        "shuffled = newdata.sample(frac=1)\n",
        "newdata = shuffled\n",
        "newdata.head()"
      ],
      "metadata": {
        "id": "r3E-Bi3PtPN_",
        "outputId": "ddd9e39c-8c93-4b5d-ff6c-63a024e9100c",
        "colab": {
          "base_uri": "https://localhost:8080/",
          "height": 206
        }
      },
      "execution_count": 23,
      "outputs": [
        {
          "output_type": "execute_result",
          "data": {
            "text/plain": [
              "      sentiment                                              words\n",
              "242           1  please , future writers , producers , director...\n",
              "1851          0  yet again one of the most misunderstood goddes...\n",
              "639           1  a hilariously funny movie ! of course u got ta...\n",
              "287           1  let 's face it , you know what to expect when ...\n",
              "1675          0  ziab la ta'kol al lahem is an awful movie.this..."
            ],
            "text/html": [
              "\n",
              "  <div id=\"df-cd9432d3-1dfc-4f5d-a3a7-c2c281eb4900\">\n",
              "    <div class=\"colab-df-container\">\n",
              "      <div>\n",
              "<style scoped>\n",
              "    .dataframe tbody tr th:only-of-type {\n",
              "        vertical-align: middle;\n",
              "    }\n",
              "\n",
              "    .dataframe tbody tr th {\n",
              "        vertical-align: top;\n",
              "    }\n",
              "\n",
              "    .dataframe thead th {\n",
              "        text-align: right;\n",
              "    }\n",
              "</style>\n",
              "<table border=\"1\" class=\"dataframe\">\n",
              "  <thead>\n",
              "    <tr style=\"text-align: right;\">\n",
              "      <th></th>\n",
              "      <th>sentiment</th>\n",
              "      <th>words</th>\n",
              "    </tr>\n",
              "  </thead>\n",
              "  <tbody>\n",
              "    <tr>\n",
              "      <th>242</th>\n",
              "      <td>1</td>\n",
              "      <td>please , future writers , producers , director...</td>\n",
              "    </tr>\n",
              "    <tr>\n",
              "      <th>1851</th>\n",
              "      <td>0</td>\n",
              "      <td>yet again one of the most misunderstood goddes...</td>\n",
              "    </tr>\n",
              "    <tr>\n",
              "      <th>639</th>\n",
              "      <td>1</td>\n",
              "      <td>a hilariously funny movie ! of course u got ta...</td>\n",
              "    </tr>\n",
              "    <tr>\n",
              "      <th>287</th>\n",
              "      <td>1</td>\n",
              "      <td>let 's face it , you know what to expect when ...</td>\n",
              "    </tr>\n",
              "    <tr>\n",
              "      <th>1675</th>\n",
              "      <td>0</td>\n",
              "      <td>ziab la ta'kol al lahem is an awful movie.this...</td>\n",
              "    </tr>\n",
              "  </tbody>\n",
              "</table>\n",
              "</div>\n",
              "      <button class=\"colab-df-convert\" onclick=\"convertToInteractive('df-cd9432d3-1dfc-4f5d-a3a7-c2c281eb4900')\"\n",
              "              title=\"Convert this dataframe to an interactive table.\"\n",
              "              style=\"display:none;\">\n",
              "        \n",
              "  <svg xmlns=\"http://www.w3.org/2000/svg\" height=\"24px\"viewBox=\"0 0 24 24\"\n",
              "       width=\"24px\">\n",
              "    <path d=\"M0 0h24v24H0V0z\" fill=\"none\"/>\n",
              "    <path d=\"M18.56 5.44l.94 2.06.94-2.06 2.06-.94-2.06-.94-.94-2.06-.94 2.06-2.06.94zm-11 1L8.5 8.5l.94-2.06 2.06-.94-2.06-.94L8.5 2.5l-.94 2.06-2.06.94zm10 10l.94 2.06.94-2.06 2.06-.94-2.06-.94-.94-2.06-.94 2.06-2.06.94z\"/><path d=\"M17.41 7.96l-1.37-1.37c-.4-.4-.92-.59-1.43-.59-.52 0-1.04.2-1.43.59L10.3 9.45l-7.72 7.72c-.78.78-.78 2.05 0 2.83L4 21.41c.39.39.9.59 1.41.59.51 0 1.02-.2 1.41-.59l7.78-7.78 2.81-2.81c.8-.78.8-2.07 0-2.86zM5.41 20L4 18.59l7.72-7.72 1.47 1.35L5.41 20z\"/>\n",
              "  </svg>\n",
              "      </button>\n",
              "      \n",
              "  <style>\n",
              "    .colab-df-container {\n",
              "      display:flex;\n",
              "      flex-wrap:wrap;\n",
              "      gap: 12px;\n",
              "    }\n",
              "\n",
              "    .colab-df-convert {\n",
              "      background-color: #E8F0FE;\n",
              "      border: none;\n",
              "      border-radius: 50%;\n",
              "      cursor: pointer;\n",
              "      display: none;\n",
              "      fill: #1967D2;\n",
              "      height: 32px;\n",
              "      padding: 0 0 0 0;\n",
              "      width: 32px;\n",
              "    }\n",
              "\n",
              "    .colab-df-convert:hover {\n",
              "      background-color: #E2EBFA;\n",
              "      box-shadow: 0px 1px 2px rgba(60, 64, 67, 0.3), 0px 1px 3px 1px rgba(60, 64, 67, 0.15);\n",
              "      fill: #174EA6;\n",
              "    }\n",
              "\n",
              "    [theme=dark] .colab-df-convert {\n",
              "      background-color: #3B4455;\n",
              "      fill: #D2E3FC;\n",
              "    }\n",
              "\n",
              "    [theme=dark] .colab-df-convert:hover {\n",
              "      background-color: #434B5C;\n",
              "      box-shadow: 0px 1px 3px 1px rgba(0, 0, 0, 0.15);\n",
              "      filter: drop-shadow(0px 1px 2px rgba(0, 0, 0, 0.3));\n",
              "      fill: #FFFFFF;\n",
              "    }\n",
              "  </style>\n",
              "\n",
              "      <script>\n",
              "        const buttonEl =\n",
              "          document.querySelector('#df-cd9432d3-1dfc-4f5d-a3a7-c2c281eb4900 button.colab-df-convert');\n",
              "        buttonEl.style.display =\n",
              "          google.colab.kernel.accessAllowed ? 'block' : 'none';\n",
              "\n",
              "        async function convertToInteractive(key) {\n",
              "          const element = document.querySelector('#df-cd9432d3-1dfc-4f5d-a3a7-c2c281eb4900');\n",
              "          const dataTable =\n",
              "            await google.colab.kernel.invokeFunction('convertToInteractive',\n",
              "                                                     [key], {});\n",
              "          if (!dataTable) return;\n",
              "\n",
              "          const docLinkHtml = 'Like what you see? Visit the ' +\n",
              "            '<a target=\"_blank\" href=https://colab.research.google.com/notebooks/data_table.ipynb>data table notebook</a>'\n",
              "            + ' to learn more about interactive tables.';\n",
              "          element.innerHTML = '';\n",
              "          dataTable['output_type'] = 'display_data';\n",
              "          await google.colab.output.renderOutput(dataTable, element);\n",
              "          const docLink = document.createElement('div');\n",
              "          docLink.innerHTML = docLinkHtml;\n",
              "          element.appendChild(docLink);\n",
              "        }\n",
              "      </script>\n",
              "    </div>\n",
              "  </div>\n",
              "  "
            ]
          },
          "metadata": {},
          "execution_count": 23
        }
      ]
    },
    {
      "cell_type": "code",
      "source": [
        "## Installing Required Packages\n",
        "!pip install transformers tensorflow datasets"
      ],
      "metadata": {
        "execution": {
          "iopub.status.busy": "2023-02-25T14:58:31.689207Z",
          "iopub.execute_input": "2023-02-25T14:58:31.689769Z",
          "iopub.status.idle": "2023-02-25T14:58:31.721305Z",
          "shell.execute_reply.started": "2023-02-25T14:58:31.689656Z",
          "shell.execute_reply": "2023-02-25T14:58:31.720194Z"
        },
        "trusted": true,
        "colab": {
          "base_uri": "https://localhost:8080/"
        },
        "id": "uZ3K8AFszy2v",
        "outputId": "43079c64-5236-4bfb-cdd6-46eb92fd6c53"
      },
      "execution_count": 24,
      "outputs": [
        {
          "output_type": "stream",
          "name": "stdout",
          "text": [
            "Looking in indexes: https://pypi.org/simple, https://us-python.pkg.dev/colab-wheels/public/simple/\n",
            "Requirement already satisfied: transformers in /usr/local/lib/python3.10/dist-packages (4.30.2)\n",
            "Requirement already satisfied: tensorflow in /usr/local/lib/python3.10/dist-packages (2.12.0)\n",
            "Requirement already satisfied: datasets in /usr/local/lib/python3.10/dist-packages (2.13.0)\n",
            "Requirement already satisfied: filelock in /usr/local/lib/python3.10/dist-packages (from transformers) (3.12.0)\n",
            "Requirement already satisfied: huggingface-hub<1.0,>=0.14.1 in /usr/local/lib/python3.10/dist-packages (from transformers) (0.15.1)\n",
            "Requirement already satisfied: numpy>=1.17 in /usr/local/lib/python3.10/dist-packages (from transformers) (1.22.4)\n",
            "Requirement already satisfied: packaging>=20.0 in /usr/local/lib/python3.10/dist-packages (from transformers) (23.1)\n",
            "Requirement already satisfied: pyyaml>=5.1 in /usr/local/lib/python3.10/dist-packages (from transformers) (6.0)\n",
            "Requirement already satisfied: regex!=2019.12.17 in /usr/local/lib/python3.10/dist-packages (from transformers) (2022.10.31)\n",
            "Requirement already satisfied: requests in /usr/local/lib/python3.10/dist-packages (from transformers) (2.27.1)\n",
            "Requirement already satisfied: tokenizers!=0.11.3,<0.14,>=0.11.1 in /usr/local/lib/python3.10/dist-packages (from transformers) (0.13.3)\n",
            "Requirement already satisfied: safetensors>=0.3.1 in /usr/local/lib/python3.10/dist-packages (from transformers) (0.3.1)\n",
            "Requirement already satisfied: tqdm>=4.27 in /usr/local/lib/python3.10/dist-packages (from transformers) (4.65.0)\n",
            "Requirement already satisfied: absl-py>=1.0.0 in /usr/local/lib/python3.10/dist-packages (from tensorflow) (1.4.0)\n",
            "Requirement already satisfied: astunparse>=1.6.0 in /usr/local/lib/python3.10/dist-packages (from tensorflow) (1.6.3)\n",
            "Requirement already satisfied: flatbuffers>=2.0 in /usr/local/lib/python3.10/dist-packages (from tensorflow) (23.3.3)\n",
            "Requirement already satisfied: gast<=0.4.0,>=0.2.1 in /usr/local/lib/python3.10/dist-packages (from tensorflow) (0.4.0)\n",
            "Requirement already satisfied: google-pasta>=0.1.1 in /usr/local/lib/python3.10/dist-packages (from tensorflow) (0.2.0)\n",
            "Requirement already satisfied: grpcio<2.0,>=1.24.3 in /usr/local/lib/python3.10/dist-packages (from tensorflow) (1.54.0)\n",
            "Requirement already satisfied: h5py>=2.9.0 in /usr/local/lib/python3.10/dist-packages (from tensorflow) (3.8.0)\n",
            "Requirement already satisfied: jax>=0.3.15 in /usr/local/lib/python3.10/dist-packages (from tensorflow) (0.4.10)\n",
            "Requirement already satisfied: keras<2.13,>=2.12.0 in /usr/local/lib/python3.10/dist-packages (from tensorflow) (2.12.0)\n",
            "Requirement already satisfied: libclang>=13.0.0 in /usr/local/lib/python3.10/dist-packages (from tensorflow) (16.0.0)\n",
            "Requirement already satisfied: opt-einsum>=2.3.2 in /usr/local/lib/python3.10/dist-packages (from tensorflow) (3.3.0)\n",
            "Requirement already satisfied: protobuf!=4.21.0,!=4.21.1,!=4.21.2,!=4.21.3,!=4.21.4,!=4.21.5,<5.0.0dev,>=3.20.3 in /usr/local/lib/python3.10/dist-packages (from tensorflow) (3.20.3)\n",
            "Requirement already satisfied: setuptools in /usr/local/lib/python3.10/dist-packages (from tensorflow) (67.7.2)\n",
            "Requirement already satisfied: six>=1.12.0 in /usr/local/lib/python3.10/dist-packages (from tensorflow) (1.16.0)\n",
            "Requirement already satisfied: tensorboard<2.13,>=2.12 in /usr/local/lib/python3.10/dist-packages (from tensorflow) (2.12.2)\n",
            "Requirement already satisfied: tensorflow-estimator<2.13,>=2.12.0 in /usr/local/lib/python3.10/dist-packages (from tensorflow) (2.12.0)\n",
            "Requirement already satisfied: termcolor>=1.1.0 in /usr/local/lib/python3.10/dist-packages (from tensorflow) (2.3.0)\n",
            "Requirement already satisfied: typing-extensions>=3.6.6 in /usr/local/lib/python3.10/dist-packages (from tensorflow) (4.5.0)\n",
            "Requirement already satisfied: wrapt<1.15,>=1.11.0 in /usr/local/lib/python3.10/dist-packages (from tensorflow) (1.14.1)\n",
            "Requirement already satisfied: tensorflow-io-gcs-filesystem>=0.23.1 in /usr/local/lib/python3.10/dist-packages (from tensorflow) (0.32.0)\n",
            "Requirement already satisfied: pyarrow>=8.0.0 in /usr/local/lib/python3.10/dist-packages (from datasets) (9.0.0)\n",
            "Requirement already satisfied: dill<0.3.7,>=0.3.0 in /usr/local/lib/python3.10/dist-packages (from datasets) (0.3.6)\n",
            "Requirement already satisfied: pandas in /usr/local/lib/python3.10/dist-packages (from datasets) (1.5.3)\n",
            "Requirement already satisfied: xxhash in /usr/local/lib/python3.10/dist-packages (from datasets) (3.2.0)\n",
            "Requirement already satisfied: multiprocess in /usr/local/lib/python3.10/dist-packages (from datasets) (0.70.14)\n",
            "Requirement already satisfied: fsspec[http]>=2021.11.1 in /usr/local/lib/python3.10/dist-packages (from datasets) (2023.4.0)\n",
            "Requirement already satisfied: aiohttp in /usr/local/lib/python3.10/dist-packages (from datasets) (3.8.4)\n",
            "Requirement already satisfied: wheel<1.0,>=0.23.0 in /usr/local/lib/python3.10/dist-packages (from astunparse>=1.6.0->tensorflow) (0.40.0)\n",
            "Requirement already satisfied: attrs>=17.3.0 in /usr/local/lib/python3.10/dist-packages (from aiohttp->datasets) (23.1.0)\n",
            "Requirement already satisfied: charset-normalizer<4.0,>=2.0 in /usr/local/lib/python3.10/dist-packages (from aiohttp->datasets) (2.0.12)\n",
            "Requirement already satisfied: multidict<7.0,>=4.5 in /usr/local/lib/python3.10/dist-packages (from aiohttp->datasets) (6.0.4)\n",
            "Requirement already satisfied: async-timeout<5.0,>=4.0.0a3 in /usr/local/lib/python3.10/dist-packages (from aiohttp->datasets) (4.0.2)\n",
            "Requirement already satisfied: yarl<2.0,>=1.0 in /usr/local/lib/python3.10/dist-packages (from aiohttp->datasets) (1.9.2)\n",
            "Requirement already satisfied: frozenlist>=1.1.1 in /usr/local/lib/python3.10/dist-packages (from aiohttp->datasets) (1.3.3)\n",
            "Requirement already satisfied: aiosignal>=1.1.2 in /usr/local/lib/python3.10/dist-packages (from aiohttp->datasets) (1.3.1)\n",
            "Requirement already satisfied: ml-dtypes>=0.1.0 in /usr/local/lib/python3.10/dist-packages (from jax>=0.3.15->tensorflow) (0.1.0)\n",
            "Requirement already satisfied: scipy>=1.7 in /usr/local/lib/python3.10/dist-packages (from jax>=0.3.15->tensorflow) (1.10.1)\n",
            "Requirement already satisfied: urllib3<1.27,>=1.21.1 in /usr/local/lib/python3.10/dist-packages (from requests->transformers) (1.26.15)\n",
            "Requirement already satisfied: certifi>=2017.4.17 in /usr/local/lib/python3.10/dist-packages (from requests->transformers) (2022.12.7)\n",
            "Requirement already satisfied: idna<4,>=2.5 in /usr/local/lib/python3.10/dist-packages (from requests->transformers) (3.4)\n",
            "Requirement already satisfied: google-auth<3,>=1.6.3 in /usr/local/lib/python3.10/dist-packages (from tensorboard<2.13,>=2.12->tensorflow) (2.17.3)\n",
            "Requirement already satisfied: google-auth-oauthlib<1.1,>=0.5 in /usr/local/lib/python3.10/dist-packages (from tensorboard<2.13,>=2.12->tensorflow) (1.0.0)\n",
            "Requirement already satisfied: markdown>=2.6.8 in /usr/local/lib/python3.10/dist-packages (from tensorboard<2.13,>=2.12->tensorflow) (3.4.3)\n",
            "Requirement already satisfied: tensorboard-data-server<0.8.0,>=0.7.0 in /usr/local/lib/python3.10/dist-packages (from tensorboard<2.13,>=2.12->tensorflow) (0.7.0)\n",
            "Requirement already satisfied: tensorboard-plugin-wit>=1.6.0 in /usr/local/lib/python3.10/dist-packages (from tensorboard<2.13,>=2.12->tensorflow) (1.8.1)\n",
            "Requirement already satisfied: werkzeug>=1.0.1 in /usr/local/lib/python3.10/dist-packages (from tensorboard<2.13,>=2.12->tensorflow) (2.3.0)\n",
            "Requirement already satisfied: python-dateutil>=2.8.1 in /usr/local/lib/python3.10/dist-packages (from pandas->datasets) (2.8.2)\n",
            "Requirement already satisfied: pytz>=2020.1 in /usr/local/lib/python3.10/dist-packages (from pandas->datasets) (2022.7.1)\n",
            "Requirement already satisfied: cachetools<6.0,>=2.0.0 in /usr/local/lib/python3.10/dist-packages (from google-auth<3,>=1.6.3->tensorboard<2.13,>=2.12->tensorflow) (5.3.0)\n",
            "Requirement already satisfied: pyasn1-modules>=0.2.1 in /usr/local/lib/python3.10/dist-packages (from google-auth<3,>=1.6.3->tensorboard<2.13,>=2.12->tensorflow) (0.3.0)\n",
            "Requirement already satisfied: rsa<5,>=3.1.4 in /usr/local/lib/python3.10/dist-packages (from google-auth<3,>=1.6.3->tensorboard<2.13,>=2.12->tensorflow) (4.9)\n",
            "Requirement already satisfied: requests-oauthlib>=0.7.0 in /usr/local/lib/python3.10/dist-packages (from google-auth-oauthlib<1.1,>=0.5->tensorboard<2.13,>=2.12->tensorflow) (1.3.1)\n",
            "Requirement already satisfied: MarkupSafe>=2.1.1 in /usr/local/lib/python3.10/dist-packages (from werkzeug>=1.0.1->tensorboard<2.13,>=2.12->tensorflow) (2.1.2)\n",
            "Requirement already satisfied: pyasn1<0.6.0,>=0.4.6 in /usr/local/lib/python3.10/dist-packages (from pyasn1-modules>=0.2.1->google-auth<3,>=1.6.3->tensorboard<2.13,>=2.12->tensorflow) (0.5.0)\n",
            "Requirement already satisfied: oauthlib>=3.0.0 in /usr/local/lib/python3.10/dist-packages (from requests-oauthlib>=0.7.0->google-auth-oauthlib<1.1,>=0.5->tensorboard<2.13,>=2.12->tensorflow) (3.2.2)\n"
          ]
        }
      ]
    },
    {
      "cell_type": "code",
      "source": [
        "import numpy as np\n",
        "import pandas as pd\n",
        "import os\n",
        "import matplotlib.pyplot as plt\n",
        "import seaborn as sns\n",
        "import re\n",
        "\n",
        "import tensorflow as tf\n",
        "\n",
        "import nltk\n",
        "import string\n",
        "\n",
        "from transformers import AutoTokenizer\n",
        "from datasets import Dataset\n",
        "from transformers import TFAutoModelForSequenceClassification, AutoModelForSequenceClassification\n",
        "from tensorflow.keras.optimizers import Adam\n",
        "from sklearn.metrics import accuracy_score , confusion_matrix , f1_score\n",
        "import json\n"
      ],
      "metadata": {
        "execution": {
          "iopub.status.busy": "2023-02-25T14:58:31.780019Z",
          "iopub.execute_input": "2023-02-25T14:58:31.780729Z",
          "iopub.status.idle": "2023-02-25T14:58:42.728944Z",
          "shell.execute_reply.started": "2023-02-25T14:58:31.780687Z",
          "shell.execute_reply": "2023-02-25T14:58:42.727655Z"
        },
        "trusted": true,
        "id": "2t17-WZmzy2z"
      },
      "execution_count": 25,
      "outputs": []
    },
    {
      "cell_type": "markdown",
      "source": [
        "# 2. Summary\n",
        "\n",
        "The data is regarding the sentiment expressed by movie watchers on the famous site 'Imdb'. It basically conisists of two columns with the first one depicting the review written by the viewer and the second column depicting the sentiment classification of the expressed opinion which can be either as 'positive' or 'negative'.\n",
        "\n",
        "The data has a total of 50000 data points with variable lengths of the reviews. **The sentiment expressed makes it an essentially binary classification problem.**\n",
        "\n",
        "To predict the expressed sentiment, we will use Transfer Learning for the predictions. In the same regard, **a 'Roberta Model' has been selected due to his inherent optimization of the BERT alongwith a larger training corpus.**\n",
        "\n",
        "The biggest challenge that was found is that the length of the reviews is quite large on an average which in turn compromises the model accuracy to about considerably even with the model's ability to deal with a max length of 512. To counter this, multiple models were trained with a sequential reduction in the strings length to 128 which enabled us to have a **training accuracy of 94.91%, validation accuracy of 89.4% and test accuracy of 89.75%** with 3 epochs, which is markedly improved from the early results."
      ],
      "metadata": {
        "id": "OBt2wDm1zy22"
      }
    },
    {
      "cell_type": "markdown",
      "source": [
        "# 3. Exploratory Data Analysis\n",
        "\n",
        "After importing the data, an overview overview of the data was carried out. It was learnt that the sentiment was an object with string values, so these were changed to 0 and 1 with '0' indicating a negative review while '1' indicating a positve review.\n",
        "\n",
        "Subsequently, we checked for data balancing and found that the **data is perfectly balanced with 50% negative and 50% positive reviews**. We also checked for the lengths of the reviews and found the **higest review length to be '2911'** and **shortest review length to be '8'** with the **mean length of reviews to be '559' words**.\n",
        "\n",
        "We can observe by looking at a few reviews two main things, the first is that the data has been scraped but there still remain some unnecessary html tags which need to be removed. The second more important thing that we can imbue from just manually looking at the reviews and the review sizes that we got earlier that the **text size is quite large in most instances and , therefore, a Sequential Model might not be the best choice here due to the limitation of memory associated with them.**\n",
        "\n",
        "Based on our observation, we can proceed by keeping in view that we need a model that would be able to handle large text without any memory error. To do that, we can **make use of the tranformer models** that have recently shown to be quite effective. In this regard, we would be using **Transfer learning particularly the Roberta Model from Hugging Face library**."
      ],
      "metadata": {
        "id": "NnXlXV-tzy23"
      }
    },
    {
      "cell_type": "markdown",
      "source": [
        "## (a) Checking for Data Balancing"
      ],
      "metadata": {
        "id": "XOTJv8-uzy2_"
      }
    },
    {
      "cell_type": "markdown",
      "source": [
        "## (b) Approximating the length of reviews"
      ],
      "metadata": {
        "id": "0OvkpyK4zy3C"
      }
    },
    {
      "cell_type": "code",
      "source": [
        "#nltk.download('punkt')"
      ],
      "metadata": {
        "id": "2RQWaDeM2_GE"
      },
      "execution_count": 26,
      "outputs": []
    },
    {
      "cell_type": "code",
      "source": [
        "#p = []\n",
        "#n = []\n",
        "#\n",
        "## 1. Looping over the entire dataset to convert each review to first tokens\n",
        "## 2. Counting number of words in each review\n",
        "## 3. Adding the word number and id to a separate list for positive and negative sentiment\n",
        "## 4. Converting the list of lists into a separate dataframe\n",
        "#for i in range(len(data.review)):\n",
        "#    temp = len(nltk.tokenize.word_tokenize(data.review[i]))\n",
        "#    if data.sentiment[i] == 0:\n",
        "#        n.append([temp,i])\n",
        "#    else:\n",
        "#        p.append([temp,i])\n",
        "#\n",
        "#\n",
        "## Converting the list into 2 datframes for positive and negative review depicting word counts and idx\n",
        "#pos_df = pd.DataFrame(p , columns = ['words', 'id'])\n",
        "#neg_df = pd.DataFrame(n , columns = ['words' , 'id'])\n",
        "#\n",
        "## Sorting the dataframe in descending order to view the logest strings\n",
        "#pos_df = pos_df.sort_values(by='words', ascending = False)\n",
        "#neg_df = neg_df.sort_values(by='words', ascending = False)"
      ],
      "metadata": {
        "execution": {
          "iopub.status.busy": "2023-02-25T14:58:44.968324Z",
          "iopub.execute_input": "2023-02-25T14:58:44.969179Z",
          "iopub.status.idle": "2023-02-25T15:00:20.63786Z",
          "shell.execute_reply.started": "2023-02-25T14:58:44.969127Z",
          "shell.execute_reply": "2023-02-25T15:00:20.636511Z"
        },
        "trusted": true,
        "id": "wmKhiiznzy3C"
      },
      "execution_count": 27,
      "outputs": []
    },
    {
      "cell_type": "code",
      "source": [
        "#print (f'The longest review is {len(nltk.tokenize.word_tokenize(data.review[40521]))} words long.')\n",
        "#print (f'The shortest review is {len(nltk.tokenize.word_tokenize(data.review[27521]))} words long.')\n",
        "#print (f'The mean review is {np.mean(pos_df.words+neg_df.words)} words long.')"
      ],
      "metadata": {
        "execution": {
          "iopub.status.busy": "2023-02-25T15:05:29.966886Z",
          "iopub.execute_input": "2023-02-25T15:05:29.967283Z",
          "iopub.status.idle": "2023-02-25T15:05:29.996215Z",
          "shell.execute_reply.started": "2023-02-25T15:05:29.96725Z",
          "shell.execute_reply": "2023-02-25T15:05:29.994905Z"
        },
        "trusted": true,
        "id": "uvwYeXmAzy3E"
      },
      "execution_count": 28,
      "outputs": []
    },
    {
      "cell_type": "markdown",
      "source": [
        "## (c) Review Overview"
      ],
      "metadata": {
        "id": "k2frrp_Ezy3G"
      }
    },
    {
      "cell_type": "code",
      "source": [
        "for i in range(5):\n",
        "    print(data['review'][i])\n",
        "    print(data['sentiment'][i])"
      ],
      "metadata": {
        "execution": {
          "iopub.status.busy": "2023-02-25T13:30:55.426255Z",
          "iopub.execute_input": "2023-02-25T13:30:55.426583Z",
          "iopub.status.idle": "2023-02-25T13:30:55.43237Z",
          "shell.execute_reply.started": "2023-02-25T13:30:55.426549Z",
          "shell.execute_reply": "2023-02-25T13:30:55.431398Z"
        },
        "trusted": true,
        "colab": {
          "base_uri": "https://localhost:8080/"
        },
        "id": "zQYAJtwAzy3I",
        "outputId": "1c1ce922-0e12-4106-959f-23d4d55c96d4"
      },
      "execution_count": 29,
      "outputs": [
        {
          "output_type": "stream",
          "name": "stdout",
          "text": [
            "One of the other reviewers has mentioned that after watching just 1 Oz episode you'll be hooked. They are right, as this is exactly what happened with me.<br /><br />The first thing that struck me about Oz was its brutality and unflinching scenes of violence, which set in right from the word GO. Trust me, this is not a show for the faint hearted or timid. This show pulls no punches with regards to drugs, sex or violence. Its is hardcore, in the classic use of the word.<br /><br />It is called OZ as that is the nickname given to the Oswald Maximum Security State Penitentary. It focuses mainly on Emerald City, an experimental section of the prison where all the cells have glass fronts and face inwards, so privacy is not high on the agenda. Em City is home to many..Aryans, Muslims, gangstas, Latinos, Christians, Italians, Irish and more....so scuffles, death stares, dodgy dealings and shady agreements are never far away.<br /><br />I would say the main appeal of the show is due to the fact that it goes where other shows wouldn't dare. Forget pretty pictures painted for mainstream audiences, forget charm, forget romance...OZ doesn't mess around. The first episode I ever saw struck me as so nasty it was surreal, I couldn't say I was ready for it, but as I watched more, I developed a taste for Oz, and got accustomed to the high levels of graphic violence. Not just violence, but injustice (crooked guards who'll be sold out for a nickel, inmates who'll kill on order and get away with it, well mannered, middle class inmates being turned into prison bitches due to their lack of street skills or prison experience) Watching Oz, you may become comfortable with what is uncomfortable viewing....thats if you can get in touch with your darker side.\n",
            "1\n",
            "A wonderful little production. <br /><br />The filming technique is very unassuming- very old-time-BBC fashion and gives a comforting, and sometimes discomforting, sense of realism to the entire piece. <br /><br />The actors are extremely well chosen- Michael Sheen not only \"has got all the polari\" but he has all the voices down pat too! You can truly see the seamless editing guided by the references to Williams' diary entries, not only is it well worth the watching but it is a terrificly written and performed piece. A masterful production about one of the great master's of comedy and his life. <br /><br />The realism really comes home with the little things: the fantasy of the guard which, rather than use the traditional 'dream' techniques remains solid then disappears. It plays on our knowledge and our senses, particularly with the scenes concerning Orton and Halliwell and the sets (particularly of their flat with Halliwell's murals decorating every surface) are terribly well done.\n",
            "1\n",
            "I thought this was a wonderful way to spend time on a too hot summer weekend, sitting in the air conditioned theater and watching a light-hearted comedy. The plot is simplistic, but the dialogue is witty and the characters are likable (even the well bread suspected serial killer). While some may be disappointed when they realize this is not Match Point 2: Risk Addiction, I thought it was proof that Woody Allen is still fully in control of the style many of us have grown to love.<br /><br />This was the most I'd laughed at one of Woody's comedies in years (dare I say a decade?). While I've never been impressed with Scarlet Johanson, in this she managed to tone down her \"sexy\" image and jumped right into a average, but spirited young woman.<br /><br />This may not be the crown jewel of his career, but it was wittier than \"Devil Wears Prada\" and more interesting than \"Superman\" a great comedy to go see with friends.\n",
            "1\n",
            "Basically there's a family where a little boy (Jake) thinks there's a zombie in his closet & his parents are fighting all the time.<br /><br />This movie is slower than a soap opera... and suddenly, Jake decides to become Rambo and kill the zombie.<br /><br />OK, first of all when you're going to make a film you must Decide if its a thriller or a drama! As a drama the movie is watchable. Parents are divorcing & arguing like in real life. And then we have Jake with his closet which totally ruins all the film! I expected to see a BOOGEYMAN similar movie, and instead i watched a drama with some meaningless thriller spots.<br /><br />3 out of 10 just for the well playing parents & descent dialogs. As for the shots with Jake: just ignore them.\n",
            "0\n",
            "Petter Mattei's \"Love in the Time of Money\" is a visually stunning film to watch. Mr. Mattei offers us a vivid portrait about human relations. This is a movie that seems to be telling us what money, power and success do to people in the different situations we encounter. <br /><br />This being a variation on the Arthur Schnitzler's play about the same theme, the director transfers the action to the present time New York where all these different characters meet and connect. Each one is connected in one way, or another to the next person, but no one seems to know the previous point of contact. Stylishly, the film has a sophisticated luxurious look. We are taken to see how these people live and the world they live in their own habitat.<br /><br />The only thing one gets out of all these souls in the picture is the different stages of loneliness each one inhabits. A big city is not exactly the best place in which human relations find sincere fulfillment, as one discerns is the case with most of the people we encounter.<br /><br />The acting is good under Mr. Mattei's direction. Steve Buscemi, Rosario Dawson, Carol Kane, Michael Imperioli, Adrian Grenier, and the rest of the talented cast, make these characters come alive.<br /><br />We wish Mr. Mattei good luck and await anxiously for his next work.\n",
            "1\n"
          ]
        }
      ]
    },
    {
      "cell_type": "markdown",
      "source": [
        "# 4. Text Processing\n",
        "\n",
        "The model that we intend to use would be an **attention model so we don't want to remove any data that would enable the model to predict with accuracy.** So we will be performing a broad text cleaning without any lemmatization or removal of stop words since these may be critical to mapping out the sentiment expressed. The following steps will be performed on the review text:\n",
        "\n",
        "\n",
        "1. Conversion to Lower Case\n",
        "2. Removal of delimiters\n",
        "3. Removal of any links that may be pushed into the reviews\n",
        "4. Removal of any special characters that can not essentially determine the sentiment\n",
        "5. Rejoining the tokens after the cleaning pipeline for further processing\n"
      ],
      "metadata": {
        "id": "53PwIyHIzy3I"
      }
    },
    {
      "cell_type": "markdown",
      "source": [
        "# 5. Dividing into Train , Test and Validation Data\n",
        "\n",
        "The data was divided into 3 categories i.e. for training the model, validation and then finally testing into a test set.\n",
        "\n",
        "1. Train Data: 80% of the Total Data\n",
        "2. Test Data: 20% of the Total Data\n",
        "3. Validation Data: 20% of the Train Data\n",
        "\n",
        "The data was then visualized to ensure that we have a balanced dataset to avoid any kind of bias that may arise."
      ],
      "metadata": {
        "id": "hludV02Bzy3K"
      }
    },
    {
      "cell_type": "code",
      "source": [
        "#training_data = data.sample(frac=0.8, random_state=25)\n",
        "#testing_data = data.drop(training_data.index)\n",
        "#\n",
        "#validation_data = training_data.sample(frac = 0.2 , random_state = 25)\n",
        "#training_data = training_data.drop(validation_data.index)\n",
        "#\n",
        "#training_data = training_data.reset_index(drop = True)\n",
        "#validation_data = validation_data.reset_index(drop = True)\n",
        "#testing_data = testing_data.reset_index(drop = True)"
      ],
      "metadata": {
        "execution": {
          "iopub.status.busy": "2023-02-25T13:32:18.974181Z",
          "iopub.execute_input": "2023-02-25T13:32:18.974526Z",
          "iopub.status.idle": "2023-02-25T13:32:19.005404Z",
          "shell.execute_reply.started": "2023-02-25T13:32:18.974493Z",
          "shell.execute_reply": "2023-02-25T13:32:19.00457Z"
        },
        "trusted": true,
        "id": "76XLyzVEzy3L"
      },
      "execution_count": 30,
      "outputs": []
    },
    {
      "cell_type": "code",
      "source": [
        "newdata.rename(columns={\"words\": \"review\"}, inplace=True)\n",
        "training_data = newdata.sample(frac=0.8, random_state=25)\n",
        "testing_data = newdata.drop(training_data.index)\n",
        "\n",
        "validation_data = training_data.sample(frac = 0.2 , random_state = 25)\n",
        "training_data = training_data.drop(validation_data.index)\n",
        "\n",
        "training_data = training_data.reset_index(drop = True)\n",
        "validation_data = validation_data.reset_index(drop = True)\n",
        "testing_data = testing_data.reset_index(drop = True)"
      ],
      "metadata": {
        "id": "w9aP8RasMrkY"
      },
      "execution_count": 31,
      "outputs": []
    },
    {
      "cell_type": "code",
      "source": [
        "#newdata.rename(columns={\"words\": \"review\"}, inplace=True)"
      ],
      "metadata": {
        "id": "XKhd_aUrOkcU"
      },
      "execution_count": 32,
      "outputs": []
    },
    {
      "cell_type": "code",
      "source": [
        "# Instantiating an empty dataframe\n",
        "cts = pd.DataFrame()\n",
        "\n",
        "# Filling the dataframe with the number of sentiment counts of the total sentiments to retain balance\n",
        "cts['Train'] = training_data['sentiment'].value_counts()\n",
        "cts['Test'] = testing_data['sentiment'].value_counts()\n",
        "cts['valid'] = validation_data['sentiment'].value_counts()\n",
        "cts.head()"
      ],
      "metadata": {
        "execution": {
          "iopub.status.busy": "2023-02-25T13:32:19.022043Z",
          "iopub.execute_input": "2023-02-25T13:32:19.023077Z",
          "iopub.status.idle": "2023-02-25T13:32:19.042785Z",
          "shell.execute_reply.started": "2023-02-25T13:32:19.023041Z",
          "shell.execute_reply": "2023-02-25T13:32:19.041897Z"
        },
        "trusted": true,
        "colab": {
          "base_uri": "https://localhost:8080/",
          "height": 112
        },
        "id": "_lmOGl-gzy3M",
        "outputId": "877b7fe7-bc6e-4d1c-a84b-72bda19e9956"
      },
      "execution_count": 33,
      "outputs": [
        {
          "output_type": "execute_result",
          "data": {
            "text/plain": [
              "   Train  Test  valid\n",
              "0    642   200    158\n",
              "1    638   200    162"
            ],
            "text/html": [
              "\n",
              "  <div id=\"df-adfc219f-43e8-4a8f-b171-73dcb6bd4795\">\n",
              "    <div class=\"colab-df-container\">\n",
              "      <div>\n",
              "<style scoped>\n",
              "    .dataframe tbody tr th:only-of-type {\n",
              "        vertical-align: middle;\n",
              "    }\n",
              "\n",
              "    .dataframe tbody tr th {\n",
              "        vertical-align: top;\n",
              "    }\n",
              "\n",
              "    .dataframe thead th {\n",
              "        text-align: right;\n",
              "    }\n",
              "</style>\n",
              "<table border=\"1\" class=\"dataframe\">\n",
              "  <thead>\n",
              "    <tr style=\"text-align: right;\">\n",
              "      <th></th>\n",
              "      <th>Train</th>\n",
              "      <th>Test</th>\n",
              "      <th>valid</th>\n",
              "    </tr>\n",
              "  </thead>\n",
              "  <tbody>\n",
              "    <tr>\n",
              "      <th>0</th>\n",
              "      <td>642</td>\n",
              "      <td>200</td>\n",
              "      <td>158</td>\n",
              "    </tr>\n",
              "    <tr>\n",
              "      <th>1</th>\n",
              "      <td>638</td>\n",
              "      <td>200</td>\n",
              "      <td>162</td>\n",
              "    </tr>\n",
              "  </tbody>\n",
              "</table>\n",
              "</div>\n",
              "      <button class=\"colab-df-convert\" onclick=\"convertToInteractive('df-adfc219f-43e8-4a8f-b171-73dcb6bd4795')\"\n",
              "              title=\"Convert this dataframe to an interactive table.\"\n",
              "              style=\"display:none;\">\n",
              "        \n",
              "  <svg xmlns=\"http://www.w3.org/2000/svg\" height=\"24px\"viewBox=\"0 0 24 24\"\n",
              "       width=\"24px\">\n",
              "    <path d=\"M0 0h24v24H0V0z\" fill=\"none\"/>\n",
              "    <path d=\"M18.56 5.44l.94 2.06.94-2.06 2.06-.94-2.06-.94-.94-2.06-.94 2.06-2.06.94zm-11 1L8.5 8.5l.94-2.06 2.06-.94-2.06-.94L8.5 2.5l-.94 2.06-2.06.94zm10 10l.94 2.06.94-2.06 2.06-.94-2.06-.94-.94-2.06-.94 2.06-2.06.94z\"/><path d=\"M17.41 7.96l-1.37-1.37c-.4-.4-.92-.59-1.43-.59-.52 0-1.04.2-1.43.59L10.3 9.45l-7.72 7.72c-.78.78-.78 2.05 0 2.83L4 21.41c.39.39.9.59 1.41.59.51 0 1.02-.2 1.41-.59l7.78-7.78 2.81-2.81c.8-.78.8-2.07 0-2.86zM5.41 20L4 18.59l7.72-7.72 1.47 1.35L5.41 20z\"/>\n",
              "  </svg>\n",
              "      </button>\n",
              "      \n",
              "  <style>\n",
              "    .colab-df-container {\n",
              "      display:flex;\n",
              "      flex-wrap:wrap;\n",
              "      gap: 12px;\n",
              "    }\n",
              "\n",
              "    .colab-df-convert {\n",
              "      background-color: #E8F0FE;\n",
              "      border: none;\n",
              "      border-radius: 50%;\n",
              "      cursor: pointer;\n",
              "      display: none;\n",
              "      fill: #1967D2;\n",
              "      height: 32px;\n",
              "      padding: 0 0 0 0;\n",
              "      width: 32px;\n",
              "    }\n",
              "\n",
              "    .colab-df-convert:hover {\n",
              "      background-color: #E2EBFA;\n",
              "      box-shadow: 0px 1px 2px rgba(60, 64, 67, 0.3), 0px 1px 3px 1px rgba(60, 64, 67, 0.15);\n",
              "      fill: #174EA6;\n",
              "    }\n",
              "\n",
              "    [theme=dark] .colab-df-convert {\n",
              "      background-color: #3B4455;\n",
              "      fill: #D2E3FC;\n",
              "    }\n",
              "\n",
              "    [theme=dark] .colab-df-convert:hover {\n",
              "      background-color: #434B5C;\n",
              "      box-shadow: 0px 1px 3px 1px rgba(0, 0, 0, 0.15);\n",
              "      filter: drop-shadow(0px 1px 2px rgba(0, 0, 0, 0.3));\n",
              "      fill: #FFFFFF;\n",
              "    }\n",
              "  </style>\n",
              "\n",
              "      <script>\n",
              "        const buttonEl =\n",
              "          document.querySelector('#df-adfc219f-43e8-4a8f-b171-73dcb6bd4795 button.colab-df-convert');\n",
              "        buttonEl.style.display =\n",
              "          google.colab.kernel.accessAllowed ? 'block' : 'none';\n",
              "\n",
              "        async function convertToInteractive(key) {\n",
              "          const element = document.querySelector('#df-adfc219f-43e8-4a8f-b171-73dcb6bd4795');\n",
              "          const dataTable =\n",
              "            await google.colab.kernel.invokeFunction('convertToInteractive',\n",
              "                                                     [key], {});\n",
              "          if (!dataTable) return;\n",
              "\n",
              "          const docLinkHtml = 'Like what you see? Visit the ' +\n",
              "            '<a target=\"_blank\" href=https://colab.research.google.com/notebooks/data_table.ipynb>data table notebook</a>'\n",
              "            + ' to learn more about interactive tables.';\n",
              "          element.innerHTML = '';\n",
              "          dataTable['output_type'] = 'display_data';\n",
              "          await google.colab.output.renderOutput(dataTable, element);\n",
              "          const docLink = document.createElement('div');\n",
              "          docLink.innerHTML = docLinkHtml;\n",
              "          element.appendChild(docLink);\n",
              "        }\n",
              "      </script>\n",
              "    </div>\n",
              "  </div>\n",
              "  "
            ]
          },
          "metadata": {},
          "execution_count": 33
        }
      ]
    },
    {
      "cell_type": "code",
      "source": [
        "# Visualizing with the help of piecharts that the data remains balanced in all 3 datasets\n",
        "plt.subplots(figsize=(20, 10))\n",
        "plt.subplot(1, 2, 1)\n",
        "plt.pie(cts.iloc[0], labels = ['Train', 'Test', 'Valid'], colors = sns.color_palette('pastel')[0:3], autopct='%.0f%%')\n",
        "plt.title('Positive Sentiment Division')\n",
        "\n",
        "plt.subplot(1, 2, 2)\n",
        "plt.pie(cts.iloc[1], labels = ['Train', 'Test', 'Valid'], colors = sns.color_palette('pastel')[0:3], autopct='%.0f%%')\n",
        "plt.title('Negative Sentiment Division')\n",
        "\n",
        "plt.show()"
      ],
      "metadata": {
        "execution": {
          "iopub.status.busy": "2023-02-25T13:32:19.045817Z",
          "iopub.execute_input": "2023-02-25T13:32:19.046125Z",
          "iopub.status.idle": "2023-02-25T13:32:19.396225Z",
          "shell.execute_reply.started": "2023-02-25T13:32:19.0461Z",
          "shell.execute_reply": "2023-02-25T13:32:19.395235Z"
        },
        "trusted": true,
        "colab": {
          "base_uri": "https://localhost:8080/",
          "height": 492
        },
        "id": "wr0toDU8zy3M",
        "outputId": "055c53e9-1491-4d19-be7c-d671b7dfaf87"
      },
      "execution_count": 34,
      "outputs": [
        {
          "output_type": "stream",
          "name": "stderr",
          "text": [
            "<ipython-input-34-6d40dd4259ba>:3: MatplotlibDeprecationWarning: Auto-removal of overlapping axes is deprecated since 3.6 and will be removed two minor releases later; explicitly call ax.remove() as needed.\n",
            "  plt.subplot(1, 2, 1)\n"
          ]
        },
        {
          "output_type": "display_data",
          "data": {
            "text/plain": [
              "<Figure size 2000x1000 with 2 Axes>"
            ],
            "image/png": "[encoded data removed]"
          },
          "metadata": {}
        }
      ]
    },
    {
      "cell_type": "markdown",
      "source": [
        "**Though, we can see from the table that the data is not perfectly divided but the difference is quite small, much less than even 1%. So, we will not be imbuing any kind of bias by the data division.**"
      ],
      "metadata": {
        "id": "S3Tl6wDSzy3N"
      }
    },
    {
      "cell_type": "markdown",
      "source": [
        "# 6. Pre-Processing Pipeline\n",
        "\n"
      ],
      "metadata": {
        "id": "7wk_DgQDzy3N"
      }
    },
    {
      "cell_type": "markdown",
      "source": [
        "## (a) Transformers\n",
        "\n",
        "For many years, the technique that had been widely adopted for NLP had been RNN or Sequential Models. But more recently, a new technique has been in the limelight in the form of the hot shot ChatGPT, Bard etc. which are employing a newer and more robust approach to solve the limitations of the earlier models. It is based on their ability to deal with large amounts of text with an **essential base on positional encoding, attention and self-attention.**\n",
        "\n",
        "Based on this novel technique, certain models have been designed like the BERT, DistillBert, Roberta etc. which have been trained on huge corpuses of text data. In our approach, we will also be using one of these models to train our data because of their ability to deal with large text as well without memory errors with accuracy.\n",
        "\n",
        "Specifically, we will be making use of a **Roberta Model which stands for 'Robustly Optimized BERT' i.e. it stands on top of the BERT model by google. The reason that this specific model was chosen is because of its optimization of the BERT in terms of the better results due to dynamic masking as well as the integration of a larger corpus.**\n",
        "\n",
        "In the following lines of code, we use the AutoTokenizer from the hugging face library for tokenizing the text. The important thing to remember here is that we need to feed in the data having the same length which would require padding of shorter text length and truncation of the longer both of which can be easily performed using the in built function of the autotokenizer. Additionally, from the documentation of the model, we can see that it only processes text upto a length of 512. However, after testing the model for varius lengths, it was found that the text length of 128 in each batch would be effective."
      ],
      "metadata": {
        "id": "QesDwnlazy3O"
      }
    },
    {
      "cell_type": "code",
      "source": [
        "## 'roberta-base'\n",
        "tokenizer = AutoTokenizer.from_pretrained(\"roberta-base\")"
      ],
      "metadata": {
        "execution": {
          "iopub.status.busy": "2023-02-25T13:32:19.397676Z",
          "iopub.execute_input": "2023-02-25T13:32:19.398315Z",
          "iopub.status.idle": "2023-02-25T13:32:28.286061Z",
          "shell.execute_reply.started": "2023-02-25T13:32:19.398279Z",
          "shell.execute_reply": "2023-02-25T13:32:28.285004Z"
        },
        "trusted": true,
        "colab": {
          "base_uri": "https://localhost:8080/",
          "height": 145,
          "referenced_widgets": [
            "1bf629296a324da99f7319ea2b5f2b4f",
            "8cfc14116249418ab04db7bc0c9a26be",
            "383ef1a149fb4f90a8a0ec2766a51b48",
            "3e64c57acd8a4774ae08e5564473bcbe",
            "fc5c4144ed6944158944b9b0b4f2fff9",
            "e64cf2c1ebbe452087a500b53b2c1600",
            "47a5948f5403408496d4cec8e0e6419c",
            "dddc708d224c45bf9630f9a8fcf90ebf",
            "f942c10ecd614e3493bd29b13f1f1117",
            "d9ade5884d9f45a0a646561594e1f91d",
            "032eb7619ac848b28466f114b7d456b6",
            "c586ab42f77f416883eb50307e4c69b7",
            "1b663b87e7574557a522e0e063e3f953",
            "cc443701556b4304908e1cb315503222",
            "3e1913eaa7174cb5b743d008a3500c2a",
            "da62878c15b74faeb63bb0da9e1c1345",
            "2a91d72570594c27b5b84ebcb99939a7",
            "68e549b2bf7c4e6792fceb568a440cbf",
            "dfecb583588f4852b6feda3fe81e24c0",
            "40ae774417d6423c9748fc26bcbe3c84",
            "07f1907861ee48ce851049aa5d6f9a4a",
            "4f440bb0559e455aaa888ac2a947461b",
            "f92c0667889844f7b5e3cdfd11f603c5",
            "f75eaef702ce45adb3cabb94341cd677",
            "ac33eaea191d4c1583266f679f15ee8d",
            "510216f1db2b4bd9a11a7c7ca5622103",
            "8ab097210af945caa9e8c58c51272292",
            "0bbd8b2c88e54a36bfd1b1fd62b87684",
            "9bd26d40c11149078db79cc69e9919c2",
            "801efdda7bc549a3b0fde80651421c50",
            "d4333f546b3c47bc9a7a7446042737d5",
            "8c5bf4a09e264164b16d05bf066945bd",
            "760ef4bb2b794a658a40cd9d1a62c14a",
            "d07b3a17a2f5480ebbb04aa67ff3367a",
            "eeaf50f600a84a48aa6101dd475dba8f",
            "d8f80a9a0814453c8d9e41a57a280175",
            "1b9308f0876244b989503bcc3aac21e9",
            "a8bfb907f87449d8b88c20e1298467bd",
            "d7f6335f5bfb440293b0bb3dce306650",
            "70ace7611b3e47308ba8bca4a19896fb",
            "275d9d9001f842e4b9ef8a152121c2ff",
            "212d4a994afa475ca0d31f75b7c05d30",
            "097f4501fdb54ef483b8dcec471aa53b",
            "8ae7b743cbe943bd90dbacff75ca022d"
          ]
        },
        "id": "9mFb82sSzy3O",
        "outputId": "ab0bb88b-6c7d-45b2-e47d-da89ded0328b"
      },
      "execution_count": 35,
      "outputs": [
        {
          "output_type": "display_data",
          "data": {
            "text/plain": [
              "Downloading (…)lve/main/config.json:   0%|          | 0.00/481 [00:00<?, ?B/s]"
            ],
            "application/vnd.jupyter.widget-view+json": {
              "version_major": 2,
              "version_minor": 0,
              "model_id": "1bf629296a324da99f7319ea2b5f2b4f"
            }
          },
          "metadata": {}
        },
        {
          "output_type": "display_data",
          "data": {
            "text/plain": [
              "Downloading (…)olve/main/vocab.json:   0%|          | 0.00/899k [00:00<?, ?B/s]"
            ],
            "application/vnd.jupyter.widget-view+json": {
              "version_major": 2,
              "version_minor": 0,
              "model_id": "c586ab42f77f416883eb50307e4c69b7"
            }
          },
          "metadata": {}
        },
        {
          "output_type": "display_data",
          "data": {
            "text/plain": [
              "Downloading (…)olve/main/merges.txt:   0%|          | 0.00/456k [00:00<?, ?B/s]"
            ],
            "application/vnd.jupyter.widget-view+json": {
              "version_major": 2,
              "version_minor": 0,
              "model_id": "f92c0667889844f7b5e3cdfd11f603c5"
            }
          },
          "metadata": {}
        },
        {
          "output_type": "display_data",
          "data": {
            "text/plain": [
              "Downloading (…)/main/tokenizer.json:   0%|          | 0.00/1.36M [00:00<?, ?B/s]"
            ],
            "application/vnd.jupyter.widget-view+json": {
              "version_major": 2,
              "version_minor": 0,
              "model_id": "d07b3a17a2f5480ebbb04aa67ff3367a"
            }
          },
          "metadata": {}
        }
      ]
    },
    {
      "cell_type": "code",
      "source": [
        "def tokenize_dataset(data):\n",
        "    # Keys of the returned dictionary will be added to the dataset as columns\n",
        "    return tokenizer(data[\"review\"],padding = True , truncation = True, max_length=128)\n",
        "\n",
        "def data_pipe(df):\n",
        "    # The column is renamed as 'label' to use in the pre-built Roberta Model\n",
        "    df1 = df\n",
        "    df.rename(columns = {'sentiment':'label'} , inplace = True)\n",
        "    ## Converting pandas to hugging face dataset to prepare the data as well as save it on drive to\n",
        "    ## avoid wating memory\n",
        "    df = Dataset.from_pandas(df)\n",
        "    ## Padding the data with truncation to limit any input which nmay over shoot the maximum limit of the accepted input length of the model\n",
        "    df = df.map(tokenize_dataset)\n",
        "    return df"
      ],
      "metadata": {
        "execution": {
          "iopub.status.busy": "2023-02-25T13:32:28.290671Z",
          "iopub.execute_input": "2023-02-25T13:32:28.293245Z",
          "iopub.status.idle": "2023-02-25T13:32:28.301277Z",
          "shell.execute_reply.started": "2023-02-25T13:32:28.293206Z",
          "shell.execute_reply": "2023-02-25T13:32:28.300248Z"
        },
        "trusted": true,
        "id": "XpfLnYymzy3P"
      },
      "execution_count": 36,
      "outputs": []
    },
    {
      "cell_type": "code",
      "source": [
        "## The trainig and the validation data are passed through the pipeline to make the data as an acceptable Input form\n",
        "## to be fed into a Roberta Model\n",
        "training = data_pipe(training_data)\n",
        "valid = data_pipe(validation_data)"
      ],
      "metadata": {
        "execution": {
          "iopub.status.busy": "2023-02-25T13:32:28.305404Z",
          "iopub.execute_input": "2023-02-25T13:32:28.307725Z",
          "iopub.status.idle": "2023-02-25T13:33:20.047482Z",
          "shell.execute_reply.started": "2023-02-25T13:32:28.307686Z",
          "shell.execute_reply": "2023-02-25T13:33:20.046543Z"
        },
        "trusted": true,
        "colab": {
          "base_uri": "https://localhost:8080/",
          "height": 17,
          "referenced_widgets": [
            "57f92f69a1ac4303abb5698103b090ce",
            "9cef26d3a4ea42429d1366864817b02f",
            "381255cc64f84b61bfbf7ddea3488d93",
            "3c633800f9b4484c8516c76f846cdb32",
            "01ea38bf088f4b5c99af153c9777faff",
            "dd38af5704924778ad7bf09194a05b82",
            "1575d36647a14f0ea69c47987197f45f",
            "427eb36c86804f9788218a8c6a8f14ec",
            "382258e49314424e93b66118bf1d8e67",
            "719d83c4d2a7494991c66d7bbb820742",
            "e4541879dea14bc79055460bdc3d1ec0",
            "2f29aee9a8194f16a264982e9cb9df83",
            "c16ca96734e6494188b74839a2de1e20",
            "0b9575e68f1a47899ea62fc9b968fde1",
            "bff410585fc04a8c88d3e9f6cafcfdcb",
            "e1bb66ed78f04d469620477b9acafcfd",
            "36bdbc9c578f41e69d0f46fb560b91dc",
            "8d6c7a0d0dee4614996ca6bcdfe141ae",
            "9ffc36087e5047d8abf3f655a5383fc7",
            "fa29b505d92942c2a001ec1af059f0ec",
            "424c150d2c444932b897ccc145f3a9ab",
            "6d843fd9d88c44389cd9544ee8bf792e"
          ]
        },
        "id": "FLQBqAr-zy3P",
        "outputId": "d8f70b4b-1d2f-4d41-bcbd-634fcd31b35c"
      },
      "execution_count": 37,
      "outputs": [
        {
          "output_type": "display_data",
          "data": {
            "text/plain": [
              "Map:   0%|          | 0/1280 [00:00<?, ? examples/s]"
            ],
            "application/vnd.jupyter.widget-view+json": {
              "version_major": 2,
              "version_minor": 0,
              "model_id": "57f92f69a1ac4303abb5698103b090ce"
            }
          },
          "metadata": {}
        },
        {
          "output_type": "display_data",
          "data": {
            "text/plain": [
              "Map:   0%|          | 0/320 [00:00<?, ? examples/s]"
            ],
            "application/vnd.jupyter.widget-view+json": {
              "version_major": 2,
              "version_minor": 0,
              "model_id": "2f29aee9a8194f16a264982e9cb9df83"
            }
          },
          "metadata": {}
        }
      ]
    },
    {
      "cell_type": "markdown",
      "source": [
        "# 7. Model Roberta Fine-Tuning\n",
        "\n",
        "After passing the data through the pipeline, we have it ready to be used with a Roberta Model. From the model summary, we can broadly see that the model has a considerably large number of parameters. Additionally, we can see that the **size of the text is quite large and feeding the tensors directly may result in the memory over load**. To avoid this, we convert the data into a **'tf dataset' to feed only a single batch which can optimize memory usage.** Additioanlly, it is also providing with added advantage of the ability to shuffle before the datset is fit on the model for fine-tuning.\n",
        "\n",
        "The **optimizer used was Adam, the loss and metric used for training was the Sparse Categorical Cross-Entropy with a small learning rate as specified by the author for optimal usage**. The **model was trained on 3 epochs with a score of 94.91% on the training data and 89.40% on the validation data**."
      ],
      "metadata": {
        "id": "RaOZ3EXXzy3Q"
      }
    },
    {
      "cell_type": "code",
      "source": [
        "# Load and compile our model\n",
        "## 'roberta-base' , bert-base-uncased, distilbert-base-uncased\n",
        "model = TFAutoModelForSequenceClassification.from_pretrained(\"roberta-base\", num_labels=2)\n",
        "model.summary()"
      ],
      "metadata": {
        "execution": {
          "iopub.status.busy": "2023-02-25T13:33:20.066425Z",
          "iopub.execute_input": "2023-02-25T13:33:20.066685Z",
          "iopub.status.idle": "2023-02-25T13:33:41.837954Z",
          "shell.execute_reply.started": "2023-02-25T13:33:20.066661Z",
          "shell.execute_reply": "2023-02-25T13:33:41.836692Z"
        },
        "trusted": true,
        "colab": {
          "base_uri": "https://localhost:8080/",
          "height": 416,
          "referenced_widgets": [
            "388e5861c0924218ac6314d2715b1b48",
            "56f4abb8224440938dd30d247518ad12",
            "231582e7004e47c482929576bd76a2a1",
            "2f6c067508dc41b0bf7274c5931ee03e",
            "e935ad51c94d40e28ee8b49365be7e4d",
            "a93fac7412844b4881d819d5cf833764",
            "7fff39df2d9443c9a2e8ad3472c839b0",
            "99c343bbdea2456db678aaf762d4cd65",
            "2d53a28915444d9aa8c768550de79d48",
            "8a54cd37612640d0887f59b1860b8fff",
            "48d7a88ca9544abe98ff85d9c235f451"
          ]
        },
        "id": "oPQZlyh7zy3Q",
        "outputId": "bb664184-3489-4507-dd42-951de5667539"
      },
      "execution_count": 38,
      "outputs": [
        {
          "output_type": "display_data",
          "data": {
            "text/plain": [
              "Downloading model.safetensors:   0%|          | 0.00/499M [00:00<?, ?B/s]"
            ],
            "application/vnd.jupyter.widget-view+json": {
              "version_major": 2,
              "version_minor": 0,
              "model_id": "388e5861c0924218ac6314d2715b1b48"
            }
          },
          "metadata": {}
        },
        {
          "output_type": "stream",
          "name": "stderr",
          "text": [
            "Some weights of the PyTorch model were not used when initializing the TF 2.0 model TFRobertaForSequenceClassification: ['roberta.embeddings.position_ids']\n",
            "- This IS expected if you are initializing TFRobertaForSequenceClassification from a PyTorch model trained on another task or with another architecture (e.g. initializing a TFBertForSequenceClassification model from a BertForPreTraining model).\n",
            "- This IS NOT expected if you are initializing TFRobertaForSequenceClassification from a PyTorch model that you expect to be exactly identical (e.g. initializing a TFBertForSequenceClassification model from a BertForSequenceClassification model).\n",
            "Some weights or buffers of the TF 2.0 model TFRobertaForSequenceClassification were not initialized from the PyTorch model and are newly initialized: ['classifier.dense.weight', 'classifier.dense.bias', 'classifier.out_proj.weight', 'classifier.out_proj.bias']\n",
            "You should probably TRAIN this model on a down-stream task to be able to use it for predictions and inference.\n"
          ]
        },
        {
          "output_type": "stream",
          "name": "stdout",
          "text": [
            "Model: \"tf_roberta_for_sequence_classification\"\n",
            "_________________________________________________________________\n",
            " Layer (type)                Output Shape              Param #   \n",
            "=================================================================\n",
            " roberta (TFRobertaMainLayer  multiple                 124055040 \n",
            " )                                                               \n",
            "                                                                 \n",
            " classifier (TFRobertaClassi  multiple                 592130    \n",
            " ficationHead)                                                   \n",
            "                                                                 \n",
            "=================================================================\n",
            "Total params: 124,647,170\n",
            "Trainable params: 124,647,170\n",
            "Non-trainable params: 0\n",
            "_________________________________________________________________\n"
          ]
        }
      ]
    },
    {
      "cell_type": "code",
      "source": [
        "tf_dataset = model.prepare_tf_dataset(training, batch_size=4, shuffle=True, tokenizer=tokenizer)\n",
        "val_dataset = model.prepare_tf_dataset(valid, batch_size=4, shuffle=True, tokenizer=tokenizer)"
      ],
      "metadata": {
        "execution": {
          "iopub.status.busy": "2023-02-25T13:33:41.839806Z",
          "iopub.execute_input": "2023-02-25T13:33:41.840805Z",
          "iopub.status.idle": "2023-02-25T13:33:42.271386Z",
          "shell.execute_reply.started": "2023-02-25T13:33:41.840758Z",
          "shell.execute_reply": "2023-02-25T13:33:42.270415Z"
        },
        "trusted": true,
        "colab": {
          "base_uri": "https://localhost:8080/"
        },
        "id": "u197QjSxzy3R",
        "outputId": "201b02a1-a582-4d6f-e5c7-fadf34b80e9a"
      },
      "execution_count": 39,
      "outputs": [
        {
          "output_type": "stream",
          "name": "stderr",
          "text": [
            "You're using a RobertaTokenizerFast tokenizer. Please note that with a fast tokenizer, using the `__call__` method is faster than using a method to encode the text followed by a call to the `pad` method to get a padded encoding.\n"
          ]
        }
      ]
    },
    {
      "cell_type": "code",
      "source": [
        "# Lower learning rates are often better for fine-tuning transformers\n",
        "# lr 3e-5\n",
        "model.compile(optimizer=tf.keras.optimizers.Adam(learning_rate=1e-5),\n",
        "            loss=tf.keras.losses.SparseCategoricalCrossentropy(from_logits=True),\n",
        "            metrics=tf.metrics.SparseCategoricalAccuracy())\n",
        "\n",
        "model.fit(tf_dataset, validation_data= val_dataset , epochs = 3)"
      ],
      "metadata": {
        "execution": {
          "iopub.status.busy": "2023-02-25T13:33:42.272807Z",
          "iopub.execute_input": "2023-02-25T13:33:42.273177Z",
          "iopub.status.idle": "2023-02-25T14:19:45.962598Z",
          "shell.execute_reply.started": "2023-02-25T13:33:42.27314Z",
          "shell.execute_reply": "2023-02-25T14:19:45.961688Z"
        },
        "trusted": true,
        "colab": {
          "base_uri": "https://localhost:8080/"
        },
        "id": "nKRdEzAEzy3S",
        "outputId": "880cedf9-5169-4d37-b6dd-e75fa3f8b2bb"
      },
      "execution_count": 40,
      "outputs": [
        {
          "output_type": "stream",
          "name": "stdout",
          "text": [
            "Epoch 1/3\n",
            "320/320 [==============================] - 141s 233ms/step - loss: 0.4682 - sparse_categorical_accuracy: 0.7672 - val_loss: 0.3339 - val_sparse_categorical_accuracy: 0.8969\n",
            "Epoch 2/3\n",
            "320/320 [==============================] - 52s 161ms/step - loss: 0.2478 - sparse_categorical_accuracy: 0.9109 - val_loss: 0.3379 - val_sparse_categorical_accuracy: 0.8781\n",
            "Epoch 3/3\n",
            "320/320 [==============================] - 52s 163ms/step - loss: 0.1479 - sparse_categorical_accuracy: 0.9523 - val_loss: 0.3704 - val_sparse_categorical_accuracy: 0.9000\n"
          ]
        },
        {
          "output_type": "execute_result",
          "data": {
            "text/plain": [
              "<keras.callbacks.History at 0x7f966b621ff0>"
            ]
          },
          "metadata": {},
          "execution_count": 40
        }
      ]
    },
    {
      "cell_type": "code",
      "source": [
        "##### max_l = 150 , epc = 3 , learning_rate=1e-5  batch size =2\n",
        "model.save_pretrained(\"my_imdb_model_1\")\n",
        "\n",
        "##### max_l = 128, 89.25%, batch size =2\n",
        "# model.save_pretrained(\"*/my_imdb_model_2\")\n",
        "\n",
        "##### max_l = 128, batch size =4 ,89.7%\n",
        "# model.save_pretrained(\"*/my_imdb_model_3\")"
      ],
      "metadata": {
        "execution": {
          "iopub.status.busy": "2023-02-25T14:19:45.96487Z",
          "iopub.execute_input": "2023-02-25T14:19:45.965878Z",
          "iopub.status.idle": "2023-02-25T14:19:46.974257Z",
          "shell.execute_reply.started": "2023-02-25T14:19:45.965819Z",
          "shell.execute_reply": "2023-02-25T14:19:46.973256Z"
        },
        "trusted": true,
        "id": "5QkdbGbuzy3T"
      },
      "execution_count": 41,
      "outputs": []
    },
    {
      "cell_type": "markdown",
      "source": [
        "# 8. Model Testing\n",
        "\n",
        "The model testing was carried out on the test set with the conversion of the text converted to tensors before subsequently being fed to the model for prediction. **An F-1 score of 89.75% and accuracy score of 90.02% for our 3rd model** was achieved which had the following parameters:\n",
        "- Learning Rate : 1e-5\n",
        "- Loss Function : Sparse Categorical Entropy\n",
        "- Training Metric: Sparse Categorical Accuracy\n",
        "- Max Text Length : 128\n",
        "- Batch Size : 4"
      ],
      "metadata": {
        "id": "pl6aXBQvzy3T"
      }
    },
    {
      "cell_type": "code",
      "source": [
        "## Since we have a binary classification problem, we will be using sigmoid function on the logits that are achieved to calculate the prob of each outcome\n",
        "def sigmoid(x):\n",
        "    return 1/(1+np.exp(-x))\n",
        "\n",
        "## A simple function to apply the sigmoid function on the logits\n",
        "def pred(x):\n",
        "    temp = sigmoid(x)\n",
        "    if temp[0] > temp[1]:\n",
        "        return 0\n",
        "    else:\n",
        "        return 1"
      ],
      "metadata": {
        "execution": {
          "iopub.status.busy": "2023-02-25T14:19:46.983101Z",
          "iopub.execute_input": "2023-02-25T14:19:46.983727Z",
          "iopub.status.idle": "2023-02-25T14:19:46.991689Z",
          "shell.execute_reply.started": "2023-02-25T14:19:46.983666Z",
          "shell.execute_reply": "2023-02-25T14:19:46.990683Z"
        },
        "trusted": true,
        "id": "N08-b83Fzy3T"
      },
      "execution_count": 42,
      "outputs": []
    },
    {
      "cell_type": "code",
      "source": [
        "## Making a prediction pipeline\n",
        "text = testing_data['review']\n",
        "label = testing_data['sentiment']\n",
        "\n",
        "res = []\n",
        "## each review is fed to the model after passing through a tokenizer, the predicted value is then\n",
        "## stored in a list called 'res' after passing the logits through a sigmoid function. Depending on\n",
        "## the probability that we get, the review is graded as either positive or negative.\n",
        "for i in text:\n",
        "    ## Tokenizing the text before feeding it to the model for prediction\n",
        "    t_text = tokenizer(i,padding = True , truncation = True, max_length =128, return_tensors = 'tf')\n",
        "    res.append(pred(model(t_text)[0].numpy()[0]))"
      ],
      "metadata": {
        "execution": {
          "iopub.status.busy": "2023-02-25T14:19:47.003233Z",
          "iopub.execute_input": "2023-02-25T14:19:47.00359Z",
          "iopub.status.idle": "2023-02-25T14:41:12.997898Z",
          "shell.execute_reply.started": "2023-02-25T14:19:47.003554Z",
          "shell.execute_reply": "2023-02-25T14:41:12.996901Z"
        },
        "trusted": true,
        "id": "tDG_DHYqzy3T"
      },
      "execution_count": 43,
      "outputs": []
    },
    {
      "cell_type": "code",
      "source": [
        "## a simple format to save the outcome in a json file\n",
        "\n",
        "# ## Writing the test output res into a json file\n",
        "# with open(\"/kaggle/working/test\", \"w\") as fp:\n",
        "#     json.dump(res, fp)\n",
        "\n",
        "\n",
        "# with open(\"/kaggle/working/test\", \"r\") as fp:\n",
        "#     b = json.load(fp)"
      ],
      "metadata": {
        "execution": {
          "iopub.status.busy": "2023-02-25T14:41:12.999559Z",
          "iopub.execute_input": "2023-02-25T14:41:12.999968Z",
          "iopub.status.idle": "2023-02-25T14:41:13.013865Z",
          "shell.execute_reply.started": "2023-02-25T14:41:12.999925Z",
          "shell.execute_reply": "2023-02-25T14:41:13.012758Z"
        },
        "trusted": true,
        "id": "5MyAz2VQzy3V"
      },
      "execution_count": 44,
      "outputs": []
    },
    {
      "cell_type": "code",
      "source": [
        "## from sklearn metrics, using accuracy, F-1 score as well as confusion matrix to study the result\n",
        "accuracy_score(label , res) , f1_score(label , res)"
      ],
      "metadata": {
        "execution": {
          "iopub.status.busy": "2023-02-25T14:41:13.015356Z",
          "iopub.execute_input": "2023-02-25T14:41:13.015724Z",
          "iopub.status.idle": "2023-02-25T14:41:13.036163Z",
          "shell.execute_reply.started": "2023-02-25T14:41:13.015689Z",
          "shell.execute_reply": "2023-02-25T14:41:13.035087Z"
        },
        "trusted": true,
        "id": "x47gd1O0zy3V",
        "colab": {
          "base_uri": "https://localhost:8080/"
        },
        "outputId": "01d563df-2e41-475b-841a-525e644ffb51"
      },
      "execution_count": 45,
      "outputs": [
        {
          "output_type": "execute_result",
          "data": {
            "text/plain": [
              "(0.8725, 0.8702290076335878)"
            ]
          },
          "metadata": {},
          "execution_count": 45
        }
      ]
    },
    {
      "cell_type": "code",
      "source": [
        "sns.heatmap(confusion_matrix(label , res) , annot = True)\n",
        "plt.xlabel('Predicted Sentiment')\n",
        "plt.ylabel('Actual Sentiment')\n",
        "plt.title('Prediced vs Actual Sentiment')\n",
        "plt.show()"
      ],
      "metadata": {
        "execution": {
          "iopub.status.busy": "2023-02-25T14:41:35.955759Z",
          "iopub.execute_input": "2023-02-25T14:41:35.956341Z",
          "iopub.status.idle": "2023-02-25T14:41:36.264909Z",
          "shell.execute_reply.started": "2023-02-25T14:41:35.9563Z",
          "shell.execute_reply": "2023-02-25T14:41:36.263928Z"
        },
        "trusted": true,
        "id": "IJpZ-cEzzy3V",
        "colab": {
          "base_uri": "https://localhost:8080/",
          "height": 472
        },
        "outputId": "ee687909-4394-4123-d186-fefaac2d0fbd"
      },
      "execution_count": 46,
      "outputs": [
        {
          "output_type": "display_data",
          "data": {
            "text/plain": [
              "<Figure size 640x480 with 2 Axes>"
            ],
            "image/png": "[encoded data removed]"
          },
          "metadata": {}
        }
      ]
    },
    {
      "cell_type": "markdown",
      "source": [
        "# 9. Classifying the review comments from Youtube"
      ],
      "metadata": {
        "id": "Wy4dtzugzy3X"
      }
    },
    {
      "cell_type": "code",
      "source": [
        "df_ytb = pd.read_csv(\"/content/drive/MyDrive/Sentiment_Dataset/ytb_kingdom_of_us.csv\")\n",
        "#df_ytb = pd.read_csv(\"ytb_comments_family.csv\")\n",
        "df_ytb.head()\n",
        "import re\n",
        "import string\n",
        "\n",
        "# Remove column name 'Unnamed: 0'\n",
        "dfc = df_ytb.drop(['Unnamed: 0'], axis=1)\n",
        "dfc.head()\n",
        "\n",
        "\n",
        "def clean_html(text):\n",
        "    clean=re.compile('<.*?>')\n",
        "    cleantext=re.sub(clean,'',text)\n",
        "    return cleantext\n",
        "\n",
        "# first round of cleaning\n",
        "def clean_text1(text):\n",
        "    text=text.lower()\n",
        "    text=re.sub('','',text)\n",
        "    text=re.sub('[%s]'%re.escape(string.punctuation),'',text)\n",
        "    text=re.sub('\\w*\\d\\w*','',text)\n",
        "    return text\n",
        "\n",
        "# second round of cleaning\n",
        "def clean_text2(text):\n",
        "    text=re.sub('[''\"\",,,]','',text)\n",
        "    text=re.sub('\\n','',text)\n",
        "    return text\n",
        "\n",
        "cleaned_html=lambda x:clean_html(x)\n",
        "cleaned1=lambda x:clean_text1(x)\n",
        "cleaned2=lambda x:clean_text2(x)\n",
        "\n",
        "dfc['review'] = dfc['comment']\n",
        "dfc['review']=pd.DataFrame(dfc.review.apply(cleaned_html))\n",
        "dfc['review']=pd.DataFrame(dfc.review.apply(cleaned1))\n",
        "dfc['review']=pd.DataFrame(dfc.review.apply(cleaned2))\n",
        "\n",
        "#from nltk.corpus import stopwords\n",
        "#import nltk\n",
        "#from nltk.stem import PorterStemmer\n",
        "#nltk.download('stopwords')\n",
        "\n",
        "\n",
        "#stemmer = PorterStemmer()\n",
        "#words = stopwords.words(\"english\")\n",
        "\n",
        "#dfc['processedtext'] = dfc['review'].apply(lambda x: \" \".join([stemmer.stem(i) for i in re.sub(\"[^a-zA-Z]\", \" \", x).split() if i not in words]).lower())\n",
        "\n",
        "print(dfc.shape)\n",
        "dfc.head(10)\n",
        "\n",
        "first10comments = dfc.review.values\n",
        "\n",
        "sentences = first10comments"
      ],
      "metadata": {
        "id": "kK05RooKz8ar",
        "colab": {
          "base_uri": "https://localhost:8080/"
        },
        "outputId": "aaadc795-de67-4abf-9cc7-1e226be9a74e"
      },
      "execution_count": 47,
      "outputs": [
        {
          "output_type": "stream",
          "name": "stdout",
          "text": [
            "(69, 3)\n"
          ]
        }
      ]
    },
    {
      "cell_type": "code",
      "source": [
        "print(sentences)"
      ],
      "metadata": {
        "colab": {
          "base_uri": "https://localhost:8080/"
        },
        "id": "3_CIt_f73GqD",
        "outputId": "79f9f8ce-2296-40dc-a22b-3c8388522c4c"
      },
      "execution_count": 48,
      "outputs": [
        {
          "output_type": "stream",
          "name": "stdout",
          "text": [
            "['i went to school with the family they all had such energy then you would never have known what had happened'\n",
            " 'einfach so eine emotionale doku bitte schaut immer auf eure liebsten und achtet auf symptome depressionen ist eine schlimme krankheit zeigt euren mitmenschen wie sehr ihr sie liebt man weiß nie was morgen geschieht'\n",
            " 'sad but also beautiful story'\n",
            " 'thankyou for sharing your personal experiences so sad for all your loss and how it affected u all individually you all have a wonderful mom stay strong'\n",
            " 'quick psa some places can invoke an injunction that includes spending in the us that’s called conservatorship and it can be temporary or longer term plus option to mandate treatment by law due to illness that make the person temporarily or more chronically unable to make that choice themselves due to the illness so this includes illnesses that affect cognitive functioning sometimes these things can help other times they don’t and all services may not be available in all areas there are also legal maneuvers and strategies that can protect loved ones if necessary domestic violence shelters social workers and crisis lines should have that information and some would be mandated reporterss along with physicans they’re legally obligated to help seek their advice if you or someone you love is struggling'\n",
            " 'the kids are as bat shit crazy as the father hell they all need help only the mother looks as if  stable they are screwed the uk has free healthcare they should sign the whole family'\n",
            " 'wow what a wonderful documentary i just finished watching it i love this family may god be the father of this family'\n",
            " 'wish a record producer would come along and help them release some of his songs'\n",
            " 'one of my favorite documentaries i wish they’d release some of the music the father made i loved the fly away song these are amazing people'\n",
            " 'at the end i burst out crying my god so sad but they are so strong what a great family'\n",
            " 'maybe having so many kids was a symptom of his illness  he  know when to stop the reality was chaos and exhaustion that his  facade  cope with   hard having a parent who has two sides but kids love them unconditionally  no matter what   when that parent dies that the guilt surfaces when we realise just how low and dark that parent must have felt  unacknowledged mental health issues in a parent is terribly confusing for their children and can have a long lasting negative affect on them  suicide of a parent is an unbearable legacy  they were lucky to have a strong mother'\n",
            " 'the mother was just amazing'\n",
            " 'think all the kids act immature falling out like toddlers over mindless stuff and  clear they are out of touch with reality  dad was mentally unwell feel sorry for the mum cringed at the kids all the way through to be honest'\n",
            " 'i cried watching this trailer  not sure i want to watch the documentary now'\n",
            " 'boring show'\n",
            " 'an incredible documentary very moving beautiful children  an amazing wife and mother a must watch'\n",
            " 'beautifully sad documentary'\n",
            " 'anywhere i can find the song at the end loved it beautiful like the film'\n",
            " 'my dad also killed himself and had   exactly the same mental disease i was only three when he died so i never understood my mum and brother  talk about it so much my mum just kept repeating that dad was in too much pain and did what he thought was best for us  so confused i  regulate emotions and only see people as good and that made my life very difficult i got abused in a relationship and just  understand any of it why  been a psychiatric patient for a long time now started when i was  currently in hospital now doctors diagnosis is always borderline but also ptsd and panic i get scared a lot now  so confused about all the emotions the self destructive behavior the black and white thinking  exhausting to live like this i see my dad as my guardian angel and protector but then why did all the bad things happen when i got older my ex really emotionally and physically hurt me a lot of times and i just  give that a place i loved my dad so  a good person but i also loved my ex  so so confused please someone teach me how normal people would think and feel emotions 😞😥 i wish we talked about dad more at  home we  have notes he made or many videos of him that makes it really hard cause i  understand what he was thinking and why he sometimes did bad things i only know i love him so much and think of him every time i get bad again sorry for the long text the movie just gave so many answers and questions at the same time i cried a lot watching it 🤕😓 i wish our family talked more but  never really happen i  know what to do anymore'\n",
            " 'powerful look inside the devastation caused by suicide the never knowing why the maybe ifs its enough to drive you insane i so admire the mum here can someone please get hold of her amp let her let go of all this once amp for all she is so close to the edge amp  like everyone is oblivious caught up inside their own hurt mum you are are wonderful example of a genuine lovely person it is time for you to put this to bed amp close the door please go on with your life amp  be afraid to have time for just you you have earned some peace in your life someone to be there just for you once in a while  ever forget you are here now amp it is time for you to be just you i really hope things have improved for you let no one cage whom you were meant to be fly amp flylt high sweet ladygt'\n",
            " '  famille touchante mais surtout attachante je  pas cessé de verser des larmes devant ce documentaire on ne peut que leur souhaiter du bonheur et un immense courage'\n",
            " 'need to raise awareness that everyone is going to experience this sometime in there life  where it is lost of health ability or loved ones society need to change we are more connected to technology now then ever but disconnected from life humans  designed to take on all the stress of modern life and rates of suicide amongst family men is a hidden pandemic  families do need dads  i grew up missed that  its caused great grief no body teach or be by your side leads to generational depression'\n",
            " ' adoré   étée happée par  de cette famille adorable   merci à eux'\n",
            " 'i believe it was something more than just clinically depressed here having severe depression myself but to mock a serious illness by saying quothe had kids  a selfish pigquot or whatever is cruel something was seriously wrong as w cancer ms etcwe  condemn them'\n",
            " 'yesterday i was thinking  need encouragement to keep  this documentary really broke my heart i cried under the whole documentary i have suicidal thoughts and this doc really did that i was thinking of my own family i realized that i  let the demons win i  give up everything even if i hate my life i had my suicide planned out before this documentary i still have suicidal thoughts but  not going to die yet thank you for that  '\n",
            " 'does anyone know the song that starts at   it’s just piano but it’s a beautiful piece  help '\n",
            " 'so sad  crying 😢😢' 'sad '\n",
            " 'this documentary was great but i kept feeling that if the poor father had at least one more son he might have felt the need to hang on i  imagine being a man and being subjected to such estrogen poisoning the family was bright and good looking of that there is no doubt but the stress of raising so many daughters must have been very affecting mentally'\n",
            " 'httpeursioxurogdxr' 'beautiful family'\n",
            " 'i just finished this film what a haunting devastating beautiful and hopeful film this was and by the end i was completely in love with this family this would be my choice for the best film of '\n",
            " 'in his mind  he was probably doing his family a quotbig favourquot by killing himself  so he could would longer affect them with his depression amp darkmoods everyday  he would gave thought about the plan in great depth amp detail for a very long time and in the end the desire to escape was more important  to him than sparing his family a life sentence of grief  he is a very selfish man for not caring about what  put his family through  but  glad he only took himself out and  do a murder suicide there are other people in this world battling the monsters in their heads who  go and make their loved ones cry  that should be the driving  force that stops a rational irrational human from ending it all mental illness is no excuse for suicide'\n",
            " ' that song name at the end of the title fly away'\n",
            " 'that mother went through hell \\xa0 her children are demanding and some have the same affliction their father had \\xa0this family is screwed'\n",
            " 'this is beautifully done and very moving its  men a day  start to listen'\n",
            " 'i watched this documentary on netflix and i have to say it gives me a contradiction of emotions i find everyone in it annoying yet i am intrigued by their individual differences and how they respectively dealt with their  suicide and their father in general they were all at different stages in the grieving process and they all had thoughts and opinions on their childhood that conflicted because they are all so different i enjoyed that part however there was so much ambiguity i think it explains the complex state of affairs that a family can go through but the family seem very unintelligent when it comes to their emotions or even just generic life they seem to detest their father yet mourn for something they never really had the mother is the only one who understands the entire thing  she lived with him longer than her children did they are asking her for answers  she holds all the cards and she seems to be just living in dissary and not doing anything about her situation she made  children with him and his irresponsibility to leave her with all  in those circumstances was disgusting however she chose to have  children  her responsibility to see that they are looked after and cared for correctly with their disabilities my advice is  never have children unless you are physically mentally emotionally and monetarily able to care for them and only have as much children as you know you can look after'\n",
            " 'this was so sad my father took his life when i was four  very touching  you leave your pain  but  you  give pain to those who you loved and loved you  sad'\n",
            " 'also paul almost certainly fucked jamie'\n",
            " ' pseudophilosophical masturbatory monologues make it unwatchable unfortunately'\n",
            " 'it was his choiceat least he  kill his familyexcellent documentary'\n",
            " 'considering his original plan was to kill the entire family  say he did everyone a favor  mom is in desperate need of help and support i admire her greatly for getting through each day and keeping the kids together but the yard and house are in desperate need of cleaning up and organization  good film and i hope each one of them gets the help they need to be able to push forward in life and to help mom out with the house at some point'\n",
            " 'this doc broke my heart'\n",
            " 'i would love to be able to listen to the music of paul shanks is there a sound track to this film'\n",
            " 'loved the documentary but hate this trailer quotgrief becomes strengthquot  clearly not what the filmmaker is saying at all the toothaching sugarcoating in the trailer really demeans a poignant and beautifully made film  dark dramatic and fascinating   need to be made palatable'\n",
            " 'calling someone who is clinically depressed and commits suicide quotselfishquot is tantamount to calling someone who is gay quotpervertedquotonly some people here will get why this is wrong the others mainly the religious folk will be like quotduhquot'\n",
            " 'this just brought tears to my eyes my best friend killed herself in april i  relate'\n",
            " 'looks like an interesting story but  a worrying lack of diversity in the casting not good enough netflix'\n",
            " 'this should hopefully makeup for the mockery and excuse for suicide awareness that was  reasons  which was basically a yarendition of a very serious and currently taboo subjectthis looks like the type of content people should be viewing if they really want to understand and  the importance of mental health and the absolute sense of hopelessness you can feel despite having the best things in the world which obviously in this  case was his daughtersthis documentary looks incredibly profound'\n",
            " 'this hits close to home when i was in high school my uncle committed suicide and left his wife and eight children powerful and sad'\n",
            " 'did they really catch that rainbow caise thats amazing'\n",
            " ' crying reminds me of when i was in that place'\n",
            " 'it is selfish but you  know how much deep depression can eat you until you fall in it yourself and to seek out for others and be ignored just piles on top of it especially those closest to you  gotta sting'\n",
            " 'pass' 'put the dick down'\n",
            " ' sorry but anyone who commits suicide and leaves a young family behind is one selfish person no matter what they going through  the after affect on the family is far bigger'\n",
            " 'basura de drama'\n",
            " 'jesus fucking christ if anyone still has faith in humanity do yourself a favour and get out of the comments section now'\n",
            " 'looks so interesting'\n",
            " 'know your limitations i have one kid and  stopping at one i want to maximize my love and resources on to one hopefully productive member of society there is way less at stake this way my fathers family had nine children and raised them in poverty they  well adjusted my mothers family had  rich little assholes also not very well adjusted i myself am the youngest of three we were poor but we turned out ok i know my limitations emotionally and fiscally one kid is enough'\n",
            " 'crying porn' 'another epicness for october' 'looks amazing'\n",
            " 'the song in the beginning is from the movie victoria if anyone is looking for it  its on the soundtrack'\n",
            " 'nice' ' too sad for me 😞😭' ' matter with you netflix'\n",
            " 'selfish piece of shit' 'netflix has amazing documentaries']\n"
          ]
        }
      ]
    },
    {
      "cell_type": "code",
      "source": [
        "## Making a prediction pipeline\n",
        "text = sentences\n",
        "#label = testing_data['sentiment']\n",
        "\n",
        "test_res = []\n",
        "## each review is fed to the model after passing through a tokenizer, the predicted value is then\n",
        "## stored in a list called 'res' after passing the logits through a sigmoid function. Depending on\n",
        "## the probability that we get, the review is graded as either positive or negative.\n",
        "for i in text:\n",
        "    ## Tokenizing the text before feeding it to the model for prediction\n",
        "    t_text = tokenizer(i,padding = True , truncation = True, max_length =128, return_tensors = 'tf')\n",
        "    test_res.append(pred(model(t_text)[0].numpy()[0]))"
      ],
      "metadata": {
        "id": "ySDRgocY3YAb"
      },
      "execution_count": 58,
      "outputs": []
    },
    {
      "cell_type": "code",
      "source": [
        "print(test_res)"
      ],
      "metadata": {
        "colab": {
          "base_uri": "https://localhost:8080/"
        },
        "id": "ScfduSYn3n-Q",
        "outputId": "6d73e17c-1616-43f0-f2e2-ec46e9754ed1"
      },
      "execution_count": 59,
      "outputs": [
        {
          "output_type": "stream",
          "name": "stdout",
          "text": [
            "[1, 1, 1, 1, 1, 0, 1, 1, 1, 1, 1, 1, 0, 0, 0, 1, 1, 1, 1, 1, 1, 1, 1, 0, 1, 1, 1, 1, 1, 1, 1, 1, 0, 0, 0, 1, 1, 1, 0, 0, 1, 1, 1, 1, 0, 0, 1, 0, 1, 1, 1, 1, 0, 1, 0, 0, 1, 0, 1, 1, 0, 1, 1, 1, 1, 1, 1, 0, 1]\n"
          ]
        }
      ]
    },
    {
      "cell_type": "code",
      "source": [
        "text =[ 'I am having doubt over the originality of this movie', 'I had no feeling of bad for that movie', 'I donot feel bad anymore about the movie']\n",
        "test_example = []\n",
        "for i in text:\n",
        "    ## Tokenizing the text before feeding it to the model for prediction\n",
        "    t_text = tokenizer(i,padding = True , truncation = True, max_length =128, return_tensors = 'tf')\n",
        "    test_example.append(pred(model(t_text)[0].numpy()[0]))"
      ],
      "metadata": {
        "id": "U-4NAFzy7Nu_"
      },
      "execution_count": 57,
      "outputs": []
    },
    {
      "cell_type": "code",
      "source": [
        "print(test_res)"
      ],
      "metadata": {
        "colab": {
          "base_uri": "https://localhost:8080/"
        },
        "id": "SO34DvFv7-B7",
        "outputId": "de7b79fc-8c4c-43c7-bc52-dce1e636e9b1"
      },
      "execution_count": 52,
      "outputs": [
        {
          "output_type": "stream",
          "name": "stdout",
          "text": [
            "[0, 1, 1]\n"
          ]
        }
      ]
    },
    {
      "cell_type": "code",
      "source": [
        "type(sentences)"
      ],
      "metadata": {
        "colab": {
          "base_uri": "https://localhost:8080/"
        },
        "id": "jxudTnlOsLOZ",
        "outputId": "8fbe41d9-4c6a-48a1-ffa5-7ed420fb875b"
      },
      "execution_count": 60,
      "outputs": [
        {
          "output_type": "execute_result",
          "data": {
            "text/plain": [
              "numpy.ndarray"
            ]
          },
          "metadata": {},
          "execution_count": 60
        }
      ]
    },
    {
      "cell_type": "code",
      "source": [
        "test_res = np.array(test_res)"
      ],
      "metadata": {
        "id": "QzQtkhqqta8J"
      },
      "execution_count": 61,
      "outputs": []
    },
    {
      "cell_type": "code",
      "source": [
        "df = pd.DataFrame({\"Comments\" : sentences, \"Labels\" : test_res})\n",
        "df.to_csv(\"Classified_Ytb_Labels.csv\", index=False)"
      ],
      "metadata": {
        "id": "CeilzyiFtjMd"
      },
      "execution_count": 62,
      "outputs": []
    },
    {
      "cell_type": "code",
      "source": [
        "!cp Classified_Ytb_Labels.csv /content/drive/MyDrive/Sentiment_Dataset/"
      ],
      "metadata": {
        "id": "Z6a0VPMlqiLj"
      },
      "execution_count": 63,
      "outputs": []
    },
    {
      "cell_type": "markdown",
      "source": [
        "# 10. References\n",
        "\n",
        "1. https://arxiv.org/pdf/1907.11692.pdf\n",
        "2. https://daleonai.com/transformers-explained\n",
        "3. https://huggingface.co/docs/datasets/use_with_tensorflow\n",
        "4. https://huggingface.co/docs/transformers/model_doc/roberta"
      ],
      "metadata": {
        "id": "yPfsVBNyzy3X"
      }
    }
  ]
}