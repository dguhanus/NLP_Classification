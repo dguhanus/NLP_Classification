{
  "metadata": {
    "kernelspec": {
      "language": "python",
      "display_name": "Python 3",
      "name": "python3"
    },
    "language_info": {
      "pygments_lexer": "ipython3",
      "nbconvert_exporter": "python",
      "version": "3.6.4",
      "file_extension": ".py",
      "codemirror_mode": {
        "name": "ipython",
        "version": 3
      },
      "name": "python",
      "mimetype": "text/x-python"
    },
    "colab": {
      "provenance": [],
      "include_colab_link": true
    },
    "widgets": {
      "application/vnd.jupyter.widget-state+json": {
        "ffb8ffeb7cff4ebdaae3de3424227e23": {
          "model_module": "@jupyter-widgets/controls",
          "model_name": "HBoxModel",
          "model_module_version": "1.5.0",
          "state": {
            "_dom_classes": [],
            "_model_module": "@jupyter-widgets/controls",
            "_model_module_version": "1.5.0",
            "_model_name": "HBoxModel",
            "_view_count": null,
            "_view_module": "@jupyter-widgets/controls",
            "_view_module_version": "1.5.0",
            "_view_name": "HBoxView",
            "box_style": "",
            "children": [
              "IPY_MODEL_0c8fdd7748784a6f936e94d3b8d6f499",
              "IPY_MODEL_8d8eed420e9141c9a26f2814eac98bf5",
              "IPY_MODEL_eab7495246c44ef8a7719d227f2133e0"
            ],
            "layout": "IPY_MODEL_885fadb07f5b42ed83ba656ef9d66d33"
          }
        },
        "0c8fdd7748784a6f936e94d3b8d6f499": {
          "model_module": "@jupyter-widgets/controls",
          "model_name": "HTMLModel",
          "model_module_version": "1.5.0",
          "state": {
            "_dom_classes": [],
            "_model_module": "@jupyter-widgets/controls",
            "_model_module_version": "1.5.0",
            "_model_name": "HTMLModel",
            "_view_count": null,
            "_view_module": "@jupyter-widgets/controls",
            "_view_module_version": "1.5.0",
            "_view_name": "HTMLView",
            "description": "",
            "description_tooltip": null,
            "layout": "IPY_MODEL_0c9a07795fe24100a6436cd75cb9169c",
            "placeholder": "​",
            "style": "IPY_MODEL_b4751a6bf92f4b5db8baec413f1457e1",
            "value": "Downloading (…)lve/main/config.json: 100%"
          }
        },
        "8d8eed420e9141c9a26f2814eac98bf5": {
          "model_module": "@jupyter-widgets/controls",
          "model_name": "FloatProgressModel",
          "model_module_version": "1.5.0",
          "state": {
            "_dom_classes": [],
            "_model_module": "@jupyter-widgets/controls",
            "_model_module_version": "1.5.0",
            "_model_name": "FloatProgressModel",
            "_view_count": null,
            "_view_module": "@jupyter-widgets/controls",
            "_view_module_version": "1.5.0",
            "_view_name": "ProgressView",
            "bar_style": "success",
            "description": "",
            "description_tooltip": null,
            "layout": "IPY_MODEL_5ad8fd7185fd4267b4627e2eef2546df",
            "max": 481,
            "min": 0,
            "orientation": "horizontal",
            "style": "IPY_MODEL_3a761056d3b74f568a77776cf3314072",
            "value": 481
          }
        },
        "eab7495246c44ef8a7719d227f2133e0": {
          "model_module": "@jupyter-widgets/controls",
          "model_name": "HTMLModel",
          "model_module_version": "1.5.0",
          "state": {
            "_dom_classes": [],
            "_model_module": "@jupyter-widgets/controls",
            "_model_module_version": "1.5.0",
            "_model_name": "HTMLModel",
            "_view_count": null,
            "_view_module": "@jupyter-widgets/controls",
            "_view_module_version": "1.5.0",
            "_view_name": "HTMLView",
            "description": "",
            "description_tooltip": null,
            "layout": "IPY_MODEL_08dd9e4d556143df9ed58d40e077b44c",
            "placeholder": "​",
            "style": "IPY_MODEL_351613d73dd44cf0804c0909b789086b",
            "value": " 481/481 [00:00&lt;00:00, 19.6kB/s]"
          }
        },
        "885fadb07f5b42ed83ba656ef9d66d33": {
          "model_module": "@jupyter-widgets/base",
          "model_name": "LayoutModel",
          "model_module_version": "1.2.0",
          "state": {
            "_model_module": "@jupyter-widgets/base",
            "_model_module_version": "1.2.0",
            "_model_name": "LayoutModel",
            "_view_count": null,
            "_view_module": "@jupyter-widgets/base",
            "_view_module_version": "1.2.0",
            "_view_name": "LayoutView",
            "align_content": null,
            "align_items": null,
            "align_self": null,
            "border": null,
            "bottom": null,
            "display": null,
            "flex": null,
            "flex_flow": null,
            "grid_area": null,
            "grid_auto_columns": null,
            "grid_auto_flow": null,
            "grid_auto_rows": null,
            "grid_column": null,
            "grid_gap": null,
            "grid_row": null,
            "grid_template_areas": null,
            "grid_template_columns": null,
            "grid_template_rows": null,
            "height": null,
            "justify_content": null,
            "justify_items": null,
            "left": null,
            "margin": null,
            "max_height": null,
            "max_width": null,
            "min_height": null,
            "min_width": null,
            "object_fit": null,
            "object_position": null,
            "order": null,
            "overflow": null,
            "overflow_x": null,
            "overflow_y": null,
            "padding": null,
            "right": null,
            "top": null,
            "visibility": null,
            "width": null
          }
        },
        "0c9a07795fe24100a6436cd75cb9169c": {
          "model_module": "@jupyter-widgets/base",
          "model_name": "LayoutModel",
          "model_module_version": "1.2.0",
          "state": {
            "_model_module": "@jupyter-widgets/base",
            "_model_module_version": "1.2.0",
            "_model_name": "LayoutModel",
            "_view_count": null,
            "_view_module": "@jupyter-widgets/base",
            "_view_module_version": "1.2.0",
            "_view_name": "LayoutView",
            "align_content": null,
            "align_items": null,
            "align_self": null,
            "border": null,
            "bottom": null,
            "display": null,
            "flex": null,
            "flex_flow": null,
            "grid_area": null,
            "grid_auto_columns": null,
            "grid_auto_flow": null,
            "grid_auto_rows": null,
            "grid_column": null,
            "grid_gap": null,
            "grid_row": null,
            "grid_template_areas": null,
            "grid_template_columns": null,
            "grid_template_rows": null,
            "height": null,
            "justify_content": null,
            "justify_items": null,
            "left": null,
            "margin": null,
            "max_height": null,
            "max_width": null,
            "min_height": null,
            "min_width": null,
            "object_fit": null,
            "object_position": null,
            "order": null,
            "overflow": null,
            "overflow_x": null,
            "overflow_y": null,
            "padding": null,
            "right": null,
            "top": null,
            "visibility": null,
            "width": null
          }
        },
        "b4751a6bf92f4b5db8baec413f1457e1": {
          "model_module": "@jupyter-widgets/controls",
          "model_name": "DescriptionStyleModel",
          "model_module_version": "1.5.0",
          "state": {
            "_model_module": "@jupyter-widgets/controls",
            "_model_module_version": "1.5.0",
            "_model_name": "DescriptionStyleModel",
            "_view_count": null,
            "_view_module": "@jupyter-widgets/base",
            "_view_module_version": "1.2.0",
            "_view_name": "StyleView",
            "description_width": ""
          }
        },
        "5ad8fd7185fd4267b4627e2eef2546df": {
          "model_module": "@jupyter-widgets/base",
          "model_name": "LayoutModel",
          "model_module_version": "1.2.0",
          "state": {
            "_model_module": "@jupyter-widgets/base",
            "_model_module_version": "1.2.0",
            "_model_name": "LayoutModel",
            "_view_count": null,
            "_view_module": "@jupyter-widgets/base",
            "_view_module_version": "1.2.0",
            "_view_name": "LayoutView",
            "align_content": null,
            "align_items": null,
            "align_self": null,
            "border": null,
            "bottom": null,
            "display": null,
            "flex": null,
            "flex_flow": null,
            "grid_area": null,
            "grid_auto_columns": null,
            "grid_auto_flow": null,
            "grid_auto_rows": null,
            "grid_column": null,
            "grid_gap": null,
            "grid_row": null,
            "grid_template_areas": null,
            "grid_template_columns": null,
            "grid_template_rows": null,
            "height": null,
            "justify_content": null,
            "justify_items": null,
            "left": null,
            "margin": null,
            "max_height": null,
            "max_width": null,
            "min_height": null,
            "min_width": null,
            "object_fit": null,
            "object_position": null,
            "order": null,
            "overflow": null,
            "overflow_x": null,
            "overflow_y": null,
            "padding": null,
            "right": null,
            "top": null,
            "visibility": null,
            "width": null
          }
        },
        "3a761056d3b74f568a77776cf3314072": {
          "model_module": "@jupyter-widgets/controls",
          "model_name": "ProgressStyleModel",
          "model_module_version": "1.5.0",
          "state": {
            "_model_module": "@jupyter-widgets/controls",
            "_model_module_version": "1.5.0",
            "_model_name": "ProgressStyleModel",
            "_view_count": null,
            "_view_module": "@jupyter-widgets/base",
            "_view_module_version": "1.2.0",
            "_view_name": "StyleView",
            "bar_color": null,
            "description_width": ""
          }
        },
        "08dd9e4d556143df9ed58d40e077b44c": {
          "model_module": "@jupyter-widgets/base",
          "model_name": "LayoutModel",
          "model_module_version": "1.2.0",
          "state": {
            "_model_module": "@jupyter-widgets/base",
            "_model_module_version": "1.2.0",
            "_model_name": "LayoutModel",
            "_view_count": null,
            "_view_module": "@jupyter-widgets/base",
            "_view_module_version": "1.2.0",
            "_view_name": "LayoutView",
            "align_content": null,
            "align_items": null,
            "align_self": null,
            "border": null,
            "bottom": null,
            "display": null,
            "flex": null,
            "flex_flow": null,
            "grid_area": null,
            "grid_auto_columns": null,
            "grid_auto_flow": null,
            "grid_auto_rows": null,
            "grid_column": null,
            "grid_gap": null,
            "grid_row": null,
            "grid_template_areas": null,
            "grid_template_columns": null,
            "grid_template_rows": null,
            "height": null,
            "justify_content": null,
            "justify_items": null,
            "left": null,
            "margin": null,
            "max_height": null,
            "max_width": null,
            "min_height": null,
            "min_width": null,
            "object_fit": null,
            "object_position": null,
            "order": null,
            "overflow": null,
            "overflow_x": null,
            "overflow_y": null,
            "padding": null,
            "right": null,
            "top": null,
            "visibility": null,
            "width": null
          }
        },
        "351613d73dd44cf0804c0909b789086b": {
          "model_module": "@jupyter-widgets/controls",
          "model_name": "DescriptionStyleModel",
          "model_module_version": "1.5.0",
          "state": {
            "_model_module": "@jupyter-widgets/controls",
            "_model_module_version": "1.5.0",
            "_model_name": "DescriptionStyleModel",
            "_view_count": null,
            "_view_module": "@jupyter-widgets/base",
            "_view_module_version": "1.2.0",
            "_view_name": "StyleView",
            "description_width": ""
          }
        },
        "fc27c1bc30ba4ce99f7cd555842ea692": {
          "model_module": "@jupyter-widgets/controls",
          "model_name": "HBoxModel",
          "model_module_version": "1.5.0",
          "state": {
            "_dom_classes": [],
            "_model_module": "@jupyter-widgets/controls",
            "_model_module_version": "1.5.0",
            "_model_name": "HBoxModel",
            "_view_count": null,
            "_view_module": "@jupyter-widgets/controls",
            "_view_module_version": "1.5.0",
            "_view_name": "HBoxView",
            "box_style": "",
            "children": [
              "IPY_MODEL_66f3fde2559e4f6b8b4a999f31f4bdce",
              "IPY_MODEL_e329d0cfeb884c55817d4fd3def51824",
              "IPY_MODEL_8a73c5e11fa74d68be52fca1bee60dc7"
            ],
            "layout": "IPY_MODEL_254ed4c9c59f4cb68815d32bf17f2a1a"
          }
        },
        "66f3fde2559e4f6b8b4a999f31f4bdce": {
          "model_module": "@jupyter-widgets/controls",
          "model_name": "HTMLModel",
          "model_module_version": "1.5.0",
          "state": {
            "_dom_classes": [],
            "_model_module": "@jupyter-widgets/controls",
            "_model_module_version": "1.5.0",
            "_model_name": "HTMLModel",
            "_view_count": null,
            "_view_module": "@jupyter-widgets/controls",
            "_view_module_version": "1.5.0",
            "_view_name": "HTMLView",
            "description": "",
            "description_tooltip": null,
            "layout": "IPY_MODEL_ee58b151c23a49bf97bfa6f50211cdc6",
            "placeholder": "​",
            "style": "IPY_MODEL_68efbf0963fe4e699deca961e8f19b22",
            "value": "Downloading (…)olve/main/vocab.json: 100%"
          }
        },
        "e329d0cfeb884c55817d4fd3def51824": {
          "model_module": "@jupyter-widgets/controls",
          "model_name": "FloatProgressModel",
          "model_module_version": "1.5.0",
          "state": {
            "_dom_classes": [],
            "_model_module": "@jupyter-widgets/controls",
            "_model_module_version": "1.5.0",
            "_model_name": "FloatProgressModel",
            "_view_count": null,
            "_view_module": "@jupyter-widgets/controls",
            "_view_module_version": "1.5.0",
            "_view_name": "ProgressView",
            "bar_style": "success",
            "description": "",
            "description_tooltip": null,
            "layout": "IPY_MODEL_0afb3a592bec48d4801cf7a7c7751039",
            "max": 898823,
            "min": 0,
            "orientation": "horizontal",
            "style": "IPY_MODEL_f0fd7f1bd86e470cb5d2dfdba937161e",
            "value": 898823
          }
        },
        "8a73c5e11fa74d68be52fca1bee60dc7": {
          "model_module": "@jupyter-widgets/controls",
          "model_name": "HTMLModel",
          "model_module_version": "1.5.0",
          "state": {
            "_dom_classes": [],
            "_model_module": "@jupyter-widgets/controls",
            "_model_module_version": "1.5.0",
            "_model_name": "HTMLModel",
            "_view_count": null,
            "_view_module": "@jupyter-widgets/controls",
            "_view_module_version": "1.5.0",
            "_view_name": "HTMLView",
            "description": "",
            "description_tooltip": null,
            "layout": "IPY_MODEL_db93f6e1fdc24e32b871486249291914",
            "placeholder": "​",
            "style": "IPY_MODEL_2e25b45e9053410e98c7ab717c8bb37a",
            "value": " 899k/899k [00:00&lt;00:00, 2.80MB/s]"
          }
        },
        "254ed4c9c59f4cb68815d32bf17f2a1a": {
          "model_module": "@jupyter-widgets/base",
          "model_name": "LayoutModel",
          "model_module_version": "1.2.0",
          "state": {
            "_model_module": "@jupyter-widgets/base",
            "_model_module_version": "1.2.0",
            "_model_name": "LayoutModel",
            "_view_count": null,
            "_view_module": "@jupyter-widgets/base",
            "_view_module_version": "1.2.0",
            "_view_name": "LayoutView",
            "align_content": null,
            "align_items": null,
            "align_self": null,
            "border": null,
            "bottom": null,
            "display": null,
            "flex": null,
            "flex_flow": null,
            "grid_area": null,
            "grid_auto_columns": null,
            "grid_auto_flow": null,
            "grid_auto_rows": null,
            "grid_column": null,
            "grid_gap": null,
            "grid_row": null,
            "grid_template_areas": null,
            "grid_template_columns": null,
            "grid_template_rows": null,
            "height": null,
            "justify_content": null,
            "justify_items": null,
            "left": null,
            "margin": null,
            "max_height": null,
            "max_width": null,
            "min_height": null,
            "min_width": null,
            "object_fit": null,
            "object_position": null,
            "order": null,
            "overflow": null,
            "overflow_x": null,
            "overflow_y": null,
            "padding": null,
            "right": null,
            "top": null,
            "visibility": null,
            "width": null
          }
        },
        "ee58b151c23a49bf97bfa6f50211cdc6": {
          "model_module": "@jupyter-widgets/base",
          "model_name": "LayoutModel",
          "model_module_version": "1.2.0",
          "state": {
            "_model_module": "@jupyter-widgets/base",
            "_model_module_version": "1.2.0",
            "_model_name": "LayoutModel",
            "_view_count": null,
            "_view_module": "@jupyter-widgets/base",
            "_view_module_version": "1.2.0",
            "_view_name": "LayoutView",
            "align_content": null,
            "align_items": null,
            "align_self": null,
            "border": null,
            "bottom": null,
            "display": null,
            "flex": null,
            "flex_flow": null,
            "grid_area": null,
            "grid_auto_columns": null,
            "grid_auto_flow": null,
            "grid_auto_rows": null,
            "grid_column": null,
            "grid_gap": null,
            "grid_row": null,
            "grid_template_areas": null,
            "grid_template_columns": null,
            "grid_template_rows": null,
            "height": null,
            "justify_content": null,
            "justify_items": null,
            "left": null,
            "margin": null,
            "max_height": null,
            "max_width": null,
            "min_height": null,
            "min_width": null,
            "object_fit": null,
            "object_position": null,
            "order": null,
            "overflow": null,
            "overflow_x": null,
            "overflow_y": null,
            "padding": null,
            "right": null,
            "top": null,
            "visibility": null,
            "width": null
          }
        },
        "68efbf0963fe4e699deca961e8f19b22": {
          "model_module": "@jupyter-widgets/controls",
          "model_name": "DescriptionStyleModel",
          "model_module_version": "1.5.0",
          "state": {
            "_model_module": "@jupyter-widgets/controls",
            "_model_module_version": "1.5.0",
            "_model_name": "DescriptionStyleModel",
            "_view_count": null,
            "_view_module": "@jupyter-widgets/base",
            "_view_module_version": "1.2.0",
            "_view_name": "StyleView",
            "description_width": ""
          }
        },
        "0afb3a592bec48d4801cf7a7c7751039": {
          "model_module": "@jupyter-widgets/base",
          "model_name": "LayoutModel",
          "model_module_version": "1.2.0",
          "state": {
            "_model_module": "@jupyter-widgets/base",
            "_model_module_version": "1.2.0",
            "_model_name": "LayoutModel",
            "_view_count": null,
            "_view_module": "@jupyter-widgets/base",
            "_view_module_version": "1.2.0",
            "_view_name": "LayoutView",
            "align_content": null,
            "align_items": null,
            "align_self": null,
            "border": null,
            "bottom": null,
            "display": null,
            "flex": null,
            "flex_flow": null,
            "grid_area": null,
            "grid_auto_columns": null,
            "grid_auto_flow": null,
            "grid_auto_rows": null,
            "grid_column": null,
            "grid_gap": null,
            "grid_row": null,
            "grid_template_areas": null,
            "grid_template_columns": null,
            "grid_template_rows": null,
            "height": null,
            "justify_content": null,
            "justify_items": null,
            "left": null,
            "margin": null,
            "max_height": null,
            "max_width": null,
            "min_height": null,
            "min_width": null,
            "object_fit": null,
            "object_position": null,
            "order": null,
            "overflow": null,
            "overflow_x": null,
            "overflow_y": null,
            "padding": null,
            "right": null,
            "top": null,
            "visibility": null,
            "width": null
          }
        },
        "f0fd7f1bd86e470cb5d2dfdba937161e": {
          "model_module": "@jupyter-widgets/controls",
          "model_name": "ProgressStyleModel",
          "model_module_version": "1.5.0",
          "state": {
            "_model_module": "@jupyter-widgets/controls",
            "_model_module_version": "1.5.0",
            "_model_name": "ProgressStyleModel",
            "_view_count": null,
            "_view_module": "@jupyter-widgets/base",
            "_view_module_version": "1.2.0",
            "_view_name": "StyleView",
            "bar_color": null,
            "description_width": ""
          }
        },
        "db93f6e1fdc24e32b871486249291914": {
          "model_module": "@jupyter-widgets/base",
          "model_name": "LayoutModel",
          "model_module_version": "1.2.0",
          "state": {
            "_model_module": "@jupyter-widgets/base",
            "_model_module_version": "1.2.0",
            "_model_name": "LayoutModel",
            "_view_count": null,
            "_view_module": "@jupyter-widgets/base",
            "_view_module_version": "1.2.0",
            "_view_name": "LayoutView",
            "align_content": null,
            "align_items": null,
            "align_self": null,
            "border": null,
            "bottom": null,
            "display": null,
            "flex": null,
            "flex_flow": null,
            "grid_area": null,
            "grid_auto_columns": null,
            "grid_auto_flow": null,
            "grid_auto_rows": null,
            "grid_column": null,
            "grid_gap": null,
            "grid_row": null,
            "grid_template_areas": null,
            "grid_template_columns": null,
            "grid_template_rows": null,
            "height": null,
            "justify_content": null,
            "justify_items": null,
            "left": null,
            "margin": null,
            "max_height": null,
            "max_width": null,
            "min_height": null,
            "min_width": null,
            "object_fit": null,
            "object_position": null,
            "order": null,
            "overflow": null,
            "overflow_x": null,
            "overflow_y": null,
            "padding": null,
            "right": null,
            "top": null,
            "visibility": null,
            "width": null
          }
        },
        "2e25b45e9053410e98c7ab717c8bb37a": {
          "model_module": "@jupyter-widgets/controls",
          "model_name": "DescriptionStyleModel",
          "model_module_version": "1.5.0",
          "state": {
            "_model_module": "@jupyter-widgets/controls",
            "_model_module_version": "1.5.0",
            "_model_name": "DescriptionStyleModel",
            "_view_count": null,
            "_view_module": "@jupyter-widgets/base",
            "_view_module_version": "1.2.0",
            "_view_name": "StyleView",
            "description_width": ""
          }
        },
        "92044ef0f4ff46c6af2dac38b7e15a80": {
          "model_module": "@jupyter-widgets/controls",
          "model_name": "HBoxModel",
          "model_module_version": "1.5.0",
          "state": {
            "_dom_classes": [],
            "_model_module": "@jupyter-widgets/controls",
            "_model_module_version": "1.5.0",
            "_model_name": "HBoxModel",
            "_view_count": null,
            "_view_module": "@jupyter-widgets/controls",
            "_view_module_version": "1.5.0",
            "_view_name": "HBoxView",
            "box_style": "",
            "children": [
              "IPY_MODEL_8809c50cdfe94e819960c2dc4dd1bd7a",
              "IPY_MODEL_c0b22493382f4f6f9fd36782ffc6cf2c",
              "IPY_MODEL_937dab17f71b4c27a2aa40c150655078"
            ],
            "layout": "IPY_MODEL_2a1b9de6c40749c69b826041411ca2a4"
          }
        },
        "8809c50cdfe94e819960c2dc4dd1bd7a": {
          "model_module": "@jupyter-widgets/controls",
          "model_name": "HTMLModel",
          "model_module_version": "1.5.0",
          "state": {
            "_dom_classes": [],
            "_model_module": "@jupyter-widgets/controls",
            "_model_module_version": "1.5.0",
            "_model_name": "HTMLModel",
            "_view_count": null,
            "_view_module": "@jupyter-widgets/controls",
            "_view_module_version": "1.5.0",
            "_view_name": "HTMLView",
            "description": "",
            "description_tooltip": null,
            "layout": "IPY_MODEL_0ef93ed09fff4c2591903666f5dbb605",
            "placeholder": "​",
            "style": "IPY_MODEL_9841d469bcbc489a80eda5f991196f22",
            "value": "Downloading (…)olve/main/merges.txt: 100%"
          }
        },
        "c0b22493382f4f6f9fd36782ffc6cf2c": {
          "model_module": "@jupyter-widgets/controls",
          "model_name": "FloatProgressModel",
          "model_module_version": "1.5.0",
          "state": {
            "_dom_classes": [],
            "_model_module": "@jupyter-widgets/controls",
            "_model_module_version": "1.5.0",
            "_model_name": "FloatProgressModel",
            "_view_count": null,
            "_view_module": "@jupyter-widgets/controls",
            "_view_module_version": "1.5.0",
            "_view_name": "ProgressView",
            "bar_style": "success",
            "description": "",
            "description_tooltip": null,
            "layout": "IPY_MODEL_317fb6d73a064accaab0f641db74acf6",
            "max": 456318,
            "min": 0,
            "orientation": "horizontal",
            "style": "IPY_MODEL_8523bedbd8e042069f84a784a11b67c8",
            "value": 456318
          }
        },
        "937dab17f71b4c27a2aa40c150655078": {
          "model_module": "@jupyter-widgets/controls",
          "model_name": "HTMLModel",
          "model_module_version": "1.5.0",
          "state": {
            "_dom_classes": [],
            "_model_module": "@jupyter-widgets/controls",
            "_model_module_version": "1.5.0",
            "_model_name": "HTMLModel",
            "_view_count": null,
            "_view_module": "@jupyter-widgets/controls",
            "_view_module_version": "1.5.0",
            "_view_name": "HTMLView",
            "description": "",
            "description_tooltip": null,
            "layout": "IPY_MODEL_8ae5ee29fca844acab448819f8856dcf",
            "placeholder": "​",
            "style": "IPY_MODEL_76f4efdf6f934d28913160ac3bff8df4",
            "value": " 456k/456k [00:00&lt;00:00, 1.89MB/s]"
          }
        },
        "2a1b9de6c40749c69b826041411ca2a4": {
          "model_module": "@jupyter-widgets/base",
          "model_name": "LayoutModel",
          "model_module_version": "1.2.0",
          "state": {
            "_model_module": "@jupyter-widgets/base",
            "_model_module_version": "1.2.0",
            "_model_name": "LayoutModel",
            "_view_count": null,
            "_view_module": "@jupyter-widgets/base",
            "_view_module_version": "1.2.0",
            "_view_name": "LayoutView",
            "align_content": null,
            "align_items": null,
            "align_self": null,
            "border": null,
            "bottom": null,
            "display": null,
            "flex": null,
            "flex_flow": null,
            "grid_area": null,
            "grid_auto_columns": null,
            "grid_auto_flow": null,
            "grid_auto_rows": null,
            "grid_column": null,
            "grid_gap": null,
            "grid_row": null,
            "grid_template_areas": null,
            "grid_template_columns": null,
            "grid_template_rows": null,
            "height": null,
            "justify_content": null,
            "justify_items": null,
            "left": null,
            "margin": null,
            "max_height": null,
            "max_width": null,
            "min_height": null,
            "min_width": null,
            "object_fit": null,
            "object_position": null,
            "order": null,
            "overflow": null,
            "overflow_x": null,
            "overflow_y": null,
            "padding": null,
            "right": null,
            "top": null,
            "visibility": null,
            "width": null
          }
        },
        "0ef93ed09fff4c2591903666f5dbb605": {
          "model_module": "@jupyter-widgets/base",
          "model_name": "LayoutModel",
          "model_module_version": "1.2.0",
          "state": {
            "_model_module": "@jupyter-widgets/base",
            "_model_module_version": "1.2.0",
            "_model_name": "LayoutModel",
            "_view_count": null,
            "_view_module": "@jupyter-widgets/base",
            "_view_module_version": "1.2.0",
            "_view_name": "LayoutView",
            "align_content": null,
            "align_items": null,
            "align_self": null,
            "border": null,
            "bottom": null,
            "display": null,
            "flex": null,
            "flex_flow": null,
            "grid_area": null,
            "grid_auto_columns": null,
            "grid_auto_flow": null,
            "grid_auto_rows": null,
            "grid_column": null,
            "grid_gap": null,
            "grid_row": null,
            "grid_template_areas": null,
            "grid_template_columns": null,
            "grid_template_rows": null,
            "height": null,
            "justify_content": null,
            "justify_items": null,
            "left": null,
            "margin": null,
            "max_height": null,
            "max_width": null,
            "min_height": null,
            "min_width": null,
            "object_fit": null,
            "object_position": null,
            "order": null,
            "overflow": null,
            "overflow_x": null,
            "overflow_y": null,
            "padding": null,
            "right": null,
            "top": null,
            "visibility": null,
            "width": null
          }
        },
        "9841d469bcbc489a80eda5f991196f22": {
          "model_module": "@jupyter-widgets/controls",
          "model_name": "DescriptionStyleModel",
          "model_module_version": "1.5.0",
          "state": {
            "_model_module": "@jupyter-widgets/controls",
            "_model_module_version": "1.5.0",
            "_model_name": "DescriptionStyleModel",
            "_view_count": null,
            "_view_module": "@jupyter-widgets/base",
            "_view_module_version": "1.2.0",
            "_view_name": "StyleView",
            "description_width": ""
          }
        },
        "317fb6d73a064accaab0f641db74acf6": {
          "model_module": "@jupyter-widgets/base",
          "model_name": "LayoutModel",
          "model_module_version": "1.2.0",
          "state": {
            "_model_module": "@jupyter-widgets/base",
            "_model_module_version": "1.2.0",
            "_model_name": "LayoutModel",
            "_view_count": null,
            "_view_module": "@jupyter-widgets/base",
            "_view_module_version": "1.2.0",
            "_view_name": "LayoutView",
            "align_content": null,
            "align_items": null,
            "align_self": null,
            "border": null,
            "bottom": null,
            "display": null,
            "flex": null,
            "flex_flow": null,
            "grid_area": null,
            "grid_auto_columns": null,
            "grid_auto_flow": null,
            "grid_auto_rows": null,
            "grid_column": null,
            "grid_gap": null,
            "grid_row": null,
            "grid_template_areas": null,
            "grid_template_columns": null,
            "grid_template_rows": null,
            "height": null,
            "justify_content": null,
            "justify_items": null,
            "left": null,
            "margin": null,
            "max_height": null,
            "max_width": null,
            "min_height": null,
            "min_width": null,
            "object_fit": null,
            "object_position": null,
            "order": null,
            "overflow": null,
            "overflow_x": null,
            "overflow_y": null,
            "padding": null,
            "right": null,
            "top": null,
            "visibility": null,
            "width": null
          }
        },
        "8523bedbd8e042069f84a784a11b67c8": {
          "model_module": "@jupyter-widgets/controls",
          "model_name": "ProgressStyleModel",
          "model_module_version": "1.5.0",
          "state": {
            "_model_module": "@jupyter-widgets/controls",
            "_model_module_version": "1.5.0",
            "_model_name": "ProgressStyleModel",
            "_view_count": null,
            "_view_module": "@jupyter-widgets/base",
            "_view_module_version": "1.2.0",
            "_view_name": "StyleView",
            "bar_color": null,
            "description_width": ""
          }
        },
        "8ae5ee29fca844acab448819f8856dcf": {
          "model_module": "@jupyter-widgets/base",
          "model_name": "LayoutModel",
          "model_module_version": "1.2.0",
          "state": {
            "_model_module": "@jupyter-widgets/base",
            "_model_module_version": "1.2.0",
            "_model_name": "LayoutModel",
            "_view_count": null,
            "_view_module": "@jupyter-widgets/base",
            "_view_module_version": "1.2.0",
            "_view_name": "LayoutView",
            "align_content": null,
            "align_items": null,
            "align_self": null,
            "border": null,
            "bottom": null,
            "display": null,
            "flex": null,
            "flex_flow": null,
            "grid_area": null,
            "grid_auto_columns": null,
            "grid_auto_flow": null,
            "grid_auto_rows": null,
            "grid_column": null,
            "grid_gap": null,
            "grid_row": null,
            "grid_template_areas": null,
            "grid_template_columns": null,
            "grid_template_rows": null,
            "height": null,
            "justify_content": null,
            "justify_items": null,
            "left": null,
            "margin": null,
            "max_height": null,
            "max_width": null,
            "min_height": null,
            "min_width": null,
            "object_fit": null,
            "object_position": null,
            "order": null,
            "overflow": null,
            "overflow_x": null,
            "overflow_y": null,
            "padding": null,
            "right": null,
            "top": null,
            "visibility": null,
            "width": null
          }
        },
        "76f4efdf6f934d28913160ac3bff8df4": {
          "model_module": "@jupyter-widgets/controls",
          "model_name": "DescriptionStyleModel",
          "model_module_version": "1.5.0",
          "state": {
            "_model_module": "@jupyter-widgets/controls",
            "_model_module_version": "1.5.0",
            "_model_name": "DescriptionStyleModel",
            "_view_count": null,
            "_view_module": "@jupyter-widgets/base",
            "_view_module_version": "1.2.0",
            "_view_name": "StyleView",
            "description_width": ""
          }
        },
        "7d7a4ca043c74bd8bc4a68abaa15c7ce": {
          "model_module": "@jupyter-widgets/controls",
          "model_name": "HBoxModel",
          "model_module_version": "1.5.0",
          "state": {
            "_dom_classes": [],
            "_model_module": "@jupyter-widgets/controls",
            "_model_module_version": "1.5.0",
            "_model_name": "HBoxModel",
            "_view_count": null,
            "_view_module": "@jupyter-widgets/controls",
            "_view_module_version": "1.5.0",
            "_view_name": "HBoxView",
            "box_style": "",
            "children": [
              "IPY_MODEL_bb89f68322324c5c8f9ab439927becaf",
              "IPY_MODEL_616ce240acb64b12a01a28133466a169",
              "IPY_MODEL_62aab6fc2e0f429c917293ef59007ccf"
            ],
            "layout": "IPY_MODEL_13a8ed27f90a484488e43964cdd18922"
          }
        },
        "bb89f68322324c5c8f9ab439927becaf": {
          "model_module": "@jupyter-widgets/controls",
          "model_name": "HTMLModel",
          "model_module_version": "1.5.0",
          "state": {
            "_dom_classes": [],
            "_model_module": "@jupyter-widgets/controls",
            "_model_module_version": "1.5.0",
            "_model_name": "HTMLModel",
            "_view_count": null,
            "_view_module": "@jupyter-widgets/controls",
            "_view_module_version": "1.5.0",
            "_view_name": "HTMLView",
            "description": "",
            "description_tooltip": null,
            "layout": "IPY_MODEL_45fccb9b0a224009a26f1181c1dc7dc8",
            "placeholder": "​",
            "style": "IPY_MODEL_f16a1a8505cd4a09bdee49e2c611b3da",
            "value": "Downloading (…)/main/tokenizer.json: 100%"
          }
        },
        "616ce240acb64b12a01a28133466a169": {
          "model_module": "@jupyter-widgets/controls",
          "model_name": "FloatProgressModel",
          "model_module_version": "1.5.0",
          "state": {
            "_dom_classes": [],
            "_model_module": "@jupyter-widgets/controls",
            "_model_module_version": "1.5.0",
            "_model_name": "FloatProgressModel",
            "_view_count": null,
            "_view_module": "@jupyter-widgets/controls",
            "_view_module_version": "1.5.0",
            "_view_name": "ProgressView",
            "bar_style": "success",
            "description": "",
            "description_tooltip": null,
            "layout": "IPY_MODEL_be4cb3876b224236990a274da1d1a140",
            "max": 1355863,
            "min": 0,
            "orientation": "horizontal",
            "style": "IPY_MODEL_7571fa68dd684686be4a8914a5544895",
            "value": 1355863
          }
        },
        "62aab6fc2e0f429c917293ef59007ccf": {
          "model_module": "@jupyter-widgets/controls",
          "model_name": "HTMLModel",
          "model_module_version": "1.5.0",
          "state": {
            "_dom_classes": [],
            "_model_module": "@jupyter-widgets/controls",
            "_model_module_version": "1.5.0",
            "_model_name": "HTMLModel",
            "_view_count": null,
            "_view_module": "@jupyter-widgets/controls",
            "_view_module_version": "1.5.0",
            "_view_name": "HTMLView",
            "description": "",
            "description_tooltip": null,
            "layout": "IPY_MODEL_468a184975704b71bfafcd4f271233e1",
            "placeholder": "​",
            "style": "IPY_MODEL_d2c340dd6a654c94b087f83cf166a71f",
            "value": " 1.36M/1.36M [00:00&lt;00:00, 16.1MB/s]"
          }
        },
        "13a8ed27f90a484488e43964cdd18922": {
          "model_module": "@jupyter-widgets/base",
          "model_name": "LayoutModel",
          "model_module_version": "1.2.0",
          "state": {
            "_model_module": "@jupyter-widgets/base",
            "_model_module_version": "1.2.0",
            "_model_name": "LayoutModel",
            "_view_count": null,
            "_view_module": "@jupyter-widgets/base",
            "_view_module_version": "1.2.0",
            "_view_name": "LayoutView",
            "align_content": null,
            "align_items": null,
            "align_self": null,
            "border": null,
            "bottom": null,
            "display": null,
            "flex": null,
            "flex_flow": null,
            "grid_area": null,
            "grid_auto_columns": null,
            "grid_auto_flow": null,
            "grid_auto_rows": null,
            "grid_column": null,
            "grid_gap": null,
            "grid_row": null,
            "grid_template_areas": null,
            "grid_template_columns": null,
            "grid_template_rows": null,
            "height": null,
            "justify_content": null,
            "justify_items": null,
            "left": null,
            "margin": null,
            "max_height": null,
            "max_width": null,
            "min_height": null,
            "min_width": null,
            "object_fit": null,
            "object_position": null,
            "order": null,
            "overflow": null,
            "overflow_x": null,
            "overflow_y": null,
            "padding": null,
            "right": null,
            "top": null,
            "visibility": null,
            "width": null
          }
        },
        "45fccb9b0a224009a26f1181c1dc7dc8": {
          "model_module": "@jupyter-widgets/base",
          "model_name": "LayoutModel",
          "model_module_version": "1.2.0",
          "state": {
            "_model_module": "@jupyter-widgets/base",
            "_model_module_version": "1.2.0",
            "_model_name": "LayoutModel",
            "_view_count": null,
            "_view_module": "@jupyter-widgets/base",
            "_view_module_version": "1.2.0",
            "_view_name": "LayoutView",
            "align_content": null,
            "align_items": null,
            "align_self": null,
            "border": null,
            "bottom": null,
            "display": null,
            "flex": null,
            "flex_flow": null,
            "grid_area": null,
            "grid_auto_columns": null,
            "grid_auto_flow": null,
            "grid_auto_rows": null,
            "grid_column": null,
            "grid_gap": null,
            "grid_row": null,
            "grid_template_areas": null,
            "grid_template_columns": null,
            "grid_template_rows": null,
            "height": null,
            "justify_content": null,
            "justify_items": null,
            "left": null,
            "margin": null,
            "max_height": null,
            "max_width": null,
            "min_height": null,
            "min_width": null,
            "object_fit": null,
            "object_position": null,
            "order": null,
            "overflow": null,
            "overflow_x": null,
            "overflow_y": null,
            "padding": null,
            "right": null,
            "top": null,
            "visibility": null,
            "width": null
          }
        },
        "f16a1a8505cd4a09bdee49e2c611b3da": {
          "model_module": "@jupyter-widgets/controls",
          "model_name": "DescriptionStyleModel",
          "model_module_version": "1.5.0",
          "state": {
            "_model_module": "@jupyter-widgets/controls",
            "_model_module_version": "1.5.0",
            "_model_name": "DescriptionStyleModel",
            "_view_count": null,
            "_view_module": "@jupyter-widgets/base",
            "_view_module_version": "1.2.0",
            "_view_name": "StyleView",
            "description_width": ""
          }
        },
        "be4cb3876b224236990a274da1d1a140": {
          "model_module": "@jupyter-widgets/base",
          "model_name": "LayoutModel",
          "model_module_version": "1.2.0",
          "state": {
            "_model_module": "@jupyter-widgets/base",
            "_model_module_version": "1.2.0",
            "_model_name": "LayoutModel",
            "_view_count": null,
            "_view_module": "@jupyter-widgets/base",
            "_view_module_version": "1.2.0",
            "_view_name": "LayoutView",
            "align_content": null,
            "align_items": null,
            "align_self": null,
            "border": null,
            "bottom": null,
            "display": null,
            "flex": null,
            "flex_flow": null,
            "grid_area": null,
            "grid_auto_columns": null,
            "grid_auto_flow": null,
            "grid_auto_rows": null,
            "grid_column": null,
            "grid_gap": null,
            "grid_row": null,
            "grid_template_areas": null,
            "grid_template_columns": null,
            "grid_template_rows": null,
            "height": null,
            "justify_content": null,
            "justify_items": null,
            "left": null,
            "margin": null,
            "max_height": null,
            "max_width": null,
            "min_height": null,
            "min_width": null,
            "object_fit": null,
            "object_position": null,
            "order": null,
            "overflow": null,
            "overflow_x": null,
            "overflow_y": null,
            "padding": null,
            "right": null,
            "top": null,
            "visibility": null,
            "width": null
          }
        },
        "7571fa68dd684686be4a8914a5544895": {
          "model_module": "@jupyter-widgets/controls",
          "model_name": "ProgressStyleModel",
          "model_module_version": "1.5.0",
          "state": {
            "_model_module": "@jupyter-widgets/controls",
            "_model_module_version": "1.5.0",
            "_model_name": "ProgressStyleModel",
            "_view_count": null,
            "_view_module": "@jupyter-widgets/base",
            "_view_module_version": "1.2.0",
            "_view_name": "StyleView",
            "bar_color": null,
            "description_width": ""
          }
        },
        "468a184975704b71bfafcd4f271233e1": {
          "model_module": "@jupyter-widgets/base",
          "model_name": "LayoutModel",
          "model_module_version": "1.2.0",
          "state": {
            "_model_module": "@jupyter-widgets/base",
            "_model_module_version": "1.2.0",
            "_model_name": "LayoutModel",
            "_view_count": null,
            "_view_module": "@jupyter-widgets/base",
            "_view_module_version": "1.2.0",
            "_view_name": "LayoutView",
            "align_content": null,
            "align_items": null,
            "align_self": null,
            "border": null,
            "bottom": null,
            "display": null,
            "flex": null,
            "flex_flow": null,
            "grid_area": null,
            "grid_auto_columns": null,
            "grid_auto_flow": null,
            "grid_auto_rows": null,
            "grid_column": null,
            "grid_gap": null,
            "grid_row": null,
            "grid_template_areas": null,
            "grid_template_columns": null,
            "grid_template_rows": null,
            "height": null,
            "justify_content": null,
            "justify_items": null,
            "left": null,
            "margin": null,
            "max_height": null,
            "max_width": null,
            "min_height": null,
            "min_width": null,
            "object_fit": null,
            "object_position": null,
            "order": null,
            "overflow": null,
            "overflow_x": null,
            "overflow_y": null,
            "padding": null,
            "right": null,
            "top": null,
            "visibility": null,
            "width": null
          }
        },
        "d2c340dd6a654c94b087f83cf166a71f": {
          "model_module": "@jupyter-widgets/controls",
          "model_name": "DescriptionStyleModel",
          "model_module_version": "1.5.0",
          "state": {
            "_model_module": "@jupyter-widgets/controls",
            "_model_module_version": "1.5.0",
            "_model_name": "DescriptionStyleModel",
            "_view_count": null,
            "_view_module": "@jupyter-widgets/base",
            "_view_module_version": "1.2.0",
            "_view_name": "StyleView",
            "description_width": ""
          }
        },
        "6b8e6d2e9b894ba3b78c13b01aa658d9": {
          "model_module": "@jupyter-widgets/controls",
          "model_name": "HBoxModel",
          "model_module_version": "1.5.0",
          "state": {
            "_dom_classes": [],
            "_model_module": "@jupyter-widgets/controls",
            "_model_module_version": "1.5.0",
            "_model_name": "HBoxModel",
            "_view_count": null,
            "_view_module": "@jupyter-widgets/controls",
            "_view_module_version": "1.5.0",
            "_view_name": "HBoxView",
            "box_style": "",
            "children": [
              "IPY_MODEL_193ff5779e494693b2114faf77f8236c",
              "IPY_MODEL_1122087e3c734a71b573f5b46b7b8afa",
              "IPY_MODEL_afce64afd03a4ea9b82a106d90e2d205"
            ],
            "layout": "IPY_MODEL_5fa0670de1c2452ebff23f3339e7b447"
          }
        },
        "193ff5779e494693b2114faf77f8236c": {
          "model_module": "@jupyter-widgets/controls",
          "model_name": "HTMLModel",
          "model_module_version": "1.5.0",
          "state": {
            "_dom_classes": [],
            "_model_module": "@jupyter-widgets/controls",
            "_model_module_version": "1.5.0",
            "_model_name": "HTMLModel",
            "_view_count": null,
            "_view_module": "@jupyter-widgets/controls",
            "_view_module_version": "1.5.0",
            "_view_name": "HTMLView",
            "description": "",
            "description_tooltip": null,
            "layout": "IPY_MODEL_b3a0221e2392493da4ca301e04982a3b",
            "placeholder": "​",
            "style": "IPY_MODEL_5abc8f83279f47e08dbdc136872a80a4",
            "value": "Map:  98%"
          }
        },
        "1122087e3c734a71b573f5b46b7b8afa": {
          "model_module": "@jupyter-widgets/controls",
          "model_name": "FloatProgressModel",
          "model_module_version": "1.5.0",
          "state": {
            "_dom_classes": [],
            "_model_module": "@jupyter-widgets/controls",
            "_model_module_version": "1.5.0",
            "_model_name": "FloatProgressModel",
            "_view_count": null,
            "_view_module": "@jupyter-widgets/controls",
            "_view_module_version": "1.5.0",
            "_view_name": "ProgressView",
            "bar_style": "",
            "description": "",
            "description_tooltip": null,
            "layout": "IPY_MODEL_defc82f7c01144c3a2c12c8bae878c1c",
            "max": 1280,
            "min": 0,
            "orientation": "horizontal",
            "style": "IPY_MODEL_b8f504d2dc0c460781384b0851580099",
            "value": 1280
          }
        },
        "afce64afd03a4ea9b82a106d90e2d205": {
          "model_module": "@jupyter-widgets/controls",
          "model_name": "HTMLModel",
          "model_module_version": "1.5.0",
          "state": {
            "_dom_classes": [],
            "_model_module": "@jupyter-widgets/controls",
            "_model_module_version": "1.5.0",
            "_model_name": "HTMLModel",
            "_view_count": null,
            "_view_module": "@jupyter-widgets/controls",
            "_view_module_version": "1.5.0",
            "_view_name": "HTMLView",
            "description": "",
            "description_tooltip": null,
            "layout": "IPY_MODEL_57c90dd5b5db4a539c4bf384eccedcc6",
            "placeholder": "​",
            "style": "IPY_MODEL_93639850f10440a99d5952eb13c9b0bd",
            "value": " 1258/1280 [00:03&lt;00:00, 698.94 examples/s]"
          }
        },
        "5fa0670de1c2452ebff23f3339e7b447": {
          "model_module": "@jupyter-widgets/base",
          "model_name": "LayoutModel",
          "model_module_version": "1.2.0",
          "state": {
            "_model_module": "@jupyter-widgets/base",
            "_model_module_version": "1.2.0",
            "_model_name": "LayoutModel",
            "_view_count": null,
            "_view_module": "@jupyter-widgets/base",
            "_view_module_version": "1.2.0",
            "_view_name": "LayoutView",
            "align_content": null,
            "align_items": null,
            "align_self": null,
            "border": null,
            "bottom": null,
            "display": null,
            "flex": null,
            "flex_flow": null,
            "grid_area": null,
            "grid_auto_columns": null,
            "grid_auto_flow": null,
            "grid_auto_rows": null,
            "grid_column": null,
            "grid_gap": null,
            "grid_row": null,
            "grid_template_areas": null,
            "grid_template_columns": null,
            "grid_template_rows": null,
            "height": null,
            "justify_content": null,
            "justify_items": null,
            "left": null,
            "margin": null,
            "max_height": null,
            "max_width": null,
            "min_height": null,
            "min_width": null,
            "object_fit": null,
            "object_position": null,
            "order": null,
            "overflow": null,
            "overflow_x": null,
            "overflow_y": null,
            "padding": null,
            "right": null,
            "top": null,
            "visibility": "hidden",
            "width": null
          }
        },
        "b3a0221e2392493da4ca301e04982a3b": {
          "model_module": "@jupyter-widgets/base",
          "model_name": "LayoutModel",
          "model_module_version": "1.2.0",
          "state": {
            "_model_module": "@jupyter-widgets/base",
            "_model_module_version": "1.2.0",
            "_model_name": "LayoutModel",
            "_view_count": null,
            "_view_module": "@jupyter-widgets/base",
            "_view_module_version": "1.2.0",
            "_view_name": "LayoutView",
            "align_content": null,
            "align_items": null,
            "align_self": null,
            "border": null,
            "bottom": null,
            "display": null,
            "flex": null,
            "flex_flow": null,
            "grid_area": null,
            "grid_auto_columns": null,
            "grid_auto_flow": null,
            "grid_auto_rows": null,
            "grid_column": null,
            "grid_gap": null,
            "grid_row": null,
            "grid_template_areas": null,
            "grid_template_columns": null,
            "grid_template_rows": null,
            "height": null,
            "justify_content": null,
            "justify_items": null,
            "left": null,
            "margin": null,
            "max_height": null,
            "max_width": null,
            "min_height": null,
            "min_width": null,
            "object_fit": null,
            "object_position": null,
            "order": null,
            "overflow": null,
            "overflow_x": null,
            "overflow_y": null,
            "padding": null,
            "right": null,
            "top": null,
            "visibility": null,
            "width": null
          }
        },
        "5abc8f83279f47e08dbdc136872a80a4": {
          "model_module": "@jupyter-widgets/controls",
          "model_name": "DescriptionStyleModel",
          "model_module_version": "1.5.0",
          "state": {
            "_model_module": "@jupyter-widgets/controls",
            "_model_module_version": "1.5.0",
            "_model_name": "DescriptionStyleModel",
            "_view_count": null,
            "_view_module": "@jupyter-widgets/base",
            "_view_module_version": "1.2.0",
            "_view_name": "StyleView",
            "description_width": ""
          }
        },
        "defc82f7c01144c3a2c12c8bae878c1c": {
          "model_module": "@jupyter-widgets/base",
          "model_name": "LayoutModel",
          "model_module_version": "1.2.0",
          "state": {
            "_model_module": "@jupyter-widgets/base",
            "_model_module_version": "1.2.0",
            "_model_name": "LayoutModel",
            "_view_count": null,
            "_view_module": "@jupyter-widgets/base",
            "_view_module_version": "1.2.0",
            "_view_name": "LayoutView",
            "align_content": null,
            "align_items": null,
            "align_self": null,
            "border": null,
            "bottom": null,
            "display": null,
            "flex": null,
            "flex_flow": null,
            "grid_area": null,
            "grid_auto_columns": null,
            "grid_auto_flow": null,
            "grid_auto_rows": null,
            "grid_column": null,
            "grid_gap": null,
            "grid_row": null,
            "grid_template_areas": null,
            "grid_template_columns": null,
            "grid_template_rows": null,
            "height": null,
            "justify_content": null,
            "justify_items": null,
            "left": null,
            "margin": null,
            "max_height": null,
            "max_width": null,
            "min_height": null,
            "min_width": null,
            "object_fit": null,
            "object_position": null,
            "order": null,
            "overflow": null,
            "overflow_x": null,
            "overflow_y": null,
            "padding": null,
            "right": null,
            "top": null,
            "visibility": null,
            "width": null
          }
        },
        "b8f504d2dc0c460781384b0851580099": {
          "model_module": "@jupyter-widgets/controls",
          "model_name": "ProgressStyleModel",
          "model_module_version": "1.5.0",
          "state": {
            "_model_module": "@jupyter-widgets/controls",
            "_model_module_version": "1.5.0",
            "_model_name": "ProgressStyleModel",
            "_view_count": null,
            "_view_module": "@jupyter-widgets/base",
            "_view_module_version": "1.2.0",
            "_view_name": "StyleView",
            "bar_color": null,
            "description_width": ""
          }
        },
        "57c90dd5b5db4a539c4bf384eccedcc6": {
          "model_module": "@jupyter-widgets/base",
          "model_name": "LayoutModel",
          "model_module_version": "1.2.0",
          "state": {
            "_model_module": "@jupyter-widgets/base",
            "_model_module_version": "1.2.0",
            "_model_name": "LayoutModel",
            "_view_count": null,
            "_view_module": "@jupyter-widgets/base",
            "_view_module_version": "1.2.0",
            "_view_name": "LayoutView",
            "align_content": null,
            "align_items": null,
            "align_self": null,
            "border": null,
            "bottom": null,
            "display": null,
            "flex": null,
            "flex_flow": null,
            "grid_area": null,
            "grid_auto_columns": null,
            "grid_auto_flow": null,
            "grid_auto_rows": null,
            "grid_column": null,
            "grid_gap": null,
            "grid_row": null,
            "grid_template_areas": null,
            "grid_template_columns": null,
            "grid_template_rows": null,
            "height": null,
            "justify_content": null,
            "justify_items": null,
            "left": null,
            "margin": null,
            "max_height": null,
            "max_width": null,
            "min_height": null,
            "min_width": null,
            "object_fit": null,
            "object_position": null,
            "order": null,
            "overflow": null,
            "overflow_x": null,
            "overflow_y": null,
            "padding": null,
            "right": null,
            "top": null,
            "visibility": null,
            "width": null
          }
        },
        "93639850f10440a99d5952eb13c9b0bd": {
          "model_module": "@jupyter-widgets/controls",
          "model_name": "DescriptionStyleModel",
          "model_module_version": "1.5.0",
          "state": {
            "_model_module": "@jupyter-widgets/controls",
            "_model_module_version": "1.5.0",
            "_model_name": "DescriptionStyleModel",
            "_view_count": null,
            "_view_module": "@jupyter-widgets/base",
            "_view_module_version": "1.2.0",
            "_view_name": "StyleView",
            "description_width": ""
          }
        },
        "9cf7e2a948bf4ae5a2614a4a4161b82a": {
          "model_module": "@jupyter-widgets/controls",
          "model_name": "HBoxModel",
          "model_module_version": "1.5.0",
          "state": {
            "_dom_classes": [],
            "_model_module": "@jupyter-widgets/controls",
            "_model_module_version": "1.5.0",
            "_model_name": "HBoxModel",
            "_view_count": null,
            "_view_module": "@jupyter-widgets/controls",
            "_view_module_version": "1.5.0",
            "_view_name": "HBoxView",
            "box_style": "",
            "children": [
              "IPY_MODEL_b8d4e51a7e784b9d8917bc2c4fdbebe4",
              "IPY_MODEL_640bf23428264da0b7f836992a054fe6",
              "IPY_MODEL_5e181a9ed6894a51a809580c505caada"
            ],
            "layout": "IPY_MODEL_14b8a7240a3041f194dc068d0f0bdbea"
          }
        },
        "b8d4e51a7e784b9d8917bc2c4fdbebe4": {
          "model_module": "@jupyter-widgets/controls",
          "model_name": "HTMLModel",
          "model_module_version": "1.5.0",
          "state": {
            "_dom_classes": [],
            "_model_module": "@jupyter-widgets/controls",
            "_model_module_version": "1.5.0",
            "_model_name": "HTMLModel",
            "_view_count": null,
            "_view_module": "@jupyter-widgets/controls",
            "_view_module_version": "1.5.0",
            "_view_name": "HTMLView",
            "description": "",
            "description_tooltip": null,
            "layout": "IPY_MODEL_d9b02b8bb3f8465e919b6ae35bc34094",
            "placeholder": "​",
            "style": "IPY_MODEL_919bccc8358c43feb58df68519c41eaf",
            "value": "Map:  98%"
          }
        },
        "640bf23428264da0b7f836992a054fe6": {
          "model_module": "@jupyter-widgets/controls",
          "model_name": "FloatProgressModel",
          "model_module_version": "1.5.0",
          "state": {
            "_dom_classes": [],
            "_model_module": "@jupyter-widgets/controls",
            "_model_module_version": "1.5.0",
            "_model_name": "FloatProgressModel",
            "_view_count": null,
            "_view_module": "@jupyter-widgets/controls",
            "_view_module_version": "1.5.0",
            "_view_name": "ProgressView",
            "bar_style": "",
            "description": "",
            "description_tooltip": null,
            "layout": "IPY_MODEL_3797fdea62f34dd7b08167f73af8ede6",
            "max": 320,
            "min": 0,
            "orientation": "horizontal",
            "style": "IPY_MODEL_2bb997dc218049358ab75856d8a7a5b8",
            "value": 320
          }
        },
        "5e181a9ed6894a51a809580c505caada": {
          "model_module": "@jupyter-widgets/controls",
          "model_name": "HTMLModel",
          "model_module_version": "1.5.0",
          "state": {
            "_dom_classes": [],
            "_model_module": "@jupyter-widgets/controls",
            "_model_module_version": "1.5.0",
            "_model_name": "HTMLModel",
            "_view_count": null,
            "_view_module": "@jupyter-widgets/controls",
            "_view_module_version": "1.5.0",
            "_view_name": "HTMLView",
            "description": "",
            "description_tooltip": null,
            "layout": "IPY_MODEL_387395e7f32649cdae15d24fdc2495a5",
            "placeholder": "​",
            "style": "IPY_MODEL_86130afd77624436b89e86149cf8dbb2",
            "value": " 312/320 [00:00&lt;00:00, 1007.42 examples/s]"
          }
        },
        "14b8a7240a3041f194dc068d0f0bdbea": {
          "model_module": "@jupyter-widgets/base",
          "model_name": "LayoutModel",
          "model_module_version": "1.2.0",
          "state": {
            "_model_module": "@jupyter-widgets/base",
            "_model_module_version": "1.2.0",
            "_model_name": "LayoutModel",
            "_view_count": null,
            "_view_module": "@jupyter-widgets/base",
            "_view_module_version": "1.2.0",
            "_view_name": "LayoutView",
            "align_content": null,
            "align_items": null,
            "align_self": null,
            "border": null,
            "bottom": null,
            "display": null,
            "flex": null,
            "flex_flow": null,
            "grid_area": null,
            "grid_auto_columns": null,
            "grid_auto_flow": null,
            "grid_auto_rows": null,
            "grid_column": null,
            "grid_gap": null,
            "grid_row": null,
            "grid_template_areas": null,
            "grid_template_columns": null,
            "grid_template_rows": null,
            "height": null,
            "justify_content": null,
            "justify_items": null,
            "left": null,
            "margin": null,
            "max_height": null,
            "max_width": null,
            "min_height": null,
            "min_width": null,
            "object_fit": null,
            "object_position": null,
            "order": null,
            "overflow": null,
            "overflow_x": null,
            "overflow_y": null,
            "padding": null,
            "right": null,
            "top": null,
            "visibility": "hidden",
            "width": null
          }
        },
        "d9b02b8bb3f8465e919b6ae35bc34094": {
          "model_module": "@jupyter-widgets/base",
          "model_name": "LayoutModel",
          "model_module_version": "1.2.0",
          "state": {
            "_model_module": "@jupyter-widgets/base",
            "_model_module_version": "1.2.0",
            "_model_name": "LayoutModel",
            "_view_count": null,
            "_view_module": "@jupyter-widgets/base",
            "_view_module_version": "1.2.0",
            "_view_name": "LayoutView",
            "align_content": null,
            "align_items": null,
            "align_self": null,
            "border": null,
            "bottom": null,
            "display": null,
            "flex": null,
            "flex_flow": null,
            "grid_area": null,
            "grid_auto_columns": null,
            "grid_auto_flow": null,
            "grid_auto_rows": null,
            "grid_column": null,
            "grid_gap": null,
            "grid_row": null,
            "grid_template_areas": null,
            "grid_template_columns": null,
            "grid_template_rows": null,
            "height": null,
            "justify_content": null,
            "justify_items": null,
            "left": null,
            "margin": null,
            "max_height": null,
            "max_width": null,
            "min_height": null,
            "min_width": null,
            "object_fit": null,
            "object_position": null,
            "order": null,
            "overflow": null,
            "overflow_x": null,
            "overflow_y": null,
            "padding": null,
            "right": null,
            "top": null,
            "visibility": null,
            "width": null
          }
        },
        "919bccc8358c43feb58df68519c41eaf": {
          "model_module": "@jupyter-widgets/controls",
          "model_name": "DescriptionStyleModel",
          "model_module_version": "1.5.0",
          "state": {
            "_model_module": "@jupyter-widgets/controls",
            "_model_module_version": "1.5.0",
            "_model_name": "DescriptionStyleModel",
            "_view_count": null,
            "_view_module": "@jupyter-widgets/base",
            "_view_module_version": "1.2.0",
            "_view_name": "StyleView",
            "description_width": ""
          }
        },
        "3797fdea62f34dd7b08167f73af8ede6": {
          "model_module": "@jupyter-widgets/base",
          "model_name": "LayoutModel",
          "model_module_version": "1.2.0",
          "state": {
            "_model_module": "@jupyter-widgets/base",
            "_model_module_version": "1.2.0",
            "_model_name": "LayoutModel",
            "_view_count": null,
            "_view_module": "@jupyter-widgets/base",
            "_view_module_version": "1.2.0",
            "_view_name": "LayoutView",
            "align_content": null,
            "align_items": null,
            "align_self": null,
            "border": null,
            "bottom": null,
            "display": null,
            "flex": null,
            "flex_flow": null,
            "grid_area": null,
            "grid_auto_columns": null,
            "grid_auto_flow": null,
            "grid_auto_rows": null,
            "grid_column": null,
            "grid_gap": null,
            "grid_row": null,
            "grid_template_areas": null,
            "grid_template_columns": null,
            "grid_template_rows": null,
            "height": null,
            "justify_content": null,
            "justify_items": null,
            "left": null,
            "margin": null,
            "max_height": null,
            "max_width": null,
            "min_height": null,
            "min_width": null,
            "object_fit": null,
            "object_position": null,
            "order": null,
            "overflow": null,
            "overflow_x": null,
            "overflow_y": null,
            "padding": null,
            "right": null,
            "top": null,
            "visibility": null,
            "width": null
          }
        },
        "2bb997dc218049358ab75856d8a7a5b8": {
          "model_module": "@jupyter-widgets/controls",
          "model_name": "ProgressStyleModel",
          "model_module_version": "1.5.0",
          "state": {
            "_model_module": "@jupyter-widgets/controls",
            "_model_module_version": "1.5.0",
            "_model_name": "ProgressStyleModel",
            "_view_count": null,
            "_view_module": "@jupyter-widgets/base",
            "_view_module_version": "1.2.0",
            "_view_name": "StyleView",
            "bar_color": null,
            "description_width": ""
          }
        },
        "387395e7f32649cdae15d24fdc2495a5": {
          "model_module": "@jupyter-widgets/base",
          "model_name": "LayoutModel",
          "model_module_version": "1.2.0",
          "state": {
            "_model_module": "@jupyter-widgets/base",
            "_model_module_version": "1.2.0",
            "_model_name": "LayoutModel",
            "_view_count": null,
            "_view_module": "@jupyter-widgets/base",
            "_view_module_version": "1.2.0",
            "_view_name": "LayoutView",
            "align_content": null,
            "align_items": null,
            "align_self": null,
            "border": null,
            "bottom": null,
            "display": null,
            "flex": null,
            "flex_flow": null,
            "grid_area": null,
            "grid_auto_columns": null,
            "grid_auto_flow": null,
            "grid_auto_rows": null,
            "grid_column": null,
            "grid_gap": null,
            "grid_row": null,
            "grid_template_areas": null,
            "grid_template_columns": null,
            "grid_template_rows": null,
            "height": null,
            "justify_content": null,
            "justify_items": null,
            "left": null,
            "margin": null,
            "max_height": null,
            "max_width": null,
            "min_height": null,
            "min_width": null,
            "object_fit": null,
            "object_position": null,
            "order": null,
            "overflow": null,
            "overflow_x": null,
            "overflow_y": null,
            "padding": null,
            "right": null,
            "top": null,
            "visibility": null,
            "width": null
          }
        },
        "86130afd77624436b89e86149cf8dbb2": {
          "model_module": "@jupyter-widgets/controls",
          "model_name": "DescriptionStyleModel",
          "model_module_version": "1.5.0",
          "state": {
            "_model_module": "@jupyter-widgets/controls",
            "_model_module_version": "1.5.0",
            "_model_name": "DescriptionStyleModel",
            "_view_count": null,
            "_view_module": "@jupyter-widgets/base",
            "_view_module_version": "1.2.0",
            "_view_name": "StyleView",
            "description_width": ""
          }
        },
        "cd55e37731244f1d966b2110b88a20cf": {
          "model_module": "@jupyter-widgets/controls",
          "model_name": "HBoxModel",
          "model_module_version": "1.5.0",
          "state": {
            "_dom_classes": [],
            "_model_module": "@jupyter-widgets/controls",
            "_model_module_version": "1.5.0",
            "_model_name": "HBoxModel",
            "_view_count": null,
            "_view_module": "@jupyter-widgets/controls",
            "_view_module_version": "1.5.0",
            "_view_name": "HBoxView",
            "box_style": "",
            "children": [
              "IPY_MODEL_d0a13c915dd34c70b4ac6e7cc5d16f10",
              "IPY_MODEL_4ab09dd329ca40438a406797bc89b33d",
              "IPY_MODEL_c2183131aa9940a2a0d1f095fdc3118d"
            ],
            "layout": "IPY_MODEL_4b0507ab1d9c47c596a83c76c9096aac"
          }
        },
        "d0a13c915dd34c70b4ac6e7cc5d16f10": {
          "model_module": "@jupyter-widgets/controls",
          "model_name": "HTMLModel",
          "model_module_version": "1.5.0",
          "state": {
            "_dom_classes": [],
            "_model_module": "@jupyter-widgets/controls",
            "_model_module_version": "1.5.0",
            "_model_name": "HTMLModel",
            "_view_count": null,
            "_view_module": "@jupyter-widgets/controls",
            "_view_module_version": "1.5.0",
            "_view_name": "HTMLView",
            "description": "",
            "description_tooltip": null,
            "layout": "IPY_MODEL_c3bdd5eee2144eeebfeafd22623edb08",
            "placeholder": "​",
            "style": "IPY_MODEL_0d0a71cb6e09454ab7073f7927e5f97f",
            "value": "Downloading model.safetensors: 100%"
          }
        },
        "4ab09dd329ca40438a406797bc89b33d": {
          "model_module": "@jupyter-widgets/controls",
          "model_name": "FloatProgressModel",
          "model_module_version": "1.5.0",
          "state": {
            "_dom_classes": [],
            "_model_module": "@jupyter-widgets/controls",
            "_model_module_version": "1.5.0",
            "_model_name": "FloatProgressModel",
            "_view_count": null,
            "_view_module": "@jupyter-widgets/controls",
            "_view_module_version": "1.5.0",
            "_view_name": "ProgressView",
            "bar_style": "success",
            "description": "",
            "description_tooltip": null,
            "layout": "IPY_MODEL_77d392d1caaf4adf995112696513baa0",
            "max": 498818054,
            "min": 0,
            "orientation": "horizontal",
            "style": "IPY_MODEL_f2762f2008234f1fa9490de76f83f648",
            "value": 498818054
          }
        },
        "c2183131aa9940a2a0d1f095fdc3118d": {
          "model_module": "@jupyter-widgets/controls",
          "model_name": "HTMLModel",
          "model_module_version": "1.5.0",
          "state": {
            "_dom_classes": [],
            "_model_module": "@jupyter-widgets/controls",
            "_model_module_version": "1.5.0",
            "_model_name": "HTMLModel",
            "_view_count": null,
            "_view_module": "@jupyter-widgets/controls",
            "_view_module_version": "1.5.0",
            "_view_name": "HTMLView",
            "description": "",
            "description_tooltip": null,
            "layout": "IPY_MODEL_fde5bfb6652a4700bd030cecda8b2a53",
            "placeholder": "​",
            "style": "IPY_MODEL_415445fdebf64379afec4594c02b07bc",
            "value": " 499M/499M [00:01&lt;00:00, 259MB/s]"
          }
        },
        "4b0507ab1d9c47c596a83c76c9096aac": {
          "model_module": "@jupyter-widgets/base",
          "model_name": "LayoutModel",
          "model_module_version": "1.2.0",
          "state": {
            "_model_module": "@jupyter-widgets/base",
            "_model_module_version": "1.2.0",
            "_model_name": "LayoutModel",
            "_view_count": null,
            "_view_module": "@jupyter-widgets/base",
            "_view_module_version": "1.2.0",
            "_view_name": "LayoutView",
            "align_content": null,
            "align_items": null,
            "align_self": null,
            "border": null,
            "bottom": null,
            "display": null,
            "flex": null,
            "flex_flow": null,
            "grid_area": null,
            "grid_auto_columns": null,
            "grid_auto_flow": null,
            "grid_auto_rows": null,
            "grid_column": null,
            "grid_gap": null,
            "grid_row": null,
            "grid_template_areas": null,
            "grid_template_columns": null,
            "grid_template_rows": null,
            "height": null,
            "justify_content": null,
            "justify_items": null,
            "left": null,
            "margin": null,
            "max_height": null,
            "max_width": null,
            "min_height": null,
            "min_width": null,
            "object_fit": null,
            "object_position": null,
            "order": null,
            "overflow": null,
            "overflow_x": null,
            "overflow_y": null,
            "padding": null,
            "right": null,
            "top": null,
            "visibility": null,
            "width": null
          }
        },
        "c3bdd5eee2144eeebfeafd22623edb08": {
          "model_module": "@jupyter-widgets/base",
          "model_name": "LayoutModel",
          "model_module_version": "1.2.0",
          "state": {
            "_model_module": "@jupyter-widgets/base",
            "_model_module_version": "1.2.0",
            "_model_name": "LayoutModel",
            "_view_count": null,
            "_view_module": "@jupyter-widgets/base",
            "_view_module_version": "1.2.0",
            "_view_name": "LayoutView",
            "align_content": null,
            "align_items": null,
            "align_self": null,
            "border": null,
            "bottom": null,
            "display": null,
            "flex": null,
            "flex_flow": null,
            "grid_area": null,
            "grid_auto_columns": null,
            "grid_auto_flow": null,
            "grid_auto_rows": null,
            "grid_column": null,
            "grid_gap": null,
            "grid_row": null,
            "grid_template_areas": null,
            "grid_template_columns": null,
            "grid_template_rows": null,
            "height": null,
            "justify_content": null,
            "justify_items": null,
            "left": null,
            "margin": null,
            "max_height": null,
            "max_width": null,
            "min_height": null,
            "min_width": null,
            "object_fit": null,
            "object_position": null,
            "order": null,
            "overflow": null,
            "overflow_x": null,
            "overflow_y": null,
            "padding": null,
            "right": null,
            "top": null,
            "visibility": null,
            "width": null
          }
        },
        "0d0a71cb6e09454ab7073f7927e5f97f": {
          "model_module": "@jupyter-widgets/controls",
          "model_name": "DescriptionStyleModel",
          "model_module_version": "1.5.0",
          "state": {
            "_model_module": "@jupyter-widgets/controls",
            "_model_module_version": "1.5.0",
            "_model_name": "DescriptionStyleModel",
            "_view_count": null,
            "_view_module": "@jupyter-widgets/base",
            "_view_module_version": "1.2.0",
            "_view_name": "StyleView",
            "description_width": ""
          }
        },
        "77d392d1caaf4adf995112696513baa0": {
          "model_module": "@jupyter-widgets/base",
          "model_name": "LayoutModel",
          "model_module_version": "1.2.0",
          "state": {
            "_model_module": "@jupyter-widgets/base",
            "_model_module_version": "1.2.0",
            "_model_name": "LayoutModel",
            "_view_count": null,
            "_view_module": "@jupyter-widgets/base",
            "_view_module_version": "1.2.0",
            "_view_name": "LayoutView",
            "align_content": null,
            "align_items": null,
            "align_self": null,
            "border": null,
            "bottom": null,
            "display": null,
            "flex": null,
            "flex_flow": null,
            "grid_area": null,
            "grid_auto_columns": null,
            "grid_auto_flow": null,
            "grid_auto_rows": null,
            "grid_column": null,
            "grid_gap": null,
            "grid_row": null,
            "grid_template_areas": null,
            "grid_template_columns": null,
            "grid_template_rows": null,
            "height": null,
            "justify_content": null,
            "justify_items": null,
            "left": null,
            "margin": null,
            "max_height": null,
            "max_width": null,
            "min_height": null,
            "min_width": null,
            "object_fit": null,
            "object_position": null,
            "order": null,
            "overflow": null,
            "overflow_x": null,
            "overflow_y": null,
            "padding": null,
            "right": null,
            "top": null,
            "visibility": null,
            "width": null
          }
        },
        "f2762f2008234f1fa9490de76f83f648": {
          "model_module": "@jupyter-widgets/controls",
          "model_name": "ProgressStyleModel",
          "model_module_version": "1.5.0",
          "state": {
            "_model_module": "@jupyter-widgets/controls",
            "_model_module_version": "1.5.0",
            "_model_name": "ProgressStyleModel",
            "_view_count": null,
            "_view_module": "@jupyter-widgets/base",
            "_view_module_version": "1.2.0",
            "_view_name": "StyleView",
            "bar_color": null,
            "description_width": ""
          }
        },
        "fde5bfb6652a4700bd030cecda8b2a53": {
          "model_module": "@jupyter-widgets/base",
          "model_name": "LayoutModel",
          "model_module_version": "1.2.0",
          "state": {
            "_model_module": "@jupyter-widgets/base",
            "_model_module_version": "1.2.0",
            "_model_name": "LayoutModel",
            "_view_count": null,
            "_view_module": "@jupyter-widgets/base",
            "_view_module_version": "1.2.0",
            "_view_name": "LayoutView",
            "align_content": null,
            "align_items": null,
            "align_self": null,
            "border": null,
            "bottom": null,
            "display": null,
            "flex": null,
            "flex_flow": null,
            "grid_area": null,
            "grid_auto_columns": null,
            "grid_auto_flow": null,
            "grid_auto_rows": null,
            "grid_column": null,
            "grid_gap": null,
            "grid_row": null,
            "grid_template_areas": null,
            "grid_template_columns": null,
            "grid_template_rows": null,
            "height": null,
            "justify_content": null,
            "justify_items": null,
            "left": null,
            "margin": null,
            "max_height": null,
            "max_width": null,
            "min_height": null,
            "min_width": null,
            "object_fit": null,
            "object_position": null,
            "order": null,
            "overflow": null,
            "overflow_x": null,
            "overflow_y": null,
            "padding": null,
            "right": null,
            "top": null,
            "visibility": null,
            "width": null
          }
        },
        "415445fdebf64379afec4594c02b07bc": {
          "model_module": "@jupyter-widgets/controls",
          "model_name": "DescriptionStyleModel",
          "model_module_version": "1.5.0",
          "state": {
            "_model_module": "@jupyter-widgets/controls",
            "_model_module_version": "1.5.0",
            "_model_name": "DescriptionStyleModel",
            "_view_count": null,
            "_view_module": "@jupyter-widgets/base",
            "_view_module_version": "1.2.0",
            "_view_name": "StyleView",
            "description_width": ""
          }
        }
      }
    },
    "accelerator": "GPU",
    "gpuClass": "standard"
  },
  "nbformat_minor": 0,
  "nbformat": 4,
  "cells": [
    {
      "cell_type": "markdown",
      "metadata": {
        "id": "view-in-github",
        "colab_type": "text"
      },
      "source": [
        "<a href=\"https://colab.research.google.com/github/dguhanus/NLP_Classification/blob/main/Transformer_Classiciation_Roberta.ipynb\" target=\"_parent\"><img src=\"https://colab.research.google.com/assets/colab-badge.svg\" alt=\"Open In Colab\"/></a>"
      ]
    },
    {
      "cell_type": "markdown",
      "source": [
        "# CONTENTS\n",
        "\n",
        "### 1. Importing Libraries\n",
        "### 2. About the Data\n",
        "### 3. Exploratory Data Analysis\n",
        "       (a) Checking for Data Balancing\n",
        "       (b) Identifying Max Lenght of Reviews\n",
        "       (c) Review Overview\n",
        "### 4. Text Processing\n",
        "### 5. Dividing into Train,Test and Validation Data\n",
        "### 6. Pre-Processing Pipeline\n",
        "### 7. Roberta Model Fine Tuning\n",
        "### 8. Model Testing\n",
        "### 9. Result / Conclusion\n",
        "### 10. References"
      ],
      "metadata": {
        "id": "kDiXg7J_zy2n"
      }
    },
    {
      "cell_type": "markdown",
      "source": [
        "# 1. Importing Libraries"
      ],
      "metadata": {
        "id": "pidQhfchzy2r"
      }
    },
    {
      "cell_type": "code",
      "source": [
        "import pandas as pd\n",
        "import numpy as np\n",
        "import matplotlib.pyplot as plt"
      ],
      "metadata": {
        "id": "y0njrJc7nhPT"
      },
      "execution_count": 1,
      "outputs": []
    },
    {
      "cell_type": "code",
      "source": [
        "from google.colab import drive\n",
        "drive.mount('/content/drive/')"
      ],
      "metadata": {
        "colab": {
          "base_uri": "https://localhost:8080/"
        },
        "id": "WwAjbSdAnw8K",
        "outputId": "9822401c-3a3d-4394-d83c-4fc9d70e6c35"
      },
      "execution_count": 2,
      "outputs": [
        {
          "output_type": "stream",
          "name": "stdout",
          "text": [
            "Mounted at /content/drive/\n"
          ]
        }
      ]
    },
    {
      "cell_type": "code",
      "source": [
        "### Extract the csv file from the uploaded tgz file\n",
        "#import tarfile\n",
        "data = pd.read_csv('/content/drive/MyDrive/Sentiment_Dataset/IMDB_Movie_Review/IMDB_50K_Dataset.csv')\n",
        "data.info()\n",
        "data.head()"
      ],
      "metadata": {
        "colab": {
          "base_uri": "https://localhost:8080/",
          "height": 363
        },
        "id": "jXMHx2-moA2Z",
        "outputId": "5559d2f9-e676-4993-8c62-1d47859f0757"
      },
      "execution_count": 3,
      "outputs": [
        {
          "output_type": "stream",
          "name": "stdout",
          "text": [
            "<class 'pandas.core.frame.DataFrame'>\n",
            "RangeIndex: 50000 entries, 0 to 49999\n",
            "Data columns (total 2 columns):\n",
            " #   Column     Non-Null Count  Dtype \n",
            "---  ------     --------------  ----- \n",
            " 0   review     50000 non-null  object\n",
            " 1   sentiment  50000 non-null  object\n",
            "dtypes: object(2)\n",
            "memory usage: 781.4+ KB\n"
          ]
        },
        {
          "output_type": "execute_result",
          "data": {
            "text/plain": [
              "                                              review sentiment\n",
              "0  One of the other reviewers has mentioned that ...  positive\n",
              "1  A wonderful little production. <br /><br />The...  positive\n",
              "2  I thought this was a wonderful way to spend ti...  positive\n",
              "3  Basically there's a family where a little boy ...  negative\n",
              "4  Petter Mattei's \"Love in the Time of Money\" is...  positive"
            ],
            "text/html": [
              "\n",
              "  <div id=\"df-5ac8c41b-6c2f-4d61-8d22-997b5552d595\">\n",
              "    <div class=\"colab-df-container\">\n",
              "      <div>\n",
              "<style scoped>\n",
              "    .dataframe tbody tr th:only-of-type {\n",
              "        vertical-align: middle;\n",
              "    }\n",
              "\n",
              "    .dataframe tbody tr th {\n",
              "        vertical-align: top;\n",
              "    }\n",
              "\n",
              "    .dataframe thead th {\n",
              "        text-align: right;\n",
              "    }\n",
              "</style>\n",
              "<table border=\"1\" class=\"dataframe\">\n",
              "  <thead>\n",
              "    <tr style=\"text-align: right;\">\n",
              "      <th></th>\n",
              "      <th>review</th>\n",
              "      <th>sentiment</th>\n",
              "    </tr>\n",
              "  </thead>\n",
              "  <tbody>\n",
              "    <tr>\n",
              "      <th>0</th>\n",
              "      <td>One of the other reviewers has mentioned that ...</td>\n",
              "      <td>positive</td>\n",
              "    </tr>\n",
              "    <tr>\n",
              "      <th>1</th>\n",
              "      <td>A wonderful little production. &lt;br /&gt;&lt;br /&gt;The...</td>\n",
              "      <td>positive</td>\n",
              "    </tr>\n",
              "    <tr>\n",
              "      <th>2</th>\n",
              "      <td>I thought this was a wonderful way to spend ti...</td>\n",
              "      <td>positive</td>\n",
              "    </tr>\n",
              "    <tr>\n",
              "      <th>3</th>\n",
              "      <td>Basically there's a family where a little boy ...</td>\n",
              "      <td>negative</td>\n",
              "    </tr>\n",
              "    <tr>\n",
              "      <th>4</th>\n",
              "      <td>Petter Mattei's \"Love in the Time of Money\" is...</td>\n",
              "      <td>positive</td>\n",
              "    </tr>\n",
              "  </tbody>\n",
              "</table>\n",
              "</div>\n",
              "      <button class=\"colab-df-convert\" onclick=\"convertToInteractive('df-5ac8c41b-6c2f-4d61-8d22-997b5552d595')\"\n",
              "              title=\"Convert this dataframe to an interactive table.\"\n",
              "              style=\"display:none;\">\n",
              "        \n",
              "  <svg xmlns=\"http://www.w3.org/2000/svg\" height=\"24px\"viewBox=\"0 0 24 24\"\n",
              "       width=\"24px\">\n",
              "    <path d=\"M0 0h24v24H0V0z\" fill=\"none\"/>\n",
              "    <path d=\"M18.56 5.44l.94 2.06.94-2.06 2.06-.94-2.06-.94-.94-2.06-.94 2.06-2.06.94zm-11 1L8.5 8.5l.94-2.06 2.06-.94-2.06-.94L8.5 2.5l-.94 2.06-2.06.94zm10 10l.94 2.06.94-2.06 2.06-.94-2.06-.94-.94-2.06-.94 2.06-2.06.94z\"/><path d=\"M17.41 7.96l-1.37-1.37c-.4-.4-.92-.59-1.43-.59-.52 0-1.04.2-1.43.59L10.3 9.45l-7.72 7.72c-.78.78-.78 2.05 0 2.83L4 21.41c.39.39.9.59 1.41.59.51 0 1.02-.2 1.41-.59l7.78-7.78 2.81-2.81c.8-.78.8-2.07 0-2.86zM5.41 20L4 18.59l7.72-7.72 1.47 1.35L5.41 20z\"/>\n",
              "  </svg>\n",
              "      </button>\n",
              "      \n",
              "  <style>\n",
              "    .colab-df-container {\n",
              "      display:flex;\n",
              "      flex-wrap:wrap;\n",
              "      gap: 12px;\n",
              "    }\n",
              "\n",
              "    .colab-df-convert {\n",
              "      background-color: #E8F0FE;\n",
              "      border: none;\n",
              "      border-radius: 50%;\n",
              "      cursor: pointer;\n",
              "      display: none;\n",
              "      fill: #1967D2;\n",
              "      height: 32px;\n",
              "      padding: 0 0 0 0;\n",
              "      width: 32px;\n",
              "    }\n",
              "\n",
              "    .colab-df-convert:hover {\n",
              "      background-color: #E2EBFA;\n",
              "      box-shadow: 0px 1px 2px rgba(60, 64, 67, 0.3), 0px 1px 3px 1px rgba(60, 64, 67, 0.15);\n",
              "      fill: #174EA6;\n",
              "    }\n",
              "\n",
              "    [theme=dark] .colab-df-convert {\n",
              "      background-color: #3B4455;\n",
              "      fill: #D2E3FC;\n",
              "    }\n",
              "\n",
              "    [theme=dark] .colab-df-convert:hover {\n",
              "      background-color: #434B5C;\n",
              "      box-shadow: 0px 1px 3px 1px rgba(0, 0, 0, 0.15);\n",
              "      filter: drop-shadow(0px 1px 2px rgba(0, 0, 0, 0.3));\n",
              "      fill: #FFFFFF;\n",
              "    }\n",
              "  </style>\n",
              "\n",
              "      <script>\n",
              "        const buttonEl =\n",
              "          document.querySelector('#df-5ac8c41b-6c2f-4d61-8d22-997b5552d595 button.colab-df-convert');\n",
              "        buttonEl.style.display =\n",
              "          google.colab.kernel.accessAllowed ? 'block' : 'none';\n",
              "\n",
              "        async function convertToInteractive(key) {\n",
              "          const element = document.querySelector('#df-5ac8c41b-6c2f-4d61-8d22-997b5552d595');\n",
              "          const dataTable =\n",
              "            await google.colab.kernel.invokeFunction('convertToInteractive',\n",
              "                                                     [key], {});\n",
              "          if (!dataTable) return;\n",
              "\n",
              "          const docLinkHtml = 'Like what you see? Visit the ' +\n",
              "            '<a target=\"_blank\" href=https://colab.research.google.com/notebooks/data_table.ipynb>data table notebook</a>'\n",
              "            + ' to learn more about interactive tables.';\n",
              "          element.innerHTML = '';\n",
              "          dataTable['output_type'] = 'display_data';\n",
              "          await google.colab.output.renderOutput(dataTable, element);\n",
              "          const docLink = document.createElement('div');\n",
              "          docLink.innerHTML = docLinkHtml;\n",
              "          element.appendChild(docLink);\n",
              "        }\n",
              "      </script>\n",
              "    </div>\n",
              "  </div>\n",
              "  "
            ]
          },
          "metadata": {},
          "execution_count": 3
        }
      ]
    },
    {
      "cell_type": "code",
      "source": [
        "data.sentiment = pd.Series(np.where(data.sentiment == 'positive', 1, 0), data.index)"
      ],
      "metadata": {
        "id": "aEoU2CTPpzIy"
      },
      "execution_count": 4,
      "outputs": []
    },
    {
      "cell_type": "code",
      "source": [
        "data['sentiment'].value_counts().plot(kind='bar')\n",
        "plt.xlabel('Sentiment')\n",
        "plt.ylabel('Frequency')\n",
        "plt.title('Data Division')\n",
        "plt.show()"
      ],
      "metadata": {
        "colab": {
          "base_uri": "https://localhost:8080/",
          "height": 467
        },
        "id": "ybmsQSaIp4b8",
        "outputId": "201d8026-a0d6-4b16-af1b-d25f0e5b50e7"
      },
      "execution_count": 5,
      "outputs": [
        {
          "output_type": "display_data",
          "data": {
            "text/plain": [
              "<Figure size 640x480 with 1 Axes>"
            ],
            "image/png": "[encoded data removed]"
          },
          "metadata": {}
        }
      ]
    },
    {
      "cell_type": "code",
      "source": [
        "import nltk\n",
        "import re\n",
        "nltk.download('punkt')"
      ],
      "metadata": {
        "colab": {
          "base_uri": "https://localhost:8080/"
        },
        "id": "K-6j_WhwsWa-",
        "outputId": "42fa02ac-ab62-4c48-f0e3-6ac55b456c1b"
      },
      "execution_count": 6,
      "outputs": [
        {
          "output_type": "stream",
          "name": "stderr",
          "text": [
            "[nltk_data] Downloading package punkt to /root/nltk_data...\n",
            "[nltk_data]   Unzipping tokenizers/punkt.zip.\n"
          ]
        },
        {
          "output_type": "execute_result",
          "data": {
            "text/plain": [
              "True"
            ]
          },
          "metadata": {},
          "execution_count": 6
        }
      ]
    },
    {
      "cell_type": "code",
      "source": [
        "pos_df = data[data['sentiment']==1]\n",
        "neg_df = data[data['sentiment']==0]\n",
        "## Sorting the dataframe in descending order to view the logest strings\n",
        "pos_df = pos_df.sort_values(by='review', ascending = False)\n",
        "neg_df = neg_df.sort_values(by='review', ascending = False)"
      ],
      "metadata": {
        "id": "dYttBC6csa2V"
      },
      "execution_count": 7,
      "outputs": []
    },
    {
      "cell_type": "code",
      "source": [
        "print(len(pos_df))"
      ],
      "metadata": {
        "colab": {
          "base_uri": "https://localhost:8080/"
        },
        "id": "XcveBL2Csiss",
        "outputId": "9607cf48-9237-41ec-c788-31227f68ef3e"
      },
      "execution_count": 8,
      "outputs": [
        {
          "output_type": "stream",
          "name": "stdout",
          "text": [
            "25000\n"
          ]
        }
      ]
    },
    {
      "cell_type": "markdown",
      "source": [
        "Need to create a balanced dataset for positive and negative reviews of 1000 reviews for each"
      ],
      "metadata": {
        "id": "JjEusr5Dsqqt"
      }
    },
    {
      "cell_type": "code",
      "source": [
        "pos_first1000 = pos_df[:1000]\n",
        "neg_first1000 = neg_df[:1000]"
      ],
      "metadata": {
        "id": "Td7xL2lUspyc"
      },
      "execution_count": 9,
      "outputs": []
    },
    {
      "cell_type": "code",
      "source": [
        "newdata = pd.concat([pos_first1000, neg_first1000], ignore_index=True, sort=False)\n",
        "newdata.rename(columns={\"review\": \"words\"}, inplace=True)\n",
        "newdata.head()"
      ],
      "metadata": {
        "colab": {
          "base_uri": "https://localhost:8080/",
          "height": 206
        },
        "id": "8CSE0mIvszHs",
        "outputId": "5e094747-f2b7-408f-ba97-0d5cf286cc2a"
      },
      "execution_count": 10,
      "outputs": [
        {
          "output_type": "execute_result",
          "data": {
            "text/plain": [
              "                                               words  sentiment\n",
              "0  ý thýnk uzak ýs the one of the best films of a...          1\n",
              "1      Film auteur Stephan Woloszczuk explores th...          1\n",
              "2  ~~I was able to see this movie yesterday morni...          1\n",
              "3  {Possible spoilers coming up... you've been fo...          1\n",
              "4  zero day is based of columbine high school mas...          1"
            ],
            "text/html": [
              "\n",
              "  <div id=\"df-062930e1-9982-44d5-a2f8-d71635bbd86a\">\n",
              "    <div class=\"colab-df-container\">\n",
              "      <div>\n",
              "<style scoped>\n",
              "    .dataframe tbody tr th:only-of-type {\n",
              "        vertical-align: middle;\n",
              "    }\n",
              "\n",
              "    .dataframe tbody tr th {\n",
              "        vertical-align: top;\n",
              "    }\n",
              "\n",
              "    .dataframe thead th {\n",
              "        text-align: right;\n",
              "    }\n",
              "</style>\n",
              "<table border=\"1\" class=\"dataframe\">\n",
              "  <thead>\n",
              "    <tr style=\"text-align: right;\">\n",
              "      <th></th>\n",
              "      <th>words</th>\n",
              "      <th>sentiment</th>\n",
              "    </tr>\n",
              "  </thead>\n",
              "  <tbody>\n",
              "    <tr>\n",
              "      <th>0</th>\n",
              "      <td>ý thýnk uzak ýs the one of the best films of a...</td>\n",
              "      <td>1</td>\n",
              "    </tr>\n",
              "    <tr>\n",
              "      <th>1</th>\n",
              "      <td>Film auteur Stephan Woloszczuk explores th...</td>\n",
              "      <td>1</td>\n",
              "    </tr>\n",
              "    <tr>\n",
              "      <th>2</th>\n",
              "      <td>~~I was able to see this movie yesterday morni...</td>\n",
              "      <td>1</td>\n",
              "    </tr>\n",
              "    <tr>\n",
              "      <th>3</th>\n",
              "      <td>{Possible spoilers coming up... you've been fo...</td>\n",
              "      <td>1</td>\n",
              "    </tr>\n",
              "    <tr>\n",
              "      <th>4</th>\n",
              "      <td>zero day is based of columbine high school mas...</td>\n",
              "      <td>1</td>\n",
              "    </tr>\n",
              "  </tbody>\n",
              "</table>\n",
              "</div>\n",
              "      <button class=\"colab-df-convert\" onclick=\"convertToInteractive('df-062930e1-9982-44d5-a2f8-d71635bbd86a')\"\n",
              "              title=\"Convert this dataframe to an interactive table.\"\n",
              "              style=\"display:none;\">\n",
              "        \n",
              "  <svg xmlns=\"http://www.w3.org/2000/svg\" height=\"24px\"viewBox=\"0 0 24 24\"\n",
              "       width=\"24px\">\n",
              "    <path d=\"M0 0h24v24H0V0z\" fill=\"none\"/>\n",
              "    <path d=\"M18.56 5.44l.94 2.06.94-2.06 2.06-.94-2.06-.94-.94-2.06-.94 2.06-2.06.94zm-11 1L8.5 8.5l.94-2.06 2.06-.94-2.06-.94L8.5 2.5l-.94 2.06-2.06.94zm10 10l.94 2.06.94-2.06 2.06-.94-2.06-.94-.94-2.06-.94 2.06-2.06.94z\"/><path d=\"M17.41 7.96l-1.37-1.37c-.4-.4-.92-.59-1.43-.59-.52 0-1.04.2-1.43.59L10.3 9.45l-7.72 7.72c-.78.78-.78 2.05 0 2.83L4 21.41c.39.39.9.59 1.41.59.51 0 1.02-.2 1.41-.59l7.78-7.78 2.81-2.81c.8-.78.8-2.07 0-2.86zM5.41 20L4 18.59l7.72-7.72 1.47 1.35L5.41 20z\"/>\n",
              "  </svg>\n",
              "      </button>\n",
              "      \n",
              "  <style>\n",
              "    .colab-df-container {\n",
              "      display:flex;\n",
              "      flex-wrap:wrap;\n",
              "      gap: 12px;\n",
              "    }\n",
              "\n",
              "    .colab-df-convert {\n",
              "      background-color: #E8F0FE;\n",
              "      border: none;\n",
              "      border-radius: 50%;\n",
              "      cursor: pointer;\n",
              "      display: none;\n",
              "      fill: #1967D2;\n",
              "      height: 32px;\n",
              "      padding: 0 0 0 0;\n",
              "      width: 32px;\n",
              "    }\n",
              "\n",
              "    .colab-df-convert:hover {\n",
              "      background-color: #E2EBFA;\n",
              "      box-shadow: 0px 1px 2px rgba(60, 64, 67, 0.3), 0px 1px 3px 1px rgba(60, 64, 67, 0.15);\n",
              "      fill: #174EA6;\n",
              "    }\n",
              "\n",
              "    [theme=dark] .colab-df-convert {\n",
              "      background-color: #3B4455;\n",
              "      fill: #D2E3FC;\n",
              "    }\n",
              "\n",
              "    [theme=dark] .colab-df-convert:hover {\n",
              "      background-color: #434B5C;\n",
              "      box-shadow: 0px 1px 3px 1px rgba(0, 0, 0, 0.15);\n",
              "      filter: drop-shadow(0px 1px 2px rgba(0, 0, 0, 0.3));\n",
              "      fill: #FFFFFF;\n",
              "    }\n",
              "  </style>\n",
              "\n",
              "      <script>\n",
              "        const buttonEl =\n",
              "          document.querySelector('#df-062930e1-9982-44d5-a2f8-d71635bbd86a button.colab-df-convert');\n",
              "        buttonEl.style.display =\n",
              "          google.colab.kernel.accessAllowed ? 'block' : 'none';\n",
              "\n",
              "        async function convertToInteractive(key) {\n",
              "          const element = document.querySelector('#df-062930e1-9982-44d5-a2f8-d71635bbd86a');\n",
              "          const dataTable =\n",
              "            await google.colab.kernel.invokeFunction('convertToInteractive',\n",
              "                                                     [key], {});\n",
              "          if (!dataTable) return;\n",
              "\n",
              "          const docLinkHtml = 'Like what you see? Visit the ' +\n",
              "            '<a target=\"_blank\" href=https://colab.research.google.com/notebooks/data_table.ipynb>data table notebook</a>'\n",
              "            + ' to learn more about interactive tables.';\n",
              "          element.innerHTML = '';\n",
              "          dataTable['output_type'] = 'display_data';\n",
              "          await google.colab.output.renderOutput(dataTable, element);\n",
              "          const docLink = document.createElement('div');\n",
              "          docLink.innerHTML = docLinkHtml;\n",
              "          element.appendChild(docLink);\n",
              "        }\n",
              "      </script>\n",
              "    </div>\n",
              "  </div>\n",
              "  "
            ]
          },
          "metadata": {},
          "execution_count": 10
        }
      ]
    },
    {
      "cell_type": "markdown",
      "source": [
        "\n",
        "\n",
        "Text Processing\n",
        "\n",
        "The model that we intend to use would be an attention model so we don't want to remove any data that would enable the model to predict with accuracy. So we will be performing a broad text cleaning without any lemmatization or removal of stop words since these may be critical to mapping out the sentiment expressed. The following steps will be performed on the review text:\n",
        "\n",
        "1. Conversion to Lower Case\n",
        "\n",
        "2. Removal of delimiters\n",
        "\n",
        "3. Removal of any links that may be pushed into the reviews\n",
        "\n",
        "4. Removal of any special characters that can not essentially determine the sentiment"
      ],
      "metadata": {
        "id": "SVcD8UlJs44F"
      }
    },
    {
      "cell_type": "code",
      "source": [
        "# function to clean the text following the above mention steps\n",
        "def clean_review(review):\n",
        "  # Converting to lower case\n",
        "  review = review.lower()\n",
        "  # removing delimters and tokenizing the text\n",
        "  review = re.sub('<.*?>', '', review)\n",
        "  review_tok = nltk.tokenize.word_tokenize(review)\n",
        "\n",
        "  ## Removing Links\n",
        "  review_tok = [ t for t in review_tok if not t.startswith(\"http://\") and not t.startswith(\"https://\")]\n",
        "\n",
        "  # Removing special characters\n",
        "  review_tok = [t.lstrip('@') for t in review_tok]\n",
        "  review_tok = [t.lstrip('#') for t in review_tok]\n",
        "  review_tok = [t.lstrip('/') for t in review_tok]\n",
        "\n",
        "  # Rejoining the tokens to sentences/paras\n",
        "  cleaned_review = ' '.join(review_tok)\n",
        "  return cleaned_review\n",
        "\n",
        "\n",
        "## CLeaning the review and then overwriting the existing dataframe\n",
        "t = []\n",
        "for i in newdata.words:\n",
        "  t.append(clean_review(i))\n",
        "\n",
        "newdata.drop('words', inplace= True, axis = 1)\n",
        "newdata['words'] = t"
      ],
      "metadata": {
        "id": "fW2jmk8ytAev"
      },
      "execution_count": 11,
      "outputs": []
    },
    {
      "cell_type": "code",
      "source": [
        "shuffled = newdata.sample(frac=1)\n",
        "newdata = shuffled\n",
        "newdata.head()"
      ],
      "metadata": {
        "id": "r3E-Bi3PtPN_",
        "outputId": "229195b9-da17-407e-bbac-3678aff67ed1",
        "colab": {
          "base_uri": "https://localhost:8080/",
          "height": 206
        }
      },
      "execution_count": 12,
      "outputs": [
        {
          "output_type": "execute_result",
          "data": {
            "text/plain": [
              "      sentiment                                              words\n",
              "335           1  if you like gangster type of movies , then thi...\n",
              "519           1  good job.that 's how i would describe this ani...\n",
              "1890          0  yes , indeed , it could have been a good movie...\n",
              "832           1  yes , i did , as i sit here red-faced , rememb...\n",
              "605           1  and quite frankly that just sums it up.it is a..."
            ],
            "text/html": [
              "\n",
              "  <div id=\"df-6851cefd-c5fb-46f1-a49e-6c1c63ecc40f\">\n",
              "    <div class=\"colab-df-container\">\n",
              "      <div>\n",
              "<style scoped>\n",
              "    .dataframe tbody tr th:only-of-type {\n",
              "        vertical-align: middle;\n",
              "    }\n",
              "\n",
              "    .dataframe tbody tr th {\n",
              "        vertical-align: top;\n",
              "    }\n",
              "\n",
              "    .dataframe thead th {\n",
              "        text-align: right;\n",
              "    }\n",
              "</style>\n",
              "<table border=\"1\" class=\"dataframe\">\n",
              "  <thead>\n",
              "    <tr style=\"text-align: right;\">\n",
              "      <th></th>\n",
              "      <th>sentiment</th>\n",
              "      <th>words</th>\n",
              "    </tr>\n",
              "  </thead>\n",
              "  <tbody>\n",
              "    <tr>\n",
              "      <th>335</th>\n",
              "      <td>1</td>\n",
              "      <td>if you like gangster type of movies , then thi...</td>\n",
              "    </tr>\n",
              "    <tr>\n",
              "      <th>519</th>\n",
              "      <td>1</td>\n",
              "      <td>good job.that 's how i would describe this ani...</td>\n",
              "    </tr>\n",
              "    <tr>\n",
              "      <th>1890</th>\n",
              "      <td>0</td>\n",
              "      <td>yes , indeed , it could have been a good movie...</td>\n",
              "    </tr>\n",
              "    <tr>\n",
              "      <th>832</th>\n",
              "      <td>1</td>\n",
              "      <td>yes , i did , as i sit here red-faced , rememb...</td>\n",
              "    </tr>\n",
              "    <tr>\n",
              "      <th>605</th>\n",
              "      <td>1</td>\n",
              "      <td>and quite frankly that just sums it up.it is a...</td>\n",
              "    </tr>\n",
              "  </tbody>\n",
              "</table>\n",
              "</div>\n",
              "      <button class=\"colab-df-convert\" onclick=\"convertToInteractive('df-6851cefd-c5fb-46f1-a49e-6c1c63ecc40f')\"\n",
              "              title=\"Convert this dataframe to an interactive table.\"\n",
              "              style=\"display:none;\">\n",
              "        \n",
              "  <svg xmlns=\"http://www.w3.org/2000/svg\" height=\"24px\"viewBox=\"0 0 24 24\"\n",
              "       width=\"24px\">\n",
              "    <path d=\"M0 0h24v24H0V0z\" fill=\"none\"/>\n",
              "    <path d=\"M18.56 5.44l.94 2.06.94-2.06 2.06-.94-2.06-.94-.94-2.06-.94 2.06-2.06.94zm-11 1L8.5 8.5l.94-2.06 2.06-.94-2.06-.94L8.5 2.5l-.94 2.06-2.06.94zm10 10l.94 2.06.94-2.06 2.06-.94-2.06-.94-.94-2.06-.94 2.06-2.06.94z\"/><path d=\"M17.41 7.96l-1.37-1.37c-.4-.4-.92-.59-1.43-.59-.52 0-1.04.2-1.43.59L10.3 9.45l-7.72 7.72c-.78.78-.78 2.05 0 2.83L4 21.41c.39.39.9.59 1.41.59.51 0 1.02-.2 1.41-.59l7.78-7.78 2.81-2.81c.8-.78.8-2.07 0-2.86zM5.41 20L4 18.59l7.72-7.72 1.47 1.35L5.41 20z\"/>\n",
              "  </svg>\n",
              "      </button>\n",
              "      \n",
              "  <style>\n",
              "    .colab-df-container {\n",
              "      display:flex;\n",
              "      flex-wrap:wrap;\n",
              "      gap: 12px;\n",
              "    }\n",
              "\n",
              "    .colab-df-convert {\n",
              "      background-color: #E8F0FE;\n",
              "      border: none;\n",
              "      border-radius: 50%;\n",
              "      cursor: pointer;\n",
              "      display: none;\n",
              "      fill: #1967D2;\n",
              "      height: 32px;\n",
              "      padding: 0 0 0 0;\n",
              "      width: 32px;\n",
              "    }\n",
              "\n",
              "    .colab-df-convert:hover {\n",
              "      background-color: #E2EBFA;\n",
              "      box-shadow: 0px 1px 2px rgba(60, 64, 67, 0.3), 0px 1px 3px 1px rgba(60, 64, 67, 0.15);\n",
              "      fill: #174EA6;\n",
              "    }\n",
              "\n",
              "    [theme=dark] .colab-df-convert {\n",
              "      background-color: #3B4455;\n",
              "      fill: #D2E3FC;\n",
              "    }\n",
              "\n",
              "    [theme=dark] .colab-df-convert:hover {\n",
              "      background-color: #434B5C;\n",
              "      box-shadow: 0px 1px 3px 1px rgba(0, 0, 0, 0.15);\n",
              "      filter: drop-shadow(0px 1px 2px rgba(0, 0, 0, 0.3));\n",
              "      fill: #FFFFFF;\n",
              "    }\n",
              "  </style>\n",
              "\n",
              "      <script>\n",
              "        const buttonEl =\n",
              "          document.querySelector('#df-6851cefd-c5fb-46f1-a49e-6c1c63ecc40f button.colab-df-convert');\n",
              "        buttonEl.style.display =\n",
              "          google.colab.kernel.accessAllowed ? 'block' : 'none';\n",
              "\n",
              "        async function convertToInteractive(key) {\n",
              "          const element = document.querySelector('#df-6851cefd-c5fb-46f1-a49e-6c1c63ecc40f');\n",
              "          const dataTable =\n",
              "            await google.colab.kernel.invokeFunction('convertToInteractive',\n",
              "                                                     [key], {});\n",
              "          if (!dataTable) return;\n",
              "\n",
              "          const docLinkHtml = 'Like what you see? Visit the ' +\n",
              "            '<a target=\"_blank\" href=https://colab.research.google.com/notebooks/data_table.ipynb>data table notebook</a>'\n",
              "            + ' to learn more about interactive tables.';\n",
              "          element.innerHTML = '';\n",
              "          dataTable['output_type'] = 'display_data';\n",
              "          await google.colab.output.renderOutput(dataTable, element);\n",
              "          const docLink = document.createElement('div');\n",
              "          docLink.innerHTML = docLinkHtml;\n",
              "          element.appendChild(docLink);\n",
              "        }\n",
              "      </script>\n",
              "    </div>\n",
              "  </div>\n",
              "  "
            ]
          },
          "metadata": {},
          "execution_count": 12
        }
      ]
    },
    {
      "cell_type": "code",
      "source": [
        "## Installing Required Packages\n",
        "!pip install transformers tensorflow datasets"
      ],
      "metadata": {
        "execution": {
          "iopub.status.busy": "2023-02-25T14:58:31.689207Z",
          "iopub.execute_input": "2023-02-25T14:58:31.689769Z",
          "iopub.status.idle": "2023-02-25T14:58:31.721305Z",
          "shell.execute_reply.started": "2023-02-25T14:58:31.689656Z",
          "shell.execute_reply": "2023-02-25T14:58:31.720194Z"
        },
        "trusted": true,
        "colab": {
          "base_uri": "https://localhost:8080/"
        },
        "id": "uZ3K8AFszy2v",
        "outputId": "870e843c-a761-498c-83cd-06fc00dbdd5b"
      },
      "execution_count": 13,
      "outputs": [
        {
          "output_type": "stream",
          "name": "stdout",
          "text": [
            "Looking in indexes: https://pypi.org/simple, https://us-python.pkg.dev/colab-wheels/public/simple/\n",
            "Collecting transformers\n",
            "  Downloading transformers-4.30.2-py3-none-any.whl (7.2 MB)\n",
            "\u001b[2K     \u001b[90m━━━━━━━━━━━━━━━━━━━━━━━━━━━━━━━━━━━━━━━━\u001b[0m \u001b[32m7.2/7.2 MB\u001b[0m \u001b[31m79.4 MB/s\u001b[0m eta \u001b[36m0:00:00\u001b[0m\n",
            "\u001b[?25hRequirement already satisfied: tensorflow in /usr/local/lib/python3.10/dist-packages (2.12.0)\n",
            "Collecting datasets\n",
            "  Downloading datasets-2.13.0-py3-none-any.whl (485 kB)\n",
            "\u001b[2K     \u001b[90m━━━━━━━━━━━━━━━━━━━━━━━━━━━━━━━━━━━━━━\u001b[0m \u001b[32m485.6/485.6 kB\u001b[0m \u001b[31m47.9 MB/s\u001b[0m eta \u001b[36m0:00:00\u001b[0m\n",
            "\u001b[?25hRequirement already satisfied: filelock in /usr/local/lib/python3.10/dist-packages (from transformers) (3.12.0)\n",
            "Collecting huggingface-hub<1.0,>=0.14.1 (from transformers)\n",
            "  Downloading huggingface_hub-0.15.1-py3-none-any.whl (236 kB)\n",
            "\u001b[2K     \u001b[90m━━━━━━━━━━━━━━━━━━━━━━━━━━━━━━━━━━━━━━\u001b[0m \u001b[32m236.8/236.8 kB\u001b[0m \u001b[31m26.9 MB/s\u001b[0m eta \u001b[36m0:00:00\u001b[0m\n",
            "\u001b[?25hRequirement already satisfied: numpy>=1.17 in /usr/local/lib/python3.10/dist-packages (from transformers) (1.22.4)\n",
            "Requirement already satisfied: packaging>=20.0 in /usr/local/lib/python3.10/dist-packages (from transformers) (23.1)\n",
            "Requirement already satisfied: pyyaml>=5.1 in /usr/local/lib/python3.10/dist-packages (from transformers) (6.0)\n",
            "Requirement already satisfied: regex!=2019.12.17 in /usr/local/lib/python3.10/dist-packages (from transformers) (2022.10.31)\n",
            "Requirement already satisfied: requests in /usr/local/lib/python3.10/dist-packages (from transformers) (2.27.1)\n",
            "Collecting tokenizers!=0.11.3,<0.14,>=0.11.1 (from transformers)\n",
            "  Downloading tokenizers-0.13.3-cp310-cp310-manylinux_2_17_x86_64.manylinux2014_x86_64.whl (7.8 MB)\n",
            "\u001b[2K     \u001b[90m━━━━━━━━━━━━━━━━━━━━━━━━━━━━━━━━━━━━━━━━\u001b[0m \u001b[32m7.8/7.8 MB\u001b[0m \u001b[31m115.7 MB/s\u001b[0m eta \u001b[36m0:00:00\u001b[0m\n",
            "\u001b[?25hCollecting safetensors>=0.3.1 (from transformers)\n",
            "  Downloading safetensors-0.3.1-cp310-cp310-manylinux_2_17_x86_64.manylinux2014_x86_64.whl (1.3 MB)\n",
            "\u001b[2K     \u001b[90m━━━━━━━━━━━━━━━━━━━━━━━━━━━━━━━━━━━━━━━━\u001b[0m \u001b[32m1.3/1.3 MB\u001b[0m \u001b[31m80.9 MB/s\u001b[0m eta \u001b[36m0:00:00\u001b[0m\n",
            "\u001b[?25hRequirement already satisfied: tqdm>=4.27 in /usr/local/lib/python3.10/dist-packages (from transformers) (4.65.0)\n",
            "Requirement already satisfied: absl-py>=1.0.0 in /usr/local/lib/python3.10/dist-packages (from tensorflow) (1.4.0)\n",
            "Requirement already satisfied: astunparse>=1.6.0 in /usr/local/lib/python3.10/dist-packages (from tensorflow) (1.6.3)\n",
            "Requirement already satisfied: flatbuffers>=2.0 in /usr/local/lib/python3.10/dist-packages (from tensorflow) (23.3.3)\n",
            "Requirement already satisfied: gast<=0.4.0,>=0.2.1 in /usr/local/lib/python3.10/dist-packages (from tensorflow) (0.4.0)\n",
            "Requirement already satisfied: google-pasta>=0.1.1 in /usr/local/lib/python3.10/dist-packages (from tensorflow) (0.2.0)\n",
            "Requirement already satisfied: grpcio<2.0,>=1.24.3 in /usr/local/lib/python3.10/dist-packages (from tensorflow) (1.54.0)\n",
            "Requirement already satisfied: h5py>=2.9.0 in /usr/local/lib/python3.10/dist-packages (from tensorflow) (3.8.0)\n",
            "Requirement already satisfied: jax>=0.3.15 in /usr/local/lib/python3.10/dist-packages (from tensorflow) (0.4.10)\n",
            "Requirement already satisfied: keras<2.13,>=2.12.0 in /usr/local/lib/python3.10/dist-packages (from tensorflow) (2.12.0)\n",
            "Requirement already satisfied: libclang>=13.0.0 in /usr/local/lib/python3.10/dist-packages (from tensorflow) (16.0.0)\n",
            "Requirement already satisfied: opt-einsum>=2.3.2 in /usr/local/lib/python3.10/dist-packages (from tensorflow) (3.3.0)\n",
            "Requirement already satisfied: protobuf!=4.21.0,!=4.21.1,!=4.21.2,!=4.21.3,!=4.21.4,!=4.21.5,<5.0.0dev,>=3.20.3 in /usr/local/lib/python3.10/dist-packages (from tensorflow) (3.20.3)\n",
            "Requirement already satisfied: setuptools in /usr/local/lib/python3.10/dist-packages (from tensorflow) (67.7.2)\n",
            "Requirement already satisfied: six>=1.12.0 in /usr/local/lib/python3.10/dist-packages (from tensorflow) (1.16.0)\n",
            "Requirement already satisfied: tensorboard<2.13,>=2.12 in /usr/local/lib/python3.10/dist-packages (from tensorflow) (2.12.2)\n",
            "Requirement already satisfied: tensorflow-estimator<2.13,>=2.12.0 in /usr/local/lib/python3.10/dist-packages (from tensorflow) (2.12.0)\n",
            "Requirement already satisfied: termcolor>=1.1.0 in /usr/local/lib/python3.10/dist-packages (from tensorflow) (2.3.0)\n",
            "Requirement already satisfied: typing-extensions>=3.6.6 in /usr/local/lib/python3.10/dist-packages (from tensorflow) (4.5.0)\n",
            "Requirement already satisfied: wrapt<1.15,>=1.11.0 in /usr/local/lib/python3.10/dist-packages (from tensorflow) (1.14.1)\n",
            "Requirement already satisfied: tensorflow-io-gcs-filesystem>=0.23.1 in /usr/local/lib/python3.10/dist-packages (from tensorflow) (0.32.0)\n",
            "Requirement already satisfied: pyarrow>=8.0.0 in /usr/local/lib/python3.10/dist-packages (from datasets) (9.0.0)\n",
            "Collecting dill<0.3.7,>=0.3.0 (from datasets)\n",
            "  Downloading dill-0.3.6-py3-none-any.whl (110 kB)\n",
            "\u001b[2K     \u001b[90m━━━━━━━━━━━━━━━━━━━━━━━━━━━━━━━━━━━━━━\u001b[0m \u001b[32m110.5/110.5 kB\u001b[0m \u001b[31m13.1 MB/s\u001b[0m eta \u001b[36m0:00:00\u001b[0m\n",
            "\u001b[?25hRequirement already satisfied: pandas in /usr/local/lib/python3.10/dist-packages (from datasets) (1.5.3)\n",
            "Collecting xxhash (from datasets)\n",
            "  Downloading xxhash-3.2.0-cp310-cp310-manylinux_2_17_x86_64.manylinux2014_x86_64.whl (212 kB)\n",
            "\u001b[2K     \u001b[90m━━━━━━━━━━━━━━━━━━━━━━━━━━━━━━━━━━━━━━\u001b[0m \u001b[32m212.5/212.5 kB\u001b[0m \u001b[31m24.5 MB/s\u001b[0m eta \u001b[36m0:00:00\u001b[0m\n",
            "\u001b[?25hCollecting multiprocess (from datasets)\n",
            "  Downloading multiprocess-0.70.14-py310-none-any.whl (134 kB)\n",
            "\u001b[2K     \u001b[90m━━━━━━━━━━━━━━━━━━━━━━━━━━━━━━━━━━━━━━\u001b[0m \u001b[32m134.3/134.3 kB\u001b[0m \u001b[31m18.2 MB/s\u001b[0m eta \u001b[36m0:00:00\u001b[0m\n",
            "\u001b[?25hRequirement already satisfied: fsspec[http]>=2021.11.1 in /usr/local/lib/python3.10/dist-packages (from datasets) (2023.4.0)\n",
            "Collecting aiohttp (from datasets)\n",
            "  Downloading aiohttp-3.8.4-cp310-cp310-manylinux_2_17_x86_64.manylinux2014_x86_64.whl (1.0 MB)\n",
            "\u001b[2K     \u001b[90m━━━━━━━━━━━━━━━━━━━━━━━━━━━━━━━━━━━━━━━━\u001b[0m \u001b[32m1.0/1.0 MB\u001b[0m \u001b[31m61.2 MB/s\u001b[0m eta \u001b[36m0:00:00\u001b[0m\n",
            "\u001b[?25hRequirement already satisfied: wheel<1.0,>=0.23.0 in /usr/local/lib/python3.10/dist-packages (from astunparse>=1.6.0->tensorflow) (0.40.0)\n",
            "Requirement already satisfied: attrs>=17.3.0 in /usr/local/lib/python3.10/dist-packages (from aiohttp->datasets) (23.1.0)\n",
            "Requirement already satisfied: charset-normalizer<4.0,>=2.0 in /usr/local/lib/python3.10/dist-packages (from aiohttp->datasets) (2.0.12)\n",
            "Collecting multidict<7.0,>=4.5 (from aiohttp->datasets)\n",
            "  Downloading multidict-6.0.4-cp310-cp310-manylinux_2_17_x86_64.manylinux2014_x86_64.whl (114 kB)\n",
            "\u001b[2K     \u001b[90m━━━━━━━━━━━━━━━━━━━━━━━━━━━━━━━━━━━━━━\u001b[0m \u001b[32m114.5/114.5 kB\u001b[0m \u001b[31m14.7 MB/s\u001b[0m eta \u001b[36m0:00:00\u001b[0m\n",
            "\u001b[?25hCollecting async-timeout<5.0,>=4.0.0a3 (from aiohttp->datasets)\n",
            "  Downloading async_timeout-4.0.2-py3-none-any.whl (5.8 kB)\n",
            "Collecting yarl<2.0,>=1.0 (from aiohttp->datasets)\n",
            "  Downloading yarl-1.9.2-cp310-cp310-manylinux_2_17_x86_64.manylinux2014_x86_64.whl (268 kB)\n",
            "\u001b[2K     \u001b[90m━━━━━━━━━━━━━━━━━━━━━━━━━━━━━━━━━━━━━━\u001b[0m \u001b[32m268.8/268.8 kB\u001b[0m \u001b[31m25.3 MB/s\u001b[0m eta \u001b[36m0:00:00\u001b[0m\n",
            "\u001b[?25hCollecting frozenlist>=1.1.1 (from aiohttp->datasets)\n",
            "  Downloading frozenlist-1.3.3-cp310-cp310-manylinux_2_5_x86_64.manylinux1_x86_64.manylinux_2_17_x86_64.manylinux2014_x86_64.whl (149 kB)\n",
            "\u001b[2K     \u001b[90m━━━━━━━━━━━━━━━━━━━━━━━━━━━━━━━━━━━━━━\u001b[0m \u001b[32m149.6/149.6 kB\u001b[0m \u001b[31m14.6 MB/s\u001b[0m eta \u001b[36m0:00:00\u001b[0m\n",
            "\u001b[?25hCollecting aiosignal>=1.1.2 (from aiohttp->datasets)\n",
            "  Downloading aiosignal-1.3.1-py3-none-any.whl (7.6 kB)\n",
            "Requirement already satisfied: ml-dtypes>=0.1.0 in /usr/local/lib/python3.10/dist-packages (from jax>=0.3.15->tensorflow) (0.1.0)\n",
            "Requirement already satisfied: scipy>=1.7 in /usr/local/lib/python3.10/dist-packages (from jax>=0.3.15->tensorflow) (1.10.1)\n",
            "Requirement already satisfied: urllib3<1.27,>=1.21.1 in /usr/local/lib/python3.10/dist-packages (from requests->transformers) (1.26.15)\n",
            "Requirement already satisfied: certifi>=2017.4.17 in /usr/local/lib/python3.10/dist-packages (from requests->transformers) (2022.12.7)\n",
            "Requirement already satisfied: idna<4,>=2.5 in /usr/local/lib/python3.10/dist-packages (from requests->transformers) (3.4)\n",
            "Requirement already satisfied: google-auth<3,>=1.6.3 in /usr/local/lib/python3.10/dist-packages (from tensorboard<2.13,>=2.12->tensorflow) (2.17.3)\n",
            "Requirement already satisfied: google-auth-oauthlib<1.1,>=0.5 in /usr/local/lib/python3.10/dist-packages (from tensorboard<2.13,>=2.12->tensorflow) (1.0.0)\n",
            "Requirement already satisfied: markdown>=2.6.8 in /usr/local/lib/python3.10/dist-packages (from tensorboard<2.13,>=2.12->tensorflow) (3.4.3)\n",
            "Requirement already satisfied: tensorboard-data-server<0.8.0,>=0.7.0 in /usr/local/lib/python3.10/dist-packages (from tensorboard<2.13,>=2.12->tensorflow) (0.7.0)\n",
            "Requirement already satisfied: tensorboard-plugin-wit>=1.6.0 in /usr/local/lib/python3.10/dist-packages (from tensorboard<2.13,>=2.12->tensorflow) (1.8.1)\n",
            "Requirement already satisfied: werkzeug>=1.0.1 in /usr/local/lib/python3.10/dist-packages (from tensorboard<2.13,>=2.12->tensorflow) (2.3.0)\n",
            "Requirement already satisfied: python-dateutil>=2.8.1 in /usr/local/lib/python3.10/dist-packages (from pandas->datasets) (2.8.2)\n",
            "Requirement already satisfied: pytz>=2020.1 in /usr/local/lib/python3.10/dist-packages (from pandas->datasets) (2022.7.1)\n",
            "Requirement already satisfied: cachetools<6.0,>=2.0.0 in /usr/local/lib/python3.10/dist-packages (from google-auth<3,>=1.6.3->tensorboard<2.13,>=2.12->tensorflow) (5.3.0)\n",
            "Requirement already satisfied: pyasn1-modules>=0.2.1 in /usr/local/lib/python3.10/dist-packages (from google-auth<3,>=1.6.3->tensorboard<2.13,>=2.12->tensorflow) (0.3.0)\n",
            "Requirement already satisfied: rsa<5,>=3.1.4 in /usr/local/lib/python3.10/dist-packages (from google-auth<3,>=1.6.3->tensorboard<2.13,>=2.12->tensorflow) (4.9)\n",
            "Requirement already satisfied: requests-oauthlib>=0.7.0 in /usr/local/lib/python3.10/dist-packages (from google-auth-oauthlib<1.1,>=0.5->tensorboard<2.13,>=2.12->tensorflow) (1.3.1)\n",
            "Requirement already satisfied: MarkupSafe>=2.1.1 in /usr/local/lib/python3.10/dist-packages (from werkzeug>=1.0.1->tensorboard<2.13,>=2.12->tensorflow) (2.1.2)\n",
            "Requirement already satisfied: pyasn1<0.6.0,>=0.4.6 in /usr/local/lib/python3.10/dist-packages (from pyasn1-modules>=0.2.1->google-auth<3,>=1.6.3->tensorboard<2.13,>=2.12->tensorflow) (0.5.0)\n",
            "Requirement already satisfied: oauthlib>=3.0.0 in /usr/local/lib/python3.10/dist-packages (from requests-oauthlib>=0.7.0->google-auth-oauthlib<1.1,>=0.5->tensorboard<2.13,>=2.12->tensorflow) (3.2.2)\n",
            "Installing collected packages: tokenizers, safetensors, xxhash, multidict, frozenlist, dill, async-timeout, yarl, multiprocess, huggingface-hub, aiosignal, transformers, aiohttp, datasets\n",
            "Successfully installed aiohttp-3.8.4 aiosignal-1.3.1 async-timeout-4.0.2 datasets-2.13.0 dill-0.3.6 frozenlist-1.3.3 huggingface-hub-0.15.1 multidict-6.0.4 multiprocess-0.70.14 safetensors-0.3.1 tokenizers-0.13.3 transformers-4.30.2 xxhash-3.2.0 yarl-1.9.2\n"
          ]
        }
      ]
    },
    {
      "cell_type": "code",
      "source": [
        "import numpy as np\n",
        "import pandas as pd\n",
        "import os\n",
        "import matplotlib.pyplot as plt\n",
        "import seaborn as sns\n",
        "import re\n",
        "\n",
        "import tensorflow as tf\n",
        "\n",
        "import nltk\n",
        "import string\n",
        "\n",
        "from transformers import AutoTokenizer\n",
        "from datasets import Dataset\n",
        "from transformers import TFAutoModelForSequenceClassification, AutoModelForSequenceClassification\n",
        "from tensorflow.keras.optimizers import Adam\n",
        "from sklearn.metrics import accuracy_score , confusion_matrix , f1_score\n",
        "import json\n"
      ],
      "metadata": {
        "execution": {
          "iopub.status.busy": "2023-02-25T14:58:31.780019Z",
          "iopub.execute_input": "2023-02-25T14:58:31.780729Z",
          "iopub.status.idle": "2023-02-25T14:58:42.728944Z",
          "shell.execute_reply.started": "2023-02-25T14:58:31.780687Z",
          "shell.execute_reply": "2023-02-25T14:58:42.727655Z"
        },
        "trusted": true,
        "id": "2t17-WZmzy2z"
      },
      "execution_count": 14,
      "outputs": []
    },
    {
      "cell_type": "markdown",
      "source": [
        "# 2. Summary\n",
        "\n",
        "The data is regarding the sentiment expressed by movie watchers on the famous site 'Imdb'. It basically conisists of two columns with the first one depicting the review written by the viewer and the second column depicting the sentiment classification of the expressed opinion which can be either as 'positive' or 'negative'.\n",
        "\n",
        "The data has a total of 50000 data points with variable lengths of the reviews. **The sentiment expressed makes it an essentially binary classification problem.**\n",
        "\n",
        "To predict the expressed sentiment, we will use Transfer Learning for the predictions. In the same regard, **a 'Roberta Model' has been selected due to his inherent optimization of the BERT alongwith a larger training corpus.**\n",
        "\n",
        "The biggest challenge that was found is that the length of the reviews is quite large on an average which in turn compromises the model accuracy to about considerably even with the model's ability to deal with a max length of 512. To counter this, multiple models were trained with a sequential reduction in the strings length to 128 which enabled us to have a **training accuracy of 94.91%, validation accuracy of 89.4% and test accuracy of 89.75%** with 3 epochs, which is markedly improved from the early results."
      ],
      "metadata": {
        "id": "OBt2wDm1zy22"
      }
    },
    {
      "cell_type": "markdown",
      "source": [
        "# 3. Exploratory Data Analysis\n",
        "\n",
        "After importing the data, an overview overview of the data was carried out. It was learnt that the sentiment was an object with string values, so these were changed to 0 and 1 with '0' indicating a negative review while '1' indicating a positve review.\n",
        "\n",
        "Subsequently, we checked for data balancing and found that the **data is perfectly balanced with 50% negative and 50% positive reviews**. We also checked for the lengths of the reviews and found the **higest review length to be '2911'** and **shortest review length to be '8'** with the **mean length of reviews to be '559' words**.\n",
        "\n",
        "We can observe by looking at a few reviews two main things, the first is that the data has been scraped but there still remain some unnecessary html tags which need to be removed. The second more important thing that we can imbue from just manually looking at the reviews and the review sizes that we got earlier that the **text size is quite large in most instances and , therefore, a Sequential Model might not be the best choice here due to the limitation of memory associated with them.**\n",
        "\n",
        "Based on our observation, we can proceed by keeping in view that we need a model that would be able to handle large text without any memory error. To do that, we can **make use of the tranformer models** that have recently shown to be quite effective. In this regard, we would be using **Transfer learning particularly the Roberta Model from Hugging Face library**."
      ],
      "metadata": {
        "id": "NnXlXV-tzy23"
      }
    },
    {
      "cell_type": "markdown",
      "source": [
        "## (a) Checking for Data Balancing"
      ],
      "metadata": {
        "id": "XOTJv8-uzy2_"
      }
    },
    {
      "cell_type": "markdown",
      "source": [
        "## (b) Approximating the length of reviews"
      ],
      "metadata": {
        "id": "0OvkpyK4zy3C"
      }
    },
    {
      "cell_type": "code",
      "source": [
        "#nltk.download('punkt')"
      ],
      "metadata": {
        "id": "2RQWaDeM2_GE"
      },
      "execution_count": 15,
      "outputs": []
    },
    {
      "cell_type": "code",
      "source": [
        "#p = []\n",
        "#n = []\n",
        "#\n",
        "## 1. Looping over the entire dataset to convert each review to first tokens\n",
        "## 2. Counting number of words in each review\n",
        "## 3. Adding the word number and id to a separate list for positive and negative sentiment\n",
        "## 4. Converting the list of lists into a separate dataframe\n",
        "#for i in range(len(data.review)):\n",
        "#    temp = len(nltk.tokenize.word_tokenize(data.review[i]))\n",
        "#    if data.sentiment[i] == 0:\n",
        "#        n.append([temp,i])\n",
        "#    else:\n",
        "#        p.append([temp,i])\n",
        "#\n",
        "#\n",
        "## Converting the list into 2 datframes for positive and negative review depicting word counts and idx\n",
        "#pos_df = pd.DataFrame(p , columns = ['words', 'id'])\n",
        "#neg_df = pd.DataFrame(n , columns = ['words' , 'id'])\n",
        "#\n",
        "## Sorting the dataframe in descending order to view the logest strings\n",
        "#pos_df = pos_df.sort_values(by='words', ascending = False)\n",
        "#neg_df = neg_df.sort_values(by='words', ascending = False)"
      ],
      "metadata": {
        "execution": {
          "iopub.status.busy": "2023-02-25T14:58:44.968324Z",
          "iopub.execute_input": "2023-02-25T14:58:44.969179Z",
          "iopub.status.idle": "2023-02-25T15:00:20.63786Z",
          "shell.execute_reply.started": "2023-02-25T14:58:44.969127Z",
          "shell.execute_reply": "2023-02-25T15:00:20.636511Z"
        },
        "trusted": true,
        "id": "wmKhiiznzy3C"
      },
      "execution_count": 16,
      "outputs": []
    },
    {
      "cell_type": "code",
      "source": [
        "#print (f'The longest review is {len(nltk.tokenize.word_tokenize(data.review[40521]))} words long.')\n",
        "#print (f'The shortest review is {len(nltk.tokenize.word_tokenize(data.review[27521]))} words long.')\n",
        "#print (f'The mean review is {np.mean(pos_df.words+neg_df.words)} words long.')"
      ],
      "metadata": {
        "execution": {
          "iopub.status.busy": "2023-02-25T15:05:29.966886Z",
          "iopub.execute_input": "2023-02-25T15:05:29.967283Z",
          "iopub.status.idle": "2023-02-25T15:05:29.996215Z",
          "shell.execute_reply.started": "2023-02-25T15:05:29.96725Z",
          "shell.execute_reply": "2023-02-25T15:05:29.994905Z"
        },
        "trusted": true,
        "id": "uvwYeXmAzy3E"
      },
      "execution_count": 17,
      "outputs": []
    },
    {
      "cell_type": "markdown",
      "source": [
        "## (c) Review Overview"
      ],
      "metadata": {
        "id": "k2frrp_Ezy3G"
      }
    },
    {
      "cell_type": "code",
      "source": [
        "for i in range(5):\n",
        "    print(data['review'][i])\n",
        "    print(data['sentiment'][i])"
      ],
      "metadata": {
        "execution": {
          "iopub.status.busy": "2023-02-25T13:30:55.426255Z",
          "iopub.execute_input": "2023-02-25T13:30:55.426583Z",
          "iopub.status.idle": "2023-02-25T13:30:55.43237Z",
          "shell.execute_reply.started": "2023-02-25T13:30:55.426549Z",
          "shell.execute_reply": "2023-02-25T13:30:55.431398Z"
        },
        "trusted": true,
        "colab": {
          "base_uri": "https://localhost:8080/"
        },
        "id": "zQYAJtwAzy3I",
        "outputId": "2c07177c-f6e2-428c-c237-de1a936ada9f"
      },
      "execution_count": 20,
      "outputs": [
        {
          "output_type": "stream",
          "name": "stdout",
          "text": [
            "One of the other reviewers has mentioned that after watching just 1 Oz episode you'll be hooked. They are right, as this is exactly what happened with me.<br /><br />The first thing that struck me about Oz was its brutality and unflinching scenes of violence, which set in right from the word GO. Trust me, this is not a show for the faint hearted or timid. This show pulls no punches with regards to drugs, sex or violence. Its is hardcore, in the classic use of the word.<br /><br />It is called OZ as that is the nickname given to the Oswald Maximum Security State Penitentary. It focuses mainly on Emerald City, an experimental section of the prison where all the cells have glass fronts and face inwards, so privacy is not high on the agenda. Em City is home to many..Aryans, Muslims, gangstas, Latinos, Christians, Italians, Irish and more....so scuffles, death stares, dodgy dealings and shady agreements are never far away.<br /><br />I would say the main appeal of the show is due to the fact that it goes where other shows wouldn't dare. Forget pretty pictures painted for mainstream audiences, forget charm, forget romance...OZ doesn't mess around. The first episode I ever saw struck me as so nasty it was surreal, I couldn't say I was ready for it, but as I watched more, I developed a taste for Oz, and got accustomed to the high levels of graphic violence. Not just violence, but injustice (crooked guards who'll be sold out for a nickel, inmates who'll kill on order and get away with it, well mannered, middle class inmates being turned into prison bitches due to their lack of street skills or prison experience) Watching Oz, you may become comfortable with what is uncomfortable viewing....thats if you can get in touch with your darker side.\n",
            "1\n",
            "A wonderful little production. <br /><br />The filming technique is very unassuming- very old-time-BBC fashion and gives a comforting, and sometimes discomforting, sense of realism to the entire piece. <br /><br />The actors are extremely well chosen- Michael Sheen not only \"has got all the polari\" but he has all the voices down pat too! You can truly see the seamless editing guided by the references to Williams' diary entries, not only is it well worth the watching but it is a terrificly written and performed piece. A masterful production about one of the great master's of comedy and his life. <br /><br />The realism really comes home with the little things: the fantasy of the guard which, rather than use the traditional 'dream' techniques remains solid then disappears. It plays on our knowledge and our senses, particularly with the scenes concerning Orton and Halliwell and the sets (particularly of their flat with Halliwell's murals decorating every surface) are terribly well done.\n",
            "1\n",
            "I thought this was a wonderful way to spend time on a too hot summer weekend, sitting in the air conditioned theater and watching a light-hearted comedy. The plot is simplistic, but the dialogue is witty and the characters are likable (even the well bread suspected serial killer). While some may be disappointed when they realize this is not Match Point 2: Risk Addiction, I thought it was proof that Woody Allen is still fully in control of the style many of us have grown to love.<br /><br />This was the most I'd laughed at one of Woody's comedies in years (dare I say a decade?). While I've never been impressed with Scarlet Johanson, in this she managed to tone down her \"sexy\" image and jumped right into a average, but spirited young woman.<br /><br />This may not be the crown jewel of his career, but it was wittier than \"Devil Wears Prada\" and more interesting than \"Superman\" a great comedy to go see with friends.\n",
            "1\n",
            "Basically there's a family where a little boy (Jake) thinks there's a zombie in his closet & his parents are fighting all the time.<br /><br />This movie is slower than a soap opera... and suddenly, Jake decides to become Rambo and kill the zombie.<br /><br />OK, first of all when you're going to make a film you must Decide if its a thriller or a drama! As a drama the movie is watchable. Parents are divorcing & arguing like in real life. And then we have Jake with his closet which totally ruins all the film! I expected to see a BOOGEYMAN similar movie, and instead i watched a drama with some meaningless thriller spots.<br /><br />3 out of 10 just for the well playing parents & descent dialogs. As for the shots with Jake: just ignore them.\n",
            "0\n",
            "Petter Mattei's \"Love in the Time of Money\" is a visually stunning film to watch. Mr. Mattei offers us a vivid portrait about human relations. This is a movie that seems to be telling us what money, power and success do to people in the different situations we encounter. <br /><br />This being a variation on the Arthur Schnitzler's play about the same theme, the director transfers the action to the present time New York where all these different characters meet and connect. Each one is connected in one way, or another to the next person, but no one seems to know the previous point of contact. Stylishly, the film has a sophisticated luxurious look. We are taken to see how these people live and the world they live in their own habitat.<br /><br />The only thing one gets out of all these souls in the picture is the different stages of loneliness each one inhabits. A big city is not exactly the best place in which human relations find sincere fulfillment, as one discerns is the case with most of the people we encounter.<br /><br />The acting is good under Mr. Mattei's direction. Steve Buscemi, Rosario Dawson, Carol Kane, Michael Imperioli, Adrian Grenier, and the rest of the talented cast, make these characters come alive.<br /><br />We wish Mr. Mattei good luck and await anxiously for his next work.\n",
            "1\n"
          ]
        }
      ]
    },
    {
      "cell_type": "markdown",
      "source": [
        "# 4. Text Processing\n",
        "\n",
        "The model that we intend to use would be an **attention model so we don't want to remove any data that would enable the model to predict with accuracy.** So we will be performing a broad text cleaning without any lemmatization or removal of stop words since these may be critical to mapping out the sentiment expressed. The following steps will be performed on the review text:\n",
        "\n",
        "\n",
        "1. Conversion to Lower Case\n",
        "2. Removal of delimiters\n",
        "3. Removal of any links that may be pushed into the reviews\n",
        "4. Removal of any special characters that can not essentially determine the sentiment\n",
        "5. Rejoining the tokens after the cleaning pipeline for further processing\n"
      ],
      "metadata": {
        "id": "53PwIyHIzy3I"
      }
    },
    {
      "cell_type": "markdown",
      "source": [
        "# 5. Dividing into Train , Test and Validation Data\n",
        "\n",
        "The data was divided into 3 categories i.e. for training the model, validation and then finally testing into a test set.\n",
        "\n",
        "1. Train Data: 80% of the Total Data\n",
        "2. Test Data: 20% of the Total Data\n",
        "3. Validation Data: 20% of the Train Data\n",
        "\n",
        "The data was then visualized to ensure that we have a balanced dataset to avoid any kind of bias that may arise."
      ],
      "metadata": {
        "id": "hludV02Bzy3K"
      }
    },
    {
      "cell_type": "code",
      "source": [
        "#training_data = data.sample(frac=0.8, random_state=25)\n",
        "#testing_data = data.drop(training_data.index)\n",
        "#\n",
        "#validation_data = training_data.sample(frac = 0.2 , random_state = 25)\n",
        "#training_data = training_data.drop(validation_data.index)\n",
        "#\n",
        "#training_data = training_data.reset_index(drop = True)\n",
        "#validation_data = validation_data.reset_index(drop = True)\n",
        "#testing_data = testing_data.reset_index(drop = True)"
      ],
      "metadata": {
        "execution": {
          "iopub.status.busy": "2023-02-25T13:32:18.974181Z",
          "iopub.execute_input": "2023-02-25T13:32:18.974526Z",
          "iopub.status.idle": "2023-02-25T13:32:19.005404Z",
          "shell.execute_reply.started": "2023-02-25T13:32:18.974493Z",
          "shell.execute_reply": "2023-02-25T13:32:19.00457Z"
        },
        "trusted": true,
        "id": "76XLyzVEzy3L"
      },
      "execution_count": 21,
      "outputs": []
    },
    {
      "cell_type": "code",
      "source": [
        "newdata.rename(columns={\"words\": \"review\"}, inplace=True)\n",
        "training_data = newdata.sample(frac=0.8, random_state=25)\n",
        "testing_data = newdata.drop(training_data.index)\n",
        "\n",
        "validation_data = training_data.sample(frac = 0.2 , random_state = 25)\n",
        "training_data = training_data.drop(validation_data.index)\n",
        "\n",
        "training_data = training_data.reset_index(drop = True)\n",
        "validation_data = validation_data.reset_index(drop = True)\n",
        "testing_data = testing_data.reset_index(drop = True)"
      ],
      "metadata": {
        "id": "w9aP8RasMrkY"
      },
      "execution_count": 22,
      "outputs": []
    },
    {
      "cell_type": "code",
      "source": [
        "#newdata.rename(columns={\"words\": \"review\"}, inplace=True)"
      ],
      "metadata": {
        "id": "XKhd_aUrOkcU"
      },
      "execution_count": 23,
      "outputs": []
    },
    {
      "cell_type": "code",
      "source": [
        "# Instantiating an empty dataframe\n",
        "cts = pd.DataFrame()\n",
        "\n",
        "# Filling the dataframe with the number of sentiment counts of the total sentiments to retain balance\n",
        "cts['Train'] = training_data['sentiment'].value_counts()\n",
        "cts['Test'] = testing_data['sentiment'].value_counts()\n",
        "cts['valid'] = validation_data['sentiment'].value_counts()\n",
        "cts.head()"
      ],
      "metadata": {
        "execution": {
          "iopub.status.busy": "2023-02-25T13:32:19.022043Z",
          "iopub.execute_input": "2023-02-25T13:32:19.023077Z",
          "iopub.status.idle": "2023-02-25T13:32:19.042785Z",
          "shell.execute_reply.started": "2023-02-25T13:32:19.023041Z",
          "shell.execute_reply": "2023-02-25T13:32:19.041897Z"
        },
        "trusted": true,
        "colab": {
          "base_uri": "https://localhost:8080/",
          "height": 112
        },
        "id": "_lmOGl-gzy3M",
        "outputId": "372a6b68-ab3a-43a0-e9a4-d6d8fb28fb03"
      },
      "execution_count": 24,
      "outputs": [
        {
          "output_type": "execute_result",
          "data": {
            "text/plain": [
              "   Train  Test  valid\n",
              "0    650   199    151\n",
              "1    630   201    169"
            ],
            "text/html": [
              "\n",
              "  <div id=\"df-9a18e90a-f292-4e70-8003-47298667a68c\">\n",
              "    <div class=\"colab-df-container\">\n",
              "      <div>\n",
              "<style scoped>\n",
              "    .dataframe tbody tr th:only-of-type {\n",
              "        vertical-align: middle;\n",
              "    }\n",
              "\n",
              "    .dataframe tbody tr th {\n",
              "        vertical-align: top;\n",
              "    }\n",
              "\n",
              "    .dataframe thead th {\n",
              "        text-align: right;\n",
              "    }\n",
              "</style>\n",
              "<table border=\"1\" class=\"dataframe\">\n",
              "  <thead>\n",
              "    <tr style=\"text-align: right;\">\n",
              "      <th></th>\n",
              "      <th>Train</th>\n",
              "      <th>Test</th>\n",
              "      <th>valid</th>\n",
              "    </tr>\n",
              "  </thead>\n",
              "  <tbody>\n",
              "    <tr>\n",
              "      <th>0</th>\n",
              "      <td>650</td>\n",
              "      <td>199</td>\n",
              "      <td>151</td>\n",
              "    </tr>\n",
              "    <tr>\n",
              "      <th>1</th>\n",
              "      <td>630</td>\n",
              "      <td>201</td>\n",
              "      <td>169</td>\n",
              "    </tr>\n",
              "  </tbody>\n",
              "</table>\n",
              "</div>\n",
              "      <button class=\"colab-df-convert\" onclick=\"convertToInteractive('df-9a18e90a-f292-4e70-8003-47298667a68c')\"\n",
              "              title=\"Convert this dataframe to an interactive table.\"\n",
              "              style=\"display:none;\">\n",
              "        \n",
              "  <svg xmlns=\"http://www.w3.org/2000/svg\" height=\"24px\"viewBox=\"0 0 24 24\"\n",
              "       width=\"24px\">\n",
              "    <path d=\"M0 0h24v24H0V0z\" fill=\"none\"/>\n",
              "    <path d=\"M18.56 5.44l.94 2.06.94-2.06 2.06-.94-2.06-.94-.94-2.06-.94 2.06-2.06.94zm-11 1L8.5 8.5l.94-2.06 2.06-.94-2.06-.94L8.5 2.5l-.94 2.06-2.06.94zm10 10l.94 2.06.94-2.06 2.06-.94-2.06-.94-.94-2.06-.94 2.06-2.06.94z\"/><path d=\"M17.41 7.96l-1.37-1.37c-.4-.4-.92-.59-1.43-.59-.52 0-1.04.2-1.43.59L10.3 9.45l-7.72 7.72c-.78.78-.78 2.05 0 2.83L4 21.41c.39.39.9.59 1.41.59.51 0 1.02-.2 1.41-.59l7.78-7.78 2.81-2.81c.8-.78.8-2.07 0-2.86zM5.41 20L4 18.59l7.72-7.72 1.47 1.35L5.41 20z\"/>\n",
              "  </svg>\n",
              "      </button>\n",
              "      \n",
              "  <style>\n",
              "    .colab-df-container {\n",
              "      display:flex;\n",
              "      flex-wrap:wrap;\n",
              "      gap: 12px;\n",
              "    }\n",
              "\n",
              "    .colab-df-convert {\n",
              "      background-color: #E8F0FE;\n",
              "      border: none;\n",
              "      border-radius: 50%;\n",
              "      cursor: pointer;\n",
              "      display: none;\n",
              "      fill: #1967D2;\n",
              "      height: 32px;\n",
              "      padding: 0 0 0 0;\n",
              "      width: 32px;\n",
              "    }\n",
              "\n",
              "    .colab-df-convert:hover {\n",
              "      background-color: #E2EBFA;\n",
              "      box-shadow: 0px 1px 2px rgba(60, 64, 67, 0.3), 0px 1px 3px 1px rgba(60, 64, 67, 0.15);\n",
              "      fill: #174EA6;\n",
              "    }\n",
              "\n",
              "    [theme=dark] .colab-df-convert {\n",
              "      background-color: #3B4455;\n",
              "      fill: #D2E3FC;\n",
              "    }\n",
              "\n",
              "    [theme=dark] .colab-df-convert:hover {\n",
              "      background-color: #434B5C;\n",
              "      box-shadow: 0px 1px 3px 1px rgba(0, 0, 0, 0.15);\n",
              "      filter: drop-shadow(0px 1px 2px rgba(0, 0, 0, 0.3));\n",
              "      fill: #FFFFFF;\n",
              "    }\n",
              "  </style>\n",
              "\n",
              "      <script>\n",
              "        const buttonEl =\n",
              "          document.querySelector('#df-9a18e90a-f292-4e70-8003-47298667a68c button.colab-df-convert');\n",
              "        buttonEl.style.display =\n",
              "          google.colab.kernel.accessAllowed ? 'block' : 'none';\n",
              "\n",
              "        async function convertToInteractive(key) {\n",
              "          const element = document.querySelector('#df-9a18e90a-f292-4e70-8003-47298667a68c');\n",
              "          const dataTable =\n",
              "            await google.colab.kernel.invokeFunction('convertToInteractive',\n",
              "                                                     [key], {});\n",
              "          if (!dataTable) return;\n",
              "\n",
              "          const docLinkHtml = 'Like what you see? Visit the ' +\n",
              "            '<a target=\"_blank\" href=https://colab.research.google.com/notebooks/data_table.ipynb>data table notebook</a>'\n",
              "            + ' to learn more about interactive tables.';\n",
              "          element.innerHTML = '';\n",
              "          dataTable['output_type'] = 'display_data';\n",
              "          await google.colab.output.renderOutput(dataTable, element);\n",
              "          const docLink = document.createElement('div');\n",
              "          docLink.innerHTML = docLinkHtml;\n",
              "          element.appendChild(docLink);\n",
              "        }\n",
              "      </script>\n",
              "    </div>\n",
              "  </div>\n",
              "  "
            ]
          },
          "metadata": {},
          "execution_count": 24
        }
      ]
    },
    {
      "cell_type": "code",
      "source": [
        "# Visualizing with the help of piecharts that the data remains balanced in all 3 datasets\n",
        "plt.subplots(figsize=(20, 10))\n",
        "plt.subplot(1, 2, 1)\n",
        "plt.pie(cts.iloc[0], labels = ['Train', 'Test', 'Valid'], colors = sns.color_palette('pastel')[0:3], autopct='%.0f%%')\n",
        "plt.title('Positive Sentiment Division')\n",
        "\n",
        "plt.subplot(1, 2, 2)\n",
        "plt.pie(cts.iloc[1], labels = ['Train', 'Test', 'Valid'], colors = sns.color_palette('pastel')[0:3], autopct='%.0f%%')\n",
        "plt.title('Negative Sentiment Division')\n",
        "\n",
        "plt.show()"
      ],
      "metadata": {
        "execution": {
          "iopub.status.busy": "2023-02-25T13:32:19.045817Z",
          "iopub.execute_input": "2023-02-25T13:32:19.046125Z",
          "iopub.status.idle": "2023-02-25T13:32:19.396225Z",
          "shell.execute_reply.started": "2023-02-25T13:32:19.0461Z",
          "shell.execute_reply": "2023-02-25T13:32:19.395235Z"
        },
        "trusted": true,
        "colab": {
          "base_uri": "https://localhost:8080/",
          "height": 635
        },
        "id": "wr0toDU8zy3M",
        "outputId": "7a9d5013-77c2-4980-c123-c56803a3edf8"
      },
      "execution_count": 25,
      "outputs": [
        {
          "output_type": "stream",
          "name": "stderr",
          "text": [
            "<ipython-input-25-6d40dd4259ba>:3: MatplotlibDeprecationWarning: Auto-removal of overlapping axes is deprecated since 3.6 and will be removed two minor releases later; explicitly call ax.remove() as needed.\n",
            "  plt.subplot(1, 2, 1)\n"
          ]
        },
        {
          "output_type": "display_data",
          "data": {
            "text/plain": [
              "<Figure size 2000x1000 with 2 Axes>"
            ],
            "image/png": "[encoded data removed]"
          },
          "metadata": {}
        }
      ]
    },
    {
      "cell_type": "markdown",
      "source": [
        "**Though, we can see from the table that the data is not perfectly divided but the difference is quite small, much less than even 1%. So, we will not be imbuing any kind of bias by the data division.**"
      ],
      "metadata": {
        "id": "S3Tl6wDSzy3N"
      }
    },
    {
      "cell_type": "markdown",
      "source": [
        "# 6. Pre-Processing Pipeline\n",
        "\n"
      ],
      "metadata": {
        "id": "7wk_DgQDzy3N"
      }
    },
    {
      "cell_type": "markdown",
      "source": [
        "## (a) Transformers\n",
        "\n",
        "For many years, the technique that had been widely adopted for NLP had been RNN or Sequential Models. But more recently, a new technique has been in the limelight in the form of the hot shot ChatGPT, Bard etc. which are employing a newer and more robust approach to solve the limitations of the earlier models. It is based on their ability to deal with large amounts of text with an **essential base on positional encoding, attention and self-attention.**\n",
        "\n",
        "Based on this novel technique, certain models have been designed like the BERT, DistillBert, Roberta etc. which have been trained on huge corpuses of text data. In our approach, we will also be using one of these models to train our data because of their ability to deal with large text as well without memory errors with accuracy.\n",
        "\n",
        "Specifically, we will be making use of a **Roberta Model which stands for 'Robustly Optimized BERT' i.e. it stands on top of the BERT model by google. The reason that this specific model was chosen is because of its optimization of the BERT in terms of the better results due to dynamic masking as well as the integration of a larger corpus.**\n",
        "\n",
        "In the following lines of code, we use the AutoTokenizer from the hugging face library for tokenizing the text. The important thing to remember here is that we need to feed in the data having the same length which would require padding of shorter text length and truncation of the longer both of which can be easily performed using the in built function of the autotokenizer. Additionally, from the documentation of the model, we can see that it only processes text upto a length of 512. However, after testing the model for varius lengths, it was found that the text length of 128 in each batch would be effective."
      ],
      "metadata": {
        "id": "QesDwnlazy3O"
      }
    },
    {
      "cell_type": "code",
      "source": [
        "## 'roberta-base'\n",
        "tokenizer = AutoTokenizer.from_pretrained(\"roberta-base\")"
      ],
      "metadata": {
        "execution": {
          "iopub.status.busy": "2023-02-25T13:32:19.397676Z",
          "iopub.execute_input": "2023-02-25T13:32:19.398315Z",
          "iopub.status.idle": "2023-02-25T13:32:28.286061Z",
          "shell.execute_reply.started": "2023-02-25T13:32:19.398279Z",
          "shell.execute_reply": "2023-02-25T13:32:28.285004Z"
        },
        "trusted": true,
        "colab": {
          "base_uri": "https://localhost:8080/",
          "height": 145,
          "referenced_widgets": [
            "ffb8ffeb7cff4ebdaae3de3424227e23",
            "0c8fdd7748784a6f936e94d3b8d6f499",
            "8d8eed420e9141c9a26f2814eac98bf5",
            "eab7495246c44ef8a7719d227f2133e0",
            "885fadb07f5b42ed83ba656ef9d66d33",
            "0c9a07795fe24100a6436cd75cb9169c",
            "b4751a6bf92f4b5db8baec413f1457e1",
            "5ad8fd7185fd4267b4627e2eef2546df",
            "3a761056d3b74f568a77776cf3314072",
            "08dd9e4d556143df9ed58d40e077b44c",
            "351613d73dd44cf0804c0909b789086b",
            "fc27c1bc30ba4ce99f7cd555842ea692",
            "66f3fde2559e4f6b8b4a999f31f4bdce",
            "e329d0cfeb884c55817d4fd3def51824",
            "8a73c5e11fa74d68be52fca1bee60dc7",
            "254ed4c9c59f4cb68815d32bf17f2a1a",
            "ee58b151c23a49bf97bfa6f50211cdc6",
            "68efbf0963fe4e699deca961e8f19b22",
            "0afb3a592bec48d4801cf7a7c7751039",
            "f0fd7f1bd86e470cb5d2dfdba937161e",
            "db93f6e1fdc24e32b871486249291914",
            "2e25b45e9053410e98c7ab717c8bb37a",
            "92044ef0f4ff46c6af2dac38b7e15a80",
            "8809c50cdfe94e819960c2dc4dd1bd7a",
            "c0b22493382f4f6f9fd36782ffc6cf2c",
            "937dab17f71b4c27a2aa40c150655078",
            "2a1b9de6c40749c69b826041411ca2a4",
            "0ef93ed09fff4c2591903666f5dbb605",
            "9841d469bcbc489a80eda5f991196f22",
            "317fb6d73a064accaab0f641db74acf6",
            "8523bedbd8e042069f84a784a11b67c8",
            "8ae5ee29fca844acab448819f8856dcf",
            "76f4efdf6f934d28913160ac3bff8df4",
            "7d7a4ca043c74bd8bc4a68abaa15c7ce",
            "bb89f68322324c5c8f9ab439927becaf",
            "616ce240acb64b12a01a28133466a169",
            "62aab6fc2e0f429c917293ef59007ccf",
            "13a8ed27f90a484488e43964cdd18922",
            "45fccb9b0a224009a26f1181c1dc7dc8",
            "f16a1a8505cd4a09bdee49e2c611b3da",
            "be4cb3876b224236990a274da1d1a140",
            "7571fa68dd684686be4a8914a5544895",
            "468a184975704b71bfafcd4f271233e1",
            "d2c340dd6a654c94b087f83cf166a71f"
          ]
        },
        "id": "9mFb82sSzy3O",
        "outputId": "29f4761e-cf95-428d-b008-21339fc801f9"
      },
      "execution_count": 26,
      "outputs": [
        {
          "output_type": "display_data",
          "data": {
            "text/plain": [
              "Downloading (…)lve/main/config.json:   0%|          | 0.00/481 [00:00<?, ?B/s]"
            ],
            "application/vnd.jupyter.widget-view+json": {
              "version_major": 2,
              "version_minor": 0,
              "model_id": "ffb8ffeb7cff4ebdaae3de3424227e23"
            }
          },
          "metadata": {}
        },
        {
          "output_type": "display_data",
          "data": {
            "text/plain": [
              "Downloading (…)olve/main/vocab.json:   0%|          | 0.00/899k [00:00<?, ?B/s]"
            ],
            "application/vnd.jupyter.widget-view+json": {
              "version_major": 2,
              "version_minor": 0,
              "model_id": "fc27c1bc30ba4ce99f7cd555842ea692"
            }
          },
          "metadata": {}
        },
        {
          "output_type": "display_data",
          "data": {
            "text/plain": [
              "Downloading (…)olve/main/merges.txt:   0%|          | 0.00/456k [00:00<?, ?B/s]"
            ],
            "application/vnd.jupyter.widget-view+json": {
              "version_major": 2,
              "version_minor": 0,
              "model_id": "92044ef0f4ff46c6af2dac38b7e15a80"
            }
          },
          "metadata": {}
        },
        {
          "output_type": "display_data",
          "data": {
            "text/plain": [
              "Downloading (…)/main/tokenizer.json:   0%|          | 0.00/1.36M [00:00<?, ?B/s]"
            ],
            "application/vnd.jupyter.widget-view+json": {
              "version_major": 2,
              "version_minor": 0,
              "model_id": "7d7a4ca043c74bd8bc4a68abaa15c7ce"
            }
          },
          "metadata": {}
        }
      ]
    },
    {
      "cell_type": "code",
      "source": [
        "def tokenize_dataset(data):\n",
        "    # Keys of the returned dictionary will be added to the dataset as columns\n",
        "    return tokenizer(data[\"review\"],padding = True , truncation = True, max_length=128)\n",
        "\n",
        "def data_pipe(df):\n",
        "    # The column is renamed as 'label' to use in the pre-built Roberta Model\n",
        "    df1 = df\n",
        "    df.rename(columns = {'sentiment':'label'} , inplace = True)\n",
        "    ## Converting pandas to hugging face dataset to prepare the data as well as save it on drive to\n",
        "    ## avoid wating memory\n",
        "    df = Dataset.from_pandas(df)\n",
        "    ## Padding the data with truncation to limit any input which nmay over shoot the maximum limit of the accepted input length of the model\n",
        "    df = df.map(tokenize_dataset)\n",
        "    return df"
      ],
      "metadata": {
        "execution": {
          "iopub.status.busy": "2023-02-25T13:32:28.290671Z",
          "iopub.execute_input": "2023-02-25T13:32:28.293245Z",
          "iopub.status.idle": "2023-02-25T13:32:28.301277Z",
          "shell.execute_reply.started": "2023-02-25T13:32:28.293206Z",
          "shell.execute_reply": "2023-02-25T13:32:28.300248Z"
        },
        "trusted": true,
        "id": "XpfLnYymzy3P"
      },
      "execution_count": 27,
      "outputs": []
    },
    {
      "cell_type": "code",
      "source": [
        "## The trainig and the validation data are passed through the pipeline to make the data as an acceptable Input form\n",
        "## to be fed into a Roberta Model\n",
        "training = data_pipe(training_data)\n",
        "valid = data_pipe(validation_data)"
      ],
      "metadata": {
        "execution": {
          "iopub.status.busy": "2023-02-25T13:32:28.305404Z",
          "iopub.execute_input": "2023-02-25T13:32:28.307725Z",
          "iopub.status.idle": "2023-02-25T13:33:20.047482Z",
          "shell.execute_reply.started": "2023-02-25T13:32:28.307686Z",
          "shell.execute_reply": "2023-02-25T13:33:20.046543Z"
        },
        "trusted": true,
        "colab": {
          "base_uri": "https://localhost:8080/",
          "height": 17,
          "referenced_widgets": [
            "6b8e6d2e9b894ba3b78c13b01aa658d9",
            "193ff5779e494693b2114faf77f8236c",
            "1122087e3c734a71b573f5b46b7b8afa",
            "afce64afd03a4ea9b82a106d90e2d205",
            "5fa0670de1c2452ebff23f3339e7b447",
            "b3a0221e2392493da4ca301e04982a3b",
            "5abc8f83279f47e08dbdc136872a80a4",
            "defc82f7c01144c3a2c12c8bae878c1c",
            "b8f504d2dc0c460781384b0851580099",
            "57c90dd5b5db4a539c4bf384eccedcc6",
            "93639850f10440a99d5952eb13c9b0bd",
            "9cf7e2a948bf4ae5a2614a4a4161b82a",
            "b8d4e51a7e784b9d8917bc2c4fdbebe4",
            "640bf23428264da0b7f836992a054fe6",
            "5e181a9ed6894a51a809580c505caada",
            "14b8a7240a3041f194dc068d0f0bdbea",
            "d9b02b8bb3f8465e919b6ae35bc34094",
            "919bccc8358c43feb58df68519c41eaf",
            "3797fdea62f34dd7b08167f73af8ede6",
            "2bb997dc218049358ab75856d8a7a5b8",
            "387395e7f32649cdae15d24fdc2495a5",
            "86130afd77624436b89e86149cf8dbb2"
          ]
        },
        "id": "FLQBqAr-zy3P",
        "outputId": "18ea5b3a-f105-4f54-e6cb-91b890849c9a"
      },
      "execution_count": 28,
      "outputs": [
        {
          "output_type": "display_data",
          "data": {
            "text/plain": [
              "Map:   0%|          | 0/1280 [00:00<?, ? examples/s]"
            ],
            "application/vnd.jupyter.widget-view+json": {
              "version_major": 2,
              "version_minor": 0,
              "model_id": "6b8e6d2e9b894ba3b78c13b01aa658d9"
            }
          },
          "metadata": {}
        },
        {
          "output_type": "display_data",
          "data": {
            "text/plain": [
              "Map:   0%|          | 0/320 [00:00<?, ? examples/s]"
            ],
            "application/vnd.jupyter.widget-view+json": {
              "version_major": 2,
              "version_minor": 0,
              "model_id": "9cf7e2a948bf4ae5a2614a4a4161b82a"
            }
          },
          "metadata": {}
        }
      ]
    },
    {
      "cell_type": "markdown",
      "source": [
        "# 7. Model Roberta Fine-Tuning\n",
        "\n",
        "After passing the data through the pipeline, we have it ready to be used with a Roberta Model. From the model summary, we can broadly see that the model has a considerably large number of parameters. Additionally, we can see that the **size of the text is quite large and feeding the tensors directly may result in the memory over load**. To avoid this, we convert the data into a **'tf dataset' to feed only a single batch which can optimize memory usage.** Additioanlly, it is also providing with added advantage of the ability to shuffle before the datset is fit on the model for fine-tuning.\n",
        "\n",
        "The **optimizer used was Adam, the loss and metric used for training was the Sparse Categorical Cross-Entropy with a small learning rate as specified by the author for optimal usage**. The **model was trained on 3 epochs with a score of 94.91% on the training data and 89.40% on the validation data**."
      ],
      "metadata": {
        "id": "RaOZ3EXXzy3Q"
      }
    },
    {
      "cell_type": "code",
      "source": [
        "# Load and compile our model\n",
        "## 'roberta-base' , bert-base-uncased, distilbert-base-uncased\n",
        "model = TFAutoModelForSequenceClassification.from_pretrained(\"roberta-base\", num_labels=2)\n",
        "model.summary()"
      ],
      "metadata": {
        "execution": {
          "iopub.status.busy": "2023-02-25T13:33:20.066425Z",
          "iopub.execute_input": "2023-02-25T13:33:20.066685Z",
          "iopub.status.idle": "2023-02-25T13:33:41.837954Z",
          "shell.execute_reply.started": "2023-02-25T13:33:20.066661Z",
          "shell.execute_reply": "2023-02-25T13:33:41.836692Z"
        },
        "trusted": true,
        "colab": {
          "base_uri": "https://localhost:8080/",
          "height": 416,
          "referenced_widgets": [
            "cd55e37731244f1d966b2110b88a20cf",
            "d0a13c915dd34c70b4ac6e7cc5d16f10",
            "4ab09dd329ca40438a406797bc89b33d",
            "c2183131aa9940a2a0d1f095fdc3118d",
            "4b0507ab1d9c47c596a83c76c9096aac",
            "c3bdd5eee2144eeebfeafd22623edb08",
            "0d0a71cb6e09454ab7073f7927e5f97f",
            "77d392d1caaf4adf995112696513baa0",
            "f2762f2008234f1fa9490de76f83f648",
            "fde5bfb6652a4700bd030cecda8b2a53",
            "415445fdebf64379afec4594c02b07bc"
          ]
        },
        "id": "oPQZlyh7zy3Q",
        "outputId": "1793f7f1-8aed-4164-98ab-66482474975e"
      },
      "execution_count": 29,
      "outputs": [
        {
          "output_type": "display_data",
          "data": {
            "text/plain": [
              "Downloading model.safetensors:   0%|          | 0.00/499M [00:00<?, ?B/s]"
            ],
            "application/vnd.jupyter.widget-view+json": {
              "version_major": 2,
              "version_minor": 0,
              "model_id": "cd55e37731244f1d966b2110b88a20cf"
            }
          },
          "metadata": {}
        },
        {
          "output_type": "stream",
          "name": "stderr",
          "text": [
            "Some weights of the PyTorch model were not used when initializing the TF 2.0 model TFRobertaForSequenceClassification: ['roberta.embeddings.position_ids']\n",
            "- This IS expected if you are initializing TFRobertaForSequenceClassification from a PyTorch model trained on another task or with another architecture (e.g. initializing a TFBertForSequenceClassification model from a BertForPreTraining model).\n",
            "- This IS NOT expected if you are initializing TFRobertaForSequenceClassification from a PyTorch model that you expect to be exactly identical (e.g. initializing a TFBertForSequenceClassification model from a BertForSequenceClassification model).\n",
            "Some weights or buffers of the TF 2.0 model TFRobertaForSequenceClassification were not initialized from the PyTorch model and are newly initialized: ['classifier.dense.weight', 'classifier.dense.bias', 'classifier.out_proj.weight', 'classifier.out_proj.bias']\n",
            "You should probably TRAIN this model on a down-stream task to be able to use it for predictions and inference.\n"
          ]
        },
        {
          "output_type": "stream",
          "name": "stdout",
          "text": [
            "Model: \"tf_roberta_for_sequence_classification\"\n",
            "_________________________________________________________________\n",
            " Layer (type)                Output Shape              Param #   \n",
            "=================================================================\n",
            " roberta (TFRobertaMainLayer  multiple                 124055040 \n",
            " )                                                               \n",
            "                                                                 \n",
            " classifier (TFRobertaClassi  multiple                 592130    \n",
            " ficationHead)                                                   \n",
            "                                                                 \n",
            "=================================================================\n",
            "Total params: 124,647,170\n",
            "Trainable params: 124,647,170\n",
            "Non-trainable params: 0\n",
            "_________________________________________________________________\n"
          ]
        }
      ]
    },
    {
      "cell_type": "code",
      "source": [
        "tf_dataset = model.prepare_tf_dataset(training, batch_size=4, shuffle=True, tokenizer=tokenizer)\n",
        "val_dataset = model.prepare_tf_dataset(valid, batch_size=4, shuffle=True, tokenizer=tokenizer)"
      ],
      "metadata": {
        "execution": {
          "iopub.status.busy": "2023-02-25T13:33:41.839806Z",
          "iopub.execute_input": "2023-02-25T13:33:41.840805Z",
          "iopub.status.idle": "2023-02-25T13:33:42.271386Z",
          "shell.execute_reply.started": "2023-02-25T13:33:41.840758Z",
          "shell.execute_reply": "2023-02-25T13:33:42.270415Z"
        },
        "trusted": true,
        "colab": {
          "base_uri": "https://localhost:8080/"
        },
        "id": "u197QjSxzy3R",
        "outputId": "4408b27b-4497-4ba2-adef-77fb67ae53c5"
      },
      "execution_count": 30,
      "outputs": [
        {
          "output_type": "stream",
          "name": "stderr",
          "text": [
            "You're using a RobertaTokenizerFast tokenizer. Please note that with a fast tokenizer, using the `__call__` method is faster than using a method to encode the text followed by a call to the `pad` method to get a padded encoding.\n"
          ]
        }
      ]
    },
    {
      "cell_type": "code",
      "source": [
        "# Lower learning rates are often better for fine-tuning transformers\n",
        "# lr 3e-5\n",
        "model.compile(optimizer=tf.keras.optimizers.Adam(learning_rate=1e-5),\n",
        "            loss=tf.keras.losses.SparseCategoricalCrossentropy(from_logits=True),\n",
        "            metrics=tf.metrics.SparseCategoricalAccuracy())\n",
        "\n",
        "model.fit(tf_dataset, validation_data= val_dataset , epochs = 3)"
      ],
      "metadata": {
        "execution": {
          "iopub.status.busy": "2023-02-25T13:33:42.272807Z",
          "iopub.execute_input": "2023-02-25T13:33:42.273177Z",
          "iopub.status.idle": "2023-02-25T14:19:45.962598Z",
          "shell.execute_reply.started": "2023-02-25T13:33:42.27314Z",
          "shell.execute_reply": "2023-02-25T14:19:45.961688Z"
        },
        "trusted": true,
        "colab": {
          "base_uri": "https://localhost:8080/"
        },
        "id": "nKRdEzAEzy3S",
        "outputId": "0d88a174-8fec-45d6-9bf9-cb4b47111b3d"
      },
      "execution_count": 31,
      "outputs": [
        {
          "output_type": "stream",
          "name": "stdout",
          "text": [
            "Epoch 1/3\n",
            "320/320 [==============================] - 125s 231ms/step - loss: 0.4661 - sparse_categorical_accuracy: 0.7680 - val_loss: 0.3126 - val_sparse_categorical_accuracy: 0.8906\n",
            "Epoch 2/3\n",
            "320/320 [==============================] - 54s 169ms/step - loss: 0.2643 - sparse_categorical_accuracy: 0.9047 - val_loss: 0.2718 - val_sparse_categorical_accuracy: 0.8969\n",
            "Epoch 3/3\n",
            "320/320 [==============================] - 51s 159ms/step - loss: 0.1566 - sparse_categorical_accuracy: 0.9492 - val_loss: 0.2730 - val_sparse_categorical_accuracy: 0.8875\n"
          ]
        },
        {
          "output_type": "execute_result",
          "data": {
            "text/plain": [
              "<keras.callbacks.History at 0x7feb8363a1d0>"
            ]
          },
          "metadata": {},
          "execution_count": 31
        }
      ]
    },
    {
      "cell_type": "code",
      "source": [
        "##### max_l = 150 , epc = 3 , learning_rate=1e-5  batch size =2\n",
        "model.save_pretrained(\"my_imdb_model_1\")\n",
        "\n",
        "##### max_l = 128, 89.25%, batch size =2\n",
        "# model.save_pretrained(\"*/my_imdb_model_2\")\n",
        "\n",
        "##### max_l = 128, batch size =4 ,89.7%\n",
        "# model.save_pretrained(\"*/my_imdb_model_3\")"
      ],
      "metadata": {
        "execution": {
          "iopub.status.busy": "2023-02-25T14:19:45.96487Z",
          "iopub.execute_input": "2023-02-25T14:19:45.965878Z",
          "iopub.status.idle": "2023-02-25T14:19:46.974257Z",
          "shell.execute_reply.started": "2023-02-25T14:19:45.965819Z",
          "shell.execute_reply": "2023-02-25T14:19:46.973256Z"
        },
        "trusted": true,
        "id": "5QkdbGbuzy3T"
      },
      "execution_count": 32,
      "outputs": []
    },
    {
      "cell_type": "markdown",
      "source": [
        "# 8. Model Testing\n",
        "\n",
        "The model testing was carried out on the test set with the conversion of the text converted to tensors before subsequently being fed to the model for prediction. **An F-1 score of 89.75% and accuracy score of 90.02% for our 3rd model** was achieved which had the following parameters:\n",
        "- Learning Rate : 1e-5\n",
        "- Loss Function : Sparse Categorical Entropy\n",
        "- Training Metric: Sparse Categorical Accuracy\n",
        "- Max Text Length : 128\n",
        "- Batch Size : 4"
      ],
      "metadata": {
        "id": "pl6aXBQvzy3T"
      }
    },
    {
      "cell_type": "code",
      "source": [
        "## Since we have a binary classification problem, we will be using sigmoid function on the logits that are achieved to calculate the prob of each outcome\n",
        "def sigmoid(x):\n",
        "    return 1/(1+np.exp(-x))\n",
        "\n",
        "## A simple function to apply the sigmoid function on the logits\n",
        "def pred(x):\n",
        "    temp = sigmoid(x)\n",
        "    if temp[0] > temp[1]:\n",
        "        return 0\n",
        "    else:\n",
        "        return 1"
      ],
      "metadata": {
        "execution": {
          "iopub.status.busy": "2023-02-25T14:19:46.983101Z",
          "iopub.execute_input": "2023-02-25T14:19:46.983727Z",
          "iopub.status.idle": "2023-02-25T14:19:46.991689Z",
          "shell.execute_reply.started": "2023-02-25T14:19:46.983666Z",
          "shell.execute_reply": "2023-02-25T14:19:46.990683Z"
        },
        "trusted": true,
        "id": "N08-b83Fzy3T"
      },
      "execution_count": 33,
      "outputs": []
    },
    {
      "cell_type": "code",
      "source": [
        "## Making a prediction pipeline\n",
        "text = testing_data['review']\n",
        "label = testing_data['sentiment']\n",
        "\n",
        "res = []\n",
        "## each review is fed to the model after passing through a tokenizer, the predicted value is then\n",
        "## stored in a list called 'res' after passing the logits through a sigmoid function. Depending on\n",
        "## the probability that we get, the review is graded as either positive or negative.\n",
        "for i in text:\n",
        "    ## Tokenizing the text before feeding it to the model for prediction\n",
        "    t_text = tokenizer(i,padding = True , truncation = True, max_length =128, return_tensors = 'tf')\n",
        "    res.append(pred(model(t_text)[0].numpy()[0]))"
      ],
      "metadata": {
        "execution": {
          "iopub.status.busy": "2023-02-25T14:19:47.003233Z",
          "iopub.execute_input": "2023-02-25T14:19:47.00359Z",
          "iopub.status.idle": "2023-02-25T14:41:12.997898Z",
          "shell.execute_reply.started": "2023-02-25T14:19:47.003554Z",
          "shell.execute_reply": "2023-02-25T14:41:12.996901Z"
        },
        "trusted": true,
        "id": "tDG_DHYqzy3T"
      },
      "execution_count": 34,
      "outputs": []
    },
    {
      "cell_type": "code",
      "source": [
        "## a simple format to save the outcome in a json file\n",
        "\n",
        "# ## Writing the test output res into a json file\n",
        "# with open(\"/kaggle/working/test\", \"w\") as fp:\n",
        "#     json.dump(res, fp)\n",
        "\n",
        "\n",
        "# with open(\"/kaggle/working/test\", \"r\") as fp:\n",
        "#     b = json.load(fp)"
      ],
      "metadata": {
        "execution": {
          "iopub.status.busy": "2023-02-25T14:41:12.999559Z",
          "iopub.execute_input": "2023-02-25T14:41:12.999968Z",
          "iopub.status.idle": "2023-02-25T14:41:13.013865Z",
          "shell.execute_reply.started": "2023-02-25T14:41:12.999925Z",
          "shell.execute_reply": "2023-02-25T14:41:13.012758Z"
        },
        "trusted": true,
        "id": "5MyAz2VQzy3V"
      },
      "execution_count": 35,
      "outputs": []
    },
    {
      "cell_type": "code",
      "source": [
        "## from sklearn metrics, using accuracy, F-1 score as well as confusion matrix to study the result\n",
        "accuracy_score(label , res) , f1_score(label , res)"
      ],
      "metadata": {
        "execution": {
          "iopub.status.busy": "2023-02-25T14:41:13.015356Z",
          "iopub.execute_input": "2023-02-25T14:41:13.015724Z",
          "iopub.status.idle": "2023-02-25T14:41:13.036163Z",
          "shell.execute_reply.started": "2023-02-25T14:41:13.015689Z",
          "shell.execute_reply": "2023-02-25T14:41:13.035087Z"
        },
        "trusted": true,
        "id": "x47gd1O0zy3V",
        "colab": {
          "base_uri": "https://localhost:8080/"
        },
        "outputId": "f49f5869-3ad8-4b09-bc44-35cbac2832ea"
      },
      "execution_count": 36,
      "outputs": [
        {
          "output_type": "execute_result",
          "data": {
            "text/plain": [
              "(0.8775, 0.8713910761154856)"
            ]
          },
          "metadata": {},
          "execution_count": 36
        }
      ]
    },
    {
      "cell_type": "code",
      "source": [
        "sns.heatmap(confusion_matrix(label , res) , annot = True)\n",
        "plt.xlabel('Predicted Sentiment')\n",
        "plt.ylabel('Actual Sentiment')\n",
        "plt.title('Prediced vs Actual Sentiment')\n",
        "plt.show()"
      ],
      "metadata": {
        "execution": {
          "iopub.status.busy": "2023-02-25T14:41:35.955759Z",
          "iopub.execute_input": "2023-02-25T14:41:35.956341Z",
          "iopub.status.idle": "2023-02-25T14:41:36.264909Z",
          "shell.execute_reply.started": "2023-02-25T14:41:35.9563Z",
          "shell.execute_reply": "2023-02-25T14:41:36.263928Z"
        },
        "trusted": true,
        "id": "IJpZ-cEzzy3V",
        "colab": {
          "base_uri": "https://localhost:8080/",
          "height": 472
        },
        "outputId": "8940ed61-55ae-4512-fc45-37fb3f1322c2"
      },
      "execution_count": 37,
      "outputs": [
        {
          "output_type": "display_data",
          "data": {
            "text/plain": [
              "<Figure size 640x480 with 2 Axes>"
            ],
            "image/png": "[encoded data removed]"
          },
          "metadata": {}
        }
      ]
    },
    {
      "cell_type": "markdown",
      "source": [
        "# 9. Classifying the review comments from Youtube"
      ],
      "metadata": {
        "id": "Wy4dtzugzy3X"
      }
    },
    {
      "cell_type": "code",
      "source": [
        "df_ytb = pd.read_csv(\"/content/drive/MyDrive/Sentiment_Dataset/ytb_kingdom_of_us.csv\")\n",
        "#df_ytb = pd.read_csv(\"ytb_comments_family.csv\")\n",
        "df_ytb.head()\n",
        "import re\n",
        "import string\n",
        "\n",
        "# Remove column name 'Unnamed: 0'\n",
        "dfc = df_ytb.drop(['Unnamed: 0'], axis=1)\n",
        "dfc.head()\n",
        "\n",
        "\n",
        "def clean_html(text):\n",
        "    clean=re.compile('<.*?>')\n",
        "    cleantext=re.sub(clean,'',text)\n",
        "    return cleantext\n",
        "\n",
        "# first round of cleaning\n",
        "def clean_text1(text):\n",
        "    text=text.lower()\n",
        "    text=re.sub('','',text)\n",
        "    text=re.sub('[%s]'%re.escape(string.punctuation),'',text)\n",
        "    text=re.sub('\\w*\\d\\w*','',text)\n",
        "    return text\n",
        "\n",
        "# second round of cleaning\n",
        "def clean_text2(text):\n",
        "    text=re.sub('[''\"\",,,]','',text)\n",
        "    text=re.sub('\\n','',text)\n",
        "    return text\n",
        "\n",
        "cleaned_html=lambda x:clean_html(x)\n",
        "cleaned1=lambda x:clean_text1(x)\n",
        "cleaned2=lambda x:clean_text2(x)\n",
        "\n",
        "dfc['review'] = dfc['comment']\n",
        "dfc['review']=pd.DataFrame(dfc.review.apply(cleaned_html))\n",
        "dfc['review']=pd.DataFrame(dfc.review.apply(cleaned1))\n",
        "dfc['review']=pd.DataFrame(dfc.review.apply(cleaned2))\n",
        "\n",
        "#from nltk.corpus import stopwords\n",
        "#import nltk\n",
        "#from nltk.stem import PorterStemmer\n",
        "#nltk.download('stopwords')\n",
        "\n",
        "\n",
        "#stemmer = PorterStemmer()\n",
        "#words = stopwords.words(\"english\")\n",
        "\n",
        "#dfc['processedtext'] = dfc['review'].apply(lambda x: \" \".join([stemmer.stem(i) for i in re.sub(\"[^a-zA-Z]\", \" \", x).split() if i not in words]).lower())\n",
        "\n",
        "print(dfc.shape)\n",
        "dfc.head(10)\n",
        "\n",
        "first10comments = dfc.review.values\n",
        "\n",
        "sentences = first10comments[1:50]"
      ],
      "metadata": {
        "id": "kK05RooKz8ar",
        "colab": {
          "base_uri": "https://localhost:8080/"
        },
        "outputId": "c95da375-8bff-43c6-b077-080c8a6ca689"
      },
      "execution_count": 38,
      "outputs": [
        {
          "output_type": "stream",
          "name": "stdout",
          "text": [
            "(69, 3)\n"
          ]
        }
      ]
    },
    {
      "cell_type": "code",
      "source": [
        "print(sentences)"
      ],
      "metadata": {
        "colab": {
          "base_uri": "https://localhost:8080/"
        },
        "id": "3_CIt_f73GqD",
        "outputId": "5fcd87bb-e759-48d1-81b0-fc587acc22b1"
      },
      "execution_count": 39,
      "outputs": [
        {
          "output_type": "stream",
          "name": "stdout",
          "text": [
            "['einfach so eine emotionale doku bitte schaut immer auf eure liebsten und achtet auf symptome depressionen ist eine schlimme krankheit zeigt euren mitmenschen wie sehr ihr sie liebt man weiß nie was morgen geschieht'\n",
            " 'sad but also beautiful story'\n",
            " 'thankyou for sharing your personal experiences so sad for all your loss and how it affected u all individually you all have a wonderful mom stay strong'\n",
            " 'quick psa some places can invoke an injunction that includes spending in the us that’s called conservatorship and it can be temporary or longer term plus option to mandate treatment by law due to illness that make the person temporarily or more chronically unable to make that choice themselves due to the illness so this includes illnesses that affect cognitive functioning sometimes these things can help other times they don’t and all services may not be available in all areas there are also legal maneuvers and strategies that can protect loved ones if necessary domestic violence shelters social workers and crisis lines should have that information and some would be mandated reporterss along with physicans they’re legally obligated to help seek their advice if you or someone you love is struggling'\n",
            " 'the kids are as bat shit crazy as the father hell they all need help only the mother looks as if  stable they are screwed the uk has free healthcare they should sign the whole family'\n",
            " 'wow what a wonderful documentary i just finished watching it i love this family may god be the father of this family'\n",
            " 'wish a record producer would come along and help them release some of his songs'\n",
            " 'one of my favorite documentaries i wish they’d release some of the music the father made i loved the fly away song these are amazing people'\n",
            " 'at the end i burst out crying my god so sad but they are so strong what a great family'\n",
            " 'maybe having so many kids was a symptom of his illness  he  know when to stop the reality was chaos and exhaustion that his  facade  cope with   hard having a parent who has two sides but kids love them unconditionally  no matter what   when that parent dies that the guilt surfaces when we realise just how low and dark that parent must have felt  unacknowledged mental health issues in a parent is terribly confusing for their children and can have a long lasting negative affect on them  suicide of a parent is an unbearable legacy  they were lucky to have a strong mother'\n",
            " 'the mother was just amazing'\n",
            " 'think all the kids act immature falling out like toddlers over mindless stuff and  clear they are out of touch with reality  dad was mentally unwell feel sorry for the mum cringed at the kids all the way through to be honest'\n",
            " 'i cried watching this trailer  not sure i want to watch the documentary now'\n",
            " 'boring show'\n",
            " 'an incredible documentary very moving beautiful children  an amazing wife and mother a must watch'\n",
            " 'beautifully sad documentary'\n",
            " 'anywhere i can find the song at the end loved it beautiful like the film'\n",
            " 'my dad also killed himself and had   exactly the same mental disease i was only three when he died so i never understood my mum and brother  talk about it so much my mum just kept repeating that dad was in too much pain and did what he thought was best for us  so confused i  regulate emotions and only see people as good and that made my life very difficult i got abused in a relationship and just  understand any of it why  been a psychiatric patient for a long time now started when i was  currently in hospital now doctors diagnosis is always borderline but also ptsd and panic i get scared a lot now  so confused about all the emotions the self destructive behavior the black and white thinking  exhausting to live like this i see my dad as my guardian angel and protector but then why did all the bad things happen when i got older my ex really emotionally and physically hurt me a lot of times and i just  give that a place i loved my dad so  a good person but i also loved my ex  so so confused please someone teach me how normal people would think and feel emotions 😞😥 i wish we talked about dad more at  home we  have notes he made or many videos of him that makes it really hard cause i  understand what he was thinking and why he sometimes did bad things i only know i love him so much and think of him every time i get bad again sorry for the long text the movie just gave so many answers and questions at the same time i cried a lot watching it 🤕😓 i wish our family talked more but  never really happen i  know what to do anymore'\n",
            " 'powerful look inside the devastation caused by suicide the never knowing why the maybe ifs its enough to drive you insane i so admire the mum here can someone please get hold of her amp let her let go of all this once amp for all she is so close to the edge amp  like everyone is oblivious caught up inside their own hurt mum you are are wonderful example of a genuine lovely person it is time for you to put this to bed amp close the door please go on with your life amp  be afraid to have time for just you you have earned some peace in your life someone to be there just for you once in a while  ever forget you are here now amp it is time for you to be just you i really hope things have improved for you let no one cage whom you were meant to be fly amp flylt high sweet ladygt'\n",
            " '  famille touchante mais surtout attachante je  pas cessé de verser des larmes devant ce documentaire on ne peut que leur souhaiter du bonheur et un immense courage'\n",
            " 'need to raise awareness that everyone is going to experience this sometime in there life  where it is lost of health ability or loved ones society need to change we are more connected to technology now then ever but disconnected from life humans  designed to take on all the stress of modern life and rates of suicide amongst family men is a hidden pandemic  families do need dads  i grew up missed that  its caused great grief no body teach or be by your side leads to generational depression'\n",
            " ' adoré   étée happée par  de cette famille adorable   merci à eux'\n",
            " 'i believe it was something more than just clinically depressed here having severe depression myself but to mock a serious illness by saying quothe had kids  a selfish pigquot or whatever is cruel something was seriously wrong as w cancer ms etcwe  condemn them'\n",
            " 'yesterday i was thinking  need encouragement to keep  this documentary really broke my heart i cried under the whole documentary i have suicidal thoughts and this doc really did that i was thinking of my own family i realized that i  let the demons win i  give up everything even if i hate my life i had my suicide planned out before this documentary i still have suicidal thoughts but  not going to die yet thank you for that  '\n",
            " 'does anyone know the song that starts at   it’s just piano but it’s a beautiful piece  help '\n",
            " 'so sad  crying 😢😢' 'sad '\n",
            " 'this documentary was great but i kept feeling that if the poor father had at least one more son he might have felt the need to hang on i  imagine being a man and being subjected to such estrogen poisoning the family was bright and good looking of that there is no doubt but the stress of raising so many daughters must have been very affecting mentally'\n",
            " 'httpeursioxurogdxr' 'beautiful family'\n",
            " 'i just finished this film what a haunting devastating beautiful and hopeful film this was and by the end i was completely in love with this family this would be my choice for the best film of '\n",
            " 'in his mind  he was probably doing his family a quotbig favourquot by killing himself  so he could would longer affect them with his depression amp darkmoods everyday  he would gave thought about the plan in great depth amp detail for a very long time and in the end the desire to escape was more important  to him than sparing his family a life sentence of grief  he is a very selfish man for not caring about what  put his family through  but  glad he only took himself out and  do a murder suicide there are other people in this world battling the monsters in their heads who  go and make their loved ones cry  that should be the driving  force that stops a rational irrational human from ending it all mental illness is no excuse for suicide'\n",
            " ' that song name at the end of the title fly away'\n",
            " 'that mother went through hell \\xa0 her children are demanding and some have the same affliction their father had \\xa0this family is screwed'\n",
            " 'this is beautifully done and very moving its  men a day  start to listen'\n",
            " 'i watched this documentary on netflix and i have to say it gives me a contradiction of emotions i find everyone in it annoying yet i am intrigued by their individual differences and how they respectively dealt with their  suicide and their father in general they were all at different stages in the grieving process and they all had thoughts and opinions on their childhood that conflicted because they are all so different i enjoyed that part however there was so much ambiguity i think it explains the complex state of affairs that a family can go through but the family seem very unintelligent when it comes to their emotions or even just generic life they seem to detest their father yet mourn for something they never really had the mother is the only one who understands the entire thing  she lived with him longer than her children did they are asking her for answers  she holds all the cards and she seems to be just living in dissary and not doing anything about her situation she made  children with him and his irresponsibility to leave her with all  in those circumstances was disgusting however she chose to have  children  her responsibility to see that they are looked after and cared for correctly with their disabilities my advice is  never have children unless you are physically mentally emotionally and monetarily able to care for them and only have as much children as you know you can look after'\n",
            " 'this was so sad my father took his life when i was four  very touching  you leave your pain  but  you  give pain to those who you loved and loved you  sad'\n",
            " 'also paul almost certainly fucked jamie'\n",
            " ' pseudophilosophical masturbatory monologues make it unwatchable unfortunately'\n",
            " 'it was his choiceat least he  kill his familyexcellent documentary'\n",
            " 'considering his original plan was to kill the entire family  say he did everyone a favor  mom is in desperate need of help and support i admire her greatly for getting through each day and keeping the kids together but the yard and house are in desperate need of cleaning up and organization  good film and i hope each one of them gets the help they need to be able to push forward in life and to help mom out with the house at some point'\n",
            " 'this doc broke my heart'\n",
            " 'i would love to be able to listen to the music of paul shanks is there a sound track to this film'\n",
            " 'loved the documentary but hate this trailer quotgrief becomes strengthquot  clearly not what the filmmaker is saying at all the toothaching sugarcoating in the trailer really demeans a poignant and beautifully made film  dark dramatic and fascinating   need to be made palatable'\n",
            " 'calling someone who is clinically depressed and commits suicide quotselfishquot is tantamount to calling someone who is gay quotpervertedquotonly some people here will get why this is wrong the others mainly the religious folk will be like quotduhquot'\n",
            " 'this just brought tears to my eyes my best friend killed herself in april i  relate'\n",
            " 'looks like an interesting story but  a worrying lack of diversity in the casting not good enough netflix'\n",
            " 'this should hopefully makeup for the mockery and excuse for suicide awareness that was  reasons  which was basically a yarendition of a very serious and currently taboo subjectthis looks like the type of content people should be viewing if they really want to understand and  the importance of mental health and the absolute sense of hopelessness you can feel despite having the best things in the world which obviously in this  case was his daughtersthis documentary looks incredibly profound'\n",
            " 'this hits close to home when i was in high school my uncle committed suicide and left his wife and eight children powerful and sad']\n"
          ]
        }
      ]
    },
    {
      "cell_type": "code",
      "source": [
        "## Making a prediction pipeline\n",
        "text = sentences\n",
        "#label = testing_data['sentiment']\n",
        "\n",
        "test_res = []\n",
        "## each review is fed to the model after passing through a tokenizer, the predicted value is then\n",
        "## stored in a list called 'res' after passing the logits through a sigmoid function. Depending on\n",
        "## the probability that we get, the review is graded as either positive or negative.\n",
        "for i in text:\n",
        "    ## Tokenizing the text before feeding it to the model for prediction\n",
        "    t_text = tokenizer(i,padding = True , truncation = True, max_length =128, return_tensors = 'tf')\n",
        "    test_res.append(pred(model(t_text)[0].numpy()[0]))"
      ],
      "metadata": {
        "id": "ySDRgocY3YAb"
      },
      "execution_count": 40,
      "outputs": []
    },
    {
      "cell_type": "code",
      "source": [
        "print(test_res)"
      ],
      "metadata": {
        "colab": {
          "base_uri": "https://localhost:8080/"
        },
        "id": "ScfduSYn3n-Q",
        "outputId": "fb794c05-9e98-412d-ecab-98f83ed560a5"
      },
      "execution_count": 41,
      "outputs": [
        {
          "output_type": "stream",
          "name": "stdout",
          "text": [
            "[1, 1, 1, 1, 1, 1, 1, 1, 1, 1, 1, 1, 1, 0, 1, 1, 1, 0, 1, 1, 1, 1, 0, 1, 1, 1, 1, 1, 1, 1, 1, 1, 0, 0, 1, 0, 1, 1, 0, 1, 1, 1, 1, 0, 0, 1, 0, 1, 1]\n"
          ]
        }
      ]
    },
    {
      "cell_type": "code",
      "source": [
        "text =[ 'I am having doubt over the originality of this movie', 'I had no feeling of bad for that movie', 'I donot feel bad anymore about the movie']\n",
        "test_res = []\n",
        "for i in text:\n",
        "    ## Tokenizing the text before feeding it to the model for prediction\n",
        "    t_text = tokenizer(i,padding = True , truncation = True, max_length =128, return_tensors = 'tf')\n",
        "    test_res.append(pred(model(t_text)[0].numpy()[0]))"
      ],
      "metadata": {
        "id": "U-4NAFzy7Nu_"
      },
      "execution_count": 42,
      "outputs": []
    },
    {
      "cell_type": "code",
      "source": [
        "print(test_res)"
      ],
      "metadata": {
        "colab": {
          "base_uri": "https://localhost:8080/"
        },
        "id": "SO34DvFv7-B7",
        "outputId": "3a02f4d2-9f57-4e4c-c77d-ed3300f410ea"
      },
      "execution_count": 43,
      "outputs": [
        {
          "output_type": "stream",
          "name": "stdout",
          "text": [
            "[0, 1, 1]\n"
          ]
        }
      ]
    },
    {
      "cell_type": "code",
      "source": [
        "test_res = [1, 1, 1, 1, 1, 0, 1, 1, 1, 1, 1, 1, 1, 1, 0, 1, 1, 1, 1, 1, 0, 1, 1, 0, 0, 1, 0, 1, 1]\n",
        "len(test_res)\n"
      ],
      "metadata": {
        "colab": {
          "base_uri": "https://localhost:8080/"
        },
        "id": "8h9nIHjzruEe",
        "outputId": "ef1b120a-de17-4f9f-b3fe-3b8401459621"
      },
      "execution_count": 44,
      "outputs": [
        {
          "output_type": "execute_result",
          "data": {
            "text/plain": [
              "29"
            ]
          },
          "metadata": {},
          "execution_count": 44
        }
      ]
    },
    {
      "cell_type": "code",
      "source": [
        "type(sentences)"
      ],
      "metadata": {
        "colab": {
          "base_uri": "https://localhost:8080/"
        },
        "id": "jxudTnlOsLOZ",
        "outputId": "ad8945cc-4e12-4a4e-e96c-ffa58c247c03"
      },
      "execution_count": 45,
      "outputs": [
        {
          "output_type": "execute_result",
          "data": {
            "text/plain": [
              "numpy.ndarray"
            ]
          },
          "metadata": {},
          "execution_count": 45
        }
      ]
    },
    {
      "cell_type": "code",
      "source": [
        "test_res = np.array(test_res)"
      ],
      "metadata": {
        "id": "QzQtkhqqta8J"
      },
      "execution_count": 46,
      "outputs": []
    },
    {
      "cell_type": "code",
      "source": [
        "type(test_res)"
      ],
      "metadata": {
        "colab": {
          "base_uri": "https://localhost:8080/"
        },
        "id": "CeilzyiFtjMd",
        "outputId": "e21318e3-1343-4e64-e648-a90e07396761"
      },
      "execution_count": 47,
      "outputs": [
        {
          "output_type": "execute_result",
          "data": {
            "text/plain": [
              "numpy.ndarray"
            ]
          },
          "metadata": {},
          "execution_count": 47
        }
      ]
    },
    {
      "cell_type": "markdown",
      "source": [
        "# 10. References\n",
        "\n",
        "1. https://arxiv.org/pdf/1907.11692.pdf\n",
        "2. https://daleonai.com/transformers-explained\n",
        "3. https://huggingface.co/docs/datasets/use_with_tensorflow\n",
        "4. https://huggingface.co/docs/transformers/model_doc/roberta"
      ],
      "metadata": {
        "id": "yPfsVBNyzy3X"
      }
    }
  ]
}