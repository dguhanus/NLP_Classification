{
  "cells": [
    {
      "cell_type": "code",
      "execution_count": 1,
      "metadata": {
        "id": "eIDYV-W7eVH9"
      },
      "outputs": [],
      "source": [
        "#!/usr/bin/env python\n",
        "# coding: utf-8"
      ]
    },
    {
      "cell_type": "markdown",
      "metadata": {
        "id": "Px-rsNx-eVID"
      },
      "source": [
        "# Importing libraries"
      ]
    },
    {
      "cell_type": "markdown",
      "metadata": {
        "id": "0pTdDl5jeVIG"
      },
      "source": [
        "In[ ]:"
      ]
    },
    {
      "cell_type": "code",
      "execution_count": 2,
      "metadata": {
        "id": "3aLIE_vMeVII"
      },
      "outputs": [],
      "source": [
        "import tensorflow\n",
        "import keras"
      ]
    },
    {
      "cell_type": "code",
      "execution_count": 3,
      "metadata": {
        "id": "aZ5rbEGkeVIK"
      },
      "outputs": [],
      "source": [
        "import re\n",
        "import nltk\n",
        "import string\n",
        "import numpy as np\n",
        "import pandas as pd\n",
        "import seaborn as sns\n",
        "import matplotlib.pyplot as plt\n",
        "from nltk.corpus import stopwords\n",
        "from nltk.stem import SnowballStemmer, WordNetLemmatizer\n",
        "from sklearn.feature_extraction.text import TfidfVectorizer"
      ]
    },
    {
      "cell_type": "code",
      "execution_count": 4,
      "metadata": {
        "id": "9doqSqyveVIM"
      },
      "outputs": [],
      "source": [
        "from sklearn.preprocessing import LabelEncoder\n",
        "from sklearn.model_selection import train_test_split"
      ]
    },
    {
      "cell_type": "code",
      "execution_count": 5,
      "metadata": {
        "id": "yaKofPUaeVIO"
      },
      "outputs": [],
      "source": [
        "from keras.utils import to_categorical\n",
        "from keras.preprocessing.text import Tokenizer\n",
        "#from keras.preprocessing.sequence import pad_sequences\n",
        "from keras.utils.data_utils import pad_sequences"
      ]
    },
    {
      "cell_type": "code",
      "execution_count": 6,
      "metadata": {
        "id": "Qm75phvyeVIP"
      },
      "outputs": [],
      "source": [
        "from keras.optimizers import Adam\n",
        "from keras.models import Sequential\n",
        "from keras.callbacks import EarlyStopping\n",
        "from keras.layers import Dense, LSTM, Embedding, Bidirectional"
      ]
    },
    {
      "cell_type": "code",
      "execution_count": 7,
      "metadata": {
        "colab": {
          "base_uri": "https://localhost:8080/"
        },
        "id": "XhUyuz88eVIR",
        "outputId": "2b4c6d65-288e-4763-e9c3-5cc0ab6ad7d9"
      },
      "outputs": [
        {
          "output_type": "stream",
          "name": "stderr",
          "text": [
            "[nltk_data] Downloading package stopwords to /root/nltk_data...\n",
            "[nltk_data]   Package stopwords is already up-to-date!\n"
          ]
        }
      ],
      "source": [
        "nltk.download(\"stopwords\")\n",
        "stop_words = set(stopwords.words(\"english\"))\n",
        "lemmatizer= WordNetLemmatizer()"
      ]
    },
    {
      "cell_type": "markdown",
      "metadata": {
        "id": "EaIspO9jeVIT"
      },
      "source": [
        "Modelling"
      ]
    },
    {
      "cell_type": "code",
      "execution_count": 8,
      "metadata": {
        "id": "ScENGBd_eVIU"
      },
      "outputs": [],
      "source": [
        "from sklearn.model_selection import train_test_split,KFold, GridSearchCV\n",
        "from sklearn.ensemble import RandomForestClassifier\n",
        "from sklearn.linear_model import LogisticRegression\n",
        "from sklearn.tree import DecisionTreeClassifier\n",
        "from sklearn.ensemble import RandomForestClassifier\n",
        "from sklearn.metrics import accuracy_score,confusion_matrix, classification_report\n",
        "from sklearn.pipeline import Pipeline\n",
        "from sklearn.metrics import f1_score\n",
        "from sklearn.svm import SVC"
      ]
    },
    {
      "cell_type": "code",
      "execution_count": 9,
      "metadata": {
        "colab": {
          "base_uri": "https://localhost:8080/"
        },
        "id": "QeVOBvJ9eVIV",
        "outputId": "bb86d50d-982a-4265-9400-e3c07cf1d3cc"
      },
      "outputs": [
        {
          "output_type": "stream",
          "name": "stderr",
          "text": [
            "[nltk_data] Downloading package omw-1.4 to /root/nltk_data...\n",
            "[nltk_data]   Package omw-1.4 is already up-to-date!\n"
          ]
        },
        {
          "output_type": "execute_result",
          "data": {
            "text/plain": [
              "True"
            ]
          },
          "metadata": {},
          "execution_count": 9
        }
      ],
      "source": [
        "sns.set(font_scale=1.3)\n",
        "nltk.download('omw-1.4')"
      ]
    },
    {
      "cell_type": "markdown",
      "metadata": {
        "id": "uwrGe2CNeVIX"
      },
      "source": [
        "In[ ]:"
      ]
    },
    {
      "cell_type": "code",
      "execution_count": 10,
      "metadata": {
        "colab": {
          "base_uri": "https://localhost:8080/"
        },
        "id": "S3p0qZ2oeVIX",
        "outputId": "4fbf94dd-5e8b-4610-9b77-7947b2599953"
      },
      "outputs": [
        {
          "output_type": "stream",
          "name": "stdout",
          "text": [
            "Drive already mounted at /content/drive/; to attempt to forcibly remount, call drive.mount(\"/content/drive/\", force_remount=True).\n"
          ]
        }
      ],
      "source": [
        "from google.colab import drive\n",
        "drive.mount('/content/drive/')"
      ]
    },
    {
      "cell_type": "markdown",
      "metadata": {
        "id": "Bkf_VQLHeVIY"
      },
      "source": [
        "In[ ]:<br>\n",
        "Read datasets"
      ]
    },
    {
      "cell_type": "code",
      "execution_count": 11,
      "metadata": {
        "id": "nJQu18leeVIZ"
      },
      "outputs": [],
      "source": [
        "df_train = pd.read_csv('/content/drive/MyDrive/Sentiment_Dataset/multiclass_kaggle/train.txt', names=['Text', 'Emotion'], sep=';')\n",
        "df_val = pd.read_csv('/content/drive/MyDrive/Sentiment_Dataset/multiclass_kaggle/val.txt', names=['Text', 'Emotion'], sep=';')\n",
        "df_test = pd.read_csv('/content/drive/MyDrive/Sentiment_Dataset/multiclass_kaggle/test.txt', names=['Text', 'Emotion'], sep=';')"
      ]
    },
    {
      "cell_type": "markdown",
      "metadata": {
        "id": "5yw93SofeVIZ"
      },
      "source": [
        "In[ ]:"
      ]
    },
    {
      "cell_type": "markdown",
      "metadata": {
        "id": "R6ixqO_yeVIa"
      },
      "source": [
        "rint first 5 rows"
      ]
    },
    {
      "cell_type": "code",
      "execution_count": 12,
      "metadata": {
        "colab": {
          "base_uri": "https://localhost:8080/",
          "height": 206
        },
        "id": "eafsypIgeVIb",
        "outputId": "03d086a7-b32e-45b9-a501-5baa4ca7f634"
      },
      "outputs": [
        {
          "output_type": "execute_result",
          "data": {
            "text/plain": [
              "                                                Text  Emotion\n",
              "0                            i didnt feel humiliated  sadness\n",
              "1  i can go from feeling so hopeless to so damned...  sadness\n",
              "2   im grabbing a minute to post i feel greedy wrong    anger\n",
              "3  i am ever feeling nostalgic about the fireplac...     love\n",
              "4                               i am feeling grouchy    anger"
            ],
            "text/html": [
              "\n",
              "  <div id=\"df-1340bb4b-a11b-4472-b4f4-7c362320abe8\">\n",
              "    <div class=\"colab-df-container\">\n",
              "      <div>\n",
              "<style scoped>\n",
              "    .dataframe tbody tr th:only-of-type {\n",
              "        vertical-align: middle;\n",
              "    }\n",
              "\n",
              "    .dataframe tbody tr th {\n",
              "        vertical-align: top;\n",
              "    }\n",
              "\n",
              "    .dataframe thead th {\n",
              "        text-align: right;\n",
              "    }\n",
              "</style>\n",
              "<table border=\"1\" class=\"dataframe\">\n",
              "  <thead>\n",
              "    <tr style=\"text-align: right;\">\n",
              "      <th></th>\n",
              "      <th>Text</th>\n",
              "      <th>Emotion</th>\n",
              "    </tr>\n",
              "  </thead>\n",
              "  <tbody>\n",
              "    <tr>\n",
              "      <th>0</th>\n",
              "      <td>i didnt feel humiliated</td>\n",
              "      <td>sadness</td>\n",
              "    </tr>\n",
              "    <tr>\n",
              "      <th>1</th>\n",
              "      <td>i can go from feeling so hopeless to so damned...</td>\n",
              "      <td>sadness</td>\n",
              "    </tr>\n",
              "    <tr>\n",
              "      <th>2</th>\n",
              "      <td>im grabbing a minute to post i feel greedy wrong</td>\n",
              "      <td>anger</td>\n",
              "    </tr>\n",
              "    <tr>\n",
              "      <th>3</th>\n",
              "      <td>i am ever feeling nostalgic about the fireplac...</td>\n",
              "      <td>love</td>\n",
              "    </tr>\n",
              "    <tr>\n",
              "      <th>4</th>\n",
              "      <td>i am feeling grouchy</td>\n",
              "      <td>anger</td>\n",
              "    </tr>\n",
              "  </tbody>\n",
              "</table>\n",
              "</div>\n",
              "      <button class=\"colab-df-convert\" onclick=\"convertToInteractive('df-1340bb4b-a11b-4472-b4f4-7c362320abe8')\"\n",
              "              title=\"Convert this dataframe to an interactive table.\"\n",
              "              style=\"display:none;\">\n",
              "        \n",
              "  <svg xmlns=\"http://www.w3.org/2000/svg\" height=\"24px\"viewBox=\"0 0 24 24\"\n",
              "       width=\"24px\">\n",
              "    <path d=\"M0 0h24v24H0V0z\" fill=\"none\"/>\n",
              "    <path d=\"M18.56 5.44l.94 2.06.94-2.06 2.06-.94-2.06-.94-.94-2.06-.94 2.06-2.06.94zm-11 1L8.5 8.5l.94-2.06 2.06-.94-2.06-.94L8.5 2.5l-.94 2.06-2.06.94zm10 10l.94 2.06.94-2.06 2.06-.94-2.06-.94-.94-2.06-.94 2.06-2.06.94z\"/><path d=\"M17.41 7.96l-1.37-1.37c-.4-.4-.92-.59-1.43-.59-.52 0-1.04.2-1.43.59L10.3 9.45l-7.72 7.72c-.78.78-.78 2.05 0 2.83L4 21.41c.39.39.9.59 1.41.59.51 0 1.02-.2 1.41-.59l7.78-7.78 2.81-2.81c.8-.78.8-2.07 0-2.86zM5.41 20L4 18.59l7.72-7.72 1.47 1.35L5.41 20z\"/>\n",
              "  </svg>\n",
              "      </button>\n",
              "      \n",
              "  <style>\n",
              "    .colab-df-container {\n",
              "      display:flex;\n",
              "      flex-wrap:wrap;\n",
              "      gap: 12px;\n",
              "    }\n",
              "\n",
              "    .colab-df-convert {\n",
              "      background-color: #E8F0FE;\n",
              "      border: none;\n",
              "      border-radius: 50%;\n",
              "      cursor: pointer;\n",
              "      display: none;\n",
              "      fill: #1967D2;\n",
              "      height: 32px;\n",
              "      padding: 0 0 0 0;\n",
              "      width: 32px;\n",
              "    }\n",
              "\n",
              "    .colab-df-convert:hover {\n",
              "      background-color: #E2EBFA;\n",
              "      box-shadow: 0px 1px 2px rgba(60, 64, 67, 0.3), 0px 1px 3px 1px rgba(60, 64, 67, 0.15);\n",
              "      fill: #174EA6;\n",
              "    }\n",
              "\n",
              "    [theme=dark] .colab-df-convert {\n",
              "      background-color: #3B4455;\n",
              "      fill: #D2E3FC;\n",
              "    }\n",
              "\n",
              "    [theme=dark] .colab-df-convert:hover {\n",
              "      background-color: #434B5C;\n",
              "      box-shadow: 0px 1px 3px 1px rgba(0, 0, 0, 0.15);\n",
              "      filter: drop-shadow(0px 1px 2px rgba(0, 0, 0, 0.3));\n",
              "      fill: #FFFFFF;\n",
              "    }\n",
              "  </style>\n",
              "\n",
              "      <script>\n",
              "        const buttonEl =\n",
              "          document.querySelector('#df-1340bb4b-a11b-4472-b4f4-7c362320abe8 button.colab-df-convert');\n",
              "        buttonEl.style.display =\n",
              "          google.colab.kernel.accessAllowed ? 'block' : 'none';\n",
              "\n",
              "        async function convertToInteractive(key) {\n",
              "          const element = document.querySelector('#df-1340bb4b-a11b-4472-b4f4-7c362320abe8');\n",
              "          const dataTable =\n",
              "            await google.colab.kernel.invokeFunction('convertToInteractive',\n",
              "                                                     [key], {});\n",
              "          if (!dataTable) return;\n",
              "\n",
              "          const docLinkHtml = 'Like what you see? Visit the ' +\n",
              "            '<a target=\"_blank\" href=https://colab.research.google.com/notebooks/data_table.ipynb>data table notebook</a>'\n",
              "            + ' to learn more about interactive tables.';\n",
              "          element.innerHTML = '';\n",
              "          dataTable['output_type'] = 'display_data';\n",
              "          await google.colab.output.renderOutput(dataTable, element);\n",
              "          const docLink = document.createElement('div');\n",
              "          docLink.innerHTML = docLinkHtml;\n",
              "          element.appendChild(docLink);\n",
              "        }\n",
              "      </script>\n",
              "    </div>\n",
              "  </div>\n",
              "  "
            ]
          },
          "metadata": {},
          "execution_count": 12
        }
      ],
      "source": [
        "df_train.head()"
      ]
    },
    {
      "cell_type": "markdown",
      "metadata": {
        "id": "yh-edK_QeVIc"
      },
      "source": [
        "In[ ]:"
      ]
    },
    {
      "cell_type": "markdown",
      "metadata": {
        "id": "6lM2SwX8eVIc"
      },
      "source": [
        "rint the shape of the data set"
      ]
    },
    {
      "cell_type": "code",
      "execution_count": 13,
      "metadata": {
        "colab": {
          "base_uri": "https://localhost:8080/"
        },
        "id": "f5XZzEZLeVId",
        "outputId": "1e04cdf8-b51d-497c-e21f-d8bb8861f00f"
      },
      "outputs": [
        {
          "output_type": "stream",
          "name": "stdout",
          "text": [
            "(16000, 2)\n"
          ]
        }
      ],
      "source": [
        "print(df_train.shape)"
      ]
    },
    {
      "cell_type": "markdown",
      "metadata": {
        "id": "BUiq6c6GeVId"
      },
      "source": [
        "In[ ]:"
      ]
    },
    {
      "cell_type": "markdown",
      "metadata": {
        "id": "F0rh70eCeVId"
      },
      "source": [
        "rint first 5 rows"
      ]
    },
    {
      "cell_type": "code",
      "execution_count": 14,
      "metadata": {
        "colab": {
          "base_uri": "https://localhost:8080/",
          "height": 206
        },
        "id": "a8bMUCVfeVId",
        "outputId": "6c16a4fe-be71-4d3e-ca6e-afa56ec40fcc"
      },
      "outputs": [
        {
          "output_type": "execute_result",
          "data": {
            "text/plain": [
              "                                                Text  Emotion\n",
              "0  im feeling rather rotten so im not very ambiti...  sadness\n",
              "1          im updating my blog because i feel shitty  sadness\n",
              "2  i never make her separate from me because i do...  sadness\n",
              "3  i left with my bouquet of red and yellow tulip...      joy\n",
              "4    i was feeling a little vain when i did this one  sadness"
            ],
            "text/html": [
              "\n",
              "  <div id=\"df-8fb978c3-faeb-4d80-bb63-601c888bac76\">\n",
              "    <div class=\"colab-df-container\">\n",
              "      <div>\n",
              "<style scoped>\n",
              "    .dataframe tbody tr th:only-of-type {\n",
              "        vertical-align: middle;\n",
              "    }\n",
              "\n",
              "    .dataframe tbody tr th {\n",
              "        vertical-align: top;\n",
              "    }\n",
              "\n",
              "    .dataframe thead th {\n",
              "        text-align: right;\n",
              "    }\n",
              "</style>\n",
              "<table border=\"1\" class=\"dataframe\">\n",
              "  <thead>\n",
              "    <tr style=\"text-align: right;\">\n",
              "      <th></th>\n",
              "      <th>Text</th>\n",
              "      <th>Emotion</th>\n",
              "    </tr>\n",
              "  </thead>\n",
              "  <tbody>\n",
              "    <tr>\n",
              "      <th>0</th>\n",
              "      <td>im feeling rather rotten so im not very ambiti...</td>\n",
              "      <td>sadness</td>\n",
              "    </tr>\n",
              "    <tr>\n",
              "      <th>1</th>\n",
              "      <td>im updating my blog because i feel shitty</td>\n",
              "      <td>sadness</td>\n",
              "    </tr>\n",
              "    <tr>\n",
              "      <th>2</th>\n",
              "      <td>i never make her separate from me because i do...</td>\n",
              "      <td>sadness</td>\n",
              "    </tr>\n",
              "    <tr>\n",
              "      <th>3</th>\n",
              "      <td>i left with my bouquet of red and yellow tulip...</td>\n",
              "      <td>joy</td>\n",
              "    </tr>\n",
              "    <tr>\n",
              "      <th>4</th>\n",
              "      <td>i was feeling a little vain when i did this one</td>\n",
              "      <td>sadness</td>\n",
              "    </tr>\n",
              "  </tbody>\n",
              "</table>\n",
              "</div>\n",
              "      <button class=\"colab-df-convert\" onclick=\"convertToInteractive('df-8fb978c3-faeb-4d80-bb63-601c888bac76')\"\n",
              "              title=\"Convert this dataframe to an interactive table.\"\n",
              "              style=\"display:none;\">\n",
              "        \n",
              "  <svg xmlns=\"http://www.w3.org/2000/svg\" height=\"24px\"viewBox=\"0 0 24 24\"\n",
              "       width=\"24px\">\n",
              "    <path d=\"M0 0h24v24H0V0z\" fill=\"none\"/>\n",
              "    <path d=\"M18.56 5.44l.94 2.06.94-2.06 2.06-.94-2.06-.94-.94-2.06-.94 2.06-2.06.94zm-11 1L8.5 8.5l.94-2.06 2.06-.94-2.06-.94L8.5 2.5l-.94 2.06-2.06.94zm10 10l.94 2.06.94-2.06 2.06-.94-2.06-.94-.94-2.06-.94 2.06-2.06.94z\"/><path d=\"M17.41 7.96l-1.37-1.37c-.4-.4-.92-.59-1.43-.59-.52 0-1.04.2-1.43.59L10.3 9.45l-7.72 7.72c-.78.78-.78 2.05 0 2.83L4 21.41c.39.39.9.59 1.41.59.51 0 1.02-.2 1.41-.59l7.78-7.78 2.81-2.81c.8-.78.8-2.07 0-2.86zM5.41 20L4 18.59l7.72-7.72 1.47 1.35L5.41 20z\"/>\n",
              "  </svg>\n",
              "      </button>\n",
              "      \n",
              "  <style>\n",
              "    .colab-df-container {\n",
              "      display:flex;\n",
              "      flex-wrap:wrap;\n",
              "      gap: 12px;\n",
              "    }\n",
              "\n",
              "    .colab-df-convert {\n",
              "      background-color: #E8F0FE;\n",
              "      border: none;\n",
              "      border-radius: 50%;\n",
              "      cursor: pointer;\n",
              "      display: none;\n",
              "      fill: #1967D2;\n",
              "      height: 32px;\n",
              "      padding: 0 0 0 0;\n",
              "      width: 32px;\n",
              "    }\n",
              "\n",
              "    .colab-df-convert:hover {\n",
              "      background-color: #E2EBFA;\n",
              "      box-shadow: 0px 1px 2px rgba(60, 64, 67, 0.3), 0px 1px 3px 1px rgba(60, 64, 67, 0.15);\n",
              "      fill: #174EA6;\n",
              "    }\n",
              "\n",
              "    [theme=dark] .colab-df-convert {\n",
              "      background-color: #3B4455;\n",
              "      fill: #D2E3FC;\n",
              "    }\n",
              "\n",
              "    [theme=dark] .colab-df-convert:hover {\n",
              "      background-color: #434B5C;\n",
              "      box-shadow: 0px 1px 3px 1px rgba(0, 0, 0, 0.15);\n",
              "      filter: drop-shadow(0px 1px 2px rgba(0, 0, 0, 0.3));\n",
              "      fill: #FFFFFF;\n",
              "    }\n",
              "  </style>\n",
              "\n",
              "      <script>\n",
              "        const buttonEl =\n",
              "          document.querySelector('#df-8fb978c3-faeb-4d80-bb63-601c888bac76 button.colab-df-convert');\n",
              "        buttonEl.style.display =\n",
              "          google.colab.kernel.accessAllowed ? 'block' : 'none';\n",
              "\n",
              "        async function convertToInteractive(key) {\n",
              "          const element = document.querySelector('#df-8fb978c3-faeb-4d80-bb63-601c888bac76');\n",
              "          const dataTable =\n",
              "            await google.colab.kernel.invokeFunction('convertToInteractive',\n",
              "                                                     [key], {});\n",
              "          if (!dataTable) return;\n",
              "\n",
              "          const docLinkHtml = 'Like what you see? Visit the ' +\n",
              "            '<a target=\"_blank\" href=https://colab.research.google.com/notebooks/data_table.ipynb>data table notebook</a>'\n",
              "            + ' to learn more about interactive tables.';\n",
              "          element.innerHTML = '';\n",
              "          dataTable['output_type'] = 'display_data';\n",
              "          await google.colab.output.renderOutput(dataTable, element);\n",
              "          const docLink = document.createElement('div');\n",
              "          docLink.innerHTML = docLinkHtml;\n",
              "          element.appendChild(docLink);\n",
              "        }\n",
              "      </script>\n",
              "    </div>\n",
              "  </div>\n",
              "  "
            ]
          },
          "metadata": {},
          "execution_count": 14
        }
      ],
      "source": [
        "df_test.head()"
      ]
    },
    {
      "cell_type": "markdown",
      "metadata": {
        "id": "g7d7QhddeVIe"
      },
      "source": [
        "In[ ]:"
      ]
    },
    {
      "cell_type": "markdown",
      "metadata": {
        "id": "eZqorEOoeVIe"
      },
      "source": [
        "rint the shape of the data set"
      ]
    },
    {
      "cell_type": "code",
      "execution_count": null,
      "metadata": {
        "colab": {
          "base_uri": "https://localhost:8080/"
        },
        "id": "a6RjK9oUeVIf",
        "outputId": "9e3bd008-67a7-46a8-8049-cb105827468c"
      },
      "outputs": [
        {
          "output_type": "stream",
          "name": "stdout",
          "text": [
            "(2000, 2)\n"
          ]
        }
      ],
      "source": [
        "print(df_test.shape)"
      ]
    },
    {
      "cell_type": "markdown",
      "metadata": {
        "id": "Tbcv2iOieVIf"
      },
      "source": [
        "In[ ]:"
      ]
    },
    {
      "cell_type": "markdown",
      "metadata": {
        "id": "Avzw63LbeVIf"
      },
      "source": [
        "rint first 5 rows"
      ]
    },
    {
      "cell_type": "code",
      "execution_count": 15,
      "metadata": {
        "colab": {
          "base_uri": "https://localhost:8080/",
          "height": 206
        },
        "id": "NqpOqWeseVIg",
        "outputId": "be9b0674-05d8-4068-aced-82071a31eb5b"
      },
      "outputs": [
        {
          "output_type": "execute_result",
          "data": {
            "text/plain": [
              "                                                Text  Emotion\n",
              "0  im feeling quite sad and sorry for myself but ...  sadness\n",
              "1  i feel like i am still looking at a blank canv...  sadness\n",
              "2                     i feel like a faithful servant     love\n",
              "3                  i am just feeling cranky and blue    anger\n",
              "4  i can have for a treat or if i am feeling festive      joy"
            ],
            "text/html": [
              "\n",
              "  <div id=\"df-1d5211a1-3fc6-4925-840d-06ff45d54d6d\">\n",
              "    <div class=\"colab-df-container\">\n",
              "      <div>\n",
              "<style scoped>\n",
              "    .dataframe tbody tr th:only-of-type {\n",
              "        vertical-align: middle;\n",
              "    }\n",
              "\n",
              "    .dataframe tbody tr th {\n",
              "        vertical-align: top;\n",
              "    }\n",
              "\n",
              "    .dataframe thead th {\n",
              "        text-align: right;\n",
              "    }\n",
              "</style>\n",
              "<table border=\"1\" class=\"dataframe\">\n",
              "  <thead>\n",
              "    <tr style=\"text-align: right;\">\n",
              "      <th></th>\n",
              "      <th>Text</th>\n",
              "      <th>Emotion</th>\n",
              "    </tr>\n",
              "  </thead>\n",
              "  <tbody>\n",
              "    <tr>\n",
              "      <th>0</th>\n",
              "      <td>im feeling quite sad and sorry for myself but ...</td>\n",
              "      <td>sadness</td>\n",
              "    </tr>\n",
              "    <tr>\n",
              "      <th>1</th>\n",
              "      <td>i feel like i am still looking at a blank canv...</td>\n",
              "      <td>sadness</td>\n",
              "    </tr>\n",
              "    <tr>\n",
              "      <th>2</th>\n",
              "      <td>i feel like a faithful servant</td>\n",
              "      <td>love</td>\n",
              "    </tr>\n",
              "    <tr>\n",
              "      <th>3</th>\n",
              "      <td>i am just feeling cranky and blue</td>\n",
              "      <td>anger</td>\n",
              "    </tr>\n",
              "    <tr>\n",
              "      <th>4</th>\n",
              "      <td>i can have for a treat or if i am feeling festive</td>\n",
              "      <td>joy</td>\n",
              "    </tr>\n",
              "  </tbody>\n",
              "</table>\n",
              "</div>\n",
              "      <button class=\"colab-df-convert\" onclick=\"convertToInteractive('df-1d5211a1-3fc6-4925-840d-06ff45d54d6d')\"\n",
              "              title=\"Convert this dataframe to an interactive table.\"\n",
              "              style=\"display:none;\">\n",
              "        \n",
              "  <svg xmlns=\"http://www.w3.org/2000/svg\" height=\"24px\"viewBox=\"0 0 24 24\"\n",
              "       width=\"24px\">\n",
              "    <path d=\"M0 0h24v24H0V0z\" fill=\"none\"/>\n",
              "    <path d=\"M18.56 5.44l.94 2.06.94-2.06 2.06-.94-2.06-.94-.94-2.06-.94 2.06-2.06.94zm-11 1L8.5 8.5l.94-2.06 2.06-.94-2.06-.94L8.5 2.5l-.94 2.06-2.06.94zm10 10l.94 2.06.94-2.06 2.06-.94-2.06-.94-.94-2.06-.94 2.06-2.06.94z\"/><path d=\"M17.41 7.96l-1.37-1.37c-.4-.4-.92-.59-1.43-.59-.52 0-1.04.2-1.43.59L10.3 9.45l-7.72 7.72c-.78.78-.78 2.05 0 2.83L4 21.41c.39.39.9.59 1.41.59.51 0 1.02-.2 1.41-.59l7.78-7.78 2.81-2.81c.8-.78.8-2.07 0-2.86zM5.41 20L4 18.59l7.72-7.72 1.47 1.35L5.41 20z\"/>\n",
              "  </svg>\n",
              "      </button>\n",
              "      \n",
              "  <style>\n",
              "    .colab-df-container {\n",
              "      display:flex;\n",
              "      flex-wrap:wrap;\n",
              "      gap: 12px;\n",
              "    }\n",
              "\n",
              "    .colab-df-convert {\n",
              "      background-color: #E8F0FE;\n",
              "      border: none;\n",
              "      border-radius: 50%;\n",
              "      cursor: pointer;\n",
              "      display: none;\n",
              "      fill: #1967D2;\n",
              "      height: 32px;\n",
              "      padding: 0 0 0 0;\n",
              "      width: 32px;\n",
              "    }\n",
              "\n",
              "    .colab-df-convert:hover {\n",
              "      background-color: #E2EBFA;\n",
              "      box-shadow: 0px 1px 2px rgba(60, 64, 67, 0.3), 0px 1px 3px 1px rgba(60, 64, 67, 0.15);\n",
              "      fill: #174EA6;\n",
              "    }\n",
              "\n",
              "    [theme=dark] .colab-df-convert {\n",
              "      background-color: #3B4455;\n",
              "      fill: #D2E3FC;\n",
              "    }\n",
              "\n",
              "    [theme=dark] .colab-df-convert:hover {\n",
              "      background-color: #434B5C;\n",
              "      box-shadow: 0px 1px 3px 1px rgba(0, 0, 0, 0.15);\n",
              "      filter: drop-shadow(0px 1px 2px rgba(0, 0, 0, 0.3));\n",
              "      fill: #FFFFFF;\n",
              "    }\n",
              "  </style>\n",
              "\n",
              "      <script>\n",
              "        const buttonEl =\n",
              "          document.querySelector('#df-1d5211a1-3fc6-4925-840d-06ff45d54d6d button.colab-df-convert');\n",
              "        buttonEl.style.display =\n",
              "          google.colab.kernel.accessAllowed ? 'block' : 'none';\n",
              "\n",
              "        async function convertToInteractive(key) {\n",
              "          const element = document.querySelector('#df-1d5211a1-3fc6-4925-840d-06ff45d54d6d');\n",
              "          const dataTable =\n",
              "            await google.colab.kernel.invokeFunction('convertToInteractive',\n",
              "                                                     [key], {});\n",
              "          if (!dataTable) return;\n",
              "\n",
              "          const docLinkHtml = 'Like what you see? Visit the ' +\n",
              "            '<a target=\"_blank\" href=https://colab.research.google.com/notebooks/data_table.ipynb>data table notebook</a>'\n",
              "            + ' to learn more about interactive tables.';\n",
              "          element.innerHTML = '';\n",
              "          dataTable['output_type'] = 'display_data';\n",
              "          await google.colab.output.renderOutput(dataTable, element);\n",
              "          const docLink = document.createElement('div');\n",
              "          docLink.innerHTML = docLinkHtml;\n",
              "          element.appendChild(docLink);\n",
              "        }\n",
              "      </script>\n",
              "    </div>\n",
              "  </div>\n",
              "  "
            ]
          },
          "metadata": {},
          "execution_count": 15
        }
      ],
      "source": [
        "df_val.head()"
      ]
    },
    {
      "cell_type": "markdown",
      "metadata": {
        "id": "IbIu42jTeVIg"
      },
      "source": [
        "In[ ]:"
      ]
    },
    {
      "cell_type": "markdown",
      "metadata": {
        "id": "afRREc0WeVIh"
      },
      "source": [
        "rint the shape of the data set"
      ]
    },
    {
      "cell_type": "code",
      "execution_count": null,
      "metadata": {
        "colab": {
          "base_uri": "https://localhost:8080/"
        },
        "id": "AXUW5oMPeVIh",
        "outputId": "5838e285-0768-4006-a3a6-ebf2aca3a7c4"
      },
      "outputs": [
        {
          "output_type": "stream",
          "name": "stdout",
          "text": [
            "(2000, 2)\n"
          ]
        }
      ],
      "source": [
        "print(df_val.shape)"
      ]
    },
    {
      "cell_type": "markdown",
      "metadata": {
        "id": "g9R_aUNweVIi"
      },
      "source": [
        "# Assessing"
      ]
    },
    {
      "cell_type": "markdown",
      "metadata": {
        "id": "gsD0X70veVIi"
      },
      "source": [
        "## Train dataset"
      ]
    },
    {
      "cell_type": "markdown",
      "metadata": {
        "id": "TcY_Ecx5eVIj"
      },
      "source": [
        "In[ ]:"
      ]
    },
    {
      "cell_type": "markdown",
      "metadata": {
        "id": "6OrTgfwbeVIj"
      },
      "source": [
        "heck if the data is balanced or not"
      ]
    },
    {
      "cell_type": "code",
      "execution_count": null,
      "metadata": {
        "colab": {
          "base_uri": "https://localhost:8080/"
        },
        "id": "vqL9Zwr1eVIj",
        "outputId": "57a2638c-0c2d-4998-bd3c-59ee88b4429b"
      },
      "outputs": [
        {
          "output_type": "execute_result",
          "data": {
            "text/plain": [
              "joy         5362\n",
              "sadness     4666\n",
              "anger       2159\n",
              "fear        1937\n",
              "love        1304\n",
              "surprise     572\n",
              "Name: Emotion, dtype: int64"
            ]
          },
          "metadata": {},
          "execution_count": 145
        }
      ],
      "source": [
        "df_train.Emotion.value_counts()"
      ]
    },
    {
      "cell_type": "markdown",
      "metadata": {
        "id": "zlhAVfs-eVIk"
      },
      "source": [
        "In[ ]:"
      ]
    },
    {
      "cell_type": "markdown",
      "metadata": {
        "id": "8yE3scz-eVIk"
      },
      "source": [
        "heck if the data is balanced or not"
      ]
    },
    {
      "cell_type": "code",
      "execution_count": 16,
      "metadata": {
        "colab": {
          "base_uri": "https://localhost:8080/"
        },
        "id": "0Jw28KgzeVIk",
        "outputId": "2ad43d0e-01db-4a3d-dcde-231a7ff5d5e8"
      },
      "outputs": [
        {
          "output_type": "execute_result",
          "data": {
            "text/plain": [
              "joy         33.51250\n",
              "sadness     29.16250\n",
              "anger       13.49375\n",
              "fear        12.10625\n",
              "love         8.15000\n",
              "surprise     3.57500\n",
              "Name: Emotion, dtype: float64"
            ]
          },
          "metadata": {},
          "execution_count": 16
        }
      ],
      "source": [
        "df_train.Emotion.value_counts() / df_train.shape[0] *100"
      ]
    },
    {
      "cell_type": "markdown",
      "metadata": {
        "id": "6Ppjsn8reVIl"
      },
      "source": [
        "In[ ]:"
      ]
    },
    {
      "cell_type": "code",
      "execution_count": null,
      "metadata": {
        "colab": {
          "base_uri": "https://localhost:8080/",
          "height": 291
        },
        "id": "YA0lDHOSeVIl",
        "outputId": "3fe82380-32be-4008-da46-697fd8154acb"
      },
      "outputs": [
        {
          "output_type": "display_data",
          "data": {
            "text/plain": [
              "<Figure size 576x288 with 1 Axes>"
            ],
            "image/png": "[encoded data removed]"
          },
          "metadata": {}
        }
      ],
      "source": [
        "plt.figure(figsize=(8,4))\n",
        "sns.countplot(x='Emotion', data=df_train);"
      ]
    },
    {
      "cell_type": "markdown",
      "metadata": {
        "id": "Bi9pLqlseVIl"
      },
      "source": [
        "The data is imbalanced so, we may try to balance it but also, the emotions that we interested in are the most repeated emotion so, till now we can keep the data as it is"
      ]
    },
    {
      "cell_type": "markdown",
      "metadata": {
        "id": "JAU1QPyweVIm"
      },
      "source": [
        "In[ ]:"
      ]
    },
    {
      "cell_type": "markdown",
      "metadata": {
        "id": "ayq3fX7VeVIm"
      },
      "source": [
        "rint the number of null values in each column"
      ]
    },
    {
      "cell_type": "code",
      "execution_count": 17,
      "metadata": {
        "colab": {
          "base_uri": "https://localhost:8080/"
        },
        "id": "N3IKoRcAeVIn",
        "outputId": "21a6ce63-108f-413b-e5b0-e8addcfff623"
      },
      "outputs": [
        {
          "output_type": "execute_result",
          "data": {
            "text/plain": [
              "Text       0\n",
              "Emotion    0\n",
              "dtype: int64"
            ]
          },
          "metadata": {},
          "execution_count": 17
        }
      ],
      "source": [
        "df_train.isnull().sum()"
      ]
    },
    {
      "cell_type": "markdown",
      "metadata": {
        "id": "myopHNxQeVIn"
      },
      "source": [
        "The data doesn't contains any null values"
      ]
    },
    {
      "cell_type": "markdown",
      "metadata": {
        "id": "4IIYGwvzeVIo"
      },
      "source": [
        "In[ ]:"
      ]
    },
    {
      "cell_type": "markdown",
      "metadata": {
        "id": "IjOwSqaKeVIo"
      },
      "source": [
        "rint the number of duplicated values "
      ]
    },
    {
      "cell_type": "code",
      "execution_count": 18,
      "metadata": {
        "colab": {
          "base_uri": "https://localhost:8080/"
        },
        "id": "wgzOoamPeVIp",
        "outputId": "d790fd57-761b-47b1-d5ad-3c3a51757841"
      },
      "outputs": [
        {
          "output_type": "execute_result",
          "data": {
            "text/plain": [
              "1"
            ]
          },
          "metadata": {},
          "execution_count": 18
        }
      ],
      "source": [
        "df_train.duplicated().sum()"
      ]
    },
    {
      "cell_type": "markdown",
      "metadata": {
        "id": "3Vzm0_saeVIq"
      },
      "source": [
        "There is just one row which is duplicated but we need to check also if there are rows having the same text but different emotions"
      ]
    },
    {
      "cell_type": "markdown",
      "metadata": {
        "id": "7qkYZCTeeVIq"
      },
      "source": [
        "In[ ]:"
      ]
    },
    {
      "cell_type": "markdown",
      "metadata": {
        "id": "BBdnh7oueVIr"
      },
      "source": [
        "emoving duplicated values"
      ]
    },
    {
      "cell_type": "code",
      "execution_count": 19,
      "metadata": {
        "id": "WYfHdegTeVIr"
      },
      "outputs": [],
      "source": [
        "index = df_train[df_train.duplicated() == True].index\n",
        "df_train.drop(index, axis = 0, inplace = True)\n",
        "df_train.reset_index(inplace=True, drop = True)"
      ]
    },
    {
      "cell_type": "markdown",
      "metadata": {
        "id": "x4Z-g1BVeVIr"
      },
      "source": [
        "In[ ]:"
      ]
    },
    {
      "cell_type": "markdown",
      "metadata": {
        "id": "DI_7_BcgeVIs"
      },
      "source": [
        "rint the rows which are duplicated (duplicated in the text but with different emotions)"
      ]
    },
    {
      "cell_type": "code",
      "execution_count": 20,
      "metadata": {
        "colab": {
          "base_uri": "https://localhost:8080/",
          "height": 990
        },
        "id": "2gwrxbJGeVIt",
        "outputId": "6ddeadd3-7853-4ee0-bb15-8a6d69249ee2"
      },
      "outputs": [
        {
          "output_type": "execute_result",
          "data": {
            "text/plain": [
              "                                                    Text   Emotion\n",
              "5067   i feel on the verge of tears from weariness i ...       joy\n",
              "6133               i still feel a craving for sweet food      love\n",
              "6563   i tend to stop breathing when i m feeling stre...     anger\n",
              "7623   i was intensely conscious of how much cash i h...   sadness\n",
              "7685   im still not sure why reilly feels the need to...  surprise\n",
              "8246   i am not amazing or great at photography but i...      love\n",
              "9596   ive also made it with both sugar measurements ...       joy\n",
              "9687   i had to choose the sleek and smoother feel of...       joy\n",
              "9769   i often find myself feeling assaulted by a mul...   sadness\n",
              "9786        i feel im being generous with that statement       joy\n",
              "10117  i feel pretty tortured because i work a job an...      fear\n",
              "10581                       i feel most passionate about       joy\n",
              "11273  i was so stubborn and that it took you getting...       joy\n",
              "11354  i write these words i feel sweet baby kicks fr...      love\n",
              "11525  i feel a remembrance of the strange by justin ...      fear\n",
              "11823  i have chose for myself that makes me feel ama...       joy\n",
              "12441                   i still feel completely accepted      love\n",
              "12562                           i feel so weird about it  surprise\n",
              "12892  i cant escape the tears of sadness and just tr...       joy\n",
              "13236   i feel like a tortured artist when i talk to her     anger\n",
              "13879  i feel like i am very passionate about youtube...      love\n",
              "14106                             i feel kind of strange  surprise\n",
              "14313    i could feel myself hit this strange foggy wall  surprise\n",
              "14633  i feel pretty weird blogging about deodorant b...      fear\n",
              "14925  i resorted to yesterday the post peak day of i...      fear\n",
              "15314  i will feel as though i am accepted by as well...       joy\n",
              "15328  i shy away from songs that talk about how i fe...       joy\n",
              "15571  i bet taylor swift basks in the knowledge that...     anger\n",
              "15704  i began to feel accepted by gaia on her own terms       joy\n",
              "15875  i was sitting in the corner stewing in my own ...     anger"
            ],
            "text/html": [
              "\n",
              "  <div id=\"df-ad00ae77-bc56-4286-9734-995bf9795aab\">\n",
              "    <div class=\"colab-df-container\">\n",
              "      <div>\n",
              "<style scoped>\n",
              "    .dataframe tbody tr th:only-of-type {\n",
              "        vertical-align: middle;\n",
              "    }\n",
              "\n",
              "    .dataframe tbody tr th {\n",
              "        vertical-align: top;\n",
              "    }\n",
              "\n",
              "    .dataframe thead th {\n",
              "        text-align: right;\n",
              "    }\n",
              "</style>\n",
              "<table border=\"1\" class=\"dataframe\">\n",
              "  <thead>\n",
              "    <tr style=\"text-align: right;\">\n",
              "      <th></th>\n",
              "      <th>Text</th>\n",
              "      <th>Emotion</th>\n",
              "    </tr>\n",
              "  </thead>\n",
              "  <tbody>\n",
              "    <tr>\n",
              "      <th>5067</th>\n",
              "      <td>i feel on the verge of tears from weariness i ...</td>\n",
              "      <td>joy</td>\n",
              "    </tr>\n",
              "    <tr>\n",
              "      <th>6133</th>\n",
              "      <td>i still feel a craving for sweet food</td>\n",
              "      <td>love</td>\n",
              "    </tr>\n",
              "    <tr>\n",
              "      <th>6563</th>\n",
              "      <td>i tend to stop breathing when i m feeling stre...</td>\n",
              "      <td>anger</td>\n",
              "    </tr>\n",
              "    <tr>\n",
              "      <th>7623</th>\n",
              "      <td>i was intensely conscious of how much cash i h...</td>\n",
              "      <td>sadness</td>\n",
              "    </tr>\n",
              "    <tr>\n",
              "      <th>7685</th>\n",
              "      <td>im still not sure why reilly feels the need to...</td>\n",
              "      <td>surprise</td>\n",
              "    </tr>\n",
              "    <tr>\n",
              "      <th>8246</th>\n",
              "      <td>i am not amazing or great at photography but i...</td>\n",
              "      <td>love</td>\n",
              "    </tr>\n",
              "    <tr>\n",
              "      <th>9596</th>\n",
              "      <td>ive also made it with both sugar measurements ...</td>\n",
              "      <td>joy</td>\n",
              "    </tr>\n",
              "    <tr>\n",
              "      <th>9687</th>\n",
              "      <td>i had to choose the sleek and smoother feel of...</td>\n",
              "      <td>joy</td>\n",
              "    </tr>\n",
              "    <tr>\n",
              "      <th>9769</th>\n",
              "      <td>i often find myself feeling assaulted by a mul...</td>\n",
              "      <td>sadness</td>\n",
              "    </tr>\n",
              "    <tr>\n",
              "      <th>9786</th>\n",
              "      <td>i feel im being generous with that statement</td>\n",
              "      <td>joy</td>\n",
              "    </tr>\n",
              "    <tr>\n",
              "      <th>10117</th>\n",
              "      <td>i feel pretty tortured because i work a job an...</td>\n",
              "      <td>fear</td>\n",
              "    </tr>\n",
              "    <tr>\n",
              "      <th>10581</th>\n",
              "      <td>i feel most passionate about</td>\n",
              "      <td>joy</td>\n",
              "    </tr>\n",
              "    <tr>\n",
              "      <th>11273</th>\n",
              "      <td>i was so stubborn and that it took you getting...</td>\n",
              "      <td>joy</td>\n",
              "    </tr>\n",
              "    <tr>\n",
              "      <th>11354</th>\n",
              "      <td>i write these words i feel sweet baby kicks fr...</td>\n",
              "      <td>love</td>\n",
              "    </tr>\n",
              "    <tr>\n",
              "      <th>11525</th>\n",
              "      <td>i feel a remembrance of the strange by justin ...</td>\n",
              "      <td>fear</td>\n",
              "    </tr>\n",
              "    <tr>\n",
              "      <th>11823</th>\n",
              "      <td>i have chose for myself that makes me feel ama...</td>\n",
              "      <td>joy</td>\n",
              "    </tr>\n",
              "    <tr>\n",
              "      <th>12441</th>\n",
              "      <td>i still feel completely accepted</td>\n",
              "      <td>love</td>\n",
              "    </tr>\n",
              "    <tr>\n",
              "      <th>12562</th>\n",
              "      <td>i feel so weird about it</td>\n",
              "      <td>surprise</td>\n",
              "    </tr>\n",
              "    <tr>\n",
              "      <th>12892</th>\n",
              "      <td>i cant escape the tears of sadness and just tr...</td>\n",
              "      <td>joy</td>\n",
              "    </tr>\n",
              "    <tr>\n",
              "      <th>13236</th>\n",
              "      <td>i feel like a tortured artist when i talk to her</td>\n",
              "      <td>anger</td>\n",
              "    </tr>\n",
              "    <tr>\n",
              "      <th>13879</th>\n",
              "      <td>i feel like i am very passionate about youtube...</td>\n",
              "      <td>love</td>\n",
              "    </tr>\n",
              "    <tr>\n",
              "      <th>14106</th>\n",
              "      <td>i feel kind of strange</td>\n",
              "      <td>surprise</td>\n",
              "    </tr>\n",
              "    <tr>\n",
              "      <th>14313</th>\n",
              "      <td>i could feel myself hit this strange foggy wall</td>\n",
              "      <td>surprise</td>\n",
              "    </tr>\n",
              "    <tr>\n",
              "      <th>14633</th>\n",
              "      <td>i feel pretty weird blogging about deodorant b...</td>\n",
              "      <td>fear</td>\n",
              "    </tr>\n",
              "    <tr>\n",
              "      <th>14925</th>\n",
              "      <td>i resorted to yesterday the post peak day of i...</td>\n",
              "      <td>fear</td>\n",
              "    </tr>\n",
              "    <tr>\n",
              "      <th>15314</th>\n",
              "      <td>i will feel as though i am accepted by as well...</td>\n",
              "      <td>joy</td>\n",
              "    </tr>\n",
              "    <tr>\n",
              "      <th>15328</th>\n",
              "      <td>i shy away from songs that talk about how i fe...</td>\n",
              "      <td>joy</td>\n",
              "    </tr>\n",
              "    <tr>\n",
              "      <th>15571</th>\n",
              "      <td>i bet taylor swift basks in the knowledge that...</td>\n",
              "      <td>anger</td>\n",
              "    </tr>\n",
              "    <tr>\n",
              "      <th>15704</th>\n",
              "      <td>i began to feel accepted by gaia on her own terms</td>\n",
              "      <td>joy</td>\n",
              "    </tr>\n",
              "    <tr>\n",
              "      <th>15875</th>\n",
              "      <td>i was sitting in the corner stewing in my own ...</td>\n",
              "      <td>anger</td>\n",
              "    </tr>\n",
              "  </tbody>\n",
              "</table>\n",
              "</div>\n",
              "      <button class=\"colab-df-convert\" onclick=\"convertToInteractive('df-ad00ae77-bc56-4286-9734-995bf9795aab')\"\n",
              "              title=\"Convert this dataframe to an interactive table.\"\n",
              "              style=\"display:none;\">\n",
              "        \n",
              "  <svg xmlns=\"http://www.w3.org/2000/svg\" height=\"24px\"viewBox=\"0 0 24 24\"\n",
              "       width=\"24px\">\n",
              "    <path d=\"M0 0h24v24H0V0z\" fill=\"none\"/>\n",
              "    <path d=\"M18.56 5.44l.94 2.06.94-2.06 2.06-.94-2.06-.94-.94-2.06-.94 2.06-2.06.94zm-11 1L8.5 8.5l.94-2.06 2.06-.94-2.06-.94L8.5 2.5l-.94 2.06-2.06.94zm10 10l.94 2.06.94-2.06 2.06-.94-2.06-.94-.94-2.06-.94 2.06-2.06.94z\"/><path d=\"M17.41 7.96l-1.37-1.37c-.4-.4-.92-.59-1.43-.59-.52 0-1.04.2-1.43.59L10.3 9.45l-7.72 7.72c-.78.78-.78 2.05 0 2.83L4 21.41c.39.39.9.59 1.41.59.51 0 1.02-.2 1.41-.59l7.78-7.78 2.81-2.81c.8-.78.8-2.07 0-2.86zM5.41 20L4 18.59l7.72-7.72 1.47 1.35L5.41 20z\"/>\n",
              "  </svg>\n",
              "      </button>\n",
              "      \n",
              "  <style>\n",
              "    .colab-df-container {\n",
              "      display:flex;\n",
              "      flex-wrap:wrap;\n",
              "      gap: 12px;\n",
              "    }\n",
              "\n",
              "    .colab-df-convert {\n",
              "      background-color: #E8F0FE;\n",
              "      border: none;\n",
              "      border-radius: 50%;\n",
              "      cursor: pointer;\n",
              "      display: none;\n",
              "      fill: #1967D2;\n",
              "      height: 32px;\n",
              "      padding: 0 0 0 0;\n",
              "      width: 32px;\n",
              "    }\n",
              "\n",
              "    .colab-df-convert:hover {\n",
              "      background-color: #E2EBFA;\n",
              "      box-shadow: 0px 1px 2px rgba(60, 64, 67, 0.3), 0px 1px 3px 1px rgba(60, 64, 67, 0.15);\n",
              "      fill: #174EA6;\n",
              "    }\n",
              "\n",
              "    [theme=dark] .colab-df-convert {\n",
              "      background-color: #3B4455;\n",
              "      fill: #D2E3FC;\n",
              "    }\n",
              "\n",
              "    [theme=dark] .colab-df-convert:hover {\n",
              "      background-color: #434B5C;\n",
              "      box-shadow: 0px 1px 3px 1px rgba(0, 0, 0, 0.15);\n",
              "      filter: drop-shadow(0px 1px 2px rgba(0, 0, 0, 0.3));\n",
              "      fill: #FFFFFF;\n",
              "    }\n",
              "  </style>\n",
              "\n",
              "      <script>\n",
              "        const buttonEl =\n",
              "          document.querySelector('#df-ad00ae77-bc56-4286-9734-995bf9795aab button.colab-df-convert');\n",
              "        buttonEl.style.display =\n",
              "          google.colab.kernel.accessAllowed ? 'block' : 'none';\n",
              "\n",
              "        async function convertToInteractive(key) {\n",
              "          const element = document.querySelector('#df-ad00ae77-bc56-4286-9734-995bf9795aab');\n",
              "          const dataTable =\n",
              "            await google.colab.kernel.invokeFunction('convertToInteractive',\n",
              "                                                     [key], {});\n",
              "          if (!dataTable) return;\n",
              "\n",
              "          const docLinkHtml = 'Like what you see? Visit the ' +\n",
              "            '<a target=\"_blank\" href=https://colab.research.google.com/notebooks/data_table.ipynb>data table notebook</a>'\n",
              "            + ' to learn more about interactive tables.';\n",
              "          element.innerHTML = '';\n",
              "          dataTable['output_type'] = 'display_data';\n",
              "          await google.colab.output.renderOutput(dataTable, element);\n",
              "          const docLink = document.createElement('div');\n",
              "          docLink.innerHTML = docLinkHtml;\n",
              "          element.appendChild(docLink);\n",
              "        }\n",
              "      </script>\n",
              "    </div>\n",
              "  </div>\n",
              "  "
            ]
          },
          "metadata": {},
          "execution_count": 20
        }
      ],
      "source": [
        "df_train[df_train['Text'].duplicated() == True]"
      ]
    },
    {
      "cell_type": "markdown",
      "metadata": {
        "id": "_Rru0n6neVIt"
      },
      "source": [
        "In[ ]:"
      ]
    },
    {
      "cell_type": "markdown",
      "metadata": {
        "id": "iUm4HvgJeVIu"
      },
      "source": [
        "rint some of those rows to check"
      ]
    },
    {
      "cell_type": "code",
      "execution_count": 21,
      "metadata": {
        "colab": {
          "base_uri": "https://localhost:8080/",
          "height": 112
        },
        "id": "rf38gc8LeVIv",
        "outputId": "706cd0d6-dacf-40b9-d960-667cb14993e7"
      },
      "outputs": [
        {
          "output_type": "execute_result",
          "data": {
            "text/plain": [
              "                                                   Text  Emotion\n",
              "1625  i was intensely conscious of how much cash i h...    anger\n",
              "7623  i was intensely conscious of how much cash i h...  sadness"
            ],
            "text/html": [
              "\n",
              "  <div id=\"df-27d4ef47-d141-4cc4-b2a9-b6e8aad5ba2f\">\n",
              "    <div class=\"colab-df-container\">\n",
              "      <div>\n",
              "<style scoped>\n",
              "    .dataframe tbody tr th:only-of-type {\n",
              "        vertical-align: middle;\n",
              "    }\n",
              "\n",
              "    .dataframe tbody tr th {\n",
              "        vertical-align: top;\n",
              "    }\n",
              "\n",
              "    .dataframe thead th {\n",
              "        text-align: right;\n",
              "    }\n",
              "</style>\n",
              "<table border=\"1\" class=\"dataframe\">\n",
              "  <thead>\n",
              "    <tr style=\"text-align: right;\">\n",
              "      <th></th>\n",
              "      <th>Text</th>\n",
              "      <th>Emotion</th>\n",
              "    </tr>\n",
              "  </thead>\n",
              "  <tbody>\n",
              "    <tr>\n",
              "      <th>1625</th>\n",
              "      <td>i was intensely conscious of how much cash i h...</td>\n",
              "      <td>anger</td>\n",
              "    </tr>\n",
              "    <tr>\n",
              "      <th>7623</th>\n",
              "      <td>i was intensely conscious of how much cash i h...</td>\n",
              "      <td>sadness</td>\n",
              "    </tr>\n",
              "  </tbody>\n",
              "</table>\n",
              "</div>\n",
              "      <button class=\"colab-df-convert\" onclick=\"convertToInteractive('df-27d4ef47-d141-4cc4-b2a9-b6e8aad5ba2f')\"\n",
              "              title=\"Convert this dataframe to an interactive table.\"\n",
              "              style=\"display:none;\">\n",
              "        \n",
              "  <svg xmlns=\"http://www.w3.org/2000/svg\" height=\"24px\"viewBox=\"0 0 24 24\"\n",
              "       width=\"24px\">\n",
              "    <path d=\"M0 0h24v24H0V0z\" fill=\"none\"/>\n",
              "    <path d=\"M18.56 5.44l.94 2.06.94-2.06 2.06-.94-2.06-.94-.94-2.06-.94 2.06-2.06.94zm-11 1L8.5 8.5l.94-2.06 2.06-.94-2.06-.94L8.5 2.5l-.94 2.06-2.06.94zm10 10l.94 2.06.94-2.06 2.06-.94-2.06-.94-.94-2.06-.94 2.06-2.06.94z\"/><path d=\"M17.41 7.96l-1.37-1.37c-.4-.4-.92-.59-1.43-.59-.52 0-1.04.2-1.43.59L10.3 9.45l-7.72 7.72c-.78.78-.78 2.05 0 2.83L4 21.41c.39.39.9.59 1.41.59.51 0 1.02-.2 1.41-.59l7.78-7.78 2.81-2.81c.8-.78.8-2.07 0-2.86zM5.41 20L4 18.59l7.72-7.72 1.47 1.35L5.41 20z\"/>\n",
              "  </svg>\n",
              "      </button>\n",
              "      \n",
              "  <style>\n",
              "    .colab-df-container {\n",
              "      display:flex;\n",
              "      flex-wrap:wrap;\n",
              "      gap: 12px;\n",
              "    }\n",
              "\n",
              "    .colab-df-convert {\n",
              "      background-color: #E8F0FE;\n",
              "      border: none;\n",
              "      border-radius: 50%;\n",
              "      cursor: pointer;\n",
              "      display: none;\n",
              "      fill: #1967D2;\n",
              "      height: 32px;\n",
              "      padding: 0 0 0 0;\n",
              "      width: 32px;\n",
              "    }\n",
              "\n",
              "    .colab-df-convert:hover {\n",
              "      background-color: #E2EBFA;\n",
              "      box-shadow: 0px 1px 2px rgba(60, 64, 67, 0.3), 0px 1px 3px 1px rgba(60, 64, 67, 0.15);\n",
              "      fill: #174EA6;\n",
              "    }\n",
              "\n",
              "    [theme=dark] .colab-df-convert {\n",
              "      background-color: #3B4455;\n",
              "      fill: #D2E3FC;\n",
              "    }\n",
              "\n",
              "    [theme=dark] .colab-df-convert:hover {\n",
              "      background-color: #434B5C;\n",
              "      box-shadow: 0px 1px 3px 1px rgba(0, 0, 0, 0.15);\n",
              "      filter: drop-shadow(0px 1px 2px rgba(0, 0, 0, 0.3));\n",
              "      fill: #FFFFFF;\n",
              "    }\n",
              "  </style>\n",
              "\n",
              "      <script>\n",
              "        const buttonEl =\n",
              "          document.querySelector('#df-27d4ef47-d141-4cc4-b2a9-b6e8aad5ba2f button.colab-df-convert');\n",
              "        buttonEl.style.display =\n",
              "          google.colab.kernel.accessAllowed ? 'block' : 'none';\n",
              "\n",
              "        async function convertToInteractive(key) {\n",
              "          const element = document.querySelector('#df-27d4ef47-d141-4cc4-b2a9-b6e8aad5ba2f');\n",
              "          const dataTable =\n",
              "            await google.colab.kernel.invokeFunction('convertToInteractive',\n",
              "                                                     [key], {});\n",
              "          if (!dataTable) return;\n",
              "\n",
              "          const docLinkHtml = 'Like what you see? Visit the ' +\n",
              "            '<a target=\"_blank\" href=https://colab.research.google.com/notebooks/data_table.ipynb>data table notebook</a>'\n",
              "            + ' to learn more about interactive tables.';\n",
              "          element.innerHTML = '';\n",
              "          dataTable['output_type'] = 'display_data';\n",
              "          await google.colab.output.renderOutput(dataTable, element);\n",
              "          const docLink = document.createElement('div');\n",
              "          docLink.innerHTML = docLinkHtml;\n",
              "          element.appendChild(docLink);\n",
              "        }\n",
              "      </script>\n",
              "    </div>\n",
              "  </div>\n",
              "  "
            ]
          },
          "metadata": {},
          "execution_count": 21
        }
      ],
      "source": [
        "df_train[df_train['Text'] == df_train.iloc[7623]['Text']]"
      ]
    },
    {
      "cell_type": "markdown",
      "metadata": {
        "id": "cd35WJn9eVIw"
      },
      "source": [
        "In[ ]:"
      ]
    },
    {
      "cell_type": "code",
      "execution_count": 22,
      "metadata": {
        "colab": {
          "base_uri": "https://localhost:8080/",
          "height": 112
        },
        "id": "5BI8PX79eVIw",
        "outputId": "582febd5-3f41-4413-a312-19bd7d37f496"
      },
      "outputs": [
        {
          "output_type": "execute_result",
          "data": {
            "text/plain": [
              "                                                  Text   Emotion\n",
              "13653  i could feel myself hit this strange foggy wall      fear\n",
              "14313  i could feel myself hit this strange foggy wall  surprise"
            ],
            "text/html": [
              "\n",
              "  <div id=\"df-7aa579bc-ebba-410f-bf90-f6bf2b8bfcff\">\n",
              "    <div class=\"colab-df-container\">\n",
              "      <div>\n",
              "<style scoped>\n",
              "    .dataframe tbody tr th:only-of-type {\n",
              "        vertical-align: middle;\n",
              "    }\n",
              "\n",
              "    .dataframe tbody tr th {\n",
              "        vertical-align: top;\n",
              "    }\n",
              "\n",
              "    .dataframe thead th {\n",
              "        text-align: right;\n",
              "    }\n",
              "</style>\n",
              "<table border=\"1\" class=\"dataframe\">\n",
              "  <thead>\n",
              "    <tr style=\"text-align: right;\">\n",
              "      <th></th>\n",
              "      <th>Text</th>\n",
              "      <th>Emotion</th>\n",
              "    </tr>\n",
              "  </thead>\n",
              "  <tbody>\n",
              "    <tr>\n",
              "      <th>13653</th>\n",
              "      <td>i could feel myself hit this strange foggy wall</td>\n",
              "      <td>fear</td>\n",
              "    </tr>\n",
              "    <tr>\n",
              "      <th>14313</th>\n",
              "      <td>i could feel myself hit this strange foggy wall</td>\n",
              "      <td>surprise</td>\n",
              "    </tr>\n",
              "  </tbody>\n",
              "</table>\n",
              "</div>\n",
              "      <button class=\"colab-df-convert\" onclick=\"convertToInteractive('df-7aa579bc-ebba-410f-bf90-f6bf2b8bfcff')\"\n",
              "              title=\"Convert this dataframe to an interactive table.\"\n",
              "              style=\"display:none;\">\n",
              "        \n",
              "  <svg xmlns=\"http://www.w3.org/2000/svg\" height=\"24px\"viewBox=\"0 0 24 24\"\n",
              "       width=\"24px\">\n",
              "    <path d=\"M0 0h24v24H0V0z\" fill=\"none\"/>\n",
              "    <path d=\"M18.56 5.44l.94 2.06.94-2.06 2.06-.94-2.06-.94-.94-2.06-.94 2.06-2.06.94zm-11 1L8.5 8.5l.94-2.06 2.06-.94-2.06-.94L8.5 2.5l-.94 2.06-2.06.94zm10 10l.94 2.06.94-2.06 2.06-.94-2.06-.94-.94-2.06-.94 2.06-2.06.94z\"/><path d=\"M17.41 7.96l-1.37-1.37c-.4-.4-.92-.59-1.43-.59-.52 0-1.04.2-1.43.59L10.3 9.45l-7.72 7.72c-.78.78-.78 2.05 0 2.83L4 21.41c.39.39.9.59 1.41.59.51 0 1.02-.2 1.41-.59l7.78-7.78 2.81-2.81c.8-.78.8-2.07 0-2.86zM5.41 20L4 18.59l7.72-7.72 1.47 1.35L5.41 20z\"/>\n",
              "  </svg>\n",
              "      </button>\n",
              "      \n",
              "  <style>\n",
              "    .colab-df-container {\n",
              "      display:flex;\n",
              "      flex-wrap:wrap;\n",
              "      gap: 12px;\n",
              "    }\n",
              "\n",
              "    .colab-df-convert {\n",
              "      background-color: #E8F0FE;\n",
              "      border: none;\n",
              "      border-radius: 50%;\n",
              "      cursor: pointer;\n",
              "      display: none;\n",
              "      fill: #1967D2;\n",
              "      height: 32px;\n",
              "      padding: 0 0 0 0;\n",
              "      width: 32px;\n",
              "    }\n",
              "\n",
              "    .colab-df-convert:hover {\n",
              "      background-color: #E2EBFA;\n",
              "      box-shadow: 0px 1px 2px rgba(60, 64, 67, 0.3), 0px 1px 3px 1px rgba(60, 64, 67, 0.15);\n",
              "      fill: #174EA6;\n",
              "    }\n",
              "\n",
              "    [theme=dark] .colab-df-convert {\n",
              "      background-color: #3B4455;\n",
              "      fill: #D2E3FC;\n",
              "    }\n",
              "\n",
              "    [theme=dark] .colab-df-convert:hover {\n",
              "      background-color: #434B5C;\n",
              "      box-shadow: 0px 1px 3px 1px rgba(0, 0, 0, 0.15);\n",
              "      filter: drop-shadow(0px 1px 2px rgba(0, 0, 0, 0.3));\n",
              "      fill: #FFFFFF;\n",
              "    }\n",
              "  </style>\n",
              "\n",
              "      <script>\n",
              "        const buttonEl =\n",
              "          document.querySelector('#df-7aa579bc-ebba-410f-bf90-f6bf2b8bfcff button.colab-df-convert');\n",
              "        buttonEl.style.display =\n",
              "          google.colab.kernel.accessAllowed ? 'block' : 'none';\n",
              "\n",
              "        async function convertToInteractive(key) {\n",
              "          const element = document.querySelector('#df-7aa579bc-ebba-410f-bf90-f6bf2b8bfcff');\n",
              "          const dataTable =\n",
              "            await google.colab.kernel.invokeFunction('convertToInteractive',\n",
              "                                                     [key], {});\n",
              "          if (!dataTable) return;\n",
              "\n",
              "          const docLinkHtml = 'Like what you see? Visit the ' +\n",
              "            '<a target=\"_blank\" href=https://colab.research.google.com/notebooks/data_table.ipynb>data table notebook</a>'\n",
              "            + ' to learn more about interactive tables.';\n",
              "          element.innerHTML = '';\n",
              "          dataTable['output_type'] = 'display_data';\n",
              "          await google.colab.output.renderOutput(dataTable, element);\n",
              "          const docLink = document.createElement('div');\n",
              "          docLink.innerHTML = docLinkHtml;\n",
              "          element.appendChild(docLink);\n",
              "        }\n",
              "      </script>\n",
              "    </div>\n",
              "  </div>\n",
              "  "
            ]
          },
          "metadata": {},
          "execution_count": 22
        }
      ],
      "source": [
        "df_train[df_train['Text'] == df_train.iloc[14313]['Text']]"
      ]
    },
    {
      "cell_type": "markdown",
      "metadata": {
        "id": "UaIKPTlueVIx"
      },
      "source": [
        "In[ ]:"
      ]
    },
    {
      "cell_type": "code",
      "execution_count": null,
      "metadata": {
        "colab": {
          "base_uri": "https://localhost:8080/",
          "height": 112
        },
        "id": "iSQ2d5gheVIx",
        "outputId": "6fa7e4f6-62d1-41bd-cbb1-efecaf9ad0ca"
      },
      "outputs": [
        {
          "output_type": "execute_result",
          "data": {
            "text/plain": [
              "                                                    Text Emotion\n",
              "7333   i feel like i am very passionate about youtube...     joy\n",
              "13879  i feel like i am very passionate about youtube...    love"
            ],
            "text/html": [
              "\n",
              "  <div id=\"df-c86d7a29-e8cb-4fa1-8e49-7a6bfb624529\">\n",
              "    <div class=\"colab-df-container\">\n",
              "      <div>\n",
              "<style scoped>\n",
              "    .dataframe tbody tr th:only-of-type {\n",
              "        vertical-align: middle;\n",
              "    }\n",
              "\n",
              "    .dataframe tbody tr th {\n",
              "        vertical-align: top;\n",
              "    }\n",
              "\n",
              "    .dataframe thead th {\n",
              "        text-align: right;\n",
              "    }\n",
              "</style>\n",
              "<table border=\"1\" class=\"dataframe\">\n",
              "  <thead>\n",
              "    <tr style=\"text-align: right;\">\n",
              "      <th></th>\n",
              "      <th>Text</th>\n",
              "      <th>Emotion</th>\n",
              "    </tr>\n",
              "  </thead>\n",
              "  <tbody>\n",
              "    <tr>\n",
              "      <th>7333</th>\n",
              "      <td>i feel like i am very passionate about youtube...</td>\n",
              "      <td>joy</td>\n",
              "    </tr>\n",
              "    <tr>\n",
              "      <th>13879</th>\n",
              "      <td>i feel like i am very passionate about youtube...</td>\n",
              "      <td>love</td>\n",
              "    </tr>\n",
              "  </tbody>\n",
              "</table>\n",
              "</div>\n",
              "      <button class=\"colab-df-convert\" onclick=\"convertToInteractive('df-c86d7a29-e8cb-4fa1-8e49-7a6bfb624529')\"\n",
              "              title=\"Convert this dataframe to an interactive table.\"\n",
              "              style=\"display:none;\">\n",
              "        \n",
              "  <svg xmlns=\"http://www.w3.org/2000/svg\" height=\"24px\"viewBox=\"0 0 24 24\"\n",
              "       width=\"24px\">\n",
              "    <path d=\"M0 0h24v24H0V0z\" fill=\"none\"/>\n",
              "    <path d=\"M18.56 5.44l.94 2.06.94-2.06 2.06-.94-2.06-.94-.94-2.06-.94 2.06-2.06.94zm-11 1L8.5 8.5l.94-2.06 2.06-.94-2.06-.94L8.5 2.5l-.94 2.06-2.06.94zm10 10l.94 2.06.94-2.06 2.06-.94-2.06-.94-.94-2.06-.94 2.06-2.06.94z\"/><path d=\"M17.41 7.96l-1.37-1.37c-.4-.4-.92-.59-1.43-.59-.52 0-1.04.2-1.43.59L10.3 9.45l-7.72 7.72c-.78.78-.78 2.05 0 2.83L4 21.41c.39.39.9.59 1.41.59.51 0 1.02-.2 1.41-.59l7.78-7.78 2.81-2.81c.8-.78.8-2.07 0-2.86zM5.41 20L4 18.59l7.72-7.72 1.47 1.35L5.41 20z\"/>\n",
              "  </svg>\n",
              "      </button>\n",
              "      \n",
              "  <style>\n",
              "    .colab-df-container {\n",
              "      display:flex;\n",
              "      flex-wrap:wrap;\n",
              "      gap: 12px;\n",
              "    }\n",
              "\n",
              "    .colab-df-convert {\n",
              "      background-color: #E8F0FE;\n",
              "      border: none;\n",
              "      border-radius: 50%;\n",
              "      cursor: pointer;\n",
              "      display: none;\n",
              "      fill: #1967D2;\n",
              "      height: 32px;\n",
              "      padding: 0 0 0 0;\n",
              "      width: 32px;\n",
              "    }\n",
              "\n",
              "    .colab-df-convert:hover {\n",
              "      background-color: #E2EBFA;\n",
              "      box-shadow: 0px 1px 2px rgba(60, 64, 67, 0.3), 0px 1px 3px 1px rgba(60, 64, 67, 0.15);\n",
              "      fill: #174EA6;\n",
              "    }\n",
              "\n",
              "    [theme=dark] .colab-df-convert {\n",
              "      background-color: #3B4455;\n",
              "      fill: #D2E3FC;\n",
              "    }\n",
              "\n",
              "    [theme=dark] .colab-df-convert:hover {\n",
              "      background-color: #434B5C;\n",
              "      box-shadow: 0px 1px 3px 1px rgba(0, 0, 0, 0.15);\n",
              "      filter: drop-shadow(0px 1px 2px rgba(0, 0, 0, 0.3));\n",
              "      fill: #FFFFFF;\n",
              "    }\n",
              "  </style>\n",
              "\n",
              "      <script>\n",
              "        const buttonEl =\n",
              "          document.querySelector('#df-c86d7a29-e8cb-4fa1-8e49-7a6bfb624529 button.colab-df-convert');\n",
              "        buttonEl.style.display =\n",
              "          google.colab.kernel.accessAllowed ? 'block' : 'none';\n",
              "\n",
              "        async function convertToInteractive(key) {\n",
              "          const element = document.querySelector('#df-c86d7a29-e8cb-4fa1-8e49-7a6bfb624529');\n",
              "          const dataTable =\n",
              "            await google.colab.kernel.invokeFunction('convertToInteractive',\n",
              "                                                     [key], {});\n",
              "          if (!dataTable) return;\n",
              "\n",
              "          const docLinkHtml = 'Like what you see? Visit the ' +\n",
              "            '<a target=\"_blank\" href=https://colab.research.google.com/notebooks/data_table.ipynb>data table notebook</a>'\n",
              "            + ' to learn more about interactive tables.';\n",
              "          element.innerHTML = '';\n",
              "          dataTable['output_type'] = 'display_data';\n",
              "          await google.colab.output.renderOutput(dataTable, element);\n",
              "          const docLink = document.createElement('div');\n",
              "          docLink.innerHTML = docLinkHtml;\n",
              "          element.appendChild(docLink);\n",
              "        }\n",
              "      </script>\n",
              "    </div>\n",
              "  </div>\n",
              "  "
            ]
          },
          "metadata": {},
          "execution_count": 154
        }
      ],
      "source": [
        "df_train[df_train['Text'] == df_train.iloc[13879]['Text']]"
      ]
    },
    {
      "cell_type": "markdown",
      "metadata": {
        "id": "ivsSkoLKeVIz"
      },
      "source": [
        "In[ ]:"
      ]
    },
    {
      "cell_type": "markdown",
      "metadata": {
        "id": "4g0Lc72meVIz"
      },
      "source": [
        "emoving duplicated text "
      ]
    },
    {
      "cell_type": "code",
      "execution_count": 23,
      "metadata": {
        "id": "QyWJ4dr2eVIz"
      },
      "outputs": [],
      "source": [
        "index = df_train[df_train['Text'].duplicated() == True].index\n",
        "df_train.drop(index, axis = 0, inplace = True)\n",
        "df_train.reset_index(inplace=True, drop = True)"
      ]
    },
    {
      "cell_type": "markdown",
      "metadata": {
        "id": "4sM4wTTFeVI0"
      },
      "source": [
        "In[ ]:"
      ]
    },
    {
      "cell_type": "markdown",
      "metadata": {
        "id": "6RlS2JZJeVI0"
      },
      "source": [
        "ount the number of stopwords in the data"
      ]
    },
    {
      "cell_type": "code",
      "execution_count": 24,
      "metadata": {
        "colab": {
          "base_uri": "https://localhost:8080/"
        },
        "id": "8WwQWBy8eVI0",
        "outputId": "b9c0455b-c3ec-4eed-838d-867b2de85b96"
      },
      "outputs": [
        {
          "output_type": "execute_result",
          "data": {
            "text/plain": [
              "5     1416\n",
              "7     1405\n",
              "6     1392\n",
              "4     1341\n",
              "8     1319\n",
              "3     1263\n",
              "9     1177\n",
              "10    1048\n",
              "2      922\n",
              "11     889\n",
              "12     752\n",
              "13     644\n",
              "14     493\n",
              "1      450\n",
              "15     376\n",
              "16     265\n",
              "17     238\n",
              "18     164\n",
              "19     113\n",
              "20      90\n",
              "0       79\n",
              "21      60\n",
              "22      33\n",
              "23      19\n",
              "24       7\n",
              "25       6\n",
              "26       6\n",
              "28       1\n",
              "29       1\n",
              "Name: stop_words, dtype: int64"
            ]
          },
          "metadata": {},
          "execution_count": 24
        }
      ],
      "source": [
        "temp =df_train.copy()\n",
        "stop_words = set(stopwords.words(\"english\"))\n",
        "temp['stop_words'] = temp['Text'].apply(lambda x: len(set(x.split()) & set(stop_words)))\n",
        "temp.stop_words.value_counts()"
      ]
    },
    {
      "cell_type": "markdown",
      "metadata": {
        "id": "o8tCFaB_eVI1"
      },
      "source": [
        "The data contains alot of stopwords (some rows contains more than 25 stopword!) so, we need to take care when we remove them as some rows may become empty "
      ]
    },
    {
      "cell_type": "markdown",
      "metadata": {
        "id": "FVh48SekeVI1"
      },
      "source": [
        "In[ ]:"
      ]
    },
    {
      "cell_type": "markdown",
      "metadata": {
        "id": "eZhJCEGMeVI2"
      },
      "source": [
        "istribution of stopwords visually"
      ]
    },
    {
      "cell_type": "code",
      "execution_count": 25,
      "metadata": {
        "colab": {
          "base_uri": "https://localhost:8080/",
          "height": 289
        },
        "id": "nLqHO_E4eVI2",
        "outputId": "41824ef8-9260-41e3-8a13-20e44f890d60"
      },
      "outputs": [
        {
          "output_type": "execute_result",
          "data": {
            "text/plain": [
              "<matplotlib.axes._subplots.AxesSubplot at 0x7fb59b73d040>"
            ]
          },
          "metadata": {},
          "execution_count": 25
        },
        {
          "output_type": "display_data",
          "data": {
            "text/plain": [
              "<Figure size 432x288 with 1 Axes>"
            ],
            "image/png": "[encoded data removed]"
          },
          "metadata": {}
        }
      ],
      "source": [
        "temp['stop_words'].plot(kind= 'hist')"
      ]
    },
    {
      "cell_type": "markdown",
      "metadata": {
        "id": "hWMjbCX5eVI2"
      },
      "source": [
        "## Test dataset"
      ]
    },
    {
      "cell_type": "markdown",
      "metadata": {
        "id": "-YhRNNW5eVI2"
      },
      "source": [
        "In[ ]:"
      ]
    },
    {
      "cell_type": "markdown",
      "metadata": {
        "id": "dnGpUetjeVI3"
      },
      "source": [
        "heck if the data is balanced or not"
      ]
    },
    {
      "cell_type": "code",
      "execution_count": 102,
      "metadata": {
        "colab": {
          "base_uri": "https://localhost:8080/"
        },
        "id": "2QFbB92ceVI3",
        "outputId": "60819ed8-1b91-4d8c-ed27-224e57630ea9"
      },
      "outputs": [
        {
          "output_type": "execute_result",
          "data": {
            "text/plain": [
              "joy         695\n",
              "sadness     581\n",
              "anger       275\n",
              "fear        224\n",
              "love        159\n",
              "surprise     66\n",
              "Name: Emotion, dtype: int64"
            ]
          },
          "metadata": {},
          "execution_count": 102
        }
      ],
      "source": [
        "df_test.Emotion.value_counts()"
      ]
    },
    {
      "cell_type": "markdown",
      "metadata": {
        "id": "STfeOjPCeVI3"
      },
      "source": [
        "In[ ]:"
      ]
    },
    {
      "cell_type": "code",
      "execution_count": 103,
      "metadata": {
        "colab": {
          "base_uri": "https://localhost:8080/",
          "height": 291
        },
        "id": "64EhnZI3eVI4",
        "outputId": "bb6a2199-2b4e-4610-8052-56759ded5ec7"
      },
      "outputs": [
        {
          "output_type": "display_data",
          "data": {
            "text/plain": [
              "<Figure size 576x288 with 1 Axes>"
            ],
            "image/png": "[encoded data removed]"
          },
          "metadata": {
            "needs_background": "light"
          }
        }
      ],
      "source": [
        "plt.figure(figsize=(8,4))\n",
        "sns.countplot(x='Emotion', data=df_test);"
      ]
    },
    {
      "cell_type": "markdown",
      "metadata": {
        "id": "M6HVTfRyeVI4"
      },
      "source": [
        "In[ ]:"
      ]
    },
    {
      "cell_type": "markdown",
      "metadata": {
        "id": "MyNJuY_heVI4"
      },
      "source": [
        "rint the number of null values in each column"
      ]
    },
    {
      "cell_type": "code",
      "execution_count": 104,
      "metadata": {
        "colab": {
          "base_uri": "https://localhost:8080/"
        },
        "id": "qpsNl3rbeVI5",
        "outputId": "46e412ca-f07a-4df3-db01-f78b723d327f"
      },
      "outputs": [
        {
          "output_type": "execute_result",
          "data": {
            "text/plain": [
              "Text       0\n",
              "Emotion    0\n",
              "dtype: int64"
            ]
          },
          "metadata": {},
          "execution_count": 104
        }
      ],
      "source": [
        "df_test.isnull().sum()"
      ]
    },
    {
      "cell_type": "markdown",
      "metadata": {
        "id": "US876odEeVI5"
      },
      "source": [
        "In[ ]:"
      ]
    },
    {
      "cell_type": "markdown",
      "metadata": {
        "id": "vfdFekfleVI5"
      },
      "source": [
        "rint the number of duplicated values "
      ]
    },
    {
      "cell_type": "code",
      "execution_count": 105,
      "metadata": {
        "colab": {
          "base_uri": "https://localhost:8080/"
        },
        "id": "Sq7mslzteVI6",
        "outputId": "76e8896b-2990-4bcc-d879-00cab95ce9ef"
      },
      "outputs": [
        {
          "output_type": "execute_result",
          "data": {
            "text/plain": [
              "1"
            ]
          },
          "metadata": {},
          "execution_count": 105
        }
      ],
      "source": [
        "df_test.duplicated().sum()"
      ]
    },
    {
      "cell_type": "markdown",
      "metadata": {
        "id": "TrYa9gZoeVI6"
      },
      "source": [
        "In[ ]:"
      ]
    },
    {
      "cell_type": "markdown",
      "metadata": {
        "id": "CgUWx9SPeVI7"
      },
      "source": [
        "rint the rows which are duplicated"
      ]
    },
    {
      "cell_type": "code",
      "execution_count": 106,
      "metadata": {
        "colab": {
          "base_uri": "https://localhost:8080/",
          "height": 81
        },
        "id": "R92nj3QQeVI8",
        "outputId": "25d6bf07-8e15-4d16-cde2-93cebe5e18ef"
      },
      "outputs": [
        {
          "output_type": "execute_result",
          "data": {
            "text/plain": [
              "              Text  Emotion\n",
              "1587  feel ashamed  sadness"
            ],
            "text/html": [
              "\n",
              "  <div id=\"df-f78781e5-efa3-4923-aaa6-62bb77654c9a\">\n",
              "    <div class=\"colab-df-container\">\n",
              "      <div>\n",
              "<style scoped>\n",
              "    .dataframe tbody tr th:only-of-type {\n",
              "        vertical-align: middle;\n",
              "    }\n",
              "\n",
              "    .dataframe tbody tr th {\n",
              "        vertical-align: top;\n",
              "    }\n",
              "\n",
              "    .dataframe thead th {\n",
              "        text-align: right;\n",
              "    }\n",
              "</style>\n",
              "<table border=\"1\" class=\"dataframe\">\n",
              "  <thead>\n",
              "    <tr style=\"text-align: right;\">\n",
              "      <th></th>\n",
              "      <th>Text</th>\n",
              "      <th>Emotion</th>\n",
              "    </tr>\n",
              "  </thead>\n",
              "  <tbody>\n",
              "    <tr>\n",
              "      <th>1587</th>\n",
              "      <td>feel ashamed</td>\n",
              "      <td>sadness</td>\n",
              "    </tr>\n",
              "  </tbody>\n",
              "</table>\n",
              "</div>\n",
              "      <button class=\"colab-df-convert\" onclick=\"convertToInteractive('df-f78781e5-efa3-4923-aaa6-62bb77654c9a')\"\n",
              "              title=\"Convert this dataframe to an interactive table.\"\n",
              "              style=\"display:none;\">\n",
              "        \n",
              "  <svg xmlns=\"http://www.w3.org/2000/svg\" height=\"24px\"viewBox=\"0 0 24 24\"\n",
              "       width=\"24px\">\n",
              "    <path d=\"M0 0h24v24H0V0z\" fill=\"none\"/>\n",
              "    <path d=\"M18.56 5.44l.94 2.06.94-2.06 2.06-.94-2.06-.94-.94-2.06-.94 2.06-2.06.94zm-11 1L8.5 8.5l.94-2.06 2.06-.94-2.06-.94L8.5 2.5l-.94 2.06-2.06.94zm10 10l.94 2.06.94-2.06 2.06-.94-2.06-.94-.94-2.06-.94 2.06-2.06.94z\"/><path d=\"M17.41 7.96l-1.37-1.37c-.4-.4-.92-.59-1.43-.59-.52 0-1.04.2-1.43.59L10.3 9.45l-7.72 7.72c-.78.78-.78 2.05 0 2.83L4 21.41c.39.39.9.59 1.41.59.51 0 1.02-.2 1.41-.59l7.78-7.78 2.81-2.81c.8-.78.8-2.07 0-2.86zM5.41 20L4 18.59l7.72-7.72 1.47 1.35L5.41 20z\"/>\n",
              "  </svg>\n",
              "      </button>\n",
              "      \n",
              "  <style>\n",
              "    .colab-df-container {\n",
              "      display:flex;\n",
              "      flex-wrap:wrap;\n",
              "      gap: 12px;\n",
              "    }\n",
              "\n",
              "    .colab-df-convert {\n",
              "      background-color: #E8F0FE;\n",
              "      border: none;\n",
              "      border-radius: 50%;\n",
              "      cursor: pointer;\n",
              "      display: none;\n",
              "      fill: #1967D2;\n",
              "      height: 32px;\n",
              "      padding: 0 0 0 0;\n",
              "      width: 32px;\n",
              "    }\n",
              "\n",
              "    .colab-df-convert:hover {\n",
              "      background-color: #E2EBFA;\n",
              "      box-shadow: 0px 1px 2px rgba(60, 64, 67, 0.3), 0px 1px 3px 1px rgba(60, 64, 67, 0.15);\n",
              "      fill: #174EA6;\n",
              "    }\n",
              "\n",
              "    [theme=dark] .colab-df-convert {\n",
              "      background-color: #3B4455;\n",
              "      fill: #D2E3FC;\n",
              "    }\n",
              "\n",
              "    [theme=dark] .colab-df-convert:hover {\n",
              "      background-color: #434B5C;\n",
              "      box-shadow: 0px 1px 3px 1px rgba(0, 0, 0, 0.15);\n",
              "      filter: drop-shadow(0px 1px 2px rgba(0, 0, 0, 0.3));\n",
              "      fill: #FFFFFF;\n",
              "    }\n",
              "  </style>\n",
              "\n",
              "      <script>\n",
              "        const buttonEl =\n",
              "          document.querySelector('#df-f78781e5-efa3-4923-aaa6-62bb77654c9a button.colab-df-convert');\n",
              "        buttonEl.style.display =\n",
              "          google.colab.kernel.accessAllowed ? 'block' : 'none';\n",
              "\n",
              "        async function convertToInteractive(key) {\n",
              "          const element = document.querySelector('#df-f78781e5-efa3-4923-aaa6-62bb77654c9a');\n",
              "          const dataTable =\n",
              "            await google.colab.kernel.invokeFunction('convertToInteractive',\n",
              "                                                     [key], {});\n",
              "          if (!dataTable) return;\n",
              "\n",
              "          const docLinkHtml = 'Like what you see? Visit the ' +\n",
              "            '<a target=\"_blank\" href=https://colab.research.google.com/notebooks/data_table.ipynb>data table notebook</a>'\n",
              "            + ' to learn more about interactive tables.';\n",
              "          element.innerHTML = '';\n",
              "          dataTable['output_type'] = 'display_data';\n",
              "          await google.colab.output.renderOutput(dataTable, element);\n",
              "          const docLink = document.createElement('div');\n",
              "          docLink.innerHTML = docLinkHtml;\n",
              "          element.appendChild(docLink);\n",
              "        }\n",
              "      </script>\n",
              "    </div>\n",
              "  </div>\n",
              "  "
            ]
          },
          "metadata": {},
          "execution_count": 106
        }
      ],
      "source": [
        "df_test[df_test['Text'].duplicated() == True]"
      ]
    },
    {
      "cell_type": "markdown",
      "metadata": {
        "id": "IJJP3yv8eVI8"
      },
      "source": [
        "In[ ]:"
      ]
    },
    {
      "cell_type": "markdown",
      "metadata": {
        "id": "Iz7mN7wfeVI8"
      },
      "source": [
        "ount the number of stopwords in the data"
      ]
    },
    {
      "cell_type": "code",
      "execution_count": 107,
      "metadata": {
        "colab": {
          "base_uri": "https://localhost:8080/"
        },
        "id": "9ZkcDMg0eVI8",
        "outputId": "bcd4438e-e483-4c3b-90bf-52a7834f85bf"
      },
      "outputs": [
        {
          "output_type": "execute_result",
          "data": {
            "text/plain": [
              "0    1986\n",
              "1      14\n",
              "Name: stop_words, dtype: int64"
            ]
          },
          "metadata": {},
          "execution_count": 107
        }
      ],
      "source": [
        "temp =df_test.copy()\n",
        "temp['stop_words'] = temp['Text'].apply(lambda x: len(set(x.split()) & set(stop_words)))\n",
        "temp.stop_words.value_counts()"
      ]
    },
    {
      "cell_type": "markdown",
      "metadata": {
        "id": "WBLDTlWteVI9"
      },
      "source": [
        "In[ ]:"
      ]
    },
    {
      "cell_type": "code",
      "execution_count": 108,
      "metadata": {
        "colab": {
          "base_uri": "https://localhost:8080/",
          "height": 289
        },
        "id": "9i8VsGcgeVI-",
        "outputId": "81de9c6c-8526-40c5-b919-217d3c71b90b"
      },
      "outputs": [
        {
          "output_type": "execute_result",
          "data": {
            "text/plain": [
              "<matplotlib.axes._subplots.AxesSubplot at 0x7fb581c4cfa0>"
            ]
          },
          "metadata": {},
          "execution_count": 108
        },
        {
          "output_type": "display_data",
          "data": {
            "text/plain": [
              "<Figure size 432x288 with 1 Axes>"
            ],
            "image/png": "[encoded data removed]"
          },
          "metadata": {}
        }
      ],
      "source": [
        "sns.set(font_scale=1.3)\n",
        "temp['stop_words'].plot(kind= 'hist')"
      ]
    },
    {
      "cell_type": "markdown",
      "metadata": {
        "id": "9NOH78tDeVI-"
      },
      "source": [
        "## Validation dataset"
      ]
    },
    {
      "cell_type": "markdown",
      "metadata": {
        "id": "ScZQplm6eVI_"
      },
      "source": [
        "In[ ]:"
      ]
    },
    {
      "cell_type": "markdown",
      "metadata": {
        "id": "amvXat0heVJA"
      },
      "source": [
        "heck if the data is balanced or not"
      ]
    },
    {
      "cell_type": "code",
      "execution_count": 109,
      "metadata": {
        "colab": {
          "base_uri": "https://localhost:8080/"
        },
        "id": "QgNy-tqOeVJC",
        "outputId": "167c2a20-963d-4f0c-d41b-b6f5735a2112"
      },
      "outputs": [
        {
          "output_type": "execute_result",
          "data": {
            "text/plain": [
              "joy         703\n",
              "sadness     550\n",
              "anger       274\n",
              "fear        212\n",
              "love        178\n",
              "surprise     81\n",
              "Name: Emotion, dtype: int64"
            ]
          },
          "metadata": {},
          "execution_count": 109
        }
      ],
      "source": [
        "df_val.Emotion.value_counts()"
      ]
    },
    {
      "cell_type": "markdown",
      "metadata": {
        "id": "KbZVKlhjeVJC"
      },
      "source": [
        "In[ ]:"
      ]
    },
    {
      "cell_type": "code",
      "execution_count": 110,
      "metadata": {
        "colab": {
          "base_uri": "https://localhost:8080/",
          "height": 54
        },
        "id": "Kj2hDOP9eVJC",
        "outputId": "31e5e95a-2f21-4b6e-9ec9-77a68f18061a"
      },
      "outputs": [
        {
          "output_type": "display_data",
          "data": {
            "text/plain": [
              "<Figure size 576x288 with 1 Axes>"
            ],
            "image/png": "[encoded data removed]"
          },
          "metadata": {}
        }
      ],
      "source": [
        "plt.figure(figsize=(8,4))\n",
        "sns.countplot(x='Emotion', data=df_val);"
      ]
    },
    {
      "cell_type": "markdown",
      "metadata": {
        "id": "da46MwCieVJD"
      },
      "source": [
        "In[ ]:"
      ]
    },
    {
      "cell_type": "markdown",
      "metadata": {
        "id": "GWnCLtWHeVJD"
      },
      "source": [
        "rint the number of null values in each column"
      ]
    },
    {
      "cell_type": "code",
      "execution_count": 111,
      "metadata": {
        "colab": {
          "base_uri": "https://localhost:8080/"
        },
        "id": "DccyQgcMeVJD",
        "outputId": "94d66439-ab61-4cf7-943a-8361b2e8b1e8"
      },
      "outputs": [
        {
          "output_type": "execute_result",
          "data": {
            "text/plain": [
              "Text       0\n",
              "Emotion    0\n",
              "dtype: int64"
            ]
          },
          "metadata": {},
          "execution_count": 111
        }
      ],
      "source": [
        "df_val.isnull().sum()"
      ]
    },
    {
      "cell_type": "markdown",
      "metadata": {
        "id": "Akvs_gUYeVJD"
      },
      "source": [
        "In[ ]:"
      ]
    },
    {
      "cell_type": "markdown",
      "metadata": {
        "id": "TKi-N-zLeVJE"
      },
      "source": [
        "rint the number of duplicated values "
      ]
    },
    {
      "cell_type": "code",
      "execution_count": 112,
      "metadata": {
        "colab": {
          "base_uri": "https://localhost:8080/"
        },
        "id": "30lYQRgpeVJE",
        "outputId": "595a74f7-26a4-4d9d-d536-92ea5af499df"
      },
      "outputs": [
        {
          "output_type": "execute_result",
          "data": {
            "text/plain": [
              "0"
            ]
          },
          "metadata": {},
          "execution_count": 112
        }
      ],
      "source": [
        "df_val.duplicated().sum()"
      ]
    },
    {
      "cell_type": "markdown",
      "metadata": {
        "id": "AS2JPjA_eVJE"
      },
      "source": [
        "In[ ]:"
      ]
    },
    {
      "cell_type": "markdown",
      "metadata": {
        "id": "ipoK8qoteVJE"
      },
      "source": [
        "rint the rows which are duplicated"
      ]
    },
    {
      "cell_type": "code",
      "execution_count": 113,
      "metadata": {
        "colab": {
          "base_uri": "https://localhost:8080/",
          "height": 162
        },
        "id": "9wIxi_dOeVJF",
        "outputId": "009d2c6e-43e2-420f-efa4-56ba2e7ea23c"
      },
      "outputs": [
        {
          "output_type": "execute_result",
          "data": {
            "text/plain": [
              "              Text Emotion\n",
              "773  feel tortured    fear"
            ],
            "text/html": [
              "\n",
              "  <div id=\"df-c8dd053f-7aaf-43cc-9739-0cd3eb8ac2e8\">\n",
              "    <div class=\"colab-df-container\">\n",
              "      <div>\n",
              "<style scoped>\n",
              "    .dataframe tbody tr th:only-of-type {\n",
              "        vertical-align: middle;\n",
              "    }\n",
              "\n",
              "    .dataframe tbody tr th {\n",
              "        vertical-align: top;\n",
              "    }\n",
              "\n",
              "    .dataframe thead th {\n",
              "        text-align: right;\n",
              "    }\n",
              "</style>\n",
              "<table border=\"1\" class=\"dataframe\">\n",
              "  <thead>\n",
              "    <tr style=\"text-align: right;\">\n",
              "      <th></th>\n",
              "      <th>Text</th>\n",
              "      <th>Emotion</th>\n",
              "    </tr>\n",
              "  </thead>\n",
              "  <tbody>\n",
              "    <tr>\n",
              "      <th>773</th>\n",
              "      <td>feel tortured</td>\n",
              "      <td>fear</td>\n",
              "    </tr>\n",
              "  </tbody>\n",
              "</table>\n",
              "</div>\n",
              "      <button class=\"colab-df-convert\" onclick=\"convertToInteractive('df-c8dd053f-7aaf-43cc-9739-0cd3eb8ac2e8')\"\n",
              "              title=\"Convert this dataframe to an interactive table.\"\n",
              "              style=\"display:none;\">\n",
              "        \n",
              "  <svg xmlns=\"http://www.w3.org/2000/svg\" height=\"24px\"viewBox=\"0 0 24 24\"\n",
              "       width=\"24px\">\n",
              "    <path d=\"M0 0h24v24H0V0z\" fill=\"none\"/>\n",
              "    <path d=\"M18.56 5.44l.94 2.06.94-2.06 2.06-.94-2.06-.94-.94-2.06-.94 2.06-2.06.94zm-11 1L8.5 8.5l.94-2.06 2.06-.94-2.06-.94L8.5 2.5l-.94 2.06-2.06.94zm10 10l.94 2.06.94-2.06 2.06-.94-2.06-.94-.94-2.06-.94 2.06-2.06.94z\"/><path d=\"M17.41 7.96l-1.37-1.37c-.4-.4-.92-.59-1.43-.59-.52 0-1.04.2-1.43.59L10.3 9.45l-7.72 7.72c-.78.78-.78 2.05 0 2.83L4 21.41c.39.39.9.59 1.41.59.51 0 1.02-.2 1.41-.59l7.78-7.78 2.81-2.81c.8-.78.8-2.07 0-2.86zM5.41 20L4 18.59l7.72-7.72 1.47 1.35L5.41 20z\"/>\n",
              "  </svg>\n",
              "      </button>\n",
              "      \n",
              "  <style>\n",
              "    .colab-df-container {\n",
              "      display:flex;\n",
              "      flex-wrap:wrap;\n",
              "      gap: 12px;\n",
              "    }\n",
              "\n",
              "    .colab-df-convert {\n",
              "      background-color: #E8F0FE;\n",
              "      border: none;\n",
              "      border-radius: 50%;\n",
              "      cursor: pointer;\n",
              "      display: none;\n",
              "      fill: #1967D2;\n",
              "      height: 32px;\n",
              "      padding: 0 0 0 0;\n",
              "      width: 32px;\n",
              "    }\n",
              "\n",
              "    .colab-df-convert:hover {\n",
              "      background-color: #E2EBFA;\n",
              "      box-shadow: 0px 1px 2px rgba(60, 64, 67, 0.3), 0px 1px 3px 1px rgba(60, 64, 67, 0.15);\n",
              "      fill: #174EA6;\n",
              "    }\n",
              "\n",
              "    [theme=dark] .colab-df-convert {\n",
              "      background-color: #3B4455;\n",
              "      fill: #D2E3FC;\n",
              "    }\n",
              "\n",
              "    [theme=dark] .colab-df-convert:hover {\n",
              "      background-color: #434B5C;\n",
              "      box-shadow: 0px 1px 3px 1px rgba(0, 0, 0, 0.15);\n",
              "      filter: drop-shadow(0px 1px 2px rgba(0, 0, 0, 0.3));\n",
              "      fill: #FFFFFF;\n",
              "    }\n",
              "  </style>\n",
              "\n",
              "      <script>\n",
              "        const buttonEl =\n",
              "          document.querySelector('#df-c8dd053f-7aaf-43cc-9739-0cd3eb8ac2e8 button.colab-df-convert');\n",
              "        buttonEl.style.display =\n",
              "          google.colab.kernel.accessAllowed ? 'block' : 'none';\n",
              "\n",
              "        async function convertToInteractive(key) {\n",
              "          const element = document.querySelector('#df-c8dd053f-7aaf-43cc-9739-0cd3eb8ac2e8');\n",
              "          const dataTable =\n",
              "            await google.colab.kernel.invokeFunction('convertToInteractive',\n",
              "                                                     [key], {});\n",
              "          if (!dataTable) return;\n",
              "\n",
              "          const docLinkHtml = 'Like what you see? Visit the ' +\n",
              "            '<a target=\"_blank\" href=https://colab.research.google.com/notebooks/data_table.ipynb>data table notebook</a>'\n",
              "            + ' to learn more about interactive tables.';\n",
              "          element.innerHTML = '';\n",
              "          dataTable['output_type'] = 'display_data';\n",
              "          await google.colab.output.renderOutput(dataTable, element);\n",
              "          const docLink = document.createElement('div');\n",
              "          docLink.innerHTML = docLinkHtml;\n",
              "          element.appendChild(docLink);\n",
              "        }\n",
              "      </script>\n",
              "    </div>\n",
              "  </div>\n",
              "  "
            ]
          },
          "metadata": {},
          "execution_count": 113
        }
      ],
      "source": [
        "df_val[df_val['Text'].duplicated() == True]"
      ]
    },
    {
      "cell_type": "markdown",
      "metadata": {
        "id": "hq7aAep_eVJF"
      },
      "source": [
        "In[ ]:"
      ]
    },
    {
      "cell_type": "code",
      "execution_count": 114,
      "metadata": {
        "colab": {
          "base_uri": "https://localhost:8080/",
          "height": 232
        },
        "id": "mkonqW-neVJF",
        "outputId": "dc6babe6-c05f-46f4-d882-bf1bdc62e78d"
      },
      "outputs": [
        {
          "output_type": "execute_result",
          "data": {
            "text/plain": [
              "                                                  Text Emotion\n",
              "603  like use h word recklessly would admit feeling...     joy"
            ],
            "text/html": [
              "\n",
              "  <div id=\"df-e9788950-0370-4407-9344-ded996dfee8c\">\n",
              "    <div class=\"colab-df-container\">\n",
              "      <div>\n",
              "<style scoped>\n",
              "    .dataframe tbody tr th:only-of-type {\n",
              "        vertical-align: middle;\n",
              "    }\n",
              "\n",
              "    .dataframe tbody tr th {\n",
              "        vertical-align: top;\n",
              "    }\n",
              "\n",
              "    .dataframe thead th {\n",
              "        text-align: right;\n",
              "    }\n",
              "</style>\n",
              "<table border=\"1\" class=\"dataframe\">\n",
              "  <thead>\n",
              "    <tr style=\"text-align: right;\">\n",
              "      <th></th>\n",
              "      <th>Text</th>\n",
              "      <th>Emotion</th>\n",
              "    </tr>\n",
              "  </thead>\n",
              "  <tbody>\n",
              "    <tr>\n",
              "      <th>603</th>\n",
              "      <td>like use h word recklessly would admit feeling...</td>\n",
              "      <td>joy</td>\n",
              "    </tr>\n",
              "  </tbody>\n",
              "</table>\n",
              "</div>\n",
              "      <button class=\"colab-df-convert\" onclick=\"convertToInteractive('df-e9788950-0370-4407-9344-ded996dfee8c')\"\n",
              "              title=\"Convert this dataframe to an interactive table.\"\n",
              "              style=\"display:none;\">\n",
              "        \n",
              "  <svg xmlns=\"http://www.w3.org/2000/svg\" height=\"24px\"viewBox=\"0 0 24 24\"\n",
              "       width=\"24px\">\n",
              "    <path d=\"M0 0h24v24H0V0z\" fill=\"none\"/>\n",
              "    <path d=\"M18.56 5.44l.94 2.06.94-2.06 2.06-.94-2.06-.94-.94-2.06-.94 2.06-2.06.94zm-11 1L8.5 8.5l.94-2.06 2.06-.94-2.06-.94L8.5 2.5l-.94 2.06-2.06.94zm10 10l.94 2.06.94-2.06 2.06-.94-2.06-.94-.94-2.06-.94 2.06-2.06.94z\"/><path d=\"M17.41 7.96l-1.37-1.37c-.4-.4-.92-.59-1.43-.59-.52 0-1.04.2-1.43.59L10.3 9.45l-7.72 7.72c-.78.78-.78 2.05 0 2.83L4 21.41c.39.39.9.59 1.41.59.51 0 1.02-.2 1.41-.59l7.78-7.78 2.81-2.81c.8-.78.8-2.07 0-2.86zM5.41 20L4 18.59l7.72-7.72 1.47 1.35L5.41 20z\"/>\n",
              "  </svg>\n",
              "      </button>\n",
              "      \n",
              "  <style>\n",
              "    .colab-df-container {\n",
              "      display:flex;\n",
              "      flex-wrap:wrap;\n",
              "      gap: 12px;\n",
              "    }\n",
              "\n",
              "    .colab-df-convert {\n",
              "      background-color: #E8F0FE;\n",
              "      border: none;\n",
              "      border-radius: 50%;\n",
              "      cursor: pointer;\n",
              "      display: none;\n",
              "      fill: #1967D2;\n",
              "      height: 32px;\n",
              "      padding: 0 0 0 0;\n",
              "      width: 32px;\n",
              "    }\n",
              "\n",
              "    .colab-df-convert:hover {\n",
              "      background-color: #E2EBFA;\n",
              "      box-shadow: 0px 1px 2px rgba(60, 64, 67, 0.3), 0px 1px 3px 1px rgba(60, 64, 67, 0.15);\n",
              "      fill: #174EA6;\n",
              "    }\n",
              "\n",
              "    [theme=dark] .colab-df-convert {\n",
              "      background-color: #3B4455;\n",
              "      fill: #D2E3FC;\n",
              "    }\n",
              "\n",
              "    [theme=dark] .colab-df-convert:hover {\n",
              "      background-color: #434B5C;\n",
              "      box-shadow: 0px 1px 3px 1px rgba(0, 0, 0, 0.15);\n",
              "      filter: drop-shadow(0px 1px 2px rgba(0, 0, 0, 0.3));\n",
              "      fill: #FFFFFF;\n",
              "    }\n",
              "  </style>\n",
              "\n",
              "      <script>\n",
              "        const buttonEl =\n",
              "          document.querySelector('#df-e9788950-0370-4407-9344-ded996dfee8c button.colab-df-convert');\n",
              "        buttonEl.style.display =\n",
              "          google.colab.kernel.accessAllowed ? 'block' : 'none';\n",
              "\n",
              "        async function convertToInteractive(key) {\n",
              "          const element = document.querySelector('#df-e9788950-0370-4407-9344-ded996dfee8c');\n",
              "          const dataTable =\n",
              "            await google.colab.kernel.invokeFunction('convertToInteractive',\n",
              "                                                     [key], {});\n",
              "          if (!dataTable) return;\n",
              "\n",
              "          const docLinkHtml = 'Like what you see? Visit the ' +\n",
              "            '<a target=\"_blank\" href=https://colab.research.google.com/notebooks/data_table.ipynb>data table notebook</a>'\n",
              "            + ' to learn more about interactive tables.';\n",
              "          element.innerHTML = '';\n",
              "          dataTable['output_type'] = 'display_data';\n",
              "          await google.colab.output.renderOutput(dataTable, element);\n",
              "          const docLink = document.createElement('div');\n",
              "          docLink.innerHTML = docLinkHtml;\n",
              "          element.appendChild(docLink);\n",
              "        }\n",
              "      </script>\n",
              "    </div>\n",
              "  </div>\n",
              "  "
            ]
          },
          "metadata": {},
          "execution_count": 114
        }
      ],
      "source": [
        "df_val[df_val['Text'] == df_val.iloc[603]['Text']]"
      ]
    },
    {
      "cell_type": "markdown",
      "metadata": {
        "id": "J5dFzwtGeVJF"
      },
      "source": [
        "In[ ]:"
      ]
    },
    {
      "cell_type": "code",
      "execution_count": 115,
      "metadata": {
        "colab": {
          "base_uri": "https://localhost:8080/",
          "height": 214
        },
        "id": "0dMKq7QaeVJG",
        "outputId": "8c9788fa-b7e2-410f-9e0d-5f0657163ab9"
      },
      "outputs": [
        {
          "output_type": "execute_result",
          "data": {
            "text/plain": [
              "                                                   Text  Emotion\n",
              "1993  im ssa examination tomorrow morning im quite w...  sadness"
            ],
            "text/html": [
              "\n",
              "  <div id=\"df-7df08870-0e2d-4e14-98dd-aed65aa7f748\">\n",
              "    <div class=\"colab-df-container\">\n",
              "      <div>\n",
              "<style scoped>\n",
              "    .dataframe tbody tr th:only-of-type {\n",
              "        vertical-align: middle;\n",
              "    }\n",
              "\n",
              "    .dataframe tbody tr th {\n",
              "        vertical-align: top;\n",
              "    }\n",
              "\n",
              "    .dataframe thead th {\n",
              "        text-align: right;\n",
              "    }\n",
              "</style>\n",
              "<table border=\"1\" class=\"dataframe\">\n",
              "  <thead>\n",
              "    <tr style=\"text-align: right;\">\n",
              "      <th></th>\n",
              "      <th>Text</th>\n",
              "      <th>Emotion</th>\n",
              "    </tr>\n",
              "  </thead>\n",
              "  <tbody>\n",
              "    <tr>\n",
              "      <th>1993</th>\n",
              "      <td>im ssa examination tomorrow morning im quite w...</td>\n",
              "      <td>sadness</td>\n",
              "    </tr>\n",
              "  </tbody>\n",
              "</table>\n",
              "</div>\n",
              "      <button class=\"colab-df-convert\" onclick=\"convertToInteractive('df-7df08870-0e2d-4e14-98dd-aed65aa7f748')\"\n",
              "              title=\"Convert this dataframe to an interactive table.\"\n",
              "              style=\"display:none;\">\n",
              "        \n",
              "  <svg xmlns=\"http://www.w3.org/2000/svg\" height=\"24px\"viewBox=\"0 0 24 24\"\n",
              "       width=\"24px\">\n",
              "    <path d=\"M0 0h24v24H0V0z\" fill=\"none\"/>\n",
              "    <path d=\"M18.56 5.44l.94 2.06.94-2.06 2.06-.94-2.06-.94-.94-2.06-.94 2.06-2.06.94zm-11 1L8.5 8.5l.94-2.06 2.06-.94-2.06-.94L8.5 2.5l-.94 2.06-2.06.94zm10 10l.94 2.06.94-2.06 2.06-.94-2.06-.94-.94-2.06-.94 2.06-2.06.94z\"/><path d=\"M17.41 7.96l-1.37-1.37c-.4-.4-.92-.59-1.43-.59-.52 0-1.04.2-1.43.59L10.3 9.45l-7.72 7.72c-.78.78-.78 2.05 0 2.83L4 21.41c.39.39.9.59 1.41.59.51 0 1.02-.2 1.41-.59l7.78-7.78 2.81-2.81c.8-.78.8-2.07 0-2.86zM5.41 20L4 18.59l7.72-7.72 1.47 1.35L5.41 20z\"/>\n",
              "  </svg>\n",
              "      </button>\n",
              "      \n",
              "  <style>\n",
              "    .colab-df-container {\n",
              "      display:flex;\n",
              "      flex-wrap:wrap;\n",
              "      gap: 12px;\n",
              "    }\n",
              "\n",
              "    .colab-df-convert {\n",
              "      background-color: #E8F0FE;\n",
              "      border: none;\n",
              "      border-radius: 50%;\n",
              "      cursor: pointer;\n",
              "      display: none;\n",
              "      fill: #1967D2;\n",
              "      height: 32px;\n",
              "      padding: 0 0 0 0;\n",
              "      width: 32px;\n",
              "    }\n",
              "\n",
              "    .colab-df-convert:hover {\n",
              "      background-color: #E2EBFA;\n",
              "      box-shadow: 0px 1px 2px rgba(60, 64, 67, 0.3), 0px 1px 3px 1px rgba(60, 64, 67, 0.15);\n",
              "      fill: #174EA6;\n",
              "    }\n",
              "\n",
              "    [theme=dark] .colab-df-convert {\n",
              "      background-color: #3B4455;\n",
              "      fill: #D2E3FC;\n",
              "    }\n",
              "\n",
              "    [theme=dark] .colab-df-convert:hover {\n",
              "      background-color: #434B5C;\n",
              "      box-shadow: 0px 1px 3px 1px rgba(0, 0, 0, 0.15);\n",
              "      filter: drop-shadow(0px 1px 2px rgba(0, 0, 0, 0.3));\n",
              "      fill: #FFFFFF;\n",
              "    }\n",
              "  </style>\n",
              "\n",
              "      <script>\n",
              "        const buttonEl =\n",
              "          document.querySelector('#df-7df08870-0e2d-4e14-98dd-aed65aa7f748 button.colab-df-convert');\n",
              "        buttonEl.style.display =\n",
              "          google.colab.kernel.accessAllowed ? 'block' : 'none';\n",
              "\n",
              "        async function convertToInteractive(key) {\n",
              "          const element = document.querySelector('#df-7df08870-0e2d-4e14-98dd-aed65aa7f748');\n",
              "          const dataTable =\n",
              "            await google.colab.kernel.invokeFunction('convertToInteractive',\n",
              "                                                     [key], {});\n",
              "          if (!dataTable) return;\n",
              "\n",
              "          const docLinkHtml = 'Like what you see? Visit the ' +\n",
              "            '<a target=\"_blank\" href=https://colab.research.google.com/notebooks/data_table.ipynb>data table notebook</a>'\n",
              "            + ' to learn more about interactive tables.';\n",
              "          element.innerHTML = '';\n",
              "          dataTable['output_type'] = 'display_data';\n",
              "          await google.colab.output.renderOutput(dataTable, element);\n",
              "          const docLink = document.createElement('div');\n",
              "          docLink.innerHTML = docLinkHtml;\n",
              "          element.appendChild(docLink);\n",
              "        }\n",
              "      </script>\n",
              "    </div>\n",
              "  </div>\n",
              "  "
            ]
          },
          "metadata": {},
          "execution_count": 115
        }
      ],
      "source": [
        "df_val[df_val['Text'] == df_val.iloc[1993]['Text']]"
      ]
    },
    {
      "cell_type": "markdown",
      "metadata": {
        "id": "hAP2t_lQeVJG"
      },
      "source": [
        "In[ ]:"
      ]
    },
    {
      "cell_type": "markdown",
      "metadata": {
        "id": "du_5tPK3eVJH"
      },
      "source": [
        "emoving duplicated text"
      ]
    },
    {
      "cell_type": "code",
      "execution_count": 116,
      "metadata": {
        "id": "yuSLe6lDeVJH"
      },
      "outputs": [],
      "source": [
        "index = df_val[df_val['Text'].duplicated() == True].index\n",
        "df_val.drop(index, axis = 0, inplace = True)\n",
        "df_val.reset_index(inplace=True, drop = True)"
      ]
    },
    {
      "cell_type": "markdown",
      "metadata": {
        "id": "_Hqn_ufdeVJI"
      },
      "source": [
        "In[ ]:"
      ]
    },
    {
      "cell_type": "markdown",
      "metadata": {
        "id": "7LpFARw1eVJJ"
      },
      "source": [
        "ount the number of stopwords in the data"
      ]
    },
    {
      "cell_type": "code",
      "execution_count": 117,
      "metadata": {
        "colab": {
          "base_uri": "https://localhost:8080/"
        },
        "id": "QT2l8PO5eVJJ",
        "outputId": "145b1b00-09ae-4066-b94d-2ce6932b706e"
      },
      "outputs": [
        {
          "output_type": "execute_result",
          "data": {
            "text/plain": [
              "0    1983\n",
              "1      14\n",
              "Name: stop_words, dtype: int64"
            ]
          },
          "metadata": {},
          "execution_count": 117
        }
      ],
      "source": [
        "temp =df_val.copy()\n",
        "temp['stop_words'] = temp['Text'].apply(lambda x: len(set(x.split()) & set(stop_words)))\n",
        "temp.stop_words.value_counts()[:10]"
      ]
    },
    {
      "cell_type": "markdown",
      "metadata": {
        "id": "99v4MKXueVJJ"
      },
      "source": [
        "In[ ]:"
      ]
    },
    {
      "cell_type": "code",
      "execution_count": 118,
      "metadata": {
        "colab": {
          "base_uri": "https://localhost:8080/",
          "height": 54
        },
        "id": "yjDhmArSeVJK",
        "outputId": "b1311d60-54bb-466d-8cab-33d5ba4dc3ff"
      },
      "outputs": [
        {
          "output_type": "display_data",
          "data": {
            "text/plain": [
              "<Figure size 432x288 with 1 Axes>"
            ],
            "image/png": "[encoded data removed]"
          },
          "metadata": {}
        }
      ],
      "source": [
        "sns.set(font_scale=1.3)\n",
        "temp['stop_words'].plot(kind= 'hist');"
      ]
    },
    {
      "cell_type": "markdown",
      "metadata": {
        "id": "XbXvWlbHeVJL"
      },
      "source": [
        "## Compare rows of the datasets"
      ]
    },
    {
      "cell_type": "markdown",
      "metadata": {
        "id": "FFeXiJDJeVJL"
      },
      "source": [
        "check that there is no data leakage"
      ]
    },
    {
      "cell_type": "markdown",
      "metadata": {
        "id": "v49lFoLPeVJL"
      },
      "source": [
        "In[ ]:"
      ]
    },
    {
      "cell_type": "code",
      "execution_count": 119,
      "metadata": {
        "id": "-R2CTME6eVJL"
      },
      "outputs": [],
      "source": [
        "def dataframe_difference(df1, df2, which=None):\n",
        "    \"\"\"Find rows which are different between two DataFrames.\"\"\"\n",
        "    \n",
        "    # Combine the two DataFrames using a merge operation, with the\n",
        "    # indicator parameter set to True. This adds a column called _merge\n",
        "    # to the resulting DataFrame, which indicates the source of each row.\n",
        "    comparison_df = df1.merge(\n",
        "        df2,\n",
        "        indicator=True,\n",
        "        how='outer'\n",
        "    )\n",
        "    \n",
        "    # Filter the merged DataFrame based on the value of _merge. If which\n",
        "    # is not specified, return all rows where _merge is not 'both'.\n",
        "    # Otherwise, return all rows where _merge has the specified value\n",
        "    if which is None:\n",
        "        diff_df = comparison_df[comparison_df['_merge'] != 'both']\n",
        "    else:\n",
        "        diff_df = comparison_df[comparison_df['_merge'] == which]\n",
        "        \n",
        "    # Return the filtered DataFrame\n",
        "    return diff_df"
      ]
    },
    {
      "cell_type": "markdown",
      "metadata": {
        "id": "Ws7mA9JJeVJL"
      },
      "source": [
        "In[ ]:"
      ]
    },
    {
      "cell_type": "code",
      "execution_count": 120,
      "metadata": {
        "colab": {
          "base_uri": "https://localhost:8080/",
          "height": 894
        },
        "id": "yMwO9XrzeVJM",
        "outputId": "acbbdf18-6d65-46f8-e32f-ff455e179c90"
      },
      "outputs": [
        {
          "output_type": "execute_result",
          "data": {
            "text/plain": [
              "                              Text   Emotion _merge\n",
              "971                    feel tender      love   both\n",
              "1345              feel embarrassed   sadness   both\n",
              "1624                   feel better       joy   both\n",
              "2091                 feel accepted      love   both\n",
              "2092                 feel accepted      love   both\n",
              "3279                 feel troubled   sadness   both\n",
              "3280                 feel troubled   sadness   both\n",
              "3556                 feeling happy       joy   both\n",
              "5058                  feel alarmed      fear   both\n",
              "5432                     feel glad       joy   both\n",
              "5433                     feel glad       joy   both\n",
              "5434                     feel glad       joy   both\n",
              "7410            hate feeling alone   sadness   both\n",
              "8987                feel depressed   sadness   both\n",
              "9497                     feel numb   sadness   both\n",
              "10089             feel overwhelmed  surprise   both\n",
              "10637             feeling sociable       joy   both\n",
              "11127                 feel ashamed   sadness   both\n",
              "11128                 feel ashamed   sadness   both\n",
              "13595  ive feeling listless lately   sadness   both\n",
              "14117                feel defeated   sadness   both"
            ],
            "text/html": [
              "\n",
              "  <div id=\"df-62b58a65-abf0-45c3-8c0d-e20c5cd97394\">\n",
              "    <div class=\"colab-df-container\">\n",
              "      <div>\n",
              "<style scoped>\n",
              "    .dataframe tbody tr th:only-of-type {\n",
              "        vertical-align: middle;\n",
              "    }\n",
              "\n",
              "    .dataframe tbody tr th {\n",
              "        vertical-align: top;\n",
              "    }\n",
              "\n",
              "    .dataframe thead th {\n",
              "        text-align: right;\n",
              "    }\n",
              "</style>\n",
              "<table border=\"1\" class=\"dataframe\">\n",
              "  <thead>\n",
              "    <tr style=\"text-align: right;\">\n",
              "      <th></th>\n",
              "      <th>Text</th>\n",
              "      <th>Emotion</th>\n",
              "      <th>_merge</th>\n",
              "    </tr>\n",
              "  </thead>\n",
              "  <tbody>\n",
              "    <tr>\n",
              "      <th>971</th>\n",
              "      <td>feel tender</td>\n",
              "      <td>love</td>\n",
              "      <td>both</td>\n",
              "    </tr>\n",
              "    <tr>\n",
              "      <th>1345</th>\n",
              "      <td>feel embarrassed</td>\n",
              "      <td>sadness</td>\n",
              "      <td>both</td>\n",
              "    </tr>\n",
              "    <tr>\n",
              "      <th>1624</th>\n",
              "      <td>feel better</td>\n",
              "      <td>joy</td>\n",
              "      <td>both</td>\n",
              "    </tr>\n",
              "    <tr>\n",
              "      <th>2091</th>\n",
              "      <td>feel accepted</td>\n",
              "      <td>love</td>\n",
              "      <td>both</td>\n",
              "    </tr>\n",
              "    <tr>\n",
              "      <th>2092</th>\n",
              "      <td>feel accepted</td>\n",
              "      <td>love</td>\n",
              "      <td>both</td>\n",
              "    </tr>\n",
              "    <tr>\n",
              "      <th>3279</th>\n",
              "      <td>feel troubled</td>\n",
              "      <td>sadness</td>\n",
              "      <td>both</td>\n",
              "    </tr>\n",
              "    <tr>\n",
              "      <th>3280</th>\n",
              "      <td>feel troubled</td>\n",
              "      <td>sadness</td>\n",
              "      <td>both</td>\n",
              "    </tr>\n",
              "    <tr>\n",
              "      <th>3556</th>\n",
              "      <td>feeling happy</td>\n",
              "      <td>joy</td>\n",
              "      <td>both</td>\n",
              "    </tr>\n",
              "    <tr>\n",
              "      <th>5058</th>\n",
              "      <td>feel alarmed</td>\n",
              "      <td>fear</td>\n",
              "      <td>both</td>\n",
              "    </tr>\n",
              "    <tr>\n",
              "      <th>5432</th>\n",
              "      <td>feel glad</td>\n",
              "      <td>joy</td>\n",
              "      <td>both</td>\n",
              "    </tr>\n",
              "    <tr>\n",
              "      <th>5433</th>\n",
              "      <td>feel glad</td>\n",
              "      <td>joy</td>\n",
              "      <td>both</td>\n",
              "    </tr>\n",
              "    <tr>\n",
              "      <th>5434</th>\n",
              "      <td>feel glad</td>\n",
              "      <td>joy</td>\n",
              "      <td>both</td>\n",
              "    </tr>\n",
              "    <tr>\n",
              "      <th>7410</th>\n",
              "      <td>hate feeling alone</td>\n",
              "      <td>sadness</td>\n",
              "      <td>both</td>\n",
              "    </tr>\n",
              "    <tr>\n",
              "      <th>8987</th>\n",
              "      <td>feel depressed</td>\n",
              "      <td>sadness</td>\n",
              "      <td>both</td>\n",
              "    </tr>\n",
              "    <tr>\n",
              "      <th>9497</th>\n",
              "      <td>feel numb</td>\n",
              "      <td>sadness</td>\n",
              "      <td>both</td>\n",
              "    </tr>\n",
              "    <tr>\n",
              "      <th>10089</th>\n",
              "      <td>feel overwhelmed</td>\n",
              "      <td>surprise</td>\n",
              "      <td>both</td>\n",
              "    </tr>\n",
              "    <tr>\n",
              "      <th>10637</th>\n",
              "      <td>feeling sociable</td>\n",
              "      <td>joy</td>\n",
              "      <td>both</td>\n",
              "    </tr>\n",
              "    <tr>\n",
              "      <th>11127</th>\n",
              "      <td>feel ashamed</td>\n",
              "      <td>sadness</td>\n",
              "      <td>both</td>\n",
              "    </tr>\n",
              "    <tr>\n",
              "      <th>11128</th>\n",
              "      <td>feel ashamed</td>\n",
              "      <td>sadness</td>\n",
              "      <td>both</td>\n",
              "    </tr>\n",
              "    <tr>\n",
              "      <th>13595</th>\n",
              "      <td>ive feeling listless lately</td>\n",
              "      <td>sadness</td>\n",
              "      <td>both</td>\n",
              "    </tr>\n",
              "    <tr>\n",
              "      <th>14117</th>\n",
              "      <td>feel defeated</td>\n",
              "      <td>sadness</td>\n",
              "      <td>both</td>\n",
              "    </tr>\n",
              "  </tbody>\n",
              "</table>\n",
              "</div>\n",
              "      <button class=\"colab-df-convert\" onclick=\"convertToInteractive('df-62b58a65-abf0-45c3-8c0d-e20c5cd97394')\"\n",
              "              title=\"Convert this dataframe to an interactive table.\"\n",
              "              style=\"display:none;\">\n",
              "        \n",
              "  <svg xmlns=\"http://www.w3.org/2000/svg\" height=\"24px\"viewBox=\"0 0 24 24\"\n",
              "       width=\"24px\">\n",
              "    <path d=\"M0 0h24v24H0V0z\" fill=\"none\"/>\n",
              "    <path d=\"M18.56 5.44l.94 2.06.94-2.06 2.06-.94-2.06-.94-.94-2.06-.94 2.06-2.06.94zm-11 1L8.5 8.5l.94-2.06 2.06-.94-2.06-.94L8.5 2.5l-.94 2.06-2.06.94zm10 10l.94 2.06.94-2.06 2.06-.94-2.06-.94-.94-2.06-.94 2.06-2.06.94z\"/><path d=\"M17.41 7.96l-1.37-1.37c-.4-.4-.92-.59-1.43-.59-.52 0-1.04.2-1.43.59L10.3 9.45l-7.72 7.72c-.78.78-.78 2.05 0 2.83L4 21.41c.39.39.9.59 1.41.59.51 0 1.02-.2 1.41-.59l7.78-7.78 2.81-2.81c.8-.78.8-2.07 0-2.86zM5.41 20L4 18.59l7.72-7.72 1.47 1.35L5.41 20z\"/>\n",
              "  </svg>\n",
              "      </button>\n",
              "      \n",
              "  <style>\n",
              "    .colab-df-container {\n",
              "      display:flex;\n",
              "      flex-wrap:wrap;\n",
              "      gap: 12px;\n",
              "    }\n",
              "\n",
              "    .colab-df-convert {\n",
              "      background-color: #E8F0FE;\n",
              "      border: none;\n",
              "      border-radius: 50%;\n",
              "      cursor: pointer;\n",
              "      display: none;\n",
              "      fill: #1967D2;\n",
              "      height: 32px;\n",
              "      padding: 0 0 0 0;\n",
              "      width: 32px;\n",
              "    }\n",
              "\n",
              "    .colab-df-convert:hover {\n",
              "      background-color: #E2EBFA;\n",
              "      box-shadow: 0px 1px 2px rgba(60, 64, 67, 0.3), 0px 1px 3px 1px rgba(60, 64, 67, 0.15);\n",
              "      fill: #174EA6;\n",
              "    }\n",
              "\n",
              "    [theme=dark] .colab-df-convert {\n",
              "      background-color: #3B4455;\n",
              "      fill: #D2E3FC;\n",
              "    }\n",
              "\n",
              "    [theme=dark] .colab-df-convert:hover {\n",
              "      background-color: #434B5C;\n",
              "      box-shadow: 0px 1px 3px 1px rgba(0, 0, 0, 0.15);\n",
              "      filter: drop-shadow(0px 1px 2px rgba(0, 0, 0, 0.3));\n",
              "      fill: #FFFFFF;\n",
              "    }\n",
              "  </style>\n",
              "\n",
              "      <script>\n",
              "        const buttonEl =\n",
              "          document.querySelector('#df-62b58a65-abf0-45c3-8c0d-e20c5cd97394 button.colab-df-convert');\n",
              "        buttonEl.style.display =\n",
              "          google.colab.kernel.accessAllowed ? 'block' : 'none';\n",
              "\n",
              "        async function convertToInteractive(key) {\n",
              "          const element = document.querySelector('#df-62b58a65-abf0-45c3-8c0d-e20c5cd97394');\n",
              "          const dataTable =\n",
              "            await google.colab.kernel.invokeFunction('convertToInteractive',\n",
              "                                                     [key], {});\n",
              "          if (!dataTable) return;\n",
              "\n",
              "          const docLinkHtml = 'Like what you see? Visit the ' +\n",
              "            '<a target=\"_blank\" href=https://colab.research.google.com/notebooks/data_table.ipynb>data table notebook</a>'\n",
              "            + ' to learn more about interactive tables.';\n",
              "          element.innerHTML = '';\n",
              "          dataTable['output_type'] = 'display_data';\n",
              "          await google.colab.output.renderOutput(dataTable, element);\n",
              "          const docLink = document.createElement('div');\n",
              "          docLink.innerHTML = docLinkHtml;\n",
              "          element.appendChild(docLink);\n",
              "        }\n",
              "      </script>\n",
              "    </div>\n",
              "  </div>\n",
              "  "
            ]
          },
          "metadata": {},
          "execution_count": 120
        }
      ],
      "source": [
        "dataframe_difference(df_train, df_test, which='both')"
      ]
    },
    {
      "cell_type": "markdown",
      "metadata": {
        "id": "DXGM5qxleVJM"
      },
      "source": [
        "In[ ]:"
      ]
    },
    {
      "cell_type": "code",
      "execution_count": 121,
      "metadata": {
        "colab": {
          "base_uri": "https://localhost:8080/",
          "height": 942
        },
        "id": "G89HzbSveVJM",
        "outputId": "a59fc3b2-05b1-4653-9c8f-a9fc152474e5"
      },
      "outputs": [
        {
          "output_type": "execute_result",
          "data": {
            "text/plain": [
              "                                 Text   Emotion _merge\n",
              "11                      feel romantic      love   both\n",
              "373        feel complimented insulted     anger   both\n",
              "1743                      feel useful       joy   both\n",
              "1744                      feel useful       joy   both\n",
              "3122               im feeling relaxed       joy   both\n",
              "3279                    feel troubled   sadness   both\n",
              "3280                    feel troubled   sadness   both\n",
              "3423                   feel respected       joy   both\n",
              "3571                   feel reassured       joy   both\n",
              "3900       feel really listless right   sadness   both\n",
              "4119                  feel frightened      fear   both\n",
              "5092                        feel cold     anger   both\n",
              "5093                        feel cold     anger   both\n",
              "6943                    feel tortured     anger   both\n",
              "6944                    feel tortured     anger   both\n",
              "7275                    feel accepted       joy   both\n",
              "7627                      feel guilty   sadness   both\n",
              "10008                       feel dumb   sadness   both\n",
              "10009                       feel dumb   sadness   both\n",
              "10054                    feeling fine       joy   both\n",
              "10089                feel overwhelmed  surprise   both\n",
              "13961  left feeling entertained empty       joy   both"
            ],
            "text/html": [
              "\n",
              "  <div id=\"df-c5268fbf-2bab-4c0b-b76f-ee1efcbd6113\">\n",
              "    <div class=\"colab-df-container\">\n",
              "      <div>\n",
              "<style scoped>\n",
              "    .dataframe tbody tr th:only-of-type {\n",
              "        vertical-align: middle;\n",
              "    }\n",
              "\n",
              "    .dataframe tbody tr th {\n",
              "        vertical-align: top;\n",
              "    }\n",
              "\n",
              "    .dataframe thead th {\n",
              "        text-align: right;\n",
              "    }\n",
              "</style>\n",
              "<table border=\"1\" class=\"dataframe\">\n",
              "  <thead>\n",
              "    <tr style=\"text-align: right;\">\n",
              "      <th></th>\n",
              "      <th>Text</th>\n",
              "      <th>Emotion</th>\n",
              "      <th>_merge</th>\n",
              "    </tr>\n",
              "  </thead>\n",
              "  <tbody>\n",
              "    <tr>\n",
              "      <th>11</th>\n",
              "      <td>feel romantic</td>\n",
              "      <td>love</td>\n",
              "      <td>both</td>\n",
              "    </tr>\n",
              "    <tr>\n",
              "      <th>373</th>\n",
              "      <td>feel complimented insulted</td>\n",
              "      <td>anger</td>\n",
              "      <td>both</td>\n",
              "    </tr>\n",
              "    <tr>\n",
              "      <th>1743</th>\n",
              "      <td>feel useful</td>\n",
              "      <td>joy</td>\n",
              "      <td>both</td>\n",
              "    </tr>\n",
              "    <tr>\n",
              "      <th>1744</th>\n",
              "      <td>feel useful</td>\n",
              "      <td>joy</td>\n",
              "      <td>both</td>\n",
              "    </tr>\n",
              "    <tr>\n",
              "      <th>3122</th>\n",
              "      <td>im feeling relaxed</td>\n",
              "      <td>joy</td>\n",
              "      <td>both</td>\n",
              "    </tr>\n",
              "    <tr>\n",
              "      <th>3279</th>\n",
              "      <td>feel troubled</td>\n",
              "      <td>sadness</td>\n",
              "      <td>both</td>\n",
              "    </tr>\n",
              "    <tr>\n",
              "      <th>3280</th>\n",
              "      <td>feel troubled</td>\n",
              "      <td>sadness</td>\n",
              "      <td>both</td>\n",
              "    </tr>\n",
              "    <tr>\n",
              "      <th>3423</th>\n",
              "      <td>feel respected</td>\n",
              "      <td>joy</td>\n",
              "      <td>both</td>\n",
              "    </tr>\n",
              "    <tr>\n",
              "      <th>3571</th>\n",
              "      <td>feel reassured</td>\n",
              "      <td>joy</td>\n",
              "      <td>both</td>\n",
              "    </tr>\n",
              "    <tr>\n",
              "      <th>3900</th>\n",
              "      <td>feel really listless right</td>\n",
              "      <td>sadness</td>\n",
              "      <td>both</td>\n",
              "    </tr>\n",
              "    <tr>\n",
              "      <th>4119</th>\n",
              "      <td>feel frightened</td>\n",
              "      <td>fear</td>\n",
              "      <td>both</td>\n",
              "    </tr>\n",
              "    <tr>\n",
              "      <th>5092</th>\n",
              "      <td>feel cold</td>\n",
              "      <td>anger</td>\n",
              "      <td>both</td>\n",
              "    </tr>\n",
              "    <tr>\n",
              "      <th>5093</th>\n",
              "      <td>feel cold</td>\n",
              "      <td>anger</td>\n",
              "      <td>both</td>\n",
              "    </tr>\n",
              "    <tr>\n",
              "      <th>6943</th>\n",
              "      <td>feel tortured</td>\n",
              "      <td>anger</td>\n",
              "      <td>both</td>\n",
              "    </tr>\n",
              "    <tr>\n",
              "      <th>6944</th>\n",
              "      <td>feel tortured</td>\n",
              "      <td>anger</td>\n",
              "      <td>both</td>\n",
              "    </tr>\n",
              "    <tr>\n",
              "      <th>7275</th>\n",
              "      <td>feel accepted</td>\n",
              "      <td>joy</td>\n",
              "      <td>both</td>\n",
              "    </tr>\n",
              "    <tr>\n",
              "      <th>7627</th>\n",
              "      <td>feel guilty</td>\n",
              "      <td>sadness</td>\n",
              "      <td>both</td>\n",
              "    </tr>\n",
              "    <tr>\n",
              "      <th>10008</th>\n",
              "      <td>feel dumb</td>\n",
              "      <td>sadness</td>\n",
              "      <td>both</td>\n",
              "    </tr>\n",
              "    <tr>\n",
              "      <th>10009</th>\n",
              "      <td>feel dumb</td>\n",
              "      <td>sadness</td>\n",
              "      <td>both</td>\n",
              "    </tr>\n",
              "    <tr>\n",
              "      <th>10054</th>\n",
              "      <td>feeling fine</td>\n",
              "      <td>joy</td>\n",
              "      <td>both</td>\n",
              "    </tr>\n",
              "    <tr>\n",
              "      <th>10089</th>\n",
              "      <td>feel overwhelmed</td>\n",
              "      <td>surprise</td>\n",
              "      <td>both</td>\n",
              "    </tr>\n",
              "    <tr>\n",
              "      <th>13961</th>\n",
              "      <td>left feeling entertained empty</td>\n",
              "      <td>joy</td>\n",
              "      <td>both</td>\n",
              "    </tr>\n",
              "  </tbody>\n",
              "</table>\n",
              "</div>\n",
              "      <button class=\"colab-df-convert\" onclick=\"convertToInteractive('df-c5268fbf-2bab-4c0b-b76f-ee1efcbd6113')\"\n",
              "              title=\"Convert this dataframe to an interactive table.\"\n",
              "              style=\"display:none;\">\n",
              "        \n",
              "  <svg xmlns=\"http://www.w3.org/2000/svg\" height=\"24px\"viewBox=\"0 0 24 24\"\n",
              "       width=\"24px\">\n",
              "    <path d=\"M0 0h24v24H0V0z\" fill=\"none\"/>\n",
              "    <path d=\"M18.56 5.44l.94 2.06.94-2.06 2.06-.94-2.06-.94-.94-2.06-.94 2.06-2.06.94zm-11 1L8.5 8.5l.94-2.06 2.06-.94-2.06-.94L8.5 2.5l-.94 2.06-2.06.94zm10 10l.94 2.06.94-2.06 2.06-.94-2.06-.94-.94-2.06-.94 2.06-2.06.94z\"/><path d=\"M17.41 7.96l-1.37-1.37c-.4-.4-.92-.59-1.43-.59-.52 0-1.04.2-1.43.59L10.3 9.45l-7.72 7.72c-.78.78-.78 2.05 0 2.83L4 21.41c.39.39.9.59 1.41.59.51 0 1.02-.2 1.41-.59l7.78-7.78 2.81-2.81c.8-.78.8-2.07 0-2.86zM5.41 20L4 18.59l7.72-7.72 1.47 1.35L5.41 20z\"/>\n",
              "  </svg>\n",
              "      </button>\n",
              "      \n",
              "  <style>\n",
              "    .colab-df-container {\n",
              "      display:flex;\n",
              "      flex-wrap:wrap;\n",
              "      gap: 12px;\n",
              "    }\n",
              "\n",
              "    .colab-df-convert {\n",
              "      background-color: #E8F0FE;\n",
              "      border: none;\n",
              "      border-radius: 50%;\n",
              "      cursor: pointer;\n",
              "      display: none;\n",
              "      fill: #1967D2;\n",
              "      height: 32px;\n",
              "      padding: 0 0 0 0;\n",
              "      width: 32px;\n",
              "    }\n",
              "\n",
              "    .colab-df-convert:hover {\n",
              "      background-color: #E2EBFA;\n",
              "      box-shadow: 0px 1px 2px rgba(60, 64, 67, 0.3), 0px 1px 3px 1px rgba(60, 64, 67, 0.15);\n",
              "      fill: #174EA6;\n",
              "    }\n",
              "\n",
              "    [theme=dark] .colab-df-convert {\n",
              "      background-color: #3B4455;\n",
              "      fill: #D2E3FC;\n",
              "    }\n",
              "\n",
              "    [theme=dark] .colab-df-convert:hover {\n",
              "      background-color: #434B5C;\n",
              "      box-shadow: 0px 1px 3px 1px rgba(0, 0, 0, 0.15);\n",
              "      filter: drop-shadow(0px 1px 2px rgba(0, 0, 0, 0.3));\n",
              "      fill: #FFFFFF;\n",
              "    }\n",
              "  </style>\n",
              "\n",
              "      <script>\n",
              "        const buttonEl =\n",
              "          document.querySelector('#df-c5268fbf-2bab-4c0b-b76f-ee1efcbd6113 button.colab-df-convert');\n",
              "        buttonEl.style.display =\n",
              "          google.colab.kernel.accessAllowed ? 'block' : 'none';\n",
              "\n",
              "        async function convertToInteractive(key) {\n",
              "          const element = document.querySelector('#df-c5268fbf-2bab-4c0b-b76f-ee1efcbd6113');\n",
              "          const dataTable =\n",
              "            await google.colab.kernel.invokeFunction('convertToInteractive',\n",
              "                                                     [key], {});\n",
              "          if (!dataTable) return;\n",
              "\n",
              "          const docLinkHtml = 'Like what you see? Visit the ' +\n",
              "            '<a target=\"_blank\" href=https://colab.research.google.com/notebooks/data_table.ipynb>data table notebook</a>'\n",
              "            + ' to learn more about interactive tables.';\n",
              "          element.innerHTML = '';\n",
              "          dataTable['output_type'] = 'display_data';\n",
              "          await google.colab.output.renderOutput(dataTable, element);\n",
              "          const docLink = document.createElement('div');\n",
              "          docLink.innerHTML = docLinkHtml;\n",
              "          element.appendChild(docLink);\n",
              "        }\n",
              "      </script>\n",
              "    </div>\n",
              "  </div>\n",
              "  "
            ]
          },
          "metadata": {},
          "execution_count": 121
        }
      ],
      "source": [
        "dataframe_difference(df_train, df_val, which='both')"
      ]
    },
    {
      "cell_type": "markdown",
      "metadata": {
        "id": "WsSf2wwreVJN"
      },
      "source": [
        "In[ ]:"
      ]
    },
    {
      "cell_type": "code",
      "execution_count": 122,
      "metadata": {
        "colab": {
          "base_uri": "https://localhost:8080/",
          "height": 193
        },
        "id": "ySMG68TVeVJO",
        "outputId": "42e0ec31-dfa1-4c5a-c293-e31fd6d6ea59"
      },
      "outputs": [
        {
          "output_type": "execute_result",
          "data": {
            "text/plain": [
              "                 Text   Emotion _merge\n",
              "531     feel troubled   sadness   both\n",
              "685  feel overwhelmed  surprise   both"
            ],
            "text/html": [
              "\n",
              "  <div id=\"df-61361fb8-14eb-41a7-aaf7-028a53894392\">\n",
              "    <div class=\"colab-df-container\">\n",
              "      <div>\n",
              "<style scoped>\n",
              "    .dataframe tbody tr th:only-of-type {\n",
              "        vertical-align: middle;\n",
              "    }\n",
              "\n",
              "    .dataframe tbody tr th {\n",
              "        vertical-align: top;\n",
              "    }\n",
              "\n",
              "    .dataframe thead th {\n",
              "        text-align: right;\n",
              "    }\n",
              "</style>\n",
              "<table border=\"1\" class=\"dataframe\">\n",
              "  <thead>\n",
              "    <tr style=\"text-align: right;\">\n",
              "      <th></th>\n",
              "      <th>Text</th>\n",
              "      <th>Emotion</th>\n",
              "      <th>_merge</th>\n",
              "    </tr>\n",
              "  </thead>\n",
              "  <tbody>\n",
              "    <tr>\n",
              "      <th>531</th>\n",
              "      <td>feel troubled</td>\n",
              "      <td>sadness</td>\n",
              "      <td>both</td>\n",
              "    </tr>\n",
              "    <tr>\n",
              "      <th>685</th>\n",
              "      <td>feel overwhelmed</td>\n",
              "      <td>surprise</td>\n",
              "      <td>both</td>\n",
              "    </tr>\n",
              "  </tbody>\n",
              "</table>\n",
              "</div>\n",
              "      <button class=\"colab-df-convert\" onclick=\"convertToInteractive('df-61361fb8-14eb-41a7-aaf7-028a53894392')\"\n",
              "              title=\"Convert this dataframe to an interactive table.\"\n",
              "              style=\"display:none;\">\n",
              "        \n",
              "  <svg xmlns=\"http://www.w3.org/2000/svg\" height=\"24px\"viewBox=\"0 0 24 24\"\n",
              "       width=\"24px\">\n",
              "    <path d=\"M0 0h24v24H0V0z\" fill=\"none\"/>\n",
              "    <path d=\"M18.56 5.44l.94 2.06.94-2.06 2.06-.94-2.06-.94-.94-2.06-.94 2.06-2.06.94zm-11 1L8.5 8.5l.94-2.06 2.06-.94-2.06-.94L8.5 2.5l-.94 2.06-2.06.94zm10 10l.94 2.06.94-2.06 2.06-.94-2.06-.94-.94-2.06-.94 2.06-2.06.94z\"/><path d=\"M17.41 7.96l-1.37-1.37c-.4-.4-.92-.59-1.43-.59-.52 0-1.04.2-1.43.59L10.3 9.45l-7.72 7.72c-.78.78-.78 2.05 0 2.83L4 21.41c.39.39.9.59 1.41.59.51 0 1.02-.2 1.41-.59l7.78-7.78 2.81-2.81c.8-.78.8-2.07 0-2.86zM5.41 20L4 18.59l7.72-7.72 1.47 1.35L5.41 20z\"/>\n",
              "  </svg>\n",
              "      </button>\n",
              "      \n",
              "  <style>\n",
              "    .colab-df-container {\n",
              "      display:flex;\n",
              "      flex-wrap:wrap;\n",
              "      gap: 12px;\n",
              "    }\n",
              "\n",
              "    .colab-df-convert {\n",
              "      background-color: #E8F0FE;\n",
              "      border: none;\n",
              "      border-radius: 50%;\n",
              "      cursor: pointer;\n",
              "      display: none;\n",
              "      fill: #1967D2;\n",
              "      height: 32px;\n",
              "      padding: 0 0 0 0;\n",
              "      width: 32px;\n",
              "    }\n",
              "\n",
              "    .colab-df-convert:hover {\n",
              "      background-color: #E2EBFA;\n",
              "      box-shadow: 0px 1px 2px rgba(60, 64, 67, 0.3), 0px 1px 3px 1px rgba(60, 64, 67, 0.15);\n",
              "      fill: #174EA6;\n",
              "    }\n",
              "\n",
              "    [theme=dark] .colab-df-convert {\n",
              "      background-color: #3B4455;\n",
              "      fill: #D2E3FC;\n",
              "    }\n",
              "\n",
              "    [theme=dark] .colab-df-convert:hover {\n",
              "      background-color: #434B5C;\n",
              "      box-shadow: 0px 1px 3px 1px rgba(0, 0, 0, 0.15);\n",
              "      filter: drop-shadow(0px 1px 2px rgba(0, 0, 0, 0.3));\n",
              "      fill: #FFFFFF;\n",
              "    }\n",
              "  </style>\n",
              "\n",
              "      <script>\n",
              "        const buttonEl =\n",
              "          document.querySelector('#df-61361fb8-14eb-41a7-aaf7-028a53894392 button.colab-df-convert');\n",
              "        buttonEl.style.display =\n",
              "          google.colab.kernel.accessAllowed ? 'block' : 'none';\n",
              "\n",
              "        async function convertToInteractive(key) {\n",
              "          const element = document.querySelector('#df-61361fb8-14eb-41a7-aaf7-028a53894392');\n",
              "          const dataTable =\n",
              "            await google.colab.kernel.invokeFunction('convertToInteractive',\n",
              "                                                     [key], {});\n",
              "          if (!dataTable) return;\n",
              "\n",
              "          const docLinkHtml = 'Like what you see? Visit the ' +\n",
              "            '<a target=\"_blank\" href=https://colab.research.google.com/notebooks/data_table.ipynb>data table notebook</a>'\n",
              "            + ' to learn more about interactive tables.';\n",
              "          element.innerHTML = '';\n",
              "          dataTable['output_type'] = 'display_data';\n",
              "          await google.colab.output.renderOutput(dataTable, element);\n",
              "          const docLink = document.createElement('div');\n",
              "          docLink.innerHTML = docLinkHtml;\n",
              "          element.appendChild(docLink);\n",
              "        }\n",
              "      </script>\n",
              "    </div>\n",
              "  </div>\n",
              "  "
            ]
          },
          "metadata": {},
          "execution_count": 122
        }
      ],
      "source": [
        "dataframe_difference(df_val, df_test, which='both')"
      ]
    },
    {
      "cell_type": "markdown",
      "metadata": {
        "id": "afGnxcJZeVJP"
      },
      "source": [
        "## Cleaning"
      ]
    },
    {
      "cell_type": "markdown",
      "metadata": {
        "id": "THOuWz-meVJP"
      },
      "source": [
        "In[ ]:"
      ]
    },
    {
      "cell_type": "code",
      "execution_count": 123,
      "metadata": {
        "id": "P_UOi-9keVJQ"
      },
      "outputs": [],
      "source": [
        "def lemmatization(text):\n",
        "    lemmatizer= WordNetLemmatizer()\n",
        "    text = text.split()\n",
        "    text=[lemmatizer.lemmatize(y) for y in text]\n",
        "    \n",
        "    return \" \" .join(text)"
      ]
    },
    {
      "cell_type": "code",
      "execution_count": 124,
      "metadata": {
        "id": "iExpijlyeVJQ"
      },
      "outputs": [],
      "source": [
        "def remove_stop_words(text):\n",
        "    Text=[i for i in str(text).split() if i not in stop_words]\n",
        "    return \" \".join(Text)"
      ]
    },
    {
      "cell_type": "code",
      "execution_count": 125,
      "metadata": {
        "id": "otFNRmYBeVJQ"
      },
      "outputs": [],
      "source": [
        "def Removing_numbers(text):\n",
        "    text=''.join([i for i in text if not i.isdigit()])\n",
        "    return text"
      ]
    },
    {
      "cell_type": "code",
      "execution_count": 126,
      "metadata": {
        "id": "33ZWVZHGeVJR"
      },
      "outputs": [],
      "source": [
        "def lower_case(text):\n",
        "    \n",
        "    text = text.split()\n",
        "    text=[y.lower() for y in text]\n",
        "    \n",
        "    return \" \" .join(text)"
      ]
    },
    {
      "cell_type": "code",
      "execution_count": 127,
      "metadata": {
        "id": "uZQTGmpqeVJR"
      },
      "outputs": [],
      "source": [
        "def Removing_punctuations(text):\n",
        "    ## Remove punctuations\n",
        "    text = re.sub('[%s]' % re.escape(\"\"\"!\"#$%&'()*+,،-./:;<=>؟?@[\\]^_`{|}~\"\"\"), ' ', text)\n",
        "    text = text.replace('؛',\"\", )\n",
        "    \n",
        "    ## remove extra whitespace\n",
        "    text = re.sub('\\s+', ' ', text)\n",
        "    text =  \" \".join(text.split())\n",
        "    return text.strip()"
      ]
    },
    {
      "cell_type": "code",
      "execution_count": 128,
      "metadata": {
        "id": "EhW2SvGxeVJS"
      },
      "outputs": [],
      "source": [
        "def Removing_urls(text):\n",
        "    url_pattern = re.compile(r'https?://\\S+|www\\.\\S+')\n",
        "    return url_pattern.sub(r'', text)"
      ]
    },
    {
      "cell_type": "code",
      "execution_count": 129,
      "metadata": {
        "id": "fwK07wKveVJT"
      },
      "outputs": [],
      "source": [
        "def remove_small_sentences(df):\n",
        "    for i in range(len(df)):\n",
        "        if len(df.text.iloc[i].split()) < 3:\n",
        "            df.text.iloc[i] = np.nan\n",
        "            \n",
        "def normalize_text(df):\n",
        "    df.Text=df.Text.apply(lambda text : lower_case(text))\n",
        "    df.Text=df.Text.apply(lambda text : remove_stop_words(text))\n",
        "    df.Text=df.Text.apply(lambda text : Removing_numbers(text))\n",
        "    df.Text=df.Text.apply(lambda text : Removing_punctuations(text))\n",
        "    df.Text=df.Text.apply(lambda text : Removing_urls(text))\n",
        "    df.Text=df.Text.apply(lambda text : lemmatization(text))\n",
        "    return df"
      ]
    },
    {
      "cell_type": "code",
      "execution_count": 130,
      "metadata": {
        "id": "geaelOqseVJT"
      },
      "outputs": [],
      "source": [
        "def normalized_sentence(sentence):\n",
        "    sentence= lower_case(sentence)\n",
        "    sentence= remove_stop_words(sentence)\n",
        "    sentence= Removing_numbers(sentence)\n",
        "    sentence= Removing_punctuations(sentence)\n",
        "    sentence= Removing_urls(sentence)\n",
        "    sentence= lemmatization(sentence)\n",
        "    return sentence\n",
        "    "
      ]
    },
    {
      "cell_type": "code",
      "execution_count": 131,
      "metadata": {
        "colab": {
          "base_uri": "https://localhost:8080/"
        },
        "id": "WeiOb2Z0fmSc",
        "outputId": "934dc698-0d35-4e5d-9188-cae360442a1a"
      },
      "outputs": [
        {
          "output_type": "stream",
          "name": "stderr",
          "text": [
            "[nltk_data] Downloading package wordnet to /root/nltk_data...\n",
            "[nltk_data]   Package wordnet is already up-to-date!\n"
          ]
        },
        {
          "output_type": "execute_result",
          "data": {
            "text/plain": [
              "True"
            ]
          },
          "metadata": {},
          "execution_count": 131
        }
      ],
      "source": [
        "nltk.download('wordnet')"
      ]
    },
    {
      "cell_type": "markdown",
      "metadata": {
        "id": "ulXQjV39eVJU"
      },
      "source": [
        "In[ ]:"
      ]
    },
    {
      "cell_type": "code",
      "execution_count": 57,
      "metadata": {
        "colab": {
          "base_uri": "https://localhost:8080/",
          "height": 35
        },
        "id": "2KTrhjaleVJU",
        "outputId": "3356bfe5-b9f9-4979-8e39-610bbc49a5c1"
      },
      "outputs": [
        {
          "output_type": "execute_result",
          "data": {
            "text/plain": [
              "'name mohamed tweet play egypt'"
            ],
            "application/vnd.google.colaboratory.intrinsic+json": {
              "type": "string"
            }
          },
          "metadata": {},
          "execution_count": 57
        }
      ],
      "source": [
        "normalized_sentence(\"My Name is Mohamed. @Tweets,  plays 2022  Egypt_\")"
      ]
    },
    {
      "cell_type": "markdown",
      "metadata": {
        "id": "WXohEarTeVJU"
      },
      "source": [
        "In[ ]:"
      ]
    },
    {
      "cell_type": "code",
      "execution_count": 58,
      "metadata": {
        "id": "CCrgvLB5eVJU"
      },
      "outputs": [],
      "source": [
        "df_train= normalize_text(df_train)\n",
        "df_test= normalize_text(df_test)\n",
        "df_val= normalize_text(df_val)"
      ]
    },
    {
      "cell_type": "markdown",
      "metadata": {
        "id": "PAMYNiJseVJV"
      },
      "source": [
        "plitting the text from the labels"
      ]
    },
    {
      "cell_type": "code",
      "execution_count": 59,
      "metadata": {
        "id": "fgKO2a_xeVJV"
      },
      "outputs": [],
      "source": [
        "X_train = df_train['Text']\n",
        "y_train = df_train['Emotion']"
      ]
    },
    {
      "cell_type": "code",
      "execution_count": 60,
      "metadata": {
        "id": "79P5a6tXeVJV"
      },
      "outputs": [],
      "source": [
        "X_test = df_test['Text']\n",
        "y_test = df_test['Emotion']"
      ]
    },
    {
      "cell_type": "code",
      "execution_count": 61,
      "metadata": {
        "id": "Kfcb1eczeVJW"
      },
      "outputs": [],
      "source": [
        "X_val = df_val['Text']\n",
        "y_val = df_val['Emotion']"
      ]
    },
    {
      "cell_type": "markdown",
      "metadata": {
        "id": "oygVvcGQeVJW"
      },
      "source": [
        "In[ ]:"
      ]
    },
    {
      "cell_type": "markdown",
      "metadata": {
        "id": "rN-xfoXReVJW"
      },
      "source": [
        "Encode labels"
      ]
    },
    {
      "cell_type": "code",
      "execution_count": 62,
      "metadata": {
        "id": "xU4PD97SeVJW"
      },
      "outputs": [],
      "source": [
        "le = LabelEncoder()\n",
        "y_train = le.fit_transform(y_train)\n",
        "y_test = le.transform(y_test)\n",
        "y_val = le.transform(y_val)"
      ]
    },
    {
      "cell_type": "markdown",
      "metadata": {
        "id": "O68LltwleVJX"
      },
      "source": [
        "In[ ]:"
      ]
    },
    {
      "cell_type": "code",
      "execution_count": 63,
      "metadata": {
        "colab": {
          "base_uri": "https://localhost:8080/"
        },
        "id": "BYNZev4ReVJX",
        "outputId": "b8a3af47-1ec6-46ae-9b21-f1cd3c8e54e0"
      },
      "outputs": [
        {
          "output_type": "stream",
          "name": "stdout",
          "text": [
            "{0, 1, 2, 3, 4, 5}\n"
          ]
        }
      ],
      "source": [
        "print(set(y_train))"
      ]
    },
    {
      "cell_type": "markdown",
      "metadata": {
        "id": "dKHUU9G-eVJX"
      },
      "source": [
        "In[ ]:"
      ]
    },
    {
      "cell_type": "markdown",
      "metadata": {
        "id": "ioezLXSpeVJY"
      },
      "source": [
        "onvert the class vector (integers) to binary class matrix"
      ]
    },
    {
      "cell_type": "code",
      "execution_count": 64,
      "metadata": {
        "id": "xn2fmmKPeVJY"
      },
      "outputs": [],
      "source": [
        "y_train = to_categorical(y_train)\n",
        "y_test = to_categorical(y_test)\n",
        "y_val = to_categorical(y_val)"
      ]
    },
    {
      "cell_type": "markdown",
      "metadata": {
        "id": "aquL2p1meVJY"
      },
      "source": [
        "In[ ]:"
      ]
    },
    {
      "cell_type": "code",
      "execution_count": 65,
      "metadata": {
        "colab": {
          "base_uri": "https://localhost:8080/"
        },
        "id": "gFPG7N73eVJZ",
        "outputId": "11f24df9-dee3-43cb-df5b-cf1fe615590b"
      },
      "outputs": [
        {
          "output_type": "stream",
          "name": "stdout",
          "text": [
            "[[0. 0. 0. 0. 1. 0.]\n",
            " [0. 0. 0. 0. 1. 0.]\n",
            " [1. 0. 0. 0. 0. 0.]\n",
            " ...\n",
            " [0. 0. 1. 0. 0. 0.]\n",
            " [1. 0. 0. 0. 0. 0.]\n",
            " [0. 0. 0. 0. 1. 0.]]\n"
          ]
        }
      ],
      "source": [
        "print(y_train)"
      ]
    },
    {
      "cell_type": "markdown",
      "metadata": {
        "id": "Nxv6rjtfeVJZ"
      },
      "source": [
        "## Tokenizing"
      ]
    },
    {
      "cell_type": "markdown",
      "metadata": {
        "id": "SAEiK8M_eVJZ"
      },
      "source": [
        "In[ ]:"
      ]
    },
    {
      "cell_type": "markdown",
      "metadata": {
        "id": "n3XN7Uk7eVJZ"
      },
      "source": [
        "Tokenize words"
      ]
    },
    {
      "cell_type": "code",
      "execution_count": 66,
      "metadata": {
        "id": "EC3WmFe-eVJa"
      },
      "outputs": [],
      "source": [
        "tokenizer = Tokenizer(oov_token='UNK')\n",
        "tokenizer.fit_on_texts(np.concatenate([X_train, X_test], axis=0))"
      ]
    },
    {
      "cell_type": "markdown",
      "metadata": {
        "id": "8AsLh98_eVJa"
      },
      "source": [
        "In[ ]:"
      ]
    },
    {
      "cell_type": "markdown",
      "metadata": {
        "id": "jSm5askzeVJb"
      },
      "source": [
        "ord index: A dictionary of words and their uniquely assigned integers.<br>\n",
        "okenizer.word_index"
      ]
    },
    {
      "cell_type": "markdown",
      "metadata": {
        "id": "opVrgTfLeVJc"
      },
      "source": [
        "In[ ]:"
      ]
    },
    {
      "cell_type": "markdown",
      "metadata": {
        "id": "MzauXNNgeVJc"
      },
      "source": [
        "ord counts: A dictionary of words and their counts.<br>\n",
        "okenizer.word_counts"
      ]
    },
    {
      "cell_type": "markdown",
      "metadata": {
        "id": "A09thdgoeVJd"
      },
      "source": [
        "In[ ]:"
      ]
    },
    {
      "cell_type": "markdown",
      "metadata": {
        "id": "zkehte8keVJd"
      },
      "source": [
        "ocument count: A dictionary of words and how many documents each appeared in.<br>\n",
        "n this dataset the output will be the number of rows"
      ]
    },
    {
      "cell_type": "code",
      "execution_count": 67,
      "metadata": {
        "colab": {
          "base_uri": "https://localhost:8080/"
        },
        "id": "4lekg5fveVJe",
        "outputId": "7a5fe4d9-ffe0-4f58-ed1d-46a97b875e21"
      },
      "outputs": [
        {
          "output_type": "execute_result",
          "data": {
            "text/plain": [
              "17969"
            ]
          },
          "metadata": {},
          "execution_count": 67
        }
      ],
      "source": [
        "tokenizer.document_count"
      ]
    },
    {
      "cell_type": "markdown",
      "metadata": {
        "id": "dbLl8IY7eVJe"
      },
      "source": [
        "In[ ]:"
      ]
    },
    {
      "cell_type": "markdown",
      "metadata": {
        "id": "nfcOZUkReVJf"
      },
      "source": [
        "ord docs: An integer count of the total number of documents(or rows) that were used to fit the Tokenizer.<br>\n",
        "okenizer.word_docs"
      ]
    },
    {
      "cell_type": "markdown",
      "metadata": {
        "id": "MEbAooAKeVJf"
      },
      "source": [
        "In[ ]:"
      ]
    },
    {
      "cell_type": "markdown",
      "metadata": {
        "id": "4NBjznlLeVJf"
      },
      "source": [
        "rint the index of a single word"
      ]
    },
    {
      "cell_type": "code",
      "execution_count": 68,
      "metadata": {
        "colab": {
          "base_uri": "https://localhost:8080/"
        },
        "id": "rCTJl17WeVJf",
        "outputId": "628745a5-20ca-4d56-f594-dd1d817aae38"
      },
      "outputs": [
        {
          "output_type": "execute_result",
          "data": {
            "text/plain": [
              "220"
            ]
          },
          "metadata": {},
          "execution_count": 68
        }
      ],
      "source": [
        "tokenizer.word_index['towards']"
      ]
    },
    {
      "cell_type": "markdown",
      "metadata": {
        "id": "g4g6uKjPeVJf"
      },
      "source": [
        "In[ ]:"
      ]
    },
    {
      "cell_type": "markdown",
      "metadata": {
        "id": "K3uMiP55eVJf"
      },
      "source": [
        "onverting a single sentence to list of indexes"
      ]
    },
    {
      "cell_type": "code",
      "execution_count": 69,
      "metadata": {
        "colab": {
          "base_uri": "https://localhost:8080/"
        },
        "id": "ZePUoVeyeVJg",
        "outputId": "f63ee1b0-3f3f-405d-e639-484a39f0d376"
      },
      "outputs": [
        {
          "output_type": "execute_result",
          "data": {
            "text/plain": [
              "[[53], [2], [531]]"
            ]
          },
          "metadata": {},
          "execution_count": 69
        }
      ],
      "source": [
        "tokenizer.texts_to_sequences(X_train[0].split())"
      ]
    },
    {
      "cell_type": "markdown",
      "metadata": {
        "id": "dCSpL7j4eVJg"
      },
      "source": [
        "In[ ]:"
      ]
    },
    {
      "cell_type": "markdown",
      "metadata": {
        "id": "0sMq-HwHeVJg"
      },
      "source": [
        "onvert the list of indexes into a matrix of ones and zeros (BOW)"
      ]
    },
    {
      "cell_type": "code",
      "execution_count": 70,
      "metadata": {
        "colab": {
          "base_uri": "https://localhost:8080/"
        },
        "id": "sIYpWElXeVJg",
        "outputId": "ae70cdcb-324e-4ecb-ab44-e9780706cdb6"
      },
      "outputs": [
        {
          "output_type": "execute_result",
          "data": {
            "text/plain": [
              "array([[0., 0., 0., ..., 0., 0., 0.],\n",
              "       [0., 0., 1., ..., 0., 0., 0.],\n",
              "       [0., 0., 0., ..., 0., 0., 0.]])"
            ]
          },
          "metadata": {},
          "execution_count": 70
        }
      ],
      "source": [
        "tokenizer.texts_to_matrix(X_train[0].split())"
      ]
    },
    {
      "cell_type": "markdown",
      "metadata": {
        "id": "Spmsb3_LeVJh"
      },
      "source": [
        "In[ ]:"
      ]
    },
    {
      "cell_type": "markdown",
      "metadata": {
        "id": "_YmOGi9VeVJh"
      },
      "source": [
        "he sentence contains three words and the size of the vocabulary is 14325"
      ]
    },
    {
      "cell_type": "code",
      "execution_count": 71,
      "metadata": {
        "colab": {
          "base_uri": "https://localhost:8080/"
        },
        "id": "5wqIzUdOeVJi",
        "outputId": "a0e8a99d-05d4-4f5f-c885-e9d4a944b08c"
      },
      "outputs": [
        {
          "output_type": "execute_result",
          "data": {
            "text/plain": [
              "(3, 14325)"
            ]
          },
          "metadata": {},
          "execution_count": 71
        }
      ],
      "source": [
        "tokenizer.texts_to_matrix(X_train[0].split()).shape"
      ]
    },
    {
      "cell_type": "markdown",
      "metadata": {
        "id": "M4eWfNfZeVJi"
      },
      "source": [
        "In[ ]:"
      ]
    },
    {
      "cell_type": "code",
      "execution_count": 72,
      "metadata": {
        "id": "bDqCraxLeVJi"
      },
      "outputs": [],
      "source": [
        "sequences_train = tokenizer.texts_to_sequences(X_train)\n",
        "sequences_test = tokenizer.texts_to_sequences(X_test)\n",
        "sequences_val = tokenizer.texts_to_sequences(X_val)"
      ]
    },
    {
      "cell_type": "markdown",
      "metadata": {
        "id": "ULonV_IneVJj"
      },
      "source": [
        "In[ ]:"
      ]
    },
    {
      "cell_type": "markdown",
      "metadata": {
        "id": "ITfkm8W3eVJj"
      },
      "source": [
        "rint the sentence after converting them to indexes<br>\n",
        "equences_train"
      ]
    },
    {
      "cell_type": "markdown",
      "metadata": {
        "id": "XR2HcIYAeVJj"
      },
      "source": [
        "## Padding<br>\n",
        "<br>\n",
        "The vectors we obtain are generally not of equal lengths<br>\n",
        "<br>\n",
        "For that, we might need to pad the sequences to max len. "
      ]
    },
    {
      "cell_type": "markdown",
      "metadata": {
        "id": "HZ1V0prAeVJk"
      },
      "source": [
        "In[ ]:"
      ]
    },
    {
      "cell_type": "code",
      "execution_count": 73,
      "metadata": {
        "colab": {
          "base_uri": "https://localhost:8080/"
        },
        "id": "CXBN8II_eVJk",
        "outputId": "9558ab76-a5b3-426c-a973-9046dd90f47d"
      },
      "outputs": [
        {
          "output_type": "execute_result",
          "data": {
            "text/plain": [
              "(2000, 2)"
            ]
          },
          "metadata": {},
          "execution_count": 73
        }
      ],
      "source": [
        "df_test.shape"
      ]
    },
    {
      "cell_type": "markdown",
      "metadata": {
        "id": "ZtN_lIcYeVJk"
      },
      "source": [
        "In[ ]:"
      ]
    },
    {
      "cell_type": "code",
      "execution_count": 74,
      "metadata": {
        "colab": {
          "base_uri": "https://localhost:8080/"
        },
        "id": "Gv6yNNkMeVJl",
        "outputId": "fc20fca0-875b-46c5-850e-83d462837b47"
      },
      "outputs": [
        {
          "output_type": "execute_result",
          "data": {
            "text/plain": [
              "229"
            ]
          },
          "metadata": {},
          "execution_count": 74
        }
      ],
      "source": [
        "maxlen = max([len(t) for t in df_train['Text']])\n",
        "maxlen"
      ]
    },
    {
      "cell_type": "markdown",
      "metadata": {
        "id": "C-vaBLJFeVJl"
      },
      "source": [
        "In[ ]:"
      ]
    },
    {
      "cell_type": "code",
      "execution_count": 75,
      "metadata": {
        "id": "3Cx28bF9eVJl"
      },
      "outputs": [],
      "source": [
        "X_train = pad_sequences(sequences_train, maxlen=229, truncating='pre')\n",
        "X_test = pad_sequences(sequences_test, maxlen=229, truncating='pre')\n",
        "X_val = pad_sequences(sequences_val, maxlen=229, truncating='pre')"
      ]
    },
    {
      "cell_type": "code",
      "execution_count": 76,
      "metadata": {
        "colab": {
          "base_uri": "https://localhost:8080/"
        },
        "id": "7A7u8_B2eVJn",
        "outputId": "d54cc6b5-265b-473f-87c2-e6094df33262"
      },
      "outputs": [
        {
          "output_type": "stream",
          "name": "stdout",
          "text": [
            "Vocabulary size = 14325\n"
          ]
        }
      ],
      "source": [
        "vocabSize = len(tokenizer.index_word) + 1\n",
        "print(f\"Vocabulary size = {vocabSize}\")"
      ]
    },
    {
      "cell_type": "markdown",
      "metadata": {
        "id": "9IXUzZwWeVJn"
      },
      "source": [
        "In[ ]:"
      ]
    },
    {
      "cell_type": "markdown",
      "metadata": {
        "id": "UlGWVH69eVJn"
      },
      "source": [
        "efore"
      ]
    },
    {
      "cell_type": "code",
      "execution_count": 77,
      "metadata": {
        "colab": {
          "base_uri": "https://localhost:8080/"
        },
        "id": "qaI1svyHeVJn",
        "outputId": "0d5609bf-03c6-4c80-f0c8-6bc34129e64e"
      },
      "outputs": [
        {
          "output_type": "execute_result",
          "data": {
            "text/plain": [
              "[53, 2, 531]"
            ]
          },
          "metadata": {},
          "execution_count": 77
        }
      ],
      "source": [
        "sequences_train[0]"
      ]
    },
    {
      "cell_type": "markdown",
      "metadata": {
        "id": "_gkccVcReVJn"
      },
      "source": [
        "In[ ]:"
      ]
    },
    {
      "cell_type": "markdown",
      "metadata": {
        "id": "bVyxXdvteVJn"
      },
      "source": [
        "fter"
      ]
    },
    {
      "cell_type": "code",
      "execution_count": 78,
      "metadata": {
        "colab": {
          "base_uri": "https://localhost:8080/"
        },
        "id": "2UB3rQpEeVJn",
        "outputId": "2ac1442a-3701-4341-961a-80acb45596ad"
      },
      "outputs": [
        {
          "output_type": "execute_result",
          "data": {
            "text/plain": [
              "array([  0,   0,   0,   0,   0,   0,   0,   0,   0,   0,   0,   0,   0,\n",
              "         0,   0,   0,   0,   0,   0,   0,   0,   0,   0,   0,   0,   0,\n",
              "         0,   0,   0,   0,   0,   0,   0,   0,   0,   0,   0,   0,   0,\n",
              "         0,   0,   0,   0,   0,   0,   0,   0,   0,   0,   0,   0,   0,\n",
              "         0,   0,   0,   0,   0,   0,   0,   0,   0,   0,   0,   0,   0,\n",
              "         0,   0,   0,   0,   0,   0,   0,   0,   0,   0,   0,   0,   0,\n",
              "         0,   0,   0,   0,   0,   0,   0,   0,   0,   0,   0,   0,   0,\n",
              "         0,   0,   0,   0,   0,   0,   0,   0,   0,   0,   0,   0,   0,\n",
              "         0,   0,   0,   0,   0,   0,   0,   0,   0,   0,   0,   0,   0,\n",
              "         0,   0,   0,   0,   0,   0,   0,   0,   0,   0,   0,   0,   0,\n",
              "         0,   0,   0,   0,   0,   0,   0,   0,   0,   0,   0,   0,   0,\n",
              "         0,   0,   0,   0,   0,   0,   0,   0,   0,   0,   0,   0,   0,\n",
              "         0,   0,   0,   0,   0,   0,   0,   0,   0,   0,   0,   0,   0,\n",
              "         0,   0,   0,   0,   0,   0,   0,   0,   0,   0,   0,   0,   0,\n",
              "         0,   0,   0,   0,   0,   0,   0,   0,   0,   0,   0,   0,   0,\n",
              "         0,   0,   0,   0,   0,   0,   0,   0,   0,   0,   0,   0,   0,\n",
              "         0,   0,   0,   0,   0,   0,   0,   0,   0,   0,   0,   0,   0,\n",
              "         0,   0,   0,   0,   0,  53,   2, 531], dtype=int32)"
            ]
          },
          "metadata": {},
          "execution_count": 78
        }
      ],
      "source": [
        "X_train[0]"
      ]
    },
    {
      "cell_type": "markdown",
      "metadata": {
        "id": "uV7Dqk6-eVJo"
      },
      "source": [
        "## Word Embedding"
      ]
    },
    {
      "cell_type": "markdown",
      "metadata": {
        "id": "ZH9Woza6eVJo"
      },
      "source": [
        "**This code defines the following variables:**<br>\n",
        "<br>\n",
        "**path_to_glove_file**: The file path to the GloVe word vectors file.<br>\n",
        "<br>\n",
        "**num_tokens**: The size of the vocabulary. This is typically the number of unique words in the dataset.<br>\n",
        "<br>\n",
        "**embedding_dim**: The dimensionality of the word vectors. This is usually set to a fixed value (e.g., 200, 300, etc.) depending on the size of the word vectors file that is being used.<br>\n",
        "<br>\n",
        "**hits**: A counter for the number of words that are found in the embeddings_index dictionary.<br>\n",
        "<br>\n",
        "**misses**: A counter for the number of words that are not found in the embeddings_index dictionary.<br>\n",
        "<br>\n",
        "**embeddings_index**: A dictionary that will store the word vectors, with the words as keys and the word vectors as values."
      ]
    },
    {
      "cell_type": "markdown",
      "metadata": {
        "id": "wd2pUU1feVJo"
      },
      "source": [
        "In[ ]:"
      ]
    },
    {
      "cell_type": "markdown",
      "metadata": {
        "id": "KlL1OqqIeVJo"
      },
      "source": [
        "Read GloVE embeddings"
      ]
    },
    {
      "cell_type": "code",
      "execution_count": 79,
      "metadata": {
        "id": "ma1Qhhf7eVJp"
      },
      "outputs": [],
      "source": [
        "path_to_glove_file = '/content/drive/MyDrive/Sentiment_Dataset/input_glove/glove.6B.200d.txt'\n",
        "num_tokens = vocabSize\n",
        "embedding_dim = 200 #latent factors or features  \n",
        "hits = 0\n",
        "misses = 0\n",
        "embeddings_index = {}"
      ]
    },
    {
      "cell_type": "markdown",
      "metadata": {
        "id": "aaphsG97eVJp"
      },
      "source": [
        "I will intialize an embedding matrix with all zero values and then looping through the vocabulary (as defined by the tokenizer object) to assign word vectors to the corresponding rows of the embedding matrix. The word_index attribute of the tokenizer object is a dictionary that maps words to their indices in the vocabulary.<br>\n",
        "<br>\n",
        "The embedding matrix will have a size of num_tokens rows and embedding_dim columns, where num_tokens is the size of the vocabulary and embedding_dim is the dimensionality of the word vectors.<br>\n",
        "<br>\n",
        "For each word in the vocabulary, the code looks up the corresponding word vector in the embeddings_index dictionary and assigns it to the corresponding row of the embedding matrix. If the word is not found in the embeddings_index dictionary (i.e., if embedding_vector is None), the code increments the misses counter and the row of the embedding matrix remains all-zeros. If the word is found in the embeddings_index dictionary, the code increments the hits counter and assigns the word vector to the corresponding row of the embedding matrix. Finally, the code prints out the number of words that were converted (hits) and the number that were not found in the embeddings_index dictionary (misses)."
      ]
    },
    {
      "cell_type": "markdown",
      "metadata": {
        "id": "5M_a9OSheVJp"
      },
      "source": [
        "In[ ]:"
      ]
    },
    {
      "cell_type": "markdown",
      "metadata": {
        "id": "JseyfTI0eVJq"
      },
      "source": [
        "Read word vectors"
      ]
    },
    {
      "cell_type": "code",
      "execution_count": 80,
      "metadata": {
        "colab": {
          "base_uri": "https://localhost:8080/"
        },
        "id": "s0xn0W1heVJq",
        "outputId": "c84157fe-a177-47c0-9278-fee08253c8cc"
      },
      "outputs": [
        {
          "output_type": "stream",
          "name": "stdout",
          "text": [
            "Found 265985 word vectors.\n"
          ]
        }
      ],
      "source": [
        "with open(path_to_glove_file) as f:\n",
        "    for line in f:\n",
        "        word, coefs = line.split(maxsplit=1)\n",
        "        coefs = np.fromstring(coefs, \"f\", sep=\" \")\n",
        "        embeddings_index[word] = coefs\n",
        "print(\"Found %s word vectors.\" % len(embeddings_index))"
      ]
    },
    {
      "cell_type": "markdown",
      "metadata": {
        "id": "VL2iY7MYeVJq"
      },
      "source": [
        "Assign word vectors to our dictionary/vocabulary"
      ]
    },
    {
      "cell_type": "code",
      "execution_count": 81,
      "metadata": {
        "colab": {
          "base_uri": "https://localhost:8080/"
        },
        "id": "Bmt6LOY2eVJr",
        "outputId": "b0891d1a-8f0e-4f2e-d4c8-a13927e1c565"
      },
      "outputs": [
        {
          "output_type": "stream",
          "name": "stdout",
          "text": [
            "Converted 13048 words (1276 misses)\n"
          ]
        }
      ],
      "source": [
        "embedding_matrix = np.zeros((num_tokens, embedding_dim))\n",
        "for word, i in tokenizer.word_index.items():\n",
        "    embedding_vector = embeddings_index.get(word)\n",
        "    if embedding_vector is not None:\n",
        "        # Words not found in embedding index will be all-zeros.\n",
        "        # This includes the representation for \"padding\" and \"OOV\"\n",
        "        embedding_matrix[i] = embedding_vector\n",
        "        hits += 1\n",
        "    else:\n",
        "        misses += 1\n",
        "print(\"Converted %d words (%d misses)\" % (hits, misses))"
      ]
    },
    {
      "cell_type": "markdown",
      "metadata": {
        "id": "AvGETD2geVJr"
      },
      "source": [
        "## Modeling"
      ]
    },
    {
      "cell_type": "markdown",
      "metadata": {
        "id": "ysNcsAlIeVJr"
      },
      "source": [
        "**The model consists of several layers:**<br>\n",
        "<br>\n",
        "1. An Embedding layer that takes in integer-encoded text and looks up the embedding vector for each word in the input. The input length is set to the length of the input sequences, and the weights are initialized with an embedding matrix that has been pre-trained on a large dataset. The embedding layer is not trainable, meaning that the weights of this layer will not be updated during training.<br>\n",
        "<br>\n",
        "2. Three Bidirectional layers, each of which applies a forward and backward LSTM to the input. LSTMs are a type of recurrent neural network that are able to capture long-term dependencies in sequential data. The dropout and recurrent dropout arguments specify the dropout rate to apply to the inputs and recurrent inputs of the LSTMs, respectively. The return_sequences argument specifies whether the LSTM should return the full sequences of outputs or just the last output of each sequence.<br>\n",
        "<br>\n",
        "3. A Dense layer that applies a linear transformation to the input to produce the output. The output has 6 units and uses the 'softmax' activation function, which means that it will output a probability distribution over the 6 classes."
      ]
    },
    {
      "cell_type": "markdown",
      "metadata": {
        "id": "hLKnQpgjeVJs"
      },
      "source": [
        "In[ ]:"
      ]
    },
    {
      "cell_type": "markdown",
      "metadata": {
        "id": "oQe9U6LZeVJs"
      },
      "source": [
        "Build neural network architecture"
      ]
    },
    {
      "cell_type": "code",
      "execution_count": 82,
      "metadata": {
        "id": "iv8DFSA7eVJs"
      },
      "outputs": [],
      "source": [
        "adam = Adam(learning_rate=0.005)"
      ]
    },
    {
      "cell_type": "code",
      "execution_count": 83,
      "metadata": {
        "id": "-zlwVT05eVJt"
      },
      "outputs": [],
      "source": [
        "model = Sequential()\n",
        "model.add(Embedding(vocabSize, embedding_dim, input_length=X_train.shape[1], weights=[embedding_matrix], trainable=False))\n",
        "#model.add(Bidirectional(LSTM(256, dropout=0.2,recurrent_dropout=0.2, return_sequences=True)))\n",
        "model.add(Bidirectional(LSTM(128, dropout=0.2,recurrent_dropout=0.2, return_sequences=True)))\n",
        "model.add(Bidirectional(LSTM(64, dropout=0.2,recurrent_dropout=0.2, return_sequences=True)))\n",
        "model.add(Bidirectional(LSTM(32, dropout=0.2,recurrent_dropout=0.2)))\n",
        "#model.add(Bidirectional(LSTM(12, dropout=0.2,recurrent_dropout=0.2)))\n",
        "model.add(Dense(6, activation='softmax'))"
      ]
    },
    {
      "cell_type": "code",
      "execution_count": 84,
      "metadata": {
        "colab": {
          "base_uri": "https://localhost:8080/"
        },
        "id": "jm1ItxbJeVJt",
        "outputId": "92d4d7b6-936c-472e-ac45-a73f6b0b3efb"
      },
      "outputs": [
        {
          "output_type": "stream",
          "name": "stdout",
          "text": [
            "Model: \"sequential\"\n",
            "_________________________________________________________________\n",
            " Layer (type)                Output Shape              Param #   \n",
            "=================================================================\n",
            " embedding (Embedding)       (None, 229, 200)          2865000   \n",
            "                                                                 \n",
            " bidirectional (Bidirectiona  (None, 229, 256)         336896    \n",
            " l)                                                              \n",
            "                                                                 \n",
            " bidirectional_1 (Bidirectio  (None, 229, 128)         164352    \n",
            " nal)                                                            \n",
            "                                                                 \n",
            " bidirectional_2 (Bidirectio  (None, 64)               41216     \n",
            " nal)                                                            \n",
            "                                                                 \n",
            " dense (Dense)               (None, 6)                 390       \n",
            "                                                                 \n",
            "=================================================================\n",
            "Total params: 3,407,854\n",
            "Trainable params: 542,854\n",
            "Non-trainable params: 2,865,000\n",
            "_________________________________________________________________\n"
          ]
        }
      ],
      "source": [
        "model.compile(loss='categorical_crossentropy', optimizer=adam, metrics=['accuracy'])\n",
        "model.summary()"
      ]
    },
    {
      "cell_type": "markdown",
      "metadata": {
        "id": "kZw7miYJeVJu"
      },
      "source": [
        "**This is the summary of a deep learning model built using the Keras functional API. The model consists of several layers, each of which has a specific type and number of parameters.**<br>\n",
        "<br>\n",
        "1. The first layer is an \"Embedding\" layer, which takes in integer-encoded text and looks up the embedding vector for each word in the input. The output of this layer is a 3D tensor with shape (batch_size, sequence_length, embedding_dim), where batch_size is the number of examples in the batch, sequence_length is the length of the input sequences, and embedding_dim is the size of the embedding vectors. In this case, the input sequences are 229 words long and the embedding vectors are 200 dimensions. The embedding layer has a total of 2,863,600 trainable parameters.<br>\n",
        "<br>\n",
        "2. The next three layers are \"Bidirectional\" layers, which apply a forward and backward LSTM to the input. LSTMs are a type of recurrent neural network that are able to capture long-term dependencies in sequential data. The output of each bidirectional layer is a 3D tensor with shape (batch_size, sequence_length, units), where units is the number of LSTM units in the layer. In this case, the first bidirectional layer has 512 units, the second has 256 units, and the third has 256 units. Each of these layers has a large number of trainable parameters, as LSTMs are complex models with many internal weights.<br>\n",
        "<br>\n",
        "3. The final layer is a \"Dense\" layer, which applies a linear transformation to the input to produce the output. In this case, the output has shape (batch_size, 6), indicating that there are 6 classes. The dense layer has a total of 1,542 trainable parameters.<br>\n",
        "<br>\n",
        "Overall, the model has a total of 4,851,702 trainable parameters and 2,863,600 non-trainable parameters."
      ]
    },
    {
      "cell_type": "markdown",
      "metadata": {
        "id": "acH1wJVaeVJv"
      },
      "source": [
        "In[ ]:"
      ]
    },
    {
      "cell_type": "code",
      "execution_count": 85,
      "metadata": {
        "colab": {
          "base_uri": "https://localhost:8080/",
          "height": 644
        },
        "id": "1A23eBbMeVJw",
        "outputId": "50b0d424-6169-4dff-c47a-aaf7b2d3d261"
      },
      "outputs": [
        {
          "output_type": "execute_result",
          "data": {
            "image/png": "[encoded data removed]",
            "text/plain": [
              "<IPython.core.display.Image object>"
            ]
          },
          "metadata": {},
          "execution_count": 85
        }
      ],
      "source": [
        "from keras.utils.vis_utils import plot_model\n",
        "plot_model(model, show_shapes=True)"
      ]
    },
    {
      "cell_type": "markdown",
      "metadata": {
        "id": "OxyEYqfreVJw"
      },
      "source": [
        "In[ ]:"
      ]
    },
    {
      "cell_type": "markdown",
      "metadata": {
        "id": "YZnqpBqKeVJw"
      },
      "source": [
        "o stop the training when the loss starts to increase"
      ]
    },
    {
      "cell_type": "code",
      "execution_count": 86,
      "metadata": {
        "id": "Tk3gwKhJeVJx"
      },
      "outputs": [],
      "source": [
        "callback = EarlyStopping(\n",
        "    monitor=\"val_loss\",\n",
        "    patience=4,\n",
        "    restore_best_weights=True,\n",
        ")"
      ]
    },
    {
      "cell_type": "markdown",
      "metadata": {
        "id": "ZGNPKYITeVJx"
      },
      "source": [
        "In[ ]:"
      ]
    },
    {
      "cell_type": "markdown",
      "metadata": {
        "id": "YpSeRaSBeVJx"
      },
      "source": [
        "Fit model"
      ]
    },
    {
      "cell_type": "code",
      "execution_count": 87,
      "metadata": {
        "colab": {
          "base_uri": "https://localhost:8080/"
        },
        "id": "h1Ge9mrdeVJx",
        "outputId": "b0c5e6d7-fbfe-4f5e-978e-748af90e8bb5"
      },
      "outputs": [
        {
          "output_type": "stream",
          "name": "stdout",
          "text": [
            "Epoch 1/5\n",
            "63/63 [==============================] - 1033s 16s/step - loss: 1.1569 - accuracy: 0.5714 - val_loss: 0.6866 - val_accuracy: 0.7623\n",
            "Epoch 2/5\n",
            "63/63 [==============================] - 964s 15s/step - loss: 0.4794 - accuracy: 0.8327 - val_loss: 0.3181 - val_accuracy: 0.8879\n",
            "Epoch 3/5\n",
            "63/63 [==============================] - 951s 15s/step - loss: 0.2616 - accuracy: 0.9014 - val_loss: 0.2000 - val_accuracy: 0.9149\n",
            "Epoch 4/5\n",
            "63/63 [==============================] - 952s 15s/step - loss: 0.1702 - accuracy: 0.9284 - val_loss: 0.1806 - val_accuracy: 0.9214\n",
            "Epoch 5/5\n",
            "63/63 [==============================] - 981s 16s/step - loss: 0.1320 - accuracy: 0.9373 - val_loss: 0.1557 - val_accuracy: 0.9244\n"
          ]
        }
      ],
      "source": [
        "history = model.fit(X_train,\n",
        "                    y_train,\n",
        "                    validation_data=(X_val, y_val),\n",
        "                    verbose=1,\n",
        "                    batch_size=256,\n",
        "                    epochs=5,\n",
        "                    callbacks=[callback]\n",
        "                   )"
      ]
    },
    {
      "cell_type": "markdown",
      "metadata": {
        "id": "wFejuaOKeVJy"
      },
      "source": [
        "In[ ]:"
      ]
    },
    {
      "cell_type": "markdown",
      "metadata": {
        "id": "8xxje8CheVJy"
      },
      "source": [
        "rint the overall loss and accuracy"
      ]
    },
    {
      "cell_type": "code",
      "execution_count": 132,
      "metadata": {
        "id": "yAA-UzNDeVJ0",
        "colab": {
          "base_uri": "https://localhost:8080/"
        },
        "outputId": "5dad7be4-c906-4b52-8da9-57bd3a736078"
      },
      "outputs": [
        {
          "output_type": "stream",
          "name": "stdout",
          "text": [
            "63/63 [==============================] - 29s 461ms/step - loss: 0.1557 - accuracy: 0.9244\n"
          ]
        },
        {
          "output_type": "execute_result",
          "data": {
            "text/plain": [
              "[0.1556595116853714, 0.924424409866333]"
            ]
          },
          "metadata": {},
          "execution_count": 132
        }
      ],
      "source": [
        "model.evaluate(X_val, y_val, verbose=1) "
      ]
    },
    {
      "cell_type": "markdown",
      "metadata": {
        "id": "Iohv_bw2eVJ0"
      },
      "source": [
        "In[ ]:"
      ]
    },
    {
      "cell_type": "markdown",
      "metadata": {
        "id": "qn5cLiHWeVJ0"
      },
      "source": [
        "rint the overall loss and accuracy"
      ]
    },
    {
      "cell_type": "code",
      "execution_count": 133,
      "metadata": {
        "id": "Y0Gpu1VxeVJ1",
        "colab": {
          "base_uri": "https://localhost:8080/"
        },
        "outputId": "62a5b5aa-ec8f-41ab-a5e0-cd07276d75d9"
      },
      "outputs": [
        {
          "output_type": "stream",
          "name": "stdout",
          "text": [
            "63/63 [==============================] - 33s 522ms/step - loss: 0.1599 - accuracy: 0.9265\n"
          ]
        },
        {
          "output_type": "execute_result",
          "data": {
            "text/plain": [
              "[0.1598779857158661, 0.9265000224113464]"
            ]
          },
          "metadata": {},
          "execution_count": 133
        }
      ],
      "source": [
        "model.evaluate(X_test, y_test, verbose=1) "
      ]
    },
    {
      "cell_type": "markdown",
      "metadata": {
        "id": "_VgmzU72eVJ1"
      },
      "source": [
        "In[ ]:"
      ]
    },
    {
      "cell_type": "code",
      "execution_count": 134,
      "metadata": {
        "id": "9wV5RvixeVJ1",
        "colab": {
          "base_uri": "https://localhost:8080/"
        },
        "outputId": "3239e862-fdd3-4ff7-9d78-3105d9754f33"
      },
      "outputs": [
        {
          "output_type": "stream",
          "name": "stdout",
          "text": [
            "63/63 [==============================] - 29s 468ms/step\n"
          ]
        }
      ],
      "source": [
        "predicted = model.predict(X_test)\n",
        "y_pred = predicted.argmax(axis=-1)"
      ]
    },
    {
      "cell_type": "code",
      "execution_count": 135,
      "metadata": {
        "id": "9PJum_RLeVJ1",
        "colab": {
          "base_uri": "https://localhost:8080/"
        },
        "outputId": "7ec5bb64-0743-4634-e4da-ff24781aaafb"
      },
      "outputs": [
        {
          "output_type": "stream",
          "name": "stdout",
          "text": [
            "              precision    recall  f1-score   support\n",
            "\n",
            "           0       0.93      0.93      0.93       275\n",
            "           1       0.88      0.92      0.90       224\n",
            "           2       0.95      0.94      0.94       695\n",
            "           3       0.83      0.81      0.82       159\n",
            "           4       0.95      0.97      0.96       581\n",
            "           5       0.82      0.68      0.74        66\n",
            "\n",
            "    accuracy                           0.93      2000\n",
            "   macro avg       0.89      0.87      0.88      2000\n",
            "weighted avg       0.93      0.93      0.93      2000\n",
            "\n"
          ]
        }
      ],
      "source": [
        "print(classification_report(le.transform(df_test['Emotion']), y_pred))"
      ]
    },
    {
      "cell_type": "markdown",
      "metadata": {
        "id": "uYU0EZLYeVJ2"
      },
      "source": [
        "In[ ]:"
      ]
    },
    {
      "cell_type": "markdown",
      "metadata": {
        "id": "TuXN4MTeeVJ2"
      },
      "source": [
        "Visualize Loss & Accuracy"
      ]
    },
    {
      "cell_type": "code",
      "execution_count": 136,
      "metadata": {
        "id": "Zfc0UK_weVJ2"
      },
      "outputs": [],
      "source": [
        "get_ipython().run_line_magic('matplotlib', 'inline')\n",
        "import matplotlib.pyplot as plt\n",
        "acc = history.history['accuracy']\n",
        "val_acc = history.history['val_accuracy']\n",
        "loss = history.history['loss']\n",
        "val_loss = history.history['val_loss']"
      ]
    },
    {
      "cell_type": "code",
      "execution_count": 137,
      "metadata": {
        "id": "gz1fh_r_eVJ2"
      },
      "outputs": [],
      "source": [
        "epochs = range(len(acc))"
      ]
    },
    {
      "cell_type": "code",
      "execution_count": 138,
      "metadata": {
        "id": "1AP4Vb3QeVJ2",
        "colab": {
          "base_uri": "https://localhost:8080/",
          "height": 325
        },
        "outputId": "a92b7c34-6b21-48c3-ed9d-41c643f6ad8b"
      },
      "outputs": [
        {
          "output_type": "execute_result",
          "data": {
            "text/plain": [
              "<Figure size 432x288 with 0 Axes>"
            ]
          },
          "metadata": {},
          "execution_count": 138
        },
        {
          "output_type": "display_data",
          "data": {
            "text/plain": [
              "<Figure size 432x288 with 1 Axes>"
            ],
            "image/png": "[encoded data removed]"
          },
          "metadata": {
            "needs_background": "light"
          }
        },
        {
          "output_type": "display_data",
          "data": {
            "text/plain": [
              "<Figure size 432x288 with 0 Axes>"
            ]
          },
          "metadata": {}
        }
      ],
      "source": [
        "plt.plot(epochs, acc, 'r', label='Training accuracy')\n",
        "plt.plot(epochs, val_acc, 'b', label='Validation accuracy')\n",
        "plt.title('Training and validation accuracy')\n",
        "plt.legend()\n",
        "plt.figure()"
      ]
    },
    {
      "cell_type": "code",
      "execution_count": 139,
      "metadata": {
        "id": "lv0aY0MbeVJ3",
        "colab": {
          "base_uri": "https://localhost:8080/",
          "height": 307
        },
        "outputId": "06c3d623-e2d2-4a60-9de8-91201dd0622d"
      },
      "outputs": [
        {
          "output_type": "execute_result",
          "data": {
            "text/plain": [
              "<matplotlib.legend.Legend at 0x7fb57b463a30>"
            ]
          },
          "metadata": {},
          "execution_count": 139
        },
        {
          "output_type": "display_data",
          "data": {
            "text/plain": [
              "<Figure size 432x288 with 1 Axes>"
            ],
            "image/png": "[encoded data removed]"
          },
          "metadata": {
            "needs_background": "light"
          }
        }
      ],
      "source": [
        "plt.plot(epochs, loss, 'r', label='Training Loss')\n",
        "plt.plot(epochs, val_loss, 'b', label='Validation Loss')\n",
        "plt.title('Training and validation loss')\n",
        "plt.legend()"
      ]
    },
    {
      "cell_type": "code",
      "execution_count": 140,
      "metadata": {
        "id": "OX0pQGKfyVrQ",
        "colab": {
          "base_uri": "https://localhost:8080/"
        },
        "outputId": "ba2e58e3-3269-491d-b5aa-32a494e3d149"
      },
      "outputs": [
        {
          "output_type": "stream",
          "name": "stdout",
          "text": [
            "(92, 3)\n"
          ]
        }
      ],
      "source": [
        "df_ytb = pd.read_csv(\"/content/drive/MyDrive/Sentiment_Dataset/ytb_comments_family.csv\")\n",
        "df_ytb.head()\n",
        "\n",
        "# Remove column name 'Unnamed: 0'\n",
        "dfc = df_ytb.drop(['Unnamed: 0'], axis=1)\n",
        "dfc.head()\n",
        "\n",
        "\n",
        "def clean_html(text):\n",
        "    clean=re.compile('<.*?>')\n",
        "    cleantext=re.sub(clean,'',text)\n",
        "    return cleantext\n",
        "    \n",
        "# first round of cleaning\n",
        "def clean_text1(text):\n",
        "    text=text.lower()\n",
        "    text=re.sub('\\[.*?\\]','',text)\n",
        "    text=re.sub('[%s]'%re.escape(string.punctuation),'',text)\n",
        "    text=re.sub('\\w*\\d\\w*','',text)\n",
        "    return text\n",
        "\n",
        "# second round of cleaning\n",
        "def clean_text2(text):\n",
        "    text=re.sub('[''\"\",,,]','',text)\n",
        "    text=re.sub('\\n','',text)\n",
        "    return text\n",
        "    \n",
        "cleaned_html=lambda x:clean_html(x)\n",
        "cleaned1=lambda x:clean_text1(x)\n",
        "cleaned2=lambda x:clean_text2(x)\n",
        "\n",
        "dfc['review'] = dfc['comment']\n",
        "#dfc['review']=pd.DataFrame(dfc.review.apply(cleaned_html))\n",
        "#dfc['review']=pd.DataFrame(dfc.review.apply(cleaned1))\n",
        "#dfc['review']=pd.DataFrame(dfc.review.apply(cleaned2))\n",
        "\n",
        "#from nltk.corpus import stopwords\n",
        "from nltk.stem import PorterStemmer\n",
        "import re\n",
        "\n",
        "stemmer = PorterStemmer()\n",
        "words = stopwords.words(\"english\")\n",
        "\n",
        "#dfc['processedtext'] = dfc['review'].apply(lambda x: \" \".join([stemmer.stem(i) for i in re.sub(\"[^a-zA-Z]\", \" \", x).split() if i not in words]).lower())\n",
        "\n",
        "print(dfc.shape)\n",
        "dfc.head(10)\n",
        "\n",
        "first10comments = dfc.review.values\n",
        "\n",
        "sentences = first10comments[1:30]\n"
      ]
    },
    {
      "cell_type": "code",
      "execution_count": 141,
      "metadata": {
        "id": "QyolNBrReVJ3",
        "colab": {
          "base_uri": "https://localhost:8080/"
        },
        "outputId": "ffcadf92-2314-4113-ebd2-c6ba5fd352d8"
      },
      "outputs": [
        {
          "output_type": "stream",
          "name": "stdout",
          "text": [
            "['I utterly adore this profoundly beautiful and deeply meaningful film.'\n",
            " 'God knows that we all get discouraged...especially with everything going on today and if it&#39;s hard for us to see...imagine how he feels...but he hears every prayer we say...especially the ones were we beg for his help...just like Jimmy did in the movie.'\n",
            " 'Master class in acting'\n",
            " 'The female singer of the Italian song Vieni Vieni playing in the background is none other than Adriana Caselotti, the original voice of Disney&#39;s Snow White. You may recognize her whistling too as she was the distinctive whistling artist of Whistle While You Work also!'\n",
            " 'James Stewart gives one of the greatest performances in cinematic history in this film. There isn’t one moment that doesn’t feel completely genuine and natural. You have to have some internal goodness inside of you to play a character like George Bailey so well, a piece of that character woven into your true personality. And by all accounts, Mr. Stewart did. A humble man, faithful to his wife when all his peers fell into the philandering stereotype of Hollywood stars, a kind and helpful colleague who put his fellow actors at ease, a friendly soul who deeply cherished his experience making and involvement in this film for the rest of his life. Thank you, Mr. Stewart, for gifting us with your wonderful talent.'\n",
            " 'better do sumthin-look-if yu can-made sure we couldn&#39;t do nuthin'\n",
            " 'Some of us are here now'\n",
            " 'Jimmy Stewart conveys heartbreak, desperation and uncertainty with such force and conviction.'\n",
            " 'I miss you Jimmy Stewart'\n",
            " 'Fun fact: the soprano singer in the background is Adriana Caselotti, who was also Disney&#39;s Snow White.'\n",
            " 'You know the funny thing, as a self-proclaimed atheist I was in this position when my father had a heart attack and was struggling for his life. I prayed to God just as George did.'\n",
            " 'That&#39;s the voice of Snow White singing in the background.'\n",
            " 'Wonderful scene. Kudos to Stewart and to Capra, who reframed and enlarged it so it could be used in the film.'\n",
            " 'Little did George Bailey know that nearly the entire town was prayerfully interceding for his circumstance before he even petitioned God. Jesus is always good, punctual and amazing.'\n",
            " 'Don&#39;t be fooled this movie is antichrist, there is nothing biblical about it.'\n",
            " 'What song is playing in the background?'\n",
            " 'I wish there was a recording of that particular performance of that song in the background.  The female vocalist is the same who voiced Disney&#39;s Snow White.'\n",
            " 'Wow the acting here. Off the charts.'\n",
            " 'Knowing that he wasn&#39;t acting, that&#39;s the hard thing'\n",
            " 'U know it is unique when u can&#39;t stop replaying it<br>Wow'\n",
            " 'The acting here is off the charts.'\n",
            " 'When you learn that Stewart channeled his post-war trauma for this scene it makes it that much more impactful. Having been a bomber pilot who did runs over Europe, he experienced extreme terror and horror, flak fire and seeing the aircraft of his friends get shot apart and burst into flames. He struggled making this movie, being his first after the war, but he gave us everything and it truly affects the heart when you watch it.'\n",
            " '🙏'\n",
            " 'Besides all the crews he witnessed that were lost (as a squadron Commander). He was also devastated by a bombing mission that killed many civilians and turned out to be the wrong target. It wasn&#39;t his fault, the target was chosen and charted by his superiors.'\n",
            " 'When you lose everything, God is up to something.'\n",
            " 'How many bartenders have seen this exact thing play out? Part friend, psychiatrist and priest.'\n",
            " 'The cameraman forgot to zoom in because he was so distracted by how emotional this scene was, so they ended having to go in and manually zoom in picture by picture. If you look closely this scene kind of looks stop motion…this is because of how they had to do it frame by frame! Incredible!!!'\n",
            " 'We need to remember that many will feel that way. Especially around Christmas- Never know how much more they can really take. Not always gonna be an angel.'\n",
            " 'Effective person back home the war. So he channeled himself into the movie.']\n"
          ]
        }
      ],
      "source": [
        "print(sentences)"
      ]
    },
    {
      "cell_type": "markdown",
      "metadata": {
        "id": "-sC8IHcdeVJ4"
      },
      "source": [
        "**So, you may asking when I give a sentence to the model how the classification will done?**<br>\n",
        "<br>\n",
        "1. First, the model will convert the words in the sentence into numerical representations, also known as word embeddings. These word embeddings capture the meaning of the words and their relationships to each other in a continuous vector space.<br>\n",
        "<br>\n",
        "2. The word embeddings for each word in the sentence are then input to two separate LSTM models: one that processes the sequence forwards and one that processes it backwards. At each time step, each LSTM processes the current word embedding and the previous hidden state to produce a new hidden state. The hidden state at each time step is a combination of the previous hidden state and the current input, and it captures the information from all the previous time steps in the sequence.<br>\n",
        "<br>\n",
        "3. After processing all the words in the sentence, the two LSTMs will have final hidden states that encode the meaning of the sentence from both the forwards and backwards directions. These final hidden states are then combined and used to make a prediction."
      ]
    },
    {
      "cell_type": "markdown",
      "metadata": {
        "id": "1lq0GaPCeVJ5"
      },
      "source": [
        "In[ ]:"
      ]
    },
    {
      "cell_type": "markdown",
      "metadata": {
        "id": "ydMdt82NeVJ5"
      },
      "source": [
        "Classify custom sample"
      ]
    },
    {
      "cell_type": "code",
      "execution_count": 142,
      "metadata": {
        "id": "PttNdo93eVJ6",
        "colab": {
          "base_uri": "https://localhost:8080/"
        },
        "outputId": "c6b30adf-911a-4a2f-dc09-6ac38f2efd58"
      },
      "outputs": [
        {
          "output_type": "stream",
          "name": "stdout",
          "text": [
            "I utterly adore this profoundly beautiful and deeply meaningful film.\n",
            "1/1 [==============================] - 0s 217ms/step\n",
            "1/1 [==============================] - 0s 210ms/step\n",
            "joy : 0.9470276236534119\n",
            "\n",
            "\n",
            "God knows that we all get discouraged...especially with everything going on today and if it&#39;s hard for us to see...imagine how he feels...but he hears every prayer we say...especially the ones were we beg for his help...just like Jimmy did in the movie.\n",
            "1/1 [==============================] - 0s 217ms/step\n",
            "1/1 [==============================] - 0s 220ms/step\n",
            "joy : 0.5410124659538269\n",
            "\n",
            "\n",
            "Master class in acting\n",
            "1/1 [==============================] - 0s 217ms/step\n",
            "1/1 [==============================] - 0s 228ms/step\n",
            "joy : 0.6926204562187195\n",
            "\n",
            "\n",
            "The female singer of the Italian song Vieni Vieni playing in the background is none other than Adriana Caselotti, the original voice of Disney&#39;s Snow White. You may recognize her whistling too as she was the distinctive whistling artist of Whistle While You Work also!\n",
            "1/1 [==============================] - 0s 210ms/step\n",
            "1/1 [==============================] - 0s 230ms/step\n",
            "joy : 0.2927570343017578\n",
            "\n",
            "\n",
            "James Stewart gives one of the greatest performances in cinematic history in this film. There isn’t one moment that doesn’t feel completely genuine and natural. You have to have some internal goodness inside of you to play a character like George Bailey so well, a piece of that character woven into your true personality. And by all accounts, Mr. Stewart did. A humble man, faithful to his wife when all his peers fell into the philandering stereotype of Hollywood stars, a kind and helpful colleague who put his fellow actors at ease, a friendly soul who deeply cherished his experience making and involvement in this film for the rest of his life. Thank you, Mr. Stewart, for gifting us with your wonderful talent.\n",
            "1/1 [==============================] - 0s 383ms/step\n",
            "1/1 [==============================] - 0s 381ms/step\n",
            "joy : 0.9733046293258667\n",
            "\n",
            "\n",
            "better do sumthin-look-if yu can-made sure we couldn&#39;t do nuthin\n",
            "1/1 [==============================] - 0s 408ms/step\n",
            "1/1 [==============================] - 0s 374ms/step\n",
            "anger : 0.3804112672805786\n",
            "\n",
            "\n",
            "Some of us are here now\n",
            "1/1 [==============================] - 0s 377ms/step\n",
            "1/1 [==============================] - 0s 355ms/step\n",
            "anger : 0.3979954421520233\n",
            "\n",
            "\n",
            "Jimmy Stewart conveys heartbreak, desperation and uncertainty with such force and conviction.\n",
            "1/1 [==============================] - 0s 371ms/step\n",
            "1/1 [==============================] - 0s 355ms/step\n",
            "anger : 0.38925522565841675\n",
            "\n",
            "\n",
            "I miss you Jimmy Stewart\n",
            "1/1 [==============================] - 0s 361ms/step\n",
            "1/1 [==============================] - 0s 219ms/step\n",
            "anger : 0.4598529040813446\n",
            "\n",
            "\n",
            "Fun fact: the soprano singer in the background is Adriana Caselotti, who was also Disney&#39;s Snow White.\n",
            "1/1 [==============================] - 0s 212ms/step\n",
            "1/1 [==============================] - 0s 231ms/step\n",
            "joy : 0.3169013559818268\n",
            "\n",
            "\n",
            "You know the funny thing, as a self-proclaimed atheist I was in this position when my father had a heart attack and was struggling for his life. I prayed to God just as George did.\n",
            "1/1 [==============================] - 0s 221ms/step\n",
            "1/1 [==============================] - 0s 214ms/step\n",
            "anger : 0.46063828468322754\n",
            "\n",
            "\n",
            "That&#39;s the voice of Snow White singing in the background.\n",
            "1/1 [==============================] - 0s 217ms/step\n",
            "1/1 [==============================] - 0s 228ms/step\n",
            "anger : 0.28249913454055786\n",
            "\n",
            "\n",
            "Wonderful scene. Kudos to Stewart and to Capra, who reframed and enlarged it so it could be used in the film.\n",
            "1/1 [==============================] - 0s 239ms/step\n",
            "1/1 [==============================] - 0s 205ms/step\n",
            "joy : 0.47442370653152466\n",
            "\n",
            "\n",
            "Little did George Bailey know that nearly the entire town was prayerfully interceding for his circumstance before he even petitioned God. Jesus is always good, punctual and amazing.\n",
            "1/1 [==============================] - 0s 218ms/step\n",
            "1/1 [==============================] - 0s 207ms/step\n",
            "joy : 0.4957355558872223\n",
            "\n",
            "\n",
            "Don&#39;t be fooled this movie is antichrist, there is nothing biblical about it.\n",
            "1/1 [==============================] - 0s 206ms/step\n",
            "1/1 [==============================] - 0s 215ms/step\n",
            "anger : 0.34011489152908325\n",
            "\n",
            "\n",
            "What song is playing in the background?\n",
            "1/1 [==============================] - 0s 225ms/step\n",
            "1/1 [==============================] - 0s 213ms/step\n",
            "anger : 0.32026952505111694\n",
            "\n",
            "\n",
            "I wish there was a recording of that particular performance of that song in the background.  The female vocalist is the same who voiced Disney&#39;s Snow White.\n",
            "1/1 [==============================] - 0s 219ms/step\n",
            "1/1 [==============================] - 0s 207ms/step\n",
            "joy : 0.6190598607063293\n",
            "\n",
            "\n",
            "Wow the acting here. Off the charts.\n",
            "1/1 [==============================] - 0s 238ms/step\n",
            "1/1 [==============================] - 0s 212ms/step\n",
            "joy : 0.3938885033130646\n",
            "\n",
            "\n",
            "Knowing that he wasn&#39;t acting, that&#39;s the hard thing\n",
            "1/1 [==============================] - 0s 211ms/step\n",
            "1/1 [==============================] - 0s 219ms/step\n",
            "anger : 0.3699660897254944\n",
            "\n",
            "\n",
            "U know it is unique when u can&#39;t stop replaying it<br>Wow\n",
            "1/1 [==============================] - 0s 225ms/step\n",
            "1/1 [==============================] - 0s 217ms/step\n",
            "anger : 0.35267287492752075\n",
            "\n",
            "\n",
            "The acting here is off the charts.\n",
            "1/1 [==============================] - 0s 225ms/step\n",
            "1/1 [==============================] - 0s 207ms/step\n",
            "joy : 0.5211458802223206\n",
            "\n",
            "\n",
            "When you learn that Stewart channeled his post-war trauma for this scene it makes it that much more impactful. Having been a bomber pilot who did runs over Europe, he experienced extreme terror and horror, flak fire and seeing the aircraft of his friends get shot apart and burst into flames. He struggled making this movie, being his first after the war, but he gave us everything and it truly affects the heart when you watch it.\n",
            "1/1 [==============================] - 0s 220ms/step\n",
            "1/1 [==============================] - 0s 215ms/step\n",
            "anger : 0.3548615276813507\n",
            "\n",
            "\n",
            "🙏\n",
            "1/1 [==============================] - 0s 215ms/step\n",
            "1/1 [==============================] - 0s 234ms/step\n",
            "anger : 0.3811781406402588\n",
            "\n",
            "\n",
            "Besides all the crews he witnessed that were lost (as a squadron Commander). He was also devastated by a bombing mission that killed many civilians and turned out to be the wrong target. It wasn&#39;t his fault, the target was chosen and charted by his superiors.\n",
            "1/1 [==============================] - 0s 229ms/step\n",
            "1/1 [==============================] - 0s 206ms/step\n",
            "joy : 0.9386095404624939\n",
            "\n",
            "\n",
            "When you lose everything, God is up to something.\n",
            "1/1 [==============================] - 0s 221ms/step\n",
            "1/1 [==============================] - 0s 237ms/step\n",
            "anger : 0.3922117352485657\n",
            "\n",
            "\n",
            "How many bartenders have seen this exact thing play out? Part friend, psychiatrist and priest.\n",
            "1/1 [==============================] - 0s 210ms/step\n",
            "1/1 [==============================] - 0s 210ms/step\n",
            "anger : 0.38307374715805054\n",
            "\n",
            "\n",
            "The cameraman forgot to zoom in because he was so distracted by how emotional this scene was, so they ended having to go in and manually zoom in picture by picture. If you look closely this scene kind of looks stop motion…this is because of how they had to do it frame by frame! Incredible!!!\n",
            "1/1 [==============================] - 0s 207ms/step\n",
            "1/1 [==============================] - 0s 346ms/step\n",
            "joy : 0.28501972556114197\n",
            "\n",
            "\n",
            "We need to remember that many will feel that way. Especially around Christmas- Never know how much more they can really take. Not always gonna be an angel.\n",
            "1/1 [==============================] - 0s 378ms/step\n",
            "1/1 [==============================] - 0s 390ms/step\n",
            "joy : 0.9372876286506653\n",
            "\n",
            "\n",
            "Effective person back home the war. So he channeled himself into the movie.\n",
            "1/1 [==============================] - 0s 377ms/step\n",
            "1/1 [==============================] - 0s 396ms/step\n",
            "anger : 0.4237433969974518\n",
            "\n",
            "\n"
          ]
        }
      ],
      "source": [
        "#sentences = [\"He's over the moon about being accepted to the university\",\n",
        "#\"Your point on this certain matter made me outrageous, how can you say so? This is insane.\",\n",
        "#\"I can't do it, I'm not ready to lose anything, just leave me alone\",\n",
        "#\"Merlin's beard harry, you can cast the Patronus charm! I'm amazed!\"]\n",
        "\n",
        "for sentence in sentences:\n",
        "    print(sentence)\n",
        "    sentence = normalized_sentence(sentence)\n",
        "    sentence = tokenizer.texts_to_sequences([sentence])\n",
        "    sentence = pad_sequences(sentence, maxlen=229, truncating='pre')\n",
        "    result = le.inverse_transform(np.argmax(model.predict(sentence), axis=-1))[0]\n",
        "    proba =  np.max(model.predict(sentence))\n",
        "    print(f\"{result} : {proba}\\n\\n\")"
      ]
    },
    {
      "cell_type": "markdown",
      "metadata": {
        "id": "8cwRP7WSeVJ7"
      },
      "source": [
        "In[ ]:"
      ]
    },
    {
      "cell_type": "code",
      "execution_count": 99,
      "metadata": {
        "id": "OWkx5A-HeVJ8",
        "colab": {
          "base_uri": "https://localhost:8080/"
        },
        "outputId": "08b42f0e-ceca-45e6-e42a-31bd63c578ff"
      },
      "outputs": [
        {
          "output_type": "stream",
          "name": "stdout",
          "text": [
            "my old brother is dead\n",
            "1/1 [==============================] - 0s 226ms/step\n",
            "1/1 [==============================] - 0s 219ms/step\n",
            "anger : 0.38721269369125366\n",
            "\n",
            "\n"
          ]
        }
      ],
      "source": [
        "sentence= 'my old brother is dead'\n",
        "print(sentence)\n",
        "sentence = normalized_sentence(sentence)\n",
        "sentence = tokenizer.texts_to_sequences([sentence])\n",
        "sentence = pad_sequences(sentence, maxlen=229, truncating='pre')\n",
        "result = le.inverse_transform(np.argmax(model.predict(sentence), axis=-1))[0]\n",
        "proba =  np.max(model.predict(sentence))\n",
        "print(f\"{result} : {proba}\\n\\n\")"
      ]
    },
    {
      "cell_type": "markdown",
      "metadata": {
        "id": "KpAxW6HeeVJ9"
      },
      "source": [
        "In[ ]:"
      ]
    },
    {
      "cell_type": "code",
      "execution_count": 100,
      "metadata": {
        "id": "OB2AhRM5eVJ9",
        "colab": {
          "base_uri": "https://localhost:8080/"
        },
        "outputId": "6a9dbfe1-f865-4edb-9f73-3de2b94a5e65"
      },
      "outputs": [
        {
          "output_type": "stream",
          "name": "stdout",
          "text": [
            "Im feeling sad today\n",
            "1/1 [==============================] - 0s 217ms/step\n",
            "1/1 [==============================] - 0s 206ms/step\n",
            "sadness : 0.9986129999160767\n",
            "\n",
            "\n"
          ]
        }
      ],
      "source": [
        "sentence= 'Im feeling sad today'\n",
        "print(sentence)\n",
        "sentence = normalized_sentence(sentence)\n",
        "sentence = tokenizer.texts_to_sequences([sentence])\n",
        "sentence = pad_sequences(sentence, maxlen=229, truncating='pre')\n",
        "result = le.inverse_transform(np.argmax(model.predict(sentence), axis=-1))[0]\n",
        "proba =  np.max(model.predict(sentence))\n",
        "print(f\"{result} : {proba}\\n\\n\")"
      ]
    },
    {
      "cell_type": "markdown",
      "metadata": {
        "id": "QeNaIgmeeVJ9"
      },
      "source": [
        "In[ ]:"
      ]
    },
    {
      "cell_type": "code",
      "execution_count": 143,
      "metadata": {
        "id": "0bLqjkXDeVJ-"
      },
      "outputs": [],
      "source": [
        "model.save('Kaggle_MultiClass.h5')"
      ]
    },
    {
      "cell_type": "code",
      "execution_count": 144,
      "metadata": {
        "id": "6Q98TRAvAmta"
      },
      "outputs": [],
      "source": [
        "!cp /content/Kaggle_MultiClass.h5 /content/drive/MyDrive/Sentiment_Dataset/Saved_Model"
      ]
    },
    {
      "cell_type": "code",
      "source": [
        "transferredModel = keras.models.load_model(\"/content/drive/MyDrive/Sentiment_Dataset/Saved_Model/Kaggle_MultiClass.h5\")"
      ],
      "metadata": {
        "id": "_5A49GocToqp"
      },
      "execution_count": 145,
      "outputs": []
    },
    {
      "cell_type": "code",
      "source": [
        "sentence= 'my old brother is dead'\n",
        "print(sentence)\n",
        "sentence = normalized_sentence(sentence)\n",
        "sentence = tokenizer.texts_to_sequences([sentence])\n",
        "sentence = pad_sequences(sentence, maxlen=229, truncating='pre')\n",
        "result = le.inverse_transform(np.argmax(model.predict(sentence), axis=-1))[0]\n",
        "proba =  np.max(transferredModel.predict(sentence))\n",
        "print(f\"{result} : {proba}\\n\\n\")"
      ],
      "metadata": {
        "colab": {
          "base_uri": "https://localhost:8080/"
        },
        "id": "fw3X5JD-UT-E",
        "outputId": "45956082-6e23-46b0-d46c-e6aec81bae1b"
      },
      "execution_count": 146,
      "outputs": [
        {
          "output_type": "stream",
          "name": "stdout",
          "text": [
            "my old brother is dead\n",
            "1/1 [==============================] - 0s 472ms/step\n",
            "1/1 [==============================] - 2s 2s/step\n",
            "anger : 0.38721269369125366\n",
            "\n",
            "\n"
          ]
        }
      ]
    }
  ],
  "metadata": {
    "colab": {
      "provenance": [],
      "collapsed_sections": [
        "9NOH78tDeVI-",
        "XbXvWlbHeVJL",
        "XR2HcIYAeVJj"
      ]
    },
    "kernelspec": {
      "display_name": "Python 3",
      "language": "python",
      "name": "python3"
    },
    "language_info": {
      "codemirror_mode": {
        "name": "ipython",
        "version": 3
      },
      "file_extension": ".py",
      "mimetype": "text/x-python",
      "name": "python",
      "nbconvert_exporter": "python",
      "pygments_lexer": "ipython3",
      "version": "3.6.4"
    }
  },
  "nbformat": 4,
  "nbformat_minor": 0
}